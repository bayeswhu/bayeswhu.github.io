{
 "cells": [
  {
   "cell_type": "markdown",
   "metadata": {
    "slideshow": {
     "slide_type": "slide"
    }
   },
   "source": [
    "## Introduction\n",
    "\n",
    "- Simulation by Monte Carlo experimentation is a useful and powerful methodology for investigating the properties of econometric estimators and tests.\n",
    "- This lecture deals with the basic elements common to Monte Carlo experiments."
   ]
  },
  {
   "cell_type": "markdown",
   "metadata": {
    "slideshow": {
     "slide_type": "slide"
    }
   },
   "source": [
    "## Pseudorandom-number generators: Introduction\n",
    "\n",
    "- The literature on (pseudo) random-number generation contains many methods of generating such sequences of numbers.\n",
    "- When we use packaged functions, we usually do not need to know the details of the method.\n",
    "- We use the functions in package `scipy.stats` to do all jobs."
   ]
  },
  {
   "cell_type": "markdown",
   "metadata": {
    "slideshow": {
     "slide_type": "subslide"
    }
   },
   "source": [
    "- The term random-number generation is an oxymoron. It is more accurate to use the term pseudorandom numbers. \n",
    "- Pseudorandom-number generators use deterministic devices to produce long chains of numbers that mimic the realizations from some target distribution."
   ]
  },
  {
   "cell_type": "code",
   "execution_count": 21,
   "metadata": {
    "scrolled": true,
    "slideshow": {
     "slide_type": "subslide"
    }
   },
   "outputs": [],
   "source": [
    "import numpy as np\n",
    "import pandas as pd\n",
    "import matplotlib.pyplot as plt\n",
    "import seaborn as sns\n",
    "import statsmodels.api as sm\n",
    "import statsmodels.formula.api as smf \n",
    "from scipy import stats"
   ]
  },
  {
   "cell_type": "markdown",
   "metadata": {
    "slideshow": {
     "slide_type": "subslide"
    }
   },
   "source": [
    "- To obtain and display one draw from the uniform"
   ]
  },
  {
   "cell_type": "code",
   "execution_count": 22,
   "metadata": {
    "scrolled": true,
    "slideshow": {
     "slide_type": "fragment"
    }
   },
   "outputs": [
    {
     "data": {
      "text/plain": [
       "array([0.54004099])"
      ]
     },
     "execution_count": 22,
     "metadata": {},
     "output_type": "execute_result"
    }
   ],
   "source": [
    "u=stats.uniform()\n",
    "u.rvs(1)"
   ]
  },
  {
   "cell_type": "markdown",
   "metadata": {
    "slideshow": {
     "slide_type": "subslide"
    }
   },
   "source": [
    "- The following code obtains 1,000 draws from the wuform distribution and then provides some details on these draws"
   ]
  },
  {
   "cell_type": "code",
   "execution_count": 23,
   "metadata": {
    "slideshow": {
     "slide_type": "fragment"
    }
   },
   "outputs": [
    {
     "data": {
      "text/plain": [
       "DescribeResult(nobs=1000, minmax=(0.00032206291001801723, 0.995175745239081), mean=0.5017741304923393, variance=0.08210324558389188, skewness=-0.018567783824904593, kurtosis=-1.2014644551761526)"
      ]
     },
     "execution_count": 23,
     "metadata": {},
     "output_type": "execute_result"
    }
   ],
   "source": [
    "np.random.seed(10101)\n",
    "x=u.rvs(1000)\n",
    "stats.describe(x)"
   ]
  },
  {
   "cell_type": "markdown",
   "metadata": {
    "slideshow": {
     "slide_type": "subslide"
    }
   },
   "source": [
    "- The draws should be serially uncorrelated, despite a deterministic rule being used to generate the draws. "
   ]
  },
  {
   "cell_type": "code",
   "execution_count": 24,
   "metadata": {
    "slideshow": {
     "slide_type": "fragment"
    }
   },
   "outputs": [
    {
     "data": {
      "text/html": [
       "<div>\n",
       "<style scoped>\n",
       "    .dataframe tbody tr th:only-of-type {\n",
       "        vertical-align: middle;\n",
       "    }\n",
       "\n",
       "    .dataframe tbody tr th {\n",
       "        vertical-align: top;\n",
       "    }\n",
       "\n",
       "    .dataframe thead th {\n",
       "        text-align: right;\n",
       "    }\n",
       "</style>\n",
       "<table border=\"1\" class=\"dataframe\">\n",
       "  <thead>\n",
       "    <tr style=\"text-align: right;\">\n",
       "      <th></th>\n",
       "      <th>x</th>\n",
       "      <th>L.x</th>\n",
       "      <th>L2.x</th>\n",
       "      <th>L3.x</th>\n",
       "    </tr>\n",
       "  </thead>\n",
       "  <tbody>\n",
       "    <tr>\n",
       "      <th>x</th>\n",
       "      <td>1.000000</td>\n",
       "      <td>0.017759</td>\n",
       "      <td>0.014773</td>\n",
       "      <td>0.075085</td>\n",
       "    </tr>\n",
       "    <tr>\n",
       "      <th>L.x</th>\n",
       "      <td>0.017759</td>\n",
       "      <td>1.000000</td>\n",
       "      <td>0.019471</td>\n",
       "      <td>0.015882</td>\n",
       "    </tr>\n",
       "    <tr>\n",
       "      <th>L2.x</th>\n",
       "      <td>0.014773</td>\n",
       "      <td>0.019471</td>\n",
       "      <td>1.000000</td>\n",
       "      <td>0.018320</td>\n",
       "    </tr>\n",
       "    <tr>\n",
       "      <th>L3.x</th>\n",
       "      <td>0.075085</td>\n",
       "      <td>0.015882</td>\n",
       "      <td>0.018320</td>\n",
       "      <td>1.000000</td>\n",
       "    </tr>\n",
       "  </tbody>\n",
       "</table>\n",
       "</div>"
      ],
      "text/plain": [
       "             x       L.x      L2.x      L3.x\n",
       "x     1.000000  0.017759  0.014773  0.075085\n",
       "L.x   0.017759  1.000000  0.019471  0.015882\n",
       "L2.x  0.014773  0.019471  1.000000  0.018320\n",
       "L3.x  0.075085  0.015882  0.018320  1.000000"
      ]
     },
     "execution_count": 24,
     "metadata": {},
     "output_type": "execute_result"
    }
   ],
   "source": [
    "t=pd.DataFrame({'x':x,'L.x':np.append(np.roll(x,-1)[:-1],[np.nan]),'L2.x':np.append(np.roll(x,-2)[:-2],[np.nan]*2),'L3.x':np.append(np.roll(x,-3)[:-3],[np.nan]*3)})\n",
    "t.corr()"
   ]
  },
  {
   "cell_type": "markdown",
   "metadata": {
    "slideshow": {
     "slide_type": "subslide"
    }
   },
   "source": [
    "- The command for making draws from the standard normal has the following simple syntax"
   ]
  },
  {
   "cell_type": "code",
   "execution_count": 25,
   "metadata": {
    "run_control": {
     "marked": false
    },
    "slideshow": {
     "slide_type": "fragment"
    }
   },
   "outputs": [
    {
     "data": {
      "text/html": [
       "<div>\n",
       "<style scoped>\n",
       "    .dataframe tbody tr th:only-of-type {\n",
       "        vertical-align: middle;\n",
       "    }\n",
       "\n",
       "    .dataframe tbody tr th {\n",
       "        vertical-align: top;\n",
       "    }\n",
       "\n",
       "    .dataframe thead th {\n",
       "        text-align: right;\n",
       "    }\n",
       "</style>\n",
       "<table border=\"1\" class=\"dataframe\">\n",
       "  <thead>\n",
       "    <tr style=\"text-align: right;\">\n",
       "      <th></th>\n",
       "      <th>uni</th>\n",
       "      <th>norm</th>\n",
       "      <th>norm52</th>\n",
       "    </tr>\n",
       "  </thead>\n",
       "  <tbody>\n",
       "    <tr>\n",
       "      <th>count</th>\n",
       "      <td>1000.000000</td>\n",
       "      <td>1000.000000</td>\n",
       "      <td>1000.000000</td>\n",
       "    </tr>\n",
       "    <tr>\n",
       "      <th>mean</th>\n",
       "      <td>0.501774</td>\n",
       "      <td>0.010446</td>\n",
       "      <td>5.008237</td>\n",
       "    </tr>\n",
       "    <tr>\n",
       "      <th>std</th>\n",
       "      <td>0.286537</td>\n",
       "      <td>1.010045</td>\n",
       "      <td>1.990206</td>\n",
       "    </tr>\n",
       "    <tr>\n",
       "      <th>min</th>\n",
       "      <td>0.000322</td>\n",
       "      <td>-3.222765</td>\n",
       "      <td>-1.393451</td>\n",
       "    </tr>\n",
       "    <tr>\n",
       "      <th>50%</th>\n",
       "      <td>0.503928</td>\n",
       "      <td>0.001511</td>\n",
       "      <td>4.977991</td>\n",
       "    </tr>\n",
       "    <tr>\n",
       "      <th>max</th>\n",
       "      <td>0.995176</td>\n",
       "      <td>3.568002</td>\n",
       "      <td>11.612393</td>\n",
       "    </tr>\n",
       "  </tbody>\n",
       "</table>\n",
       "</div>"
      ],
      "text/plain": [
       "               uni         norm       norm52\n",
       "count  1000.000000  1000.000000  1000.000000\n",
       "mean      0.501774     0.010446     5.008237\n",
       "std       0.286537     1.010045     1.990206\n",
       "min       0.000322    -3.222765    -1.393451\n",
       "50%       0.503928     0.001511     4.977991\n",
       "max       0.995176     3.568002    11.612393"
      ]
     },
     "execution_count": 25,
     "metadata": {},
     "output_type": "execute_result"
    }
   ],
   "source": [
    "np.random.seed(10101)\n",
    "y=stats.norm().rvs(1000)\n",
    "z=stats.norm(5,2).rvs(1000)\n",
    "pd.DataFrame({'uni':x,'norm':y,'norm52':z}).describe([])"
   ]
  },
  {
   "cell_type": "markdown",
   "metadata": {
    "slideshow": {
     "slide_type": "subslide"
    }
   },
   "source": [
    "- The following example generates draws from $t(10), \\chi^2(10)$, and $F(10, 5)$."
   ]
  },
  {
   "cell_type": "code",
   "execution_count": 26,
   "metadata": {
    "slideshow": {
     "slide_type": "fragment"
    }
   },
   "outputs": [
    {
     "data": {
      "text/html": [
       "<div>\n",
       "<style scoped>\n",
       "    .dataframe tbody tr th:only-of-type {\n",
       "        vertical-align: middle;\n",
       "    }\n",
       "\n",
       "    .dataframe tbody tr th {\n",
       "        vertical-align: top;\n",
       "    }\n",
       "\n",
       "    .dataframe thead th {\n",
       "        text-align: right;\n",
       "    }\n",
       "</style>\n",
       "<table border=\"1\" class=\"dataframe\">\n",
       "  <thead>\n",
       "    <tr style=\"text-align: right;\">\n",
       "      <th></th>\n",
       "      <th>t</th>\n",
       "      <th>chi2</th>\n",
       "      <th>f</th>\n",
       "    </tr>\n",
       "  </thead>\n",
       "  <tbody>\n",
       "    <tr>\n",
       "      <th>count</th>\n",
       "      <td>2000.000000</td>\n",
       "      <td>2000.000000</td>\n",
       "      <td>2000.000000</td>\n",
       "    </tr>\n",
       "    <tr>\n",
       "      <th>mean</th>\n",
       "      <td>-0.043613</td>\n",
       "      <td>9.837877</td>\n",
       "      <td>1.660624</td>\n",
       "    </tr>\n",
       "    <tr>\n",
       "      <th>std</th>\n",
       "      <td>1.115371</td>\n",
       "      <td>4.474405</td>\n",
       "      <td>2.131365</td>\n",
       "    </tr>\n",
       "    <tr>\n",
       "      <th>min</th>\n",
       "      <td>-4.831688</td>\n",
       "      <td>0.698100</td>\n",
       "      <td>0.054189</td>\n",
       "    </tr>\n",
       "    <tr>\n",
       "      <th>50%</th>\n",
       "      <td>-0.027626</td>\n",
       "      <td>9.111350</td>\n",
       "      <td>1.071047</td>\n",
       "    </tr>\n",
       "    <tr>\n",
       "      <th>max</th>\n",
       "      <td>3.981017</td>\n",
       "      <td>32.352325</td>\n",
       "      <td>42.602865</td>\n",
       "    </tr>\n",
       "  </tbody>\n",
       "</table>\n",
       "</div>"
      ],
      "text/plain": [
       "                 t         chi2            f\n",
       "count  2000.000000  2000.000000  2000.000000\n",
       "mean     -0.043613     9.837877     1.660624\n",
       "std       1.115371     4.474405     2.131365\n",
       "min      -4.831688     0.698100     0.054189\n",
       "50%      -0.027626     9.111350     1.071047\n",
       "max       3.981017    32.352325    42.602865"
      ]
     },
     "execution_count": 26,
     "metadata": {},
     "output_type": "execute_result"
    }
   ],
   "source": [
    "np.random.seed(10101)\n",
    "xt=stats.t(10).rvs(2000)\n",
    "xc=stats.chi2(10).rvs(2000)\n",
    "xf=stats.f(10,5).rvs(2000)\n",
    "pd.DataFrame({'t':xt,'chi2':xc,'f':xf}).describe([])"
   ]
  },
  {
   "cell_type": "markdown",
   "metadata": {
    "slideshow": {
     "slide_type": "subslide"
    }
   },
   "source": [
    "- We consider draws from the binomial distribution, when both the probability p and the number of trials n may vary over i."
   ]
  },
  {
   "cell_type": "code",
   "execution_count": 27,
   "metadata": {
    "slideshow": {
     "slide_type": "fragment"
    }
   },
   "outputs": [
    {
     "data": {
      "text/html": [
       "<div>\n",
       "<style scoped>\n",
       "    .dataframe tbody tr th:only-of-type {\n",
       "        vertical-align: middle;\n",
       "    }\n",
       "\n",
       "    .dataframe tbody tr th {\n",
       "        vertical-align: top;\n",
       "    }\n",
       "\n",
       "    .dataframe thead th {\n",
       "        text-align: right;\n",
       "    }\n",
       "</style>\n",
       "<table border=\"1\" class=\"dataframe\">\n",
       "  <thead>\n",
       "    <tr style=\"text-align: right;\">\n",
       "      <th></th>\n",
       "      <th>p</th>\n",
       "      <th>n</th>\n",
       "      <th>binom</th>\n",
       "    </tr>\n",
       "  </thead>\n",
       "  <tbody>\n",
       "    <tr>\n",
       "      <th>count</th>\n",
       "      <td>2000.000000</td>\n",
       "      <td>2000.000000</td>\n",
       "      <td>2000.000000</td>\n",
       "    </tr>\n",
       "    <tr>\n",
       "      <th>mean</th>\n",
       "      <td>0.499713</td>\n",
       "      <td>5.487500</td>\n",
       "      <td>2.782000</td>\n",
       "    </tr>\n",
       "    <tr>\n",
       "      <th>std</th>\n",
       "      <td>0.287319</td>\n",
       "      <td>2.831581</td>\n",
       "      <td>2.456113</td>\n",
       "    </tr>\n",
       "    <tr>\n",
       "      <th>min</th>\n",
       "      <td>0.000127</td>\n",
       "      <td>1.000000</td>\n",
       "      <td>0.000000</td>\n",
       "    </tr>\n",
       "    <tr>\n",
       "      <th>50%</th>\n",
       "      <td>0.501923</td>\n",
       "      <td>5.000000</td>\n",
       "      <td>2.000000</td>\n",
       "    </tr>\n",
       "    <tr>\n",
       "      <th>max</th>\n",
       "      <td>0.999122</td>\n",
       "      <td>10.000000</td>\n",
       "      <td>10.000000</td>\n",
       "    </tr>\n",
       "  </tbody>\n",
       "</table>\n",
       "</div>"
      ],
      "text/plain": [
       "                 p            n        binom\n",
       "count  2000.000000  2000.000000  2000.000000\n",
       "mean      0.499713     5.487500     2.782000\n",
       "std       0.287319     2.831581     2.456113\n",
       "min       0.000127     1.000000     0.000000\n",
       "50%       0.501923     5.000000     2.000000\n",
       "max       0.999122    10.000000    10.000000"
      ]
     },
     "execution_count": 27,
     "metadata": {},
     "output_type": "execute_result"
    }
   ],
   "source": [
    "np.random.seed(10101)\n",
    "p=stats.uniform().rvs(2000)\n",
    "n=np.random.randint(1,11,size=2000)\n",
    "xb=stats.binom(n,p).rvs(2000)\n",
    "pd.DataFrame({'p':p,'n':n,'binom':xb}).describe([])"
   ]
  },
  {
   "cell_type": "markdown",
   "metadata": {
    "slideshow": {
     "slide_type": "subslide"
    }
   },
   "source": [
    "- For simulating a Poisson regression DGP, denoted $y \\sim Poisson(\\mu)$, we need to make draws that are independent but not identically distributed, with the mean $\\mu$ varying across draws because of regressors."
   ]
  },
  {
   "cell_type": "markdown",
   "metadata": {
    "slideshow": {
     "slide_type": "subslide"
    }
   },
   "source": [
    "- We do so in two ways. \n",
    "    + First, let $\\mu_i$ equal xb=4+2*x with x=uniform(). Then $4 < \\mu_i < 6$. \n",
    "    + Second, let $\\mu_i$ equal xb times xg where xg=gamma(1,1), which yields a draw from the gamma distribution with a mean of 1 and a variance of 1 . Then $\\mu_i > 0$. \n",
    "\n",
    "- In both cases, the setup can be shown to be such that the ultimate draw has a mean of 5, but the variance differs from 5 for the independent and identically distlibuted(i.i.d.)"
   ]
  },
  {
   "cell_type": "code",
   "execution_count": 28,
   "metadata": {
    "slideshow": {
     "slide_type": "subslide"
    }
   },
   "outputs": [
    {
     "data": {
      "text/html": [
       "<div>\n",
       "<style scoped>\n",
       "    .dataframe tbody tr th:only-of-type {\n",
       "        vertical-align: middle;\n",
       "    }\n",
       "\n",
       "    .dataframe tbody tr th {\n",
       "        vertical-align: top;\n",
       "    }\n",
       "\n",
       "    .dataframe thead th {\n",
       "        text-align: right;\n",
       "    }\n",
       "</style>\n",
       "<table border=\"1\" class=\"dataframe\">\n",
       "  <thead>\n",
       "    <tr style=\"text-align: right;\">\n",
       "      <th></th>\n",
       "      <th>gamma</th>\n",
       "      <th>binom</th>\n",
       "      <th>possion1</th>\n",
       "      <th>possion2</th>\n",
       "      <th>negbio</th>\n",
       "    </tr>\n",
       "  </thead>\n",
       "  <tbody>\n",
       "    <tr>\n",
       "      <th>count</th>\n",
       "      <td>2000.000000</td>\n",
       "      <td>2000.000000</td>\n",
       "      <td>2000.000000</td>\n",
       "      <td>2000.000000</td>\n",
       "      <td>2000.000000</td>\n",
       "    </tr>\n",
       "    <tr>\n",
       "      <th>mean</th>\n",
       "      <td>0.984727</td>\n",
       "      <td>4.997481</td>\n",
       "      <td>5.032000</td>\n",
       "      <td>5.042000</td>\n",
       "      <td>4.921000</td>\n",
       "    </tr>\n",
       "    <tr>\n",
       "      <th>std</th>\n",
       "      <td>0.951064</td>\n",
       "      <td>0.570226</td>\n",
       "      <td>2.256883</td>\n",
       "      <td>2.392718</td>\n",
       "      <td>5.207333</td>\n",
       "    </tr>\n",
       "    <tr>\n",
       "      <th>min</th>\n",
       "      <td>0.000127</td>\n",
       "      <td>4.001488</td>\n",
       "      <td>0.000000</td>\n",
       "      <td>0.000000</td>\n",
       "      <td>0.000000</td>\n",
       "    </tr>\n",
       "    <tr>\n",
       "      <th>50%</th>\n",
       "      <td>0.697000</td>\n",
       "      <td>4.988912</td>\n",
       "      <td>5.000000</td>\n",
       "      <td>5.000000</td>\n",
       "      <td>3.000000</td>\n",
       "    </tr>\n",
       "    <tr>\n",
       "      <th>max</th>\n",
       "      <td>7.037526</td>\n",
       "      <td>5.999913</td>\n",
       "      <td>15.000000</td>\n",
       "      <td>15.000000</td>\n",
       "      <td>32.000000</td>\n",
       "    </tr>\n",
       "  </tbody>\n",
       "</table>\n",
       "</div>"
      ],
      "text/plain": [
       "             gamma        binom     possion1     possion2       negbio\n",
       "count  2000.000000  2000.000000  2000.000000  2000.000000  2000.000000\n",
       "mean      0.984727     4.997481     5.032000     5.042000     4.921000\n",
       "std       0.951064     0.570226     2.256883     2.392718     5.207333\n",
       "min       0.000127     4.001488     0.000000     0.000000     0.000000\n",
       "50%       0.697000     4.988912     5.000000     5.000000     3.000000\n",
       "max       7.037526     5.999913    15.000000    15.000000    32.000000"
      ]
     },
     "execution_count": 28,
     "metadata": {},
     "output_type": "execute_result"
    }
   ],
   "source": [
    "np.random.seed(10101)\n",
    "xg=stats.gamma(1).rvs(2000)\n",
    "xb=stats.uniform(loc=4,scale=2).rvs(2000)\n",
    "xp=stats.poisson(5).rvs(2000)\n",
    "xp1=stats.poisson(xb).rvs(2000)\n",
    "xnb=stats.poisson(xb*xg).rvs(2000)\n",
    "pd.DataFrame({'gamma':xg,'binom':xb,'possion1':xp,'possion2':xp1,'negbio':xnb}).describe([])"
   ]
  },
  {
   "cell_type": "markdown",
   "metadata": {
    "slideshow": {
     "slide_type": "subslide"
    }
   },
   "source": [
    "- For a visual depiction, it is often useful to plot a histogTam or kernel density estimate of the generated random numbers. \n",
    "- Here we do this for the draws xc from $\\chi^2(10)$ and xp from Poisson(5)"
   ]
  },
  {
   "cell_type": "code",
   "execution_count": 29,
   "metadata": {
    "slideshow": {
     "slide_type": "subslide"
    }
   },
   "outputs": [
    {
     "data": {
      "text/plain": [
       "<matplotlib.axes._subplots.AxesSubplot at 0x198430e0470>"
      ]
     },
     "execution_count": 29,
     "metadata": {},
     "output_type": "execute_result"
    },
    {
     "data": {
      "image/png": "[encoded data removed]",
      "text/plain": [
       "<Figure size 432x288 with 1 Axes>"
      ]
     },
     "metadata": {
      "needs_background": "light"
     },
     "output_type": "display_data"
    }
   ],
   "source": [
    "%matplotlib inline\n",
    "sns.distplot(xc)"
   ]
  },
  {
   "cell_type": "code",
   "execution_count": 30,
   "metadata": {
    "slideshow": {
     "slide_type": "subslide"
    }
   },
   "outputs": [
    {
     "data": {
      "text/plain": [
       "<matplotlib.axes._subplots.AxesSubplot at 0x19842fdd320>"
      ]
     },
     "execution_count": 30,
     "metadata": {},
     "output_type": "execute_result"
    },
    {
     "data": {
      "image/png": "[encoded data removed]",
      "text/plain": [
       "<Figure size 432x288 with 1 Axes>"
      ]
     },
     "metadata": {
      "needs_background": "light"
     },
     "output_type": "display_data"
    }
   ],
   "source": [
    "sns.distplot(xp,bins=15)"
   ]
  },
  {
   "cell_type": "markdown",
   "metadata": {
    "slideshow": {
     "slide_type": "slide"
    }
   },
   "source": [
    "## Distribution of the sample mean\n",
    "\n",
    "- As an introductory example of simulation, we demonstrate the central limit theorem result.\n",
    "- The sample mean is approximately normally distributed as $N\\rightarrow \\infty$\n",
    "- We consider a random variable that has the uniform distribution, and a sample size of 30."
   ]
  },
  {
   "cell_type": "code",
   "execution_count": 31,
   "metadata": {
    "slideshow": {
     "slide_type": "subslide"
    }
   },
   "outputs": [
    {
     "data": {
      "text/plain": [
       "DescribeResult(nobs=30, minmax=(0.002594691771542257, 0.9945576355775707), mean=0.4530167496871454, variance=0.10016992985067126, skewness=0.25040052588043527, kurtosis=-1.310384263114149)"
      ]
     },
     "execution_count": 31,
     "metadata": {},
     "output_type": "execute_result"
    }
   ],
   "source": [
    "np.random.seed(10101)\n",
    "u=stats.uniform()\n",
    "x=u.rvs(30)\n",
    "stats.describe(x)"
   ]
  },
  {
   "cell_type": "code",
   "execution_count": 32,
   "metadata": {
    "slideshow": {
     "slide_type": "subslide"
    }
   },
   "outputs": [
    {
     "data": {
      "text/plain": [
       "<matplotlib.axes._subplots.AxesSubplot at 0x19843065dd8>"
      ]
     },
     "execution_count": 32,
     "metadata": {},
     "output_type": "execute_result"
    },
    {
     "data": {
      "image/png": "[encoded data removed]",
      "text/plain": [
       "<Figure size 432x288 with 1 Axes>"
      ]
     },
     "metadata": {
      "needs_background": "light"
     },
     "output_type": "display_data"
    }
   ],
   "source": [
    "sns.distplot(x,bins=10)"
   ]
  },
  {
   "cell_type": "markdown",
   "metadata": {
    "slideshow": {
     "slide_type": "subslide"
    }
   },
   "source": [
    "- To obtain the distribution of the sample mean by simulation, we redo the preceding 10,000 times, obtaining 10,000 samples of size 30 and 10,000 sample means x. \n",
    "- By the central limit theorem, the distribution of the sample-mean estimator has approximately a normal distribution. "
   ]
  },
  {
   "cell_type": "markdown",
   "metadata": {
    "slideshow": {
     "slide_type": "subslide"
    }
   },
   "source": [
    "- Because the mean of a uniform(0, 1) distribution is 0.5, the mean of the distribution of the sample-mean estimator is 0.5. \n",
    "- Because the standard deviation of a uniform(0, 1) distribution is $\\sqrt{1/12}$ and each of the 10,000 samples is of size 30, the variance of the distribution of the sample-mean estimator is ${(1/12)\\over 30} = 0.0027$."
   ]
  },
  {
   "cell_type": "code",
   "execution_count": 33,
   "metadata": {
    "slideshow": {
     "slide_type": "subslide"
    }
   },
   "outputs": [
    {
     "data": {
      "text/plain": [
       "DescribeResult(nobs=10000, minmax=(0.2937750617417994, 0.6967215777658147), mean=0.5010200602910416, variance=0.0028327595380232716, skewness=-0.024671097426171917, kurtosis=-0.0824326978344958)"
      ]
     },
     "execution_count": 33,
     "metadata": {},
     "output_type": "execute_result"
    }
   ],
   "source": [
    "x=u.rvs((10000,30))\n",
    "y=x.mean(axis=1)\n",
    "stats.describe(y)"
   ]
  },
  {
   "cell_type": "code",
   "execution_count": 34,
   "metadata": {
    "slideshow": {
     "slide_type": "fragment"
    }
   },
   "outputs": [
    {
     "data": {
      "text/plain": [
       "<matplotlib.axes._subplots.AxesSubplot at 0x198431b57f0>"
      ]
     },
     "execution_count": 34,
     "metadata": {},
     "output_type": "execute_result"
    },
    {
     "data": {
      "image/png": "[encoded data removed]",
      "text/plain": [
       "<Figure size 432x288 with 1 Axes>"
      ]
     },
     "metadata": {
      "needs_background": "light"
     },
     "output_type": "display_data"
    }
   ],
   "source": [
    "sns.distplot(y)"
   ]
  },
  {
   "cell_type": "markdown",
   "metadata": {
    "slideshow": {
     "slide_type": "slide"
    }
   },
   "source": [
    "## Computing integrals\n",
    "\n",
    "- Some estimation problems may involve definite or indefinite integrals. \n",
    "- In such cases, the integral may be numerically calculated."
   ]
  },
  {
   "cell_type": "markdown",
   "metadata": {
    "slideshow": {
     "slide_type": "subslide"
    }
   },
   "source": [
    "- As an example, we consider the computation of $E[\\exp\\{-\\exp(Y)\\}]$ when $y \\sim N(0,1)$.\n",
    "- This is the integral: $$ E[\\exp\\{-\\exp(Y)\\}] = \\int^\\infty_{-\\infty}{1\\over\\sqrt{2\\pi}}\\exp\\{-\\exp(y)\\}\\exp(-y^2/2)dy $$\n",
    "- It has no closed-form solution but can be proved to exist."
   ]
  },
  {
   "cell_type": "code",
   "execution_count": 35,
   "metadata": {},
   "outputs": [
    {
     "data": {
      "text/plain": [
       "(0.3817564647554693, 2.3231972616621212e-09)"
      ]
     },
     "execution_count": 35,
     "metadata": {},
     "output_type": "execute_result"
    }
   ],
   "source": [
    "from scipy.integrate import quad\n",
    "quad(lambda y: np.exp(-np.exp(y))*np.exp(-y**2/2)/np.sqrt(2*np.pi),-np.inf,np.inf)"
   ]
  },
  {
   "cell_type": "markdown",
   "metadata": {
    "slideshow": {
     "slide_type": "slide"
    }
   },
   "source": [
    "## Simulation for regression: Introduction\n",
    "\n",
    "- The simplest use of simulation methods is to generate a single dataset and estimate the DGP prarmeter $\\theta$\n",
    "- More often, $\\theta$ is estimated from each of $S$ generated datasets, and the estimates are stored and summarized to learn about the distribution of $\\hat{\\theta}$ for a given DGP."
   ]
  },
  {
   "cell_type": "markdown",
   "metadata": {
    "slideshow": {
     "slide_type": "subslide"
    }
   },
   "source": [
    "- We consider the following DGP, $$ y=\\beta_1+\\beta_2 x+u; \\; u\\sim\\chi^2(1)-1; \\; x\\sim\\chi^2(1) $$ where $\\beta_1=1,\\beta_2=2$, and the sample size $N=150$.\n",
    "- We wish to perform 1000 simulations, where in each simulation we obtain parameter estimates, standard errors, t-values for the t test of $H_0:\\beta_2=2$, and the outcome of a two-sided test of $H_0$ at level 0.05."
   ]
  },
  {
   "cell_type": "markdown",
   "metadata": {
    "slideshow": {
     "slide_type": "subslide"
    }
   },
   "source": [
    "- We first write a program, which generates data on y, performs OLS, and returns $\\hat{\\beta}_2, S_{\\hat{\\beta}_2}, t_2 = (\\hat{\\beta}_2 - 2)/S_{\\hat{\\beta}_2}$, and the p-value for the two-sided t test."
   ]
  },
  {
   "cell_type": "code",
   "execution_count": 36,
   "metadata": {
    "slideshow": {
     "slide_type": "subslide"
    }
   },
   "outputs": [
    {
     "name": "stdout",
     "output_type": "stream",
     "text": [
      "                             Test for Constraints                             \n",
      "==============================================================================\n",
      "                 coef    std err          t      P>|t|      [0.025      0.975]\n",
      "------------------------------------------------------------------------------\n",
      "c0             1.9671      0.088     -0.374      0.709       1.793       2.141\n",
      "==============================================================================\n"
     ]
    }
   ],
   "source": [
    "np.random.seed(10101)\n",
    "n=150\n",
    "N=1000\n",
    "u=stats.chi2(1).rvs(n)-1\n",
    "x=stats.chi2(1).rvs(n)\n",
    "y=1+2*x+u\n",
    "ds=pd.DataFrame({'y':y,'x':x})\n",
    "res=smf.ols(formula='y~x',data=ds).fit()\n",
    "print(res.t_test('x=2'))"
   ]
  },
  {
   "cell_type": "markdown",
   "metadata": {
    "slideshow": {
     "slide_type": "subslide"
    }
   },
   "source": [
    "- Below we simulate the program N times to store the results; here N = 1000."
   ]
  },
  {
   "cell_type": "code",
   "execution_count": 37,
   "metadata": {
    "slideshow": {
     "slide_type": "subslide"
    }
   },
   "outputs": [
    {
     "data": {
      "text/html": [
       "<div>\n",
       "<style scoped>\n",
       "    .dataframe tbody tr th:only-of-type {\n",
       "        vertical-align: middle;\n",
       "    }\n",
       "\n",
       "    .dataframe tbody tr th {\n",
       "        vertical-align: top;\n",
       "    }\n",
       "\n",
       "    .dataframe thead th {\n",
       "        text-align: right;\n",
       "    }\n",
       "</style>\n",
       "<table border=\"1\" class=\"dataframe\">\n",
       "  <thead>\n",
       "    <tr style=\"text-align: right;\">\n",
       "      <th></th>\n",
       "      <th>beta</th>\n",
       "      <th>std</th>\n",
       "      <th>reject</th>\n",
       "    </tr>\n",
       "  </thead>\n",
       "  <tbody>\n",
       "    <tr>\n",
       "      <th>count</th>\n",
       "      <td>1000.000000</td>\n",
       "      <td>1000.000000</td>\n",
       "      <td>1000.000000</td>\n",
       "    </tr>\n",
       "    <tr>\n",
       "      <th>mean</th>\n",
       "      <td>2.001814</td>\n",
       "      <td>0.082426</td>\n",
       "      <td>0.044000</td>\n",
       "    </tr>\n",
       "    <tr>\n",
       "      <th>std</th>\n",
       "      <td>0.083965</td>\n",
       "      <td>0.017360</td>\n",
       "      <td>0.205198</td>\n",
       "    </tr>\n",
       "    <tr>\n",
       "      <th>min</th>\n",
       "      <td>1.778631</td>\n",
       "      <td>0.040130</td>\n",
       "      <td>0.000000</td>\n",
       "    </tr>\n",
       "    <tr>\n",
       "      <th>50%</th>\n",
       "      <td>1.998077</td>\n",
       "      <td>0.080322</td>\n",
       "      <td>0.000000</td>\n",
       "    </tr>\n",
       "    <tr>\n",
       "      <th>max</th>\n",
       "      <td>2.416673</td>\n",
       "      <td>0.156322</td>\n",
       "      <td>1.000000</td>\n",
       "    </tr>\n",
       "  </tbody>\n",
       "</table>\n",
       "</div>"
      ],
      "text/plain": [
       "              beta          std       reject\n",
       "count  1000.000000  1000.000000  1000.000000\n",
       "mean      2.001814     0.082426     0.044000\n",
       "std       0.083965     0.017360     0.205198\n",
       "min       1.778631     0.040130     0.000000\n",
       "50%       1.998077     0.080322     0.000000\n",
       "max       2.416673     0.156322     1.000000"
      ]
     },
     "execution_count": 37,
     "metadata": {},
     "output_type": "execute_result"
    }
   ],
   "source": [
    "np.random.seed(10101)\n",
    "result=pd.DataFrame(columns=('beta','std','t','p'))\n",
    "u=stats.chi2(1).rvs((N,n))-1\n",
    "x=stats.chi2(1).rvs((N,n))\n",
    "y=1+2*x+u\n",
    "for i,j in zip(x,y):\n",
    "    ds=pd.DataFrame({'y':j,'x':i})\n",
    "    res=smf.ols(formula='y~x',data=ds).fit()\n",
    "    r=res.t_test('x=2')\n",
    "    t={'beta':res.params['x'],'std':r.sd[0][0],'t':r.tvalue[0][0],'p':r.pvalue}\n",
    "    result=result.append(t,ignore_index=True)\n",
    "result['reject']=(result.p<0.05).astype(int)\n",
    "result[['beta','std','reject']].describe(percentiles=[])"
   ]
  },
  {
   "cell_type": "markdown",
   "metadata": {
    "slideshow": {
     "slide_type": "subslide"
    }
   },
   "source": [
    "- Because we impose looser restrictions on the DGP, t statistics are not exactly t distributed. \n",
    "- However, the extent to which they diverge from the reference distribution disappears as the sample size increases.\n",
    "- The output below generates the graph, which compares the density of the t statistics with the t(148) distribution."
   ]
  },
  {
   "cell_type": "code",
   "execution_count": 38,
   "metadata": {
    "slideshow": {
     "slide_type": "subslide"
    }
   },
   "outputs": [
    {
     "data": {
      "image/png": "[encoded data removed]",
      "text/plain": [
       "<Figure size 432x288 with 1 Axes>"
      ]
     },
     "metadata": {
      "needs_background": "light"
     },
     "output_type": "display_data"
    }
   ],
   "source": [
    "sns.kdeplot(result.t)\n",
    "x=np.linspace(-4,4,100)\n",
    "plt.plot(x,stats.t(148).pdf(x),label='t(148)')\n",
    "plt.legend()\n",
    "plt.show()"
   ]
  },
  {
   "cell_type": "markdown",
   "metadata": {
    "slideshow": {
     "slide_type": "subslide"
    }
   },
   "source": [
    "- The power of a test is the probability that it rejects a false null hypothesis. \n",
    "- To simulate the power of a test, we estimate the rejection rate for a test against a false null hypothesis.\n",
    "- The larger the difference between the tested value and the true value, the greater the power and the rejection rate. \n",
    "- The example below modifies the program to estimate the power of a test against the false null hypothesis that $\\beta_2 = 2.1$."
   ]
  },
  {
   "cell_type": "code",
   "execution_count": 39,
   "metadata": {
    "slideshow": {
     "slide_type": "subslide"
    }
   },
   "outputs": [
    {
     "data": {
      "text/html": [
       "<div>\n",
       "<style scoped>\n",
       "    .dataframe tbody tr th:only-of-type {\n",
       "        vertical-align: middle;\n",
       "    }\n",
       "\n",
       "    .dataframe tbody tr th {\n",
       "        vertical-align: top;\n",
       "    }\n",
       "\n",
       "    .dataframe thead th {\n",
       "        text-align: right;\n",
       "    }\n",
       "</style>\n",
       "<table border=\"1\" class=\"dataframe\">\n",
       "  <thead>\n",
       "    <tr style=\"text-align: right;\">\n",
       "      <th></th>\n",
       "      <th>beta</th>\n",
       "      <th>std</th>\n",
       "      <th>reject</th>\n",
       "    </tr>\n",
       "  </thead>\n",
       "  <tbody>\n",
       "    <tr>\n",
       "      <th>count</th>\n",
       "      <td>1000.000000</td>\n",
       "      <td>1000.000000</td>\n",
       "      <td>1000.000000</td>\n",
       "    </tr>\n",
       "    <tr>\n",
       "      <th>mean</th>\n",
       "      <td>2.001814</td>\n",
       "      <td>0.082426</td>\n",
       "      <td>0.260000</td>\n",
       "    </tr>\n",
       "    <tr>\n",
       "      <th>std</th>\n",
       "      <td>0.083965</td>\n",
       "      <td>0.017360</td>\n",
       "      <td>0.438854</td>\n",
       "    </tr>\n",
       "    <tr>\n",
       "      <th>min</th>\n",
       "      <td>1.778631</td>\n",
       "      <td>0.040130</td>\n",
       "      <td>0.000000</td>\n",
       "    </tr>\n",
       "    <tr>\n",
       "      <th>50%</th>\n",
       "      <td>1.998077</td>\n",
       "      <td>0.080322</td>\n",
       "      <td>0.000000</td>\n",
       "    </tr>\n",
       "    <tr>\n",
       "      <th>max</th>\n",
       "      <td>2.416673</td>\n",
       "      <td>0.156322</td>\n",
       "      <td>1.000000</td>\n",
       "    </tr>\n",
       "  </tbody>\n",
       "</table>\n",
       "</div>"
      ],
      "text/plain": [
       "              beta          std       reject\n",
       "count  1000.000000  1000.000000  1000.000000\n",
       "mean      2.001814     0.082426     0.260000\n",
       "std       0.083965     0.017360     0.438854\n",
       "min       1.778631     0.040130     0.000000\n",
       "50%       1.998077     0.080322     0.000000\n",
       "max       2.416673     0.156322     1.000000"
      ]
     },
     "execution_count": 39,
     "metadata": {},
     "output_type": "execute_result"
    }
   ],
   "source": [
    "np.random.seed(10101)\n",
    "result=pd.DataFrame(columns=('beta','std','t','p'))\n",
    "u=stats.chi2(1).rvs((N,n))-1\n",
    "x=stats.chi2(1).rvs((N,n))\n",
    "y=1+2*x+u\n",
    "for i,j in zip(x,y):\n",
    "    ds=pd.DataFrame({'y':j,'x':i})\n",
    "    res=smf.ols(formula='y~x',data=ds).fit()\n",
    "    r=res.t_test('x=2.1')\n",
    "    t={'beta':res.params['x'],'std':r.sd[0][0],'t':r.tvalue[0][0],'p':r.pvalue}\n",
    "    result=result.append(t,ignore_index=True)\n",
    "result['reject']=(result.p<0.05).astype(int)\n",
    "result[['beta','std','reject']].describe(percentiles=[])"
   ]
  },
  {
   "cell_type": "markdown",
   "metadata": {
    "slideshow": {
     "slide_type": "subslide"
    }
   },
   "source": [
    "- Establishing estimator inconsistency requires less coding because we need to generate data and obtain estimates only once, with a large N, and then compare the estimates with the DGP values"
   ]
  },
  {
   "cell_type": "markdown",
   "metadata": {
    "slideshow": {
     "slide_type": "subslide"
    }
   },
   "source": [
    "- The DGP considered is $$ \\begin{matrix}\n",
    "y & = & \\beta x^*+u; & x^*\\sim N(0,9); \\; u\\sim N(0,1) \\\\\n",
    "x & = & x^*+v; & v\\sim N(0,1)\n",
    "\\end{matrix} $$ OLS regression of y on $x^*$ consistently estimates $\\beta$.\n",
    "- However, only data on x rather than $x^*$ are abailable, so we instead obtain $\\hat{\\beta}$ from an OLS regression of y on x.\n",
    "- It is a well-known result that then $\\hat{\\beta}$ is in consistent, with a downward bias, $s\\beta$, where $s=\\sigma_v^2/(\\sigma_v^2+\\sigma_{x^*}^2)$ is the noise-signal ratio."
   ]
  },
  {
   "cell_type": "code",
   "execution_count": 40,
   "metadata": {
    "slideshow": {
     "slide_type": "subslide"
    }
   },
   "outputs": [
    {
     "data": {
      "text/html": [
       "<table class=\"simpletable\">\n",
       "<tr>\n",
       "  <td></td>     <th>coef</th>     <th>std err</th>      <th>t</th>      <th>P>|t|</th>  <th>[0.025</th>    <th>0.975]</th>  \n",
       "</tr>\n",
       "<tr>\n",
       "  <th>x</th> <td>    0.9078</td> <td>    0.004</td> <td>  207.607</td> <td> 0.000</td> <td>    0.899</td> <td>    0.916</td>\n",
       "</tr>\n",
       "</table>"
      ],
      "text/plain": [
       "<class 'statsmodels.iolib.table.SimpleTable'>"
      ]
     },
     "execution_count": 40,
     "metadata": {},
     "output_type": "execute_result"
    }
   ],
   "source": [
    "np.random.seed(10101)\n",
    "mu=[0,0,0]\n",
    "var=[[9,0,0],\n",
    "     [0,1,0],\n",
    "     [0,0,1]] \n",
    "ds=stats.multivariate_normal(mu,var).rvs(10000)\n",
    "ds=pd.DataFrame(ds,columns=['xsar','u','v'])\n",
    "ds['y']=ds.xsar+ds.u\n",
    "ds['x']=ds.xsar+ds.v\n",
    "res=smf.ols(formula='y~x-1',data=ds).fit()\n",
    "res.summary().tables[1]"
   ]
  },
  {
   "cell_type": "markdown",
   "metadata": {
    "slideshow": {
     "slide_type": "subslide"
    }
   },
   "source": [
    "- Endogeneity is one of the most frequent causes of estimator inconsistency.\n",
    "- We adapt the previous DGP as follows: $$ \\begin{matrix}\n",
    "y & = & \\beta_1+\\beta_2 x+u; & u\\sim N(0.1); \\\\\n",
    "x & = & z+0.5u; & z\\sim N(0,1)\n",
    "\\end{matrix} $$ We set $\\beta_1=10$ and $\\beta_2=2$. We let N=150."
   ]
  },
  {
   "cell_type": "code",
   "execution_count": 41,
   "metadata": {
    "scrolled": true,
    "slideshow": {
     "slide_type": "subslide"
    }
   },
   "outputs": [
    {
     "data": {
      "text/html": [
       "<table class=\"simpletable\">\n",
       "<tr>\n",
       "      <td></td>         <th>coef</th>     <th>std err</th>      <th>t</th>      <th>P>|t|</th>  <th>[0.025</th>    <th>0.975]</th>  \n",
       "</tr>\n",
       "<tr>\n",
       "  <th>Intercept</th> <td>    9.9327</td> <td>    0.077</td> <td>  129.003</td> <td> 0.000</td> <td>    9.780</td> <td>   10.085</td>\n",
       "</tr>\n",
       "<tr>\n",
       "  <th>x</th>         <td>    2.3632</td> <td>    0.070</td> <td>   33.722</td> <td> 0.000</td> <td>    2.225</td> <td>    2.502</td>\n",
       "</tr>\n",
       "</table>"
      ],
      "text/plain": [
       "<class 'statsmodels.iolib.table.SimpleTable'>"
      ]
     },
     "execution_count": 41,
     "metadata": {},
     "output_type": "execute_result"
    }
   ],
   "source": [
    "np.random.seed(10101)\n",
    "u=stats.norm().rvs(150)\n",
    "x=stats.norm().rvs(150)+0.5*u\n",
    "y=10+2*x+u \n",
    "ds=pd.DataFrame({'y':y,'x':x})\n",
    "res=smf.ols(formula='y~x',data=ds).fit()\n",
    "res.summary().tables[1]"
   ]
  },
  {
   "cell_type": "code",
   "execution_count": 43,
   "metadata": {
    "slideshow": {
     "slide_type": "subslide"
    }
   },
   "outputs": [
    {
     "data": {
      "text/html": [
       "<div>\n",
       "<style scoped>\n",
       "    .dataframe tbody tr th:only-of-type {\n",
       "        vertical-align: middle;\n",
       "    }\n",
       "\n",
       "    .dataframe tbody tr th {\n",
       "        vertical-align: top;\n",
       "    }\n",
       "\n",
       "    .dataframe thead th {\n",
       "        text-align: right;\n",
       "    }\n",
       "</style>\n",
       "<table border=\"1\" class=\"dataframe\">\n",
       "  <thead>\n",
       "    <tr style=\"text-align: right;\">\n",
       "      <th></th>\n",
       "      <th>beta</th>\n",
       "      <th>std</th>\n",
       "      <th>reject</th>\n",
       "    </tr>\n",
       "  </thead>\n",
       "  <tbody>\n",
       "    <tr>\n",
       "      <th>count</th>\n",
       "      <td>1000.000000</td>\n",
       "      <td>1000.000000</td>\n",
       "      <td>1000.0</td>\n",
       "    </tr>\n",
       "    <tr>\n",
       "      <th>mean</th>\n",
       "      <td>2.399375</td>\n",
       "      <td>0.065759</td>\n",
       "      <td>1.0</td>\n",
       "    </tr>\n",
       "    <tr>\n",
       "      <th>std</th>\n",
       "      <td>0.065389</td>\n",
       "      <td>0.005500</td>\n",
       "      <td>0.0</td>\n",
       "    </tr>\n",
       "    <tr>\n",
       "      <th>min</th>\n",
       "      <td>2.187916</td>\n",
       "      <td>0.050765</td>\n",
       "      <td>1.0</td>\n",
       "    </tr>\n",
       "    <tr>\n",
       "      <th>50%</th>\n",
       "      <td>2.397897</td>\n",
       "      <td>0.065683</td>\n",
       "      <td>1.0</td>\n",
       "    </tr>\n",
       "    <tr>\n",
       "      <th>max</th>\n",
       "      <td>2.611468</td>\n",
       "      <td>0.085257</td>\n",
       "      <td>1.0</td>\n",
       "    </tr>\n",
       "  </tbody>\n",
       "</table>\n",
       "</div>"
      ],
      "text/plain": [
       "              beta          std  reject\n",
       "count  1000.000000  1000.000000  1000.0\n",
       "mean      2.399375     0.065759     1.0\n",
       "std       0.065389     0.005500     0.0\n",
       "min       2.187916     0.050765     1.0\n",
       "50%       2.397897     0.065683     1.0\n",
       "max       2.611468     0.085257     1.0"
      ]
     },
     "execution_count": 43,
     "metadata": {},
     "output_type": "execute_result"
    }
   ],
   "source": [
    "np.random.seed(10101)\n",
    "result=pd.DataFrame(columns=('beta','std','t','p'))\n",
    "u=stats.norm().rvs((N,n))\n",
    "x=stats.norm().rvs((N,n))+0.5*u\n",
    "y=10+2*x+u\n",
    "for i,j in zip(x,y):\n",
    "    ds=pd.DataFrame({'y':j,'x':i})\n",
    "    res=smf.ols(formula='y~x',data=ds).fit()\n",
    "    r=res.t_test('x=2')\n",
    "    t={'beta':res.params['x'],'std':r.sd[0][0],'t':r.tvalue[0][0],'p':r.pvalue}\n",
    "    result=result.append(t,ignore_index=True)\n",
    "result['reject']=(result.p<0.05).astype(int)\n",
    "result[['beta','std','reject']].describe(percentiles=[])"
   ]
  }
 ],
 "metadata": {
  "celltoolbar": "幻灯片",
  "kernelspec": {
   "display_name": "Python 3",
   "language": "python",
   "name": "python3"
  },
  "language_info": {
   "codemirror_mode": {
    "name": "ipython",
    "version": 3
   },
   "file_extension": ".py",
   "mimetype": "text/x-python",
   "name": "python",
   "nbconvert_exporter": "python",
   "pygments_lexer": "ipython3",
   "version": "3.7.3"
  },
  "livereveal": {
   "scroll": true
  }
 },
 "nbformat": 4,
 "nbformat_minor": 1
}
