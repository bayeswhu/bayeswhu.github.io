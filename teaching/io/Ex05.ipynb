{
 "cells": [
  {
   "cell_type": "markdown",
   "metadata": {
    "slideshow": {
     "slide_type": "slide"
    }
   },
   "source": [
    "## Exercises"
   ]
  },
  {
   "cell_type": "markdown",
   "metadata": {
    "slideshow": {
     "slide_type": "subslide"
    }
   },
   "source": [
    "### Exercise 1\n",
    "\n",
    "Fit the model `ltotexp~suppins+phylim+actlim+totchr+age+female+income` using only the first 100 observations. \n",
    "\n",
    "Compute standard errors in three ways: default, heteroskedastic, and cluster-robust where clustering is on the number of chronic problems. \n",
    "\n",
    "Use estimates to produce a table with three sets of coefficients and standard errors. \n",
    "\n",
    "Construct a similar table for three alternative sets of heteroskedasticity-robust standard errors, obtained by using the cov_type='HC1', 'HC2', and 'HC3'."
   ]
  },
  {
   "cell_type": "markdown",
   "metadata": {},
   "source": [
    "### Exercise 2\n",
    "\n",
    "Fit the model `ltotexp~suppins+phylim+actlim+totchr+age+female+income` with robust standard errors reported. \n",
    "\n",
    "Test at 5% the joint significance of the demographic variables age, female, and income. \n",
    "\n",
    "Test the hypothesis that being male (rather than female) has the same impact on medical expenditures as aging 10 years. \n",
    "\n",
    "Fit the model under the constraint that $\\beta_{phylim} = \\beta_{actlim}$."
   ]
  },
  {
   "cell_type": "markdown",
   "metadata": {},
   "source": [
    "### Exercise 3\n",
    "\n",
    "Fit the model `ltotexp~suppins+phylim+actlim+totchr+age+female+income`, and implement the RESET test manually by regressing y on x and $\\hat{y}^2, \\hat{y}^3$, and $\\hat{y}^4$ and jointly testing that the coefficients of $\\hat{y}^2, \\hat{y}^3$, and $\\hat{y}^4$ are zero. \n",
    "\n",
    "To get the same results as in lecture, do you need to use the default or robust cov_type in this regression?"
   ]
  },
  {
   "cell_type": "markdown",
   "metadata": {},
   "source": [
    "### Exercise 4\n",
    "\n",
    "Fit the model `ltotexp~suppins+phylim+actlim+totchr+age+female+income`, and perform the standard Lagrange multiplier test for heteroskedasticity by using all the regressors. \n",
    "\n",
    "Next show that this test is obtained as $N\\times R^2$, where $R^2$ is obtained from the regression of $\\hat{u}_i^2$ on an intercept and $z_i$."
   ]
  },
  {
   "cell_type": "markdown",
   "metadata": {},
   "source": [
    "### Exercise 5\n",
    "\n",
    "Fit the model `totexp~suppins+phylim+actlim+totchr+age+female+income` on levels, except use all observations rather than those with just positive expenditures, and report robust standard errors. \n",
    "\n",
    "Predict medical expenditures. \n",
    "\n",
    "Use correlate to obtain the correlation coefficient between the actual and fitted value and show that, upon squaring, this equals $R^2$. "
   ]
  },
  {
   "cell_type": "markdown",
   "metadata": {},
   "source": [
    "### Exercise 6\n",
    "\n",
    "Fit the model `totexp~suppins+phylim+actlim+totchr+age+female+income` on levels, using the first 2,000 observations. \n",
    "\n",
    "Use these estimates to predict medical expenditures for the remaining 1,064 observations, and compare these with the actual values. \n",
    "\n",
    "Note that the model predicts very poorly in part because the data were ordered by totexp."
   ]
  }
 ],
 "metadata": {
  "kernelspec": {
   "display_name": "Python 3",
   "language": "python",
   "name": "python3"
  },
  "language_info": {
   "codemirror_mode": {
    "name": "ipython",
    "version": 3
   },
   "file_extension": ".py",
   "mimetype": "text/x-python",
   "name": "python",
   "nbconvert_exporter": "python",
   "pygments_lexer": "ipython3",
   "version": "3.7.4"
  },
  "livereveal": {
   "scroll": true
  }
 },
 "nbformat": 4,
 "nbformat_minor": 2
}
