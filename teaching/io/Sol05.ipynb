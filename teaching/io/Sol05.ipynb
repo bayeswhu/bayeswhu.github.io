{
 "cells": [
  {
   "cell_type": "markdown",
   "metadata": {},
   "source": [
    "## Solutions"
   ]
  },
  {
   "cell_type": "markdown",
   "metadata": {},
   "source": [
    "### Exercise 1"
   ]
  },
  {
   "cell_type": "code",
   "execution_count": 1,
   "metadata": {
    "hide-output": false
   },
   "outputs": [],
   "source": [
    "import numpy as np\n",
    "import pandas as pd\n",
    "import statsmodels.formula.api as smf\n",
    "\n",
    "data=pd.read_stata('data/mus03data.dta')"
   ]
  },
  {
   "cell_type": "code",
   "execution_count": 2,
   "metadata": {},
   "outputs": [
    {
     "data": {
      "text/html": [
       "<table class=\"simpletable\">\n",
       "<tr>\n",
       "      <td></td>       <th>default</th>  <th>heteroskedastic</th>  <th>cluster</th> \n",
       "</tr>\n",
       "<tr>\n",
       "  <th>Intercept</th> <td>5.6756***</td>    <td>5.6756***</td>    <td>5.6756***</td>\n",
       "</tr>\n",
       "<tr>\n",
       "  <th></th>          <td>(1.0273)</td>     <td>(0.9988)</td>     <td>(0.4193)</td> \n",
       "</tr>\n",
       "<tr>\n",
       "  <th>suppins</th>    <td>0.0338</td>       <td>0.0338</td>       <td>0.0338</td>  \n",
       "</tr>\n",
       "<tr>\n",
       "  <th></th>          <td>(0.1772)</td>     <td>(0.1735)</td>     <td>(0.1578)</td> \n",
       "</tr>\n",
       "<tr>\n",
       "  <th>phylim</th>    <td>-0.5777**</td>    <td>-0.5777*</td>     <td>-0.5777*</td> \n",
       "</tr>\n",
       "<tr>\n",
       "  <th></th>          <td>(0.2767)</td>     <td>(0.3445)</td>     <td>(0.2992)</td> \n",
       "</tr>\n",
       "<tr>\n",
       "  <th>actlim</th>    <td>0.7339**</td>     <td>0.7339**</td>     <td>0.7339***</td>\n",
       "</tr>\n",
       "<tr>\n",
       "  <th></th>          <td>(0.3180)</td>     <td>(0.3440)</td>     <td>(0.1884)</td> \n",
       "</tr>\n",
       "<tr>\n",
       "  <th>totchr</th>     <td>0.1823</td>       <td>0.1823</td>      <td>0.1823***</td>\n",
       "</tr>\n",
       "<tr>\n",
       "  <th></th>          <td>(0.1227)</td>     <td>(0.1160)</td>     <td>(0.0656)</td> \n",
       "</tr>\n",
       "<tr>\n",
       "  <th>age</th>        <td>-0.0173</td>      <td>-0.0173</td>     <td>-0.0173**</td>\n",
       "</tr>\n",
       "<tr>\n",
       "  <th></th>          <td>(0.0140)</td>     <td>(0.0139)</td>     <td>(0.0067)</td> \n",
       "</tr>\n",
       "<tr>\n",
       "  <th>female</th>     <td>-0.0084</td>      <td>-0.0084</td>      <td>-0.0084</td> \n",
       "</tr>\n",
       "<tr>\n",
       "  <th></th>          <td>(0.1701)</td>     <td>(0.1705)</td>     <td>(0.1096)</td> \n",
       "</tr>\n",
       "<tr>\n",
       "  <th>income</th>     <td>0.0024</td>       <td>0.0024</td>       <td>0.0024</td>  \n",
       "</tr>\n",
       "<tr>\n",
       "  <th></th>          <td>(0.0036)</td>     <td>(0.0033)</td>     <td>(0.0044)</td> \n",
       "</tr>\n",
       "</table>"
      ],
      "text/plain": [
       "<class 'statsmodels.iolib.summary2.Summary'>\n",
       "\"\"\"\n",
       "\n",
       "=============================================\n",
       "           default  heteroskedastic  cluster \n",
       "---------------------------------------------\n",
       "Intercept 5.6756*** 5.6756***       5.6756***\n",
       "          (1.0273)  (0.9988)        (0.4193) \n",
       "suppins   0.0338    0.0338          0.0338   \n",
       "          (0.1772)  (0.1735)        (0.1578) \n",
       "phylim    -0.5777** -0.5777*        -0.5777* \n",
       "          (0.2767)  (0.3445)        (0.2992) \n",
       "actlim    0.7339**  0.7339**        0.7339***\n",
       "          (0.3180)  (0.3440)        (0.1884) \n",
       "totchr    0.1823    0.1823          0.1823***\n",
       "          (0.1227)  (0.1160)        (0.0656) \n",
       "age       -0.0173   -0.0173         -0.0173**\n",
       "          (0.0140)  (0.0139)        (0.0067) \n",
       "female    -0.0084   -0.0084         -0.0084  \n",
       "          (0.1701)  (0.1705)        (0.1096) \n",
       "income    0.0024    0.0024          0.0024   \n",
       "          (0.0036)  (0.0033)        (0.0044) \n",
       "=============================================\n",
       "Standard errors in parentheses.\n",
       "* p<.1, ** p<.05, ***p<.01\n",
       "\"\"\""
      ]
     },
     "execution_count": 2,
     "metadata": {},
     "output_type": "execute_result"
    }
   ],
   "source": [
    "from statsmodels.iolib.summary2 import summary_col\n",
    "\n",
    "data1=data.iloc[:100,:]\n",
    "f='ltotexp~suppins+phylim+actlim+totchr+age+female+income'\n",
    "res1=smf.ols(formula=f,data=data1).fit()\n",
    "res2=smf.ols(formula=f,data=data1).fit(cov_type='HC1')\n",
    "res3=smf.ols(formula=f,data=data1).fit(cov_type='cluster', cov_kwds={'groups': data1.totchr})\n",
    "\n",
    "summary_col(results=[res1,res2,res3], stars = True, model_names=['default', 'heteroskedastic', 'cluster'], drop_omitted=True)"
   ]
  },
  {
   "cell_type": "code",
   "execution_count": 3,
   "metadata": {},
   "outputs": [
    {
     "data": {
      "text/html": [
       "<table class=\"simpletable\">\n",
       "<tr>\n",
       "      <td></td>         <th>HC1</th>       <th>HC2</th>       <th>HC3</th>   \n",
       "</tr>\n",
       "<tr>\n",
       "  <th>Intercept</th> <td>5.6756***</td> <td>5.6756***</td> <td>5.6756***</td>\n",
       "</tr>\n",
       "<tr>\n",
       "  <th></th>          <td>(0.9988)</td>  <td>(1.0217)</td>  <td>(1.0936)</td> \n",
       "</tr>\n",
       "<tr>\n",
       "  <th>suppins</th>    <td>0.0338</td>    <td>0.0338</td>    <td>0.0338</td>  \n",
       "</tr>\n",
       "<tr>\n",
       "  <th></th>          <td>(0.1735)</td>  <td>(0.1737)</td>  <td>(0.1818)</td> \n",
       "</tr>\n",
       "<tr>\n",
       "  <th>phylim</th>    <td>-0.5777*</td>   <td>-0.5777</td>   <td>-0.5777</td> \n",
       "</tr>\n",
       "<tr>\n",
       "  <th></th>          <td>(0.3445)</td>  <td>(0.3611)</td>  <td>(0.3951)</td> \n",
       "</tr>\n",
       "<tr>\n",
       "  <th>actlim</th>    <td>0.7339**</td>  <td>0.7339**</td>   <td>0.7339*</td> \n",
       "</tr>\n",
       "<tr>\n",
       "  <th></th>          <td>(0.3440)</td>  <td>(0.3638)</td>  <td>(0.4026)</td> \n",
       "</tr>\n",
       "<tr>\n",
       "  <th>totchr</th>     <td>0.1823</td>    <td>0.1823</td>    <td>0.1823</td>  \n",
       "</tr>\n",
       "<tr>\n",
       "  <th></th>          <td>(0.1160)</td>  <td>(0.1212)</td>  <td>(0.1329)</td> \n",
       "</tr>\n",
       "<tr>\n",
       "  <th>age</th>        <td>-0.0173</td>   <td>-0.0173</td>   <td>-0.0173</td> \n",
       "</tr>\n",
       "<tr>\n",
       "  <th></th>          <td>(0.0139)</td>  <td>(0.0143)</td>  <td>(0.0153)</td> \n",
       "</tr>\n",
       "<tr>\n",
       "  <th>female</th>     <td>-0.0084</td>   <td>-0.0084</td>   <td>-0.0084</td> \n",
       "</tr>\n",
       "<tr>\n",
       "  <th></th>          <td>(0.1705)</td>  <td>(0.1703)</td>  <td>(0.1777)</td> \n",
       "</tr>\n",
       "<tr>\n",
       "  <th>income</th>     <td>0.0024</td>    <td>0.0024</td>    <td>0.0024</td>  \n",
       "</tr>\n",
       "<tr>\n",
       "  <th></th>          <td>(0.0033)</td>  <td>(0.0037)</td>  <td>(0.0043)</td> \n",
       "</tr>\n",
       "</table>"
      ],
      "text/plain": [
       "<class 'statsmodels.iolib.summary2.Summary'>\n",
       "\"\"\"\n",
       "\n",
       "=======================================\n",
       "             HC1       HC2       HC3   \n",
       "---------------------------------------\n",
       "Intercept 5.6756*** 5.6756*** 5.6756***\n",
       "          (0.9988)  (1.0217)  (1.0936) \n",
       "suppins   0.0338    0.0338    0.0338   \n",
       "          (0.1735)  (0.1737)  (0.1818) \n",
       "phylim    -0.5777*  -0.5777   -0.5777  \n",
       "          (0.3445)  (0.3611)  (0.3951) \n",
       "actlim    0.7339**  0.7339**  0.7339*  \n",
       "          (0.3440)  (0.3638)  (0.4026) \n",
       "totchr    0.1823    0.1823    0.1823   \n",
       "          (0.1160)  (0.1212)  (0.1329) \n",
       "age       -0.0173   -0.0173   -0.0173  \n",
       "          (0.0139)  (0.0143)  (0.0153) \n",
       "female    -0.0084   -0.0084   -0.0084  \n",
       "          (0.1705)  (0.1703)  (0.1777) \n",
       "income    0.0024    0.0024    0.0024   \n",
       "          (0.0033)  (0.0037)  (0.0043) \n",
       "=======================================\n",
       "Standard errors in parentheses.\n",
       "* p<.1, ** p<.05, ***p<.01\n",
       "\"\"\""
      ]
     },
     "execution_count": 3,
     "metadata": {},
     "output_type": "execute_result"
    }
   ],
   "source": [
    "res4=smf.ols(formula=f,data=data1).fit(cov_type='HC2')\n",
    "res5=smf.ols(formula=f,data=data1).fit(cov_type='HC3')\n",
    "summary_col(results=[res2,res4,res5], stars = True, model_names=['HC1', 'HC2', 'HC3'], drop_omitted=True)"
   ]
  },
  {
   "cell_type": "markdown",
   "metadata": {},
   "source": [
    "### Exercise 2"
   ]
  },
  {
   "cell_type": "code",
   "execution_count": 4,
   "metadata": {},
   "outputs": [
    {
     "data": {
      "text/plain": [
       "<class 'statsmodels.stats.contrast.ContrastResults'>\n",
       "<F test: F=array([[3.64985035]]), p=0.012104264047142514, df_denom=2947, df_num=3>"
      ]
     },
     "execution_count": 4,
     "metadata": {},
     "output_type": "execute_result"
    }
   ],
   "source": [
    "res=smf.ols(formula=f,data=data).fit(cov_type='HC1')\n",
    "res.f_test('age=0,female=0,income=0')"
   ]
  },
  {
   "cell_type": "code",
   "execution_count": 5,
   "metadata": {},
   "outputs": [
    {
     "data": {
      "text/plain": [
       "<class 'statsmodels.stats.contrast.ContrastResults'>\n",
       "                             Test for Constraints                             \n",
       "==============================================================================\n",
       "                 coef    std err          z      P>|z|      [0.025      0.975]\n",
       "------------------------------------------------------------------------------\n",
       "c0            -0.2025      0.072     -2.799      0.005      -0.344      -0.061\n",
       "=============================================================================="
      ]
     },
     "execution_count": 5,
     "metadata": {},
     "output_type": "execute_result"
    }
   ],
   "source": [
    "data2=data.copy()\n",
    "data2.loc[:,'age10']=data2.loc[:,'age']/10\n",
    "res2=smf.ols(formula='ltotexp~suppins+phylim+actlim+totchr+age10*female+income',data=data2).fit(cov_type='HC1')\n",
    "res2.t_test('age10:female')"
   ]
  },
  {
   "cell_type": "code",
   "execution_count": 6,
   "metadata": {},
   "outputs": [
    {
     "data": {
      "text/html": [
       "<table class=\"simpletable\">\n",
       "<tr>\n",
       "           <td></td>             <th>coef</th>     <th>std err</th>      <th>z</th>      <th>P>|z|</th>  <th>[0.025</th>    <th>0.975]</th>  \n",
       "</tr>\n",
       "<tr>\n",
       "  <th>Intercept</th>          <td>    6.7051</td> <td>    0.282</td> <td>   23.735</td> <td> 0.000</td> <td>    6.151</td> <td>    7.259</td>\n",
       "</tr>\n",
       "<tr>\n",
       "  <th>suppins</th>            <td>    0.2545</td> <td>    0.047</td> <td>    5.471</td> <td> 0.000</td> <td>    0.163</td> <td>    0.346</td>\n",
       "</tr>\n",
       "<tr>\n",
       "  <th>I(phylim + actlim)</th> <td>    0.3275</td> <td>    0.031</td> <td>   10.682</td> <td> 0.000</td> <td>    0.267</td> <td>    0.388</td>\n",
       "</tr>\n",
       "<tr>\n",
       "  <th>totchr</th>             <td>    0.3758</td> <td>    0.019</td> <td>   20.079</td> <td> 0.000</td> <td>    0.339</td> <td>    0.413</td>\n",
       "</tr>\n",
       "<tr>\n",
       "  <th>age</th>                <td>    0.0038</td> <td>    0.004</td> <td>    1.019</td> <td> 0.308</td> <td>   -0.003</td> <td>    0.011</td>\n",
       "</tr>\n",
       "<tr>\n",
       "  <th>female</th>             <td>   -0.0856</td> <td>    0.046</td> <td>   -1.876</td> <td> 0.061</td> <td>   -0.175</td> <td>    0.004</td>\n",
       "</tr>\n",
       "<tr>\n",
       "  <th>income</th>             <td>    0.0025</td> <td>    0.001</td> <td>    2.420</td> <td> 0.016</td> <td>    0.000</td> <td>    0.005</td>\n",
       "</tr>\n",
       "</table>"
      ],
      "text/plain": [
       "<class 'statsmodels.iolib.table.SimpleTable'>"
      ]
     },
     "execution_count": 6,
     "metadata": {},
     "output_type": "execute_result"
    }
   ],
   "source": [
    "res=smf.ols(formula='ltotexp~suppins+I(phylim+actlim)+totchr+age+female+income',data=data).fit(cov_type='HC1')\n",
    "res.summary().tables[1]"
   ]
  },
  {
   "cell_type": "markdown",
   "metadata": {},
   "source": [
    "### Exercise 3"
   ]
  },
  {
   "cell_type": "code",
   "execution_count": 7,
   "metadata": {},
   "outputs": [
    {
     "name": "stdout",
     "output_type": "stream",
     "text": [
      "<F test: F=array([[9.03663802]]), p=5.914607556874138e-06, df_denom=2944, df_num=3>\n",
      "<F test: F=array([[11.3182544]]), p=2.2196435866635983e-07, df_denom=2944, df_num=3>\n"
     ]
    }
   ],
   "source": [
    "res=smf.ols(formula=f,data=data).fit(cov_type='HC1')\n",
    "data3=pd.DataFrame(np.column_stack([res.model.endog,res.model.exog[:,1:],res.predict()]))\n",
    "data3.columns=['ltotexp','suppins','phylim','actlim','totchr','age','female','income','yhat']\n",
    "\n",
    "res_default=smf.ols(formula=f+'+I(yhat**2)+I(yhat**3)+I(yhat**4)',data=data3).fit()\n",
    "res_HC1=smf.ols(formula=f+'+I(yhat**2)+I(yhat**3)+I(yhat**4)',data=data3).fit(cov_type='HC1')\n",
    "print(res_default.f_test(\"I(yhat ** 2)=0,I(yhat ** 3)=0,I(yhat ** 4)=0\"))\n",
    "print(res_HC1.f_test(\"I(yhat ** 2)=0,I(yhat ** 3)=0,I(yhat ** 4)=0\"))"
   ]
  },
  {
   "cell_type": "markdown",
   "metadata": {},
   "source": [
    "Clearly we need to use the default cov_type. If you look at the source code of reset_ramsey method, you will find the same answer."
   ]
  },
  {
   "cell_type": "markdown",
   "metadata": {},
   "source": [
    "### Exercise 4"
   ]
  },
  {
   "cell_type": "code",
   "execution_count": 8,
   "metadata": {},
   "outputs": [
    {
     "data": {
      "text/plain": [
       "[('Lagrange multiplier statistic', 93.12802905335813),\n",
       " ('p-value', 2.8150607155258386e-17)]"
      ]
     },
     "execution_count": 8,
     "metadata": {},
     "output_type": "execute_result"
    }
   ],
   "source": [
    "res=smf.ols(formula=f,data=data).fit()\n",
    "from statsmodels.compat import lzip\n",
    "import statsmodels.stats.api as sms\n",
    "name = ['Lagrange multiplier statistic', 'p-value']\n",
    "test = sms.het_breuschpagan(res.resid, res.model.exog)\n",
    "lzip(name, test)"
   ]
  },
  {
   "cell_type": "code",
   "execution_count": 9,
   "metadata": {},
   "outputs": [
    {
     "data": {
      "text/plain": [
       "93.12802905335813"
      ]
     },
     "execution_count": 9,
     "metadata": {},
     "output_type": "execute_result"
    }
   ],
   "source": [
    "data4=pd.DataFrame(np.column_stack([res.model.exog[:,1:],res.resid]))\n",
    "data4.columns=['suppins','phylim','actlim','totchr','age','female','income','u']\n",
    "res2=smf.ols(formula='I(u**2)~suppins+phylim+actlim+totchr+age+female+income',data=data4).fit()\n",
    "res2.nobs*res2.rsquared"
   ]
  },
  {
   "cell_type": "markdown",
   "metadata": {},
   "source": [
    "### Exercise 5"
   ]
  },
  {
   "cell_type": "code",
   "execution_count": 10,
   "metadata": {},
   "outputs": [
    {
     "data": {
      "text/html": [
       "<table class=\"simpletable\">\n",
       "<tr>\n",
       "      <td></td>         <th>coef</th>     <th>std err</th>      <th>z</th>      <th>P>|z|</th>  <th>[0.025</th>    <th>0.975]</th>  \n",
       "</tr>\n",
       "<tr>\n",
       "  <th>Intercept</th> <td> 7370.5665</td> <td> 2734.062</td> <td>    2.696</td> <td> 0.007</td> <td> 2011.903</td> <td> 1.27e+04</td>\n",
       "</tr>\n",
       "<tr>\n",
       "  <th>suppins</th>   <td>  829.3004</td> <td>  411.543</td> <td>    2.015</td> <td> 0.044</td> <td>   22.691</td> <td> 1635.910</td>\n",
       "</tr>\n",
       "<tr>\n",
       "  <th>phylim</th>    <td> 2426.5716</td> <td>  536.920</td> <td>    4.519</td> <td> 0.000</td> <td> 1374.228</td> <td> 3478.915</td>\n",
       "</tr>\n",
       "<tr>\n",
       "  <th>actlim</th>    <td> 3695.0459</td> <td>  687.586</td> <td>    5.374</td> <td> 0.000</td> <td> 2347.403</td> <td> 5042.689</td>\n",
       "</tr>\n",
       "<tr>\n",
       "  <th>totchr</th>    <td> 1939.7297</td> <td>  180.914</td> <td>   10.722</td> <td> 0.000</td> <td> 1585.144</td> <td> 2294.315</td>\n",
       "</tr>\n",
       "<tr>\n",
       "  <th>age</th>       <td>  -77.3720</td> <td>   36.575</td> <td>   -2.115</td> <td> 0.034</td> <td> -149.057</td> <td>   -5.687</td>\n",
       "</tr>\n",
       "<tr>\n",
       "  <th>female</th>    <td>-1257.1738</td> <td>  416.639</td> <td>   -3.017</td> <td> 0.003</td> <td>-2073.771</td> <td> -440.576</td>\n",
       "</tr>\n",
       "<tr>\n",
       "  <th>income</th>    <td>    7.2231</td> <td>    8.369</td> <td>    0.863</td> <td> 0.388</td> <td>   -9.179</td> <td>   23.625</td>\n",
       "</tr>\n",
       "</table>"
      ],
      "text/plain": [
       "<class 'statsmodels.iolib.table.SimpleTable'>"
      ]
     },
     "execution_count": 10,
     "metadata": {},
     "output_type": "execute_result"
    }
   ],
   "source": [
    "f=\"totexp~suppins+phylim+actlim+totchr+age+female+income\"\n",
    "res=smf.ols(formula=f,data=data).fit(cov_type=\"HC1\")\n",
    "res.summary().tables[1]"
   ]
  },
  {
   "cell_type": "code",
   "execution_count": 11,
   "metadata": {},
   "outputs": [
    {
     "data": {
      "text/plain": [
       "array([[1.        , 0.35121681],\n",
       "       [0.35121681, 1.        ]])"
      ]
     },
     "execution_count": 11,
     "metadata": {},
     "output_type": "execute_result"
    }
   ],
   "source": [
    "yhat=res.predict()\n",
    "cor=np.corrcoef(data.totexp,yhat)\n",
    "cor"
   ]
  },
  {
   "cell_type": "code",
   "execution_count": 12,
   "metadata": {},
   "outputs": [
    {
     "data": {
      "text/plain": [
       "0.12335324640042522"
      ]
     },
     "execution_count": 12,
     "metadata": {},
     "output_type": "execute_result"
    }
   ],
   "source": [
    "res.rsquared"
   ]
  },
  {
   "cell_type": "code",
   "execution_count": 13,
   "metadata": {},
   "outputs": [
    {
     "data": {
      "text/plain": [
       "True"
      ]
     },
     "execution_count": 13,
     "metadata": {},
     "output_type": "execute_result"
    }
   ],
   "source": [
    "cor[0,1]**2-res.rsquared<=1e-7"
   ]
  },
  {
   "cell_type": "markdown",
   "metadata": {},
   "source": [
    "### Exercise 6"
   ]
  },
  {
   "cell_type": "code",
   "execution_count": 14,
   "metadata": {},
   "outputs": [
    {
     "data": {
      "text/html": [
       "<div>\n",
       "<style scoped>\n",
       "    .dataframe tbody tr th:only-of-type {\n",
       "        vertical-align: middle;\n",
       "    }\n",
       "\n",
       "    .dataframe tbody tr th {\n",
       "        vertical-align: top;\n",
       "    }\n",
       "\n",
       "    .dataframe thead th {\n",
       "        text-align: right;\n",
       "    }\n",
       "</style>\n",
       "<table border=\"1\" class=\"dataframe\">\n",
       "  <thead>\n",
       "    <tr style=\"text-align: right;\">\n",
       "      <th></th>\n",
       "      <th>totexp</th>\n",
       "      <th>predict</th>\n",
       "    </tr>\n",
       "  </thead>\n",
       "  <tbody>\n",
       "    <tr>\n",
       "      <th>count</th>\n",
       "      <td>1064.000000</td>\n",
       "      <td>1064.000000</td>\n",
       "    </tr>\n",
       "    <tr>\n",
       "      <th>mean</th>\n",
       "      <td>16007.863722</td>\n",
       "      <td>2642.626445</td>\n",
       "    </tr>\n",
       "    <tr>\n",
       "      <th>std</th>\n",
       "      <td>16637.933870</td>\n",
       "      <td>729.354163</td>\n",
       "    </tr>\n",
       "    <tr>\n",
       "      <th>min</th>\n",
       "      <td>0.000000</td>\n",
       "      <td>1211.670976</td>\n",
       "    </tr>\n",
       "    <tr>\n",
       "      <th>50%</th>\n",
       "      <td>10393.500000</td>\n",
       "      <td>2615.392192</td>\n",
       "    </tr>\n",
       "    <tr>\n",
       "      <th>max</th>\n",
       "      <td>125610.000000</td>\n",
       "      <td>4686.648090</td>\n",
       "    </tr>\n",
       "  </tbody>\n",
       "</table>\n",
       "</div>"
      ],
      "text/plain": [
       "              totexp      predict\n",
       "count    1064.000000  1064.000000\n",
       "mean    16007.863722  2642.626445\n",
       "std     16637.933870   729.354163\n",
       "min         0.000000  1211.670976\n",
       "50%     10393.500000  2615.392192\n",
       "max    125610.000000  4686.648090"
      ]
     },
     "execution_count": 14,
     "metadata": {},
     "output_type": "execute_result"
    }
   ],
   "source": [
    "data6a=data.iloc[:2000,:]\n",
    "data6b=data.iloc[2000:,:]\n",
    "res=smf.ols(formula=f,data=data6a).fit()\n",
    "yhat=res.predict(data6b)\n",
    "pd.DataFrame({'totexp':data6b.totexp,'predict':yhat}).describe(percentiles=[])"
   ]
  }
 ],
 "metadata": {
  "filename": "pandas.rst",
  "kernelspec": {
   "display_name": "Python 3",
   "language": "python",
   "name": "python3"
  },
  "language_info": {
   "codemirror_mode": {
    "name": "ipython",
    "version": 3
   },
   "file_extension": ".py",
   "mimetype": "text/x-python",
   "name": "python",
   "nbconvert_exporter": "python",
   "pygments_lexer": "ipython3",
   "version": "3.7.4"
  },
  "title": "Pandas"
 },
 "nbformat": 4,
 "nbformat_minor": 2
}
