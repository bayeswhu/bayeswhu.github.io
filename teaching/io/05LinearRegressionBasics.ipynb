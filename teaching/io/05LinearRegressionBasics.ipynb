{
 "cells": [
  {
   "cell_type": "markdown",
   "metadata": {
    "slideshow": {
     "slide_type": "slide"
    }
   },
   "source": [
    "## Introduction\n",
    "\n",
    "- Linear regression analysis is often the starting point of an empirical investigation.\n",
    "- This lecture is limited to basic regression analysis on cross-section data of a continuous dependent variable."
   ]
  },
  {
   "cell_type": "markdown",
   "metadata": {
    "slideshow": {
     "slide_type": "slide"
    }
   },
   "source": [
    "## Data and data summary\n",
    "\n",
    "- We present ways to summarize and gain some understanding of the data, a necessary step before any regression analysis.\n",
    "- We analyze medical expenitures of individuals 65 years and older who qualify for health care under the U.S. Medicare program.\n",
    "- Given the dataset for analysis, we begin by using the `describe` method to list various features of the variables to be used in the linear regression."
   ]
  },
  {
   "cell_type": "code",
   "execution_count": 46,
   "metadata": {
    "scrolled": true,
    "slideshow": {
     "slide_type": "subslide"
    }
   },
   "outputs": [],
   "source": [
    "%matplotlib inline\n",
    "import matplotlib.pyplot as plt\n",
    "import numpy as np\n",
    "import pandas as pd\n",
    "import seaborn as sns\n",
    "import statsmodels.formula.api as smf\n",
    "\n",
    "data=pd.read_stata('data/mus03data.dta')"
   ]
  },
  {
   "cell_type": "code",
   "execution_count": 47,
   "metadata": {
    "run_control": {
     "marked": false
    },
    "slideshow": {
     "slide_type": "subslide"
    }
   },
   "outputs": [
    {
     "data": {
      "text/html": [
       "<div>\n",
       "<style scoped>\n",
       "    .dataframe tbody tr th:only-of-type {\n",
       "        vertical-align: middle;\n",
       "    }\n",
       "\n",
       "    .dataframe tbody tr th {\n",
       "        vertical-align: top;\n",
       "    }\n",
       "\n",
       "    .dataframe thead th {\n",
       "        text-align: right;\n",
       "    }\n",
       "</style>\n",
       "<table border=\"1\" class=\"dataframe\">\n",
       "  <thead>\n",
       "    <tr style=\"text-align: right;\">\n",
       "      <th></th>\n",
       "      <th>totexp</th>\n",
       "      <th>ltotexp</th>\n",
       "      <th>totexp</th>\n",
       "      <th>posexp</th>\n",
       "      <th>suppins</th>\n",
       "      <th>phylim</th>\n",
       "      <th>actlim</th>\n",
       "      <th>totchr</th>\n",
       "      <th>age</th>\n",
       "      <th>female</th>\n",
       "      <th>income</th>\n",
       "    </tr>\n",
       "  </thead>\n",
       "  <tbody>\n",
       "    <tr>\n",
       "      <th>count</th>\n",
       "      <td>3064.000000</td>\n",
       "      <td>2955.000000</td>\n",
       "      <td>3064.000000</td>\n",
       "      <td>3064.000000</td>\n",
       "      <td>3064.000000</td>\n",
       "      <td>3064.000000</td>\n",
       "      <td>3064.000000</td>\n",
       "      <td>3064.000000</td>\n",
       "      <td>3064.000000</td>\n",
       "      <td>3064.000000</td>\n",
       "      <td>3064.000000</td>\n",
       "    </tr>\n",
       "    <tr>\n",
       "      <th>mean</th>\n",
       "      <td>7030.889360</td>\n",
       "      <td>8.059871</td>\n",
       "      <td>7030.889360</td>\n",
       "      <td>0.964426</td>\n",
       "      <td>0.581266</td>\n",
       "      <td>0.425587</td>\n",
       "      <td>0.283616</td>\n",
       "      <td>1.754243</td>\n",
       "      <td>74.171671</td>\n",
       "      <td>0.579634</td>\n",
       "      <td>22.474722</td>\n",
       "    </tr>\n",
       "    <tr>\n",
       "      <th>std</th>\n",
       "      <td>11852.751889</td>\n",
       "      <td>1.367593</td>\n",
       "      <td>11852.751889</td>\n",
       "      <td>0.185257</td>\n",
       "      <td>0.493434</td>\n",
       "      <td>0.494512</td>\n",
       "      <td>0.450826</td>\n",
       "      <td>1.307197</td>\n",
       "      <td>6.372938</td>\n",
       "      <td>0.493698</td>\n",
       "      <td>22.534910</td>\n",
       "    </tr>\n",
       "    <tr>\n",
       "      <th>min</th>\n",
       "      <td>0.000000</td>\n",
       "      <td>1.098612</td>\n",
       "      <td>0.000000</td>\n",
       "      <td>0.000000</td>\n",
       "      <td>0.000000</td>\n",
       "      <td>0.000000</td>\n",
       "      <td>0.000000</td>\n",
       "      <td>0.000000</td>\n",
       "      <td>65.000000</td>\n",
       "      <td>0.000000</td>\n",
       "      <td>-1.000000</td>\n",
       "    </tr>\n",
       "    <tr>\n",
       "      <th>25%</th>\n",
       "      <td>1272.500000</td>\n",
       "      <td>7.267525</td>\n",
       "      <td>1272.500000</td>\n",
       "      <td>1.000000</td>\n",
       "      <td>0.000000</td>\n",
       "      <td>0.000000</td>\n",
       "      <td>0.000000</td>\n",
       "      <td>1.000000</td>\n",
       "      <td>69.000000</td>\n",
       "      <td>0.000000</td>\n",
       "      <td>9.594000</td>\n",
       "    </tr>\n",
       "    <tr>\n",
       "      <th>50%</th>\n",
       "      <td>3134.500000</td>\n",
       "      <td>8.111928</td>\n",
       "      <td>3134.500000</td>\n",
       "      <td>1.000000</td>\n",
       "      <td>1.000000</td>\n",
       "      <td>0.000000</td>\n",
       "      <td>0.000000</td>\n",
       "      <td>2.000000</td>\n",
       "      <td>73.000000</td>\n",
       "      <td>1.000000</td>\n",
       "      <td>15.506000</td>\n",
       "    </tr>\n",
       "    <tr>\n",
       "      <th>75%</th>\n",
       "      <td>7142.000000</td>\n",
       "      <td>8.921524</td>\n",
       "      <td>7142.000000</td>\n",
       "      <td>1.000000</td>\n",
       "      <td>1.000000</td>\n",
       "      <td>1.000000</td>\n",
       "      <td>1.000000</td>\n",
       "      <td>3.000000</td>\n",
       "      <td>79.000000</td>\n",
       "      <td>1.000000</td>\n",
       "      <td>27.922750</td>\n",
       "    </tr>\n",
       "    <tr>\n",
       "      <th>max</th>\n",
       "      <td>125610.000000</td>\n",
       "      <td>11.740937</td>\n",
       "      <td>125610.000000</td>\n",
       "      <td>1.000000</td>\n",
       "      <td>1.000000</td>\n",
       "      <td>1.000000</td>\n",
       "      <td>1.000000</td>\n",
       "      <td>7.000000</td>\n",
       "      <td>90.000000</td>\n",
       "      <td>1.000000</td>\n",
       "      <td>312.460000</td>\n",
       "    </tr>\n",
       "  </tbody>\n",
       "</table>\n",
       "</div>"
      ],
      "text/plain": [
       "              totexp      ltotexp         totexp       posexp      suppins  \\\n",
       "count    3064.000000  2955.000000    3064.000000  3064.000000  3064.000000   \n",
       "mean     7030.889360     8.059871    7030.889360     0.964426     0.581266   \n",
       "std     11852.751889     1.367593   11852.751889     0.185257     0.493434   \n",
       "min         0.000000     1.098612       0.000000     0.000000     0.000000   \n",
       "25%      1272.500000     7.267525    1272.500000     1.000000     0.000000   \n",
       "50%      3134.500000     8.111928    3134.500000     1.000000     1.000000   \n",
       "75%      7142.000000     8.921524    7142.000000     1.000000     1.000000   \n",
       "max    125610.000000    11.740937  125610.000000     1.000000     1.000000   \n",
       "\n",
       "            phylim       actlim       totchr          age       female  \\\n",
       "count  3064.000000  3064.000000  3064.000000  3064.000000  3064.000000   \n",
       "mean      0.425587     0.283616     1.754243    74.171671     0.579634   \n",
       "std       0.494512     0.450826     1.307197     6.372938     0.493698   \n",
       "min       0.000000     0.000000     0.000000    65.000000     0.000000   \n",
       "25%       0.000000     0.000000     1.000000    69.000000     0.000000   \n",
       "50%       0.000000     0.000000     2.000000    73.000000     1.000000   \n",
       "75%       1.000000     1.000000     3.000000    79.000000     1.000000   \n",
       "max       1.000000     1.000000     7.000000    90.000000     1.000000   \n",
       "\n",
       "            income  \n",
       "count  3064.000000  \n",
       "mean     22.474722  \n",
       "std      22.534910  \n",
       "min      -1.000000  \n",
       "25%       9.594000  \n",
       "50%      15.506000  \n",
       "75%      27.922750  \n",
       "max     312.460000  "
      ]
     },
     "execution_count": 47,
     "metadata": {},
     "output_type": "execute_result"
    }
   ],
   "source": [
    "vl=['totexp','ltotexp','totexp','posexp','suppins','phylim','actlim','totchr','age','female','income']\n",
    "data[vl].describe()"
   ]
  },
  {
   "cell_type": "markdown",
   "metadata": {
    "slideshow": {
     "slide_type": "subslide"
    }
   },
   "source": [
    "- All variables have the expected range, except that income is negative.\n",
    "- To see how many observation on income are negative, we use the `value_count` method, restricting attention to nonpositive observations to limit output."
   ]
  },
  {
   "cell_type": "code",
   "execution_count": 48,
   "metadata": {
    "slideshow": {
     "slide_type": "fragment"
    }
   },
   "outputs": [
    {
     "data": {
      "text/plain": [
       " 0.0    87\n",
       "-1.0     1\n",
       "Name: income, dtype: int64"
      ]
     },
     "execution_count": 48,
     "metadata": {},
     "output_type": "execute_result"
    }
   ],
   "source": [
    "data[data.income<=0].income.value_counts()"
   ]
  },
  {
   "cell_type": "markdown",
   "metadata": {
    "slideshow": {
     "slide_type": "subslide"
    }
   },
   "source": [
    "- Two-way tables can be created by using `crosstab` function."
   ]
  },
  {
   "cell_type": "code",
   "execution_count": 49,
   "metadata": {
    "slideshow": {
     "slide_type": "fragment"
    }
   },
   "outputs": [
    {
     "data": {
      "text/html": [
       "<div>\n",
       "<style scoped>\n",
       "    .dataframe tbody tr th:only-of-type {\n",
       "        vertical-align: middle;\n",
       "    }\n",
       "\n",
       "    .dataframe tbody tr th {\n",
       "        vertical-align: top;\n",
       "    }\n",
       "\n",
       "    .dataframe thead th {\n",
       "        text-align: right;\n",
       "    }\n",
       "</style>\n",
       "<table border=\"1\" class=\"dataframe\">\n",
       "  <thead>\n",
       "    <tr style=\"text-align: right;\">\n",
       "      <th>totchr</th>\n",
       "      <th>0.0</th>\n",
       "      <th>1.0</th>\n",
       "      <th>2.0</th>\n",
       "      <th>3.0</th>\n",
       "      <th>4.0</th>\n",
       "      <th>5.0</th>\n",
       "      <th>6.0</th>\n",
       "      <th>7.0</th>\n",
       "    </tr>\n",
       "    <tr>\n",
       "      <th>female</th>\n",
       "      <th></th>\n",
       "      <th></th>\n",
       "      <th></th>\n",
       "      <th></th>\n",
       "      <th></th>\n",
       "      <th></th>\n",
       "      <th></th>\n",
       "      <th></th>\n",
       "    </tr>\n",
       "  </thead>\n",
       "  <tbody>\n",
       "    <tr>\n",
       "      <th>0.0</th>\n",
       "      <td>239</td>\n",
       "      <td>415</td>\n",
       "      <td>323</td>\n",
       "      <td>201</td>\n",
       "      <td>82</td>\n",
       "      <td>23</td>\n",
       "      <td>4</td>\n",
       "      <td>1</td>\n",
       "    </tr>\n",
       "    <tr>\n",
       "      <th>1.0</th>\n",
       "      <td>313</td>\n",
       "      <td>466</td>\n",
       "      <td>493</td>\n",
       "      <td>305</td>\n",
       "      <td>140</td>\n",
       "      <td>46</td>\n",
       "      <td>11</td>\n",
       "      <td>2</td>\n",
       "    </tr>\n",
       "  </tbody>\n",
       "</table>\n",
       "</div>"
      ],
      "text/plain": [
       "totchr  0.0  1.0  2.0  3.0  4.0  5.0  6.0  7.0\n",
       "female                                        \n",
       "0.0     239  415  323  201   82   23    4    1\n",
       "1.0     313  466  493  305  140   46   11    2"
      ]
     },
     "execution_count": 49,
     "metadata": {},
     "output_type": "execute_result"
    }
   ],
   "source": [
    "pd.crosstab(data.female, data.totchr)"
   ]
  },
  {
   "cell_type": "code",
   "execution_count": 50,
   "metadata": {
    "slideshow": {
     "slide_type": "fragment"
    }
   },
   "outputs": [
    {
     "data": {
      "text/html": [
       "<div>\n",
       "<style scoped>\n",
       "    .dataframe tbody tr th:only-of-type {\n",
       "        vertical-align: middle;\n",
       "    }\n",
       "\n",
       "    .dataframe tbody tr th {\n",
       "        vertical-align: top;\n",
       "    }\n",
       "\n",
       "    .dataframe thead th {\n",
       "        text-align: right;\n",
       "    }\n",
       "</style>\n",
       "<table border=\"1\" class=\"dataframe\">\n",
       "  <thead>\n",
       "    <tr style=\"text-align: right;\">\n",
       "      <th>suppins</th>\n",
       "      <th>0.0</th>\n",
       "      <th>1.0</th>\n",
       "      <th>All</th>\n",
       "    </tr>\n",
       "    <tr>\n",
       "      <th>female</th>\n",
       "      <th></th>\n",
       "      <th></th>\n",
       "      <th></th>\n",
       "    </tr>\n",
       "  </thead>\n",
       "  <tbody>\n",
       "    <tr>\n",
       "      <th>0.0</th>\n",
       "      <td>488</td>\n",
       "      <td>800</td>\n",
       "      <td>1288</td>\n",
       "    </tr>\n",
       "    <tr>\n",
       "      <th>1.0</th>\n",
       "      <td>795</td>\n",
       "      <td>981</td>\n",
       "      <td>1776</td>\n",
       "    </tr>\n",
       "    <tr>\n",
       "      <th>All</th>\n",
       "      <td>1283</td>\n",
       "      <td>1781</td>\n",
       "      <td>3064</td>\n",
       "    </tr>\n",
       "  </tbody>\n",
       "</table>\n",
       "</div>"
      ],
      "text/plain": [
       "suppins   0.0   1.0   All\n",
       "female                   \n",
       "0.0       488   800  1288\n",
       "1.0       795   981  1776\n",
       "All      1283  1781  3064"
      ]
     },
     "execution_count": 50,
     "metadata": {},
     "output_type": "execute_result"
    }
   ],
   "source": [
    "pd.crosstab(data.female, data.suppins,margins=True)"
   ]
  },
  {
   "cell_type": "markdown",
   "metadata": {
    "slideshow": {
     "slide_type": "subslide"
    }
   },
   "source": [
    "- For multiway tables, it is also best to use `crosstab`."
   ]
  },
  {
   "cell_type": "code",
   "execution_count": 51,
   "metadata": {
    "slideshow": {
     "slide_type": "fragment"
    }
   },
   "outputs": [
    {
     "data": {
      "text/html": [
       "<div>\n",
       "<style scoped>\n",
       "    .dataframe tbody tr th:only-of-type {\n",
       "        vertical-align: middle;\n",
       "    }\n",
       "\n",
       "    .dataframe tbody tr th {\n",
       "        vertical-align: top;\n",
       "    }\n",
       "\n",
       "    .dataframe thead th {\n",
       "        text-align: right;\n",
       "    }\n",
       "</style>\n",
       "<table border=\"1\" class=\"dataframe\">\n",
       "  <thead>\n",
       "    <tr style=\"text-align: right;\">\n",
       "      <th></th>\n",
       "      <th>totchr</th>\n",
       "      <th>0.0</th>\n",
       "      <th>1.0</th>\n",
       "      <th>2.0</th>\n",
       "      <th>3.0</th>\n",
       "      <th>4.0</th>\n",
       "      <th>5.0</th>\n",
       "      <th>6.0</th>\n",
       "      <th>7.0</th>\n",
       "    </tr>\n",
       "    <tr>\n",
       "      <th>suppins</th>\n",
       "      <th>female</th>\n",
       "      <th></th>\n",
       "      <th></th>\n",
       "      <th></th>\n",
       "      <th></th>\n",
       "      <th></th>\n",
       "      <th></th>\n",
       "      <th></th>\n",
       "      <th></th>\n",
       "    </tr>\n",
       "  </thead>\n",
       "  <tbody>\n",
       "    <tr>\n",
       "      <th rowspan=\"2\" valign=\"top\">0.0</th>\n",
       "      <th>0.0</th>\n",
       "      <td>102</td>\n",
       "      <td>165</td>\n",
       "      <td>121</td>\n",
       "      <td>68</td>\n",
       "      <td>25</td>\n",
       "      <td>6</td>\n",
       "      <td>1</td>\n",
       "      <td>0</td>\n",
       "    </tr>\n",
       "    <tr>\n",
       "      <th>1.0</th>\n",
       "      <td>135</td>\n",
       "      <td>212</td>\n",
       "      <td>233</td>\n",
       "      <td>134</td>\n",
       "      <td>56</td>\n",
       "      <td>22</td>\n",
       "      <td>1</td>\n",
       "      <td>2</td>\n",
       "    </tr>\n",
       "    <tr>\n",
       "      <th rowspan=\"2\" valign=\"top\">1.0</th>\n",
       "      <th>0.0</th>\n",
       "      <td>137</td>\n",
       "      <td>250</td>\n",
       "      <td>202</td>\n",
       "      <td>133</td>\n",
       "      <td>57</td>\n",
       "      <td>17</td>\n",
       "      <td>3</td>\n",
       "      <td>1</td>\n",
       "    </tr>\n",
       "    <tr>\n",
       "      <th>1.0</th>\n",
       "      <td>178</td>\n",
       "      <td>254</td>\n",
       "      <td>260</td>\n",
       "      <td>171</td>\n",
       "      <td>84</td>\n",
       "      <td>24</td>\n",
       "      <td>10</td>\n",
       "      <td>0</td>\n",
       "    </tr>\n",
       "  </tbody>\n",
       "</table>\n",
       "</div>"
      ],
      "text/plain": [
       "totchr          0.0  1.0  2.0  3.0  4.0  5.0  6.0  7.0\n",
       "suppins female                                        \n",
       "0.0     0.0     102  165  121   68   25    6    1    0\n",
       "        1.0     135  212  233  134   56   22    1    2\n",
       "1.0     0.0     137  250  202  133   57   17    3    1\n",
       "        1.0     178  254  260  171   84   24   10    0"
      ]
     },
     "execution_count": 51,
     "metadata": {},
     "output_type": "execute_result"
    }
   ],
   "source": [
    "pd.crosstab([data.suppins, data.female], data.totchr)"
   ]
  },
  {
   "cell_type": "markdown",
   "metadata": {
    "slideshow": {
     "slide_type": "subslide"
    }
   },
   "source": [
    "- The preceding tabulations will produce voluminous output if one of the variables being tabulated takes on many values.\n",
    "- Then it is much better to use `groupby` with the previous methods to present tables that give key summary statistics for that variable, such as the mean and standard deviation."
   ]
  },
  {
   "cell_type": "code",
   "execution_count": 52,
   "metadata": {
    "slideshow": {
     "slide_type": "fragment"
    }
   },
   "outputs": [
    {
     "data": {
      "text/html": [
       "<div>\n",
       "<style scoped>\n",
       "    .dataframe tbody tr th:only-of-type {\n",
       "        vertical-align: middle;\n",
       "    }\n",
       "\n",
       "    .dataframe tbody tr th {\n",
       "        vertical-align: top;\n",
       "    }\n",
       "\n",
       "    .dataframe thead th {\n",
       "        text-align: right;\n",
       "    }\n",
       "</style>\n",
       "<table border=\"1\" class=\"dataframe\">\n",
       "  <thead>\n",
       "    <tr style=\"text-align: right;\">\n",
       "      <th></th>\n",
       "      <th>count</th>\n",
       "      <th>mean</th>\n",
       "      <th>std</th>\n",
       "      <th>min</th>\n",
       "      <th>50%</th>\n",
       "      <th>max</th>\n",
       "    </tr>\n",
       "    <tr>\n",
       "      <th>female</th>\n",
       "      <th></th>\n",
       "      <th></th>\n",
       "      <th></th>\n",
       "      <th></th>\n",
       "      <th></th>\n",
       "      <th></th>\n",
       "    </tr>\n",
       "  </thead>\n",
       "  <tbody>\n",
       "    <tr>\n",
       "      <th>0.0</th>\n",
       "      <td>1288.0</td>\n",
       "      <td>1.659938</td>\n",
       "      <td>1.261175</td>\n",
       "      <td>0.0</td>\n",
       "      <td>1.0</td>\n",
       "      <td>7.0</td>\n",
       "    </tr>\n",
       "    <tr>\n",
       "      <th>1.0</th>\n",
       "      <td>1776.0</td>\n",
       "      <td>1.822635</td>\n",
       "      <td>1.335776</td>\n",
       "      <td>0.0</td>\n",
       "      <td>2.0</td>\n",
       "      <td>7.0</td>\n",
       "    </tr>\n",
       "  </tbody>\n",
       "</table>\n",
       "</div>"
      ],
      "text/plain": [
       "         count      mean       std  min  50%  max\n",
       "female                                           \n",
       "0.0     1288.0  1.659938  1.261175  0.0  1.0  7.0\n",
       "1.0     1776.0  1.822635  1.335776  0.0  2.0  7.0"
      ]
     },
     "execution_count": 52,
     "metadata": {},
     "output_type": "execute_result"
    }
   ],
   "source": [
    "data.groupby(['female']).totchr.describe(percentiles=[])"
   ]
  },
  {
   "cell_type": "code",
   "execution_count": 53,
   "metadata": {
    "slideshow": {
     "slide_type": "subslide"
    }
   },
   "outputs": [
    {
     "data": {
      "text/html": [
       "<div>\n",
       "<style scoped>\n",
       "    .dataframe tbody tr th:only-of-type {\n",
       "        vertical-align: middle;\n",
       "    }\n",
       "\n",
       "    .dataframe tbody tr th {\n",
       "        vertical-align: top;\n",
       "    }\n",
       "\n",
       "    .dataframe thead th {\n",
       "        text-align: right;\n",
       "    }\n",
       "</style>\n",
       "<table border=\"1\" class=\"dataframe\">\n",
       "  <thead>\n",
       "    <tr style=\"text-align: right;\">\n",
       "      <th></th>\n",
       "      <th></th>\n",
       "      <th>count</th>\n",
       "      <th>mean</th>\n",
       "    </tr>\n",
       "    <tr>\n",
       "      <th>female</th>\n",
       "      <th>suppins</th>\n",
       "      <th></th>\n",
       "      <th></th>\n",
       "    </tr>\n",
       "  </thead>\n",
       "  <tbody>\n",
       "    <tr>\n",
       "      <th rowspan=\"2\" valign=\"top\">0.0</th>\n",
       "      <th>0.0</th>\n",
       "      <td>488</td>\n",
       "      <td>1.530738</td>\n",
       "    </tr>\n",
       "    <tr>\n",
       "      <th>1.0</th>\n",
       "      <td>800</td>\n",
       "      <td>1.738750</td>\n",
       "    </tr>\n",
       "    <tr>\n",
       "      <th rowspan=\"2\" valign=\"top\">1.0</th>\n",
       "      <th>0.0</th>\n",
       "      <td>795</td>\n",
       "      <td>1.803774</td>\n",
       "    </tr>\n",
       "    <tr>\n",
       "      <th>1.0</th>\n",
       "      <td>981</td>\n",
       "      <td>1.837920</td>\n",
       "    </tr>\n",
       "  </tbody>\n",
       "</table>\n",
       "</div>"
      ],
      "text/plain": [
       "                count      mean\n",
       "female suppins                 \n",
       "0.0    0.0        488  1.530738\n",
       "       1.0        800  1.738750\n",
       "1.0    0.0        795  1.803774\n",
       "       1.0        981  1.837920"
      ]
     },
     "execution_count": 53,
     "metadata": {},
     "output_type": "execute_result"
    }
   ],
   "source": [
    "data.groupby(['female','suppins']).totchr.agg(['count','mean'])"
   ]
  },
  {
   "cell_type": "markdown",
   "metadata": {
    "slideshow": {
     "slide_type": "subslide"
    }
   },
   "source": [
    "- It is useful to plot a histogram or a density estimate of the dependent variable.\n",
    "- Here we use the `DataFrame.plot.kde` method, which provides a kernel estimate of the density."
   ]
  },
  {
   "cell_type": "code",
   "execution_count": 54,
   "metadata": {
    "slideshow": {
     "slide_type": "subslide"
    }
   },
   "outputs": [
    {
     "data": {
      "image/png": "[encoded data removed]",
      "text/plain": [
       "<Figure size 432x288 with 1 Axes>"
      ]
     },
     "metadata": {
      "needs_background": "light"
     },
     "output_type": "display_data"
    }
   ],
   "source": [
    "d=data[data.posexp==1].totexp\n",
    "d.plot.kde(xlim=(0,40000));"
   ]
  },
  {
   "cell_type": "code",
   "execution_count": 55,
   "metadata": {
    "slideshow": {
     "slide_type": "subslide"
    }
   },
   "outputs": [
    {
     "data": {
      "image/png": "[encoded data removed]",
      "text/plain": [
       "<Figure size 432x288 with 1 Axes>"
      ]
     },
     "metadata": {
      "needs_background": "light"
     },
     "output_type": "display_data"
    }
   ],
   "source": [
    "d=data[data.posexp==1].ltotexp\n",
    "d.plot.kde(xlim=(0,np.log(40000)));"
   ]
  },
  {
   "cell_type": "markdown",
   "metadata": {
    "slideshow": {
     "slide_type": "slide"
    }
   },
   "source": [
    "## Basic regression analysis\n",
    "\n",
    "- We use `statsmodels` package to do all kinds of regressions.\n",
    "- For OLS, we use `ols` function to run a regression of the natural logarithm of medical expenditures, `ltotexp`, on `suppins` and several demographic and health-status measures.\n",
    "- Before regression, it can be useful to investigate pairwise correlations of the depedent variables and key regressor variables by using `corr`."
   ]
  },
  {
   "cell_type": "code",
   "execution_count": 56,
   "metadata": {
    "run_control": {
     "marked": false
    },
    "scrolled": false,
    "slideshow": {
     "slide_type": "subslide"
    }
   },
   "outputs": [
    {
     "data": {
      "text/html": [
       "<div>\n",
       "<style scoped>\n",
       "    .dataframe tbody tr th:only-of-type {\n",
       "        vertical-align: middle;\n",
       "    }\n",
       "\n",
       "    .dataframe tbody tr th {\n",
       "        vertical-align: top;\n",
       "    }\n",
       "\n",
       "    .dataframe thead th {\n",
       "        text-align: right;\n",
       "    }\n",
       "</style>\n",
       "<table border=\"1\" class=\"dataframe\">\n",
       "  <thead>\n",
       "    <tr style=\"text-align: right;\">\n",
       "      <th></th>\n",
       "      <th>ltotexp</th>\n",
       "      <th>suppins</th>\n",
       "      <th>phylim</th>\n",
       "      <th>actlim</th>\n",
       "      <th>totchr</th>\n",
       "      <th>age</th>\n",
       "      <th>female</th>\n",
       "      <th>income</th>\n",
       "    </tr>\n",
       "  </thead>\n",
       "  <tbody>\n",
       "    <tr>\n",
       "      <th>ltotexp</th>\n",
       "      <td>1.000000</td>\n",
       "      <td>0.094113</td>\n",
       "      <td>0.292367</td>\n",
       "      <td>0.288843</td>\n",
       "      <td>0.428338</td>\n",
       "      <td>0.085803</td>\n",
       "      <td>-0.005838</td>\n",
       "      <td>0.002263</td>\n",
       "    </tr>\n",
       "    <tr>\n",
       "      <th>suppins</th>\n",
       "      <td>0.094113</td>\n",
       "      <td>1.000000</td>\n",
       "      <td>-0.009327</td>\n",
       "      <td>-0.060350</td>\n",
       "      <td>0.035276</td>\n",
       "      <td>-0.113865</td>\n",
       "      <td>-0.068790</td>\n",
       "      <td>0.201287</td>\n",
       "    </tr>\n",
       "    <tr>\n",
       "      <th>phylim</th>\n",
       "      <td>0.292367</td>\n",
       "      <td>-0.009327</td>\n",
       "      <td>1.000000</td>\n",
       "      <td>0.591868</td>\n",
       "      <td>0.346196</td>\n",
       "      <td>0.258793</td>\n",
       "      <td>0.095155</td>\n",
       "      <td>-0.106170</td>\n",
       "    </tr>\n",
       "    <tr>\n",
       "      <th>actlim</th>\n",
       "      <td>0.288843</td>\n",
       "      <td>-0.060350</td>\n",
       "      <td>0.591868</td>\n",
       "      <td>1.000000</td>\n",
       "      <td>0.326613</td>\n",
       "      <td>0.238608</td>\n",
       "      <td>0.048842</td>\n",
       "      <td>-0.143322</td>\n",
       "    </tr>\n",
       "    <tr>\n",
       "      <th>totchr</th>\n",
       "      <td>0.428338</td>\n",
       "      <td>0.035276</td>\n",
       "      <td>0.346196</td>\n",
       "      <td>0.326613</td>\n",
       "      <td>1.000000</td>\n",
       "      <td>0.100650</td>\n",
       "      <td>0.061447</td>\n",
       "      <td>-0.065237</td>\n",
       "    </tr>\n",
       "    <tr>\n",
       "      <th>age</th>\n",
       "      <td>0.085803</td>\n",
       "      <td>-0.113865</td>\n",
       "      <td>0.258793</td>\n",
       "      <td>0.238608</td>\n",
       "      <td>0.100650</td>\n",
       "      <td>1.000000</td>\n",
       "      <td>0.081986</td>\n",
       "      <td>-0.152384</td>\n",
       "    </tr>\n",
       "    <tr>\n",
       "      <th>female</th>\n",
       "      <td>-0.005838</td>\n",
       "      <td>-0.068790</td>\n",
       "      <td>0.095155</td>\n",
       "      <td>0.048842</td>\n",
       "      <td>0.061447</td>\n",
       "      <td>0.081986</td>\n",
       "      <td>1.000000</td>\n",
       "      <td>-0.128821</td>\n",
       "    </tr>\n",
       "    <tr>\n",
       "      <th>income</th>\n",
       "      <td>0.002263</td>\n",
       "      <td>0.201287</td>\n",
       "      <td>-0.106170</td>\n",
       "      <td>-0.143322</td>\n",
       "      <td>-0.065237</td>\n",
       "      <td>-0.152384</td>\n",
       "      <td>-0.128821</td>\n",
       "      <td>1.000000</td>\n",
       "    </tr>\n",
       "  </tbody>\n",
       "</table>\n",
       "</div>"
      ],
      "text/plain": [
       "          ltotexp   suppins    phylim    actlim    totchr       age    female  \\\n",
       "ltotexp  1.000000  0.094113  0.292367  0.288843  0.428338  0.085803 -0.005838   \n",
       "suppins  0.094113  1.000000 -0.009327 -0.060350  0.035276 -0.113865 -0.068790   \n",
       "phylim   0.292367 -0.009327  1.000000  0.591868  0.346196  0.258793  0.095155   \n",
       "actlim   0.288843 -0.060350  0.591868  1.000000  0.326613  0.238608  0.048842   \n",
       "totchr   0.428338  0.035276  0.346196  0.326613  1.000000  0.100650  0.061447   \n",
       "age      0.085803 -0.113865  0.258793  0.238608  0.100650  1.000000  0.081986   \n",
       "female  -0.005838 -0.068790  0.095155  0.048842  0.061447  0.081986  1.000000   \n",
       "income   0.002263  0.201287 -0.106170 -0.143322 -0.065237 -0.152384 -0.128821   \n",
       "\n",
       "           income  \n",
       "ltotexp  0.002263  \n",
       "suppins  0.201287  \n",
       "phylim  -0.106170  \n",
       "actlim  -0.143322  \n",
       "totchr  -0.065237  \n",
       "age     -0.152384  \n",
       "female  -0.128821  \n",
       "income   1.000000  "
      ]
     },
     "execution_count": 56,
     "metadata": {},
     "output_type": "execute_result"
    }
   ],
   "source": [
    "vl=['ltotexp','suppins','phylim','actlim','totchr','age','female','income']\n",
    "data[vl].corr()"
   ]
  },
  {
   "cell_type": "markdown",
   "metadata": {
    "slideshow": {
     "slide_type": "subslide"
    }
   },
   "source": [
    "- The `ols` method performs OLS regression and yields three tables, which includes most information we need.\n",
    "- For independent cross-section data, the standard approach is to use the `cov_type` parameters for `fit` function, which gives standard errors that are valid even if model errors are heteroskedastic."
   ]
  },
  {
   "cell_type": "code",
   "execution_count": 57,
   "metadata": {
    "scrolled": false,
    "slideshow": {
     "slide_type": "subslide"
    }
   },
   "outputs": [
    {
     "data": {
      "text/html": [
       "<table class=\"simpletable\">\n",
       "<caption>OLS Regression Results</caption>\n",
       "<tr>\n",
       "  <th>Dep. Variable:</th>         <td>ltotexp</td>     <th>  R-squared:         </th> <td>   0.229</td> \n",
       "</tr>\n",
       "<tr>\n",
       "  <th>Model:</th>                   <td>OLS</td>       <th>  Adj. R-squared:    </th> <td>   0.227</td> \n",
       "</tr>\n",
       "<tr>\n",
       "  <th>Method:</th>             <td>Least Squares</td>  <th>  F-statistic:       </th> <td>   127.0</td> \n",
       "</tr>\n",
       "<tr>\n",
       "  <th>Date:</th>             <td>Fri, 21 Jun 2019</td> <th>  Prob (F-statistic):</th> <td>1.36e-163</td>\n",
       "</tr>\n",
       "<tr>\n",
       "  <th>Time:</th>                 <td>10:50:19</td>     <th>  Log-Likelihood:    </th> <td> -4733.4</td> \n",
       "</tr>\n",
       "<tr>\n",
       "  <th>No. Observations:</th>      <td>  2955</td>      <th>  AIC:               </th> <td>   9483.</td> \n",
       "</tr>\n",
       "<tr>\n",
       "  <th>Df Residuals:</th>          <td>  2947</td>      <th>  BIC:               </th> <td>   9531.</td> \n",
       "</tr>\n",
       "<tr>\n",
       "  <th>Df Model:</th>              <td>     7</td>      <th>                     </th>     <td> </td>    \n",
       "</tr>\n",
       "<tr>\n",
       "  <th>Covariance Type:</th>         <td>HC1</td>       <th>                     </th>     <td> </td>    \n",
       "</tr>\n",
       "</table>\n",
       "<table class=\"simpletable\">\n",
       "<tr>\n",
       "      <td></td>         <th>coef</th>     <th>std err</th>      <th>z</th>      <th>P>|z|</th>  <th>[0.025</th>    <th>0.975]</th>  \n",
       "</tr>\n",
       "<tr>\n",
       "  <th>Intercept</th> <td>    6.7037</td> <td>    0.283</td> <td>   23.724</td> <td> 0.000</td> <td>    6.150</td> <td>    7.258</td>\n",
       "</tr>\n",
       "<tr>\n",
       "  <th>suppins</th>   <td>    0.2556</td> <td>    0.047</td> <td>    5.486</td> <td> 0.000</td> <td>    0.164</td> <td>    0.347</td>\n",
       "</tr>\n",
       "<tr>\n",
       "  <th>phylim</th>    <td>    0.3021</td> <td>    0.058</td> <td>    5.235</td> <td> 0.000</td> <td>    0.189</td> <td>    0.415</td>\n",
       "</tr>\n",
       "<tr>\n",
       "  <th>actlim</th>    <td>    0.3560</td> <td>    0.063</td> <td>    5.615</td> <td> 0.000</td> <td>    0.232</td> <td>    0.480</td>\n",
       "</tr>\n",
       "<tr>\n",
       "  <th>totchr</th>    <td>    0.3758</td> <td>    0.019</td> <td>   20.077</td> <td> 0.000</td> <td>    0.339</td> <td>    0.413</td>\n",
       "</tr>\n",
       "<tr>\n",
       "  <th>age</th>       <td>    0.0038</td> <td>    0.004</td> <td>    1.027</td> <td> 0.305</td> <td>   -0.003</td> <td>    0.011</td>\n",
       "</tr>\n",
       "<tr>\n",
       "  <th>female</th>    <td>   -0.0843</td> <td>    0.046</td> <td>   -1.847</td> <td> 0.065</td> <td>   -0.174</td> <td>    0.005</td>\n",
       "</tr>\n",
       "<tr>\n",
       "  <th>income</th>    <td>    0.0025</td> <td>    0.001</td> <td>    2.436</td> <td> 0.015</td> <td>    0.000</td> <td>    0.005</td>\n",
       "</tr>\n",
       "</table>\n",
       "<table class=\"simpletable\">\n",
       "<tr>\n",
       "  <th>Omnibus:</th>       <td>85.373</td> <th>  Durbin-Watson:     </th> <td>   0.451</td>\n",
       "</tr>\n",
       "<tr>\n",
       "  <th>Prob(Omnibus):</th> <td> 0.000</td> <th>  Jarque-Bera (JB):  </th> <td> 142.377</td>\n",
       "</tr>\n",
       "<tr>\n",
       "  <th>Skew:</th>          <td>-0.253</td> <th>  Prob(JB):          </th> <td>1.21e-31</td>\n",
       "</tr>\n",
       "<tr>\n",
       "  <th>Kurtosis:</th>      <td> 3.949</td> <th>  Cond. No.          </th> <td>    979.</td>\n",
       "</tr>\n",
       "</table><br/><br/>Warnings:<br/>[1] Standard Errors are heteroscedasticity robust (HC1)"
      ],
      "text/plain": [
       "<class 'statsmodels.iolib.summary.Summary'>\n",
       "\"\"\"\n",
       "                            OLS Regression Results                            \n",
       "==============================================================================\n",
       "Dep. Variable:                ltotexp   R-squared:                       0.229\n",
       "Model:                            OLS   Adj. R-squared:                  0.227\n",
       "Method:                 Least Squares   F-statistic:                     127.0\n",
       "Date:                Fri, 21 Jun 2019   Prob (F-statistic):          1.36e-163\n",
       "Time:                        10:50:19   Log-Likelihood:                -4733.4\n",
       "No. Observations:                2955   AIC:                             9483.\n",
       "Df Residuals:                    2947   BIC:                             9531.\n",
       "Df Model:                           7                                         \n",
       "Covariance Type:                  HC1                                         \n",
       "==============================================================================\n",
       "                 coef    std err          z      P>|z|      [0.025      0.975]\n",
       "------------------------------------------------------------------------------\n",
       "Intercept      6.7037      0.283     23.724      0.000       6.150       7.258\n",
       "suppins        0.2556      0.047      5.486      0.000       0.164       0.347\n",
       "phylim         0.3021      0.058      5.235      0.000       0.189       0.415\n",
       "actlim         0.3560      0.063      5.615      0.000       0.232       0.480\n",
       "totchr         0.3758      0.019     20.077      0.000       0.339       0.413\n",
       "age            0.0038      0.004      1.027      0.305      -0.003       0.011\n",
       "female        -0.0843      0.046     -1.847      0.065      -0.174       0.005\n",
       "income         0.0025      0.001      2.436      0.015       0.000       0.005\n",
       "==============================================================================\n",
       "Omnibus:                       85.373   Durbin-Watson:                   0.451\n",
       "Prob(Omnibus):                  0.000   Jarque-Bera (JB):              142.377\n",
       "Skew:                          -0.253   Prob(JB):                     1.21e-31\n",
       "Kurtosis:                       3.949   Cond. No.                         979.\n",
       "==============================================================================\n",
       "\n",
       "Warnings:\n",
       "[1] Standard Errors are heteroscedasticity robust (HC1)\n",
       "\"\"\""
      ]
     },
     "execution_count": 57,
     "metadata": {},
     "output_type": "execute_result"
    }
   ],
   "source": [
    "f='ltotexp~suppins+phylim+actlim+totchr+age+female+income'\n",
    "res=smf.ols(formula=f,data=data).fit(cov_type='HC1')\n",
    "res.summary()"
   ]
  },
  {
   "cell_type": "markdown",
   "metadata": {
    "slideshow": {
     "slide_type": "subslide"
    }
   },
   "source": [
    "- The `wald_test` methods performs hypothesis tests using the Wald test procedure that uses the estimated model coefficients.\n",
    "- A common test is one of equality of coefficients."
   ]
  },
  {
   "cell_type": "code",
   "execution_count": 58,
   "metadata": {
    "slideshow": {
     "slide_type": "fragment"
    }
   },
   "outputs": [
    {
     "data": {
      "text/plain": [
       "<class 'statsmodels.stats.contrast.ContrastResults'>\n",
       "<Wald test (chi2): statistic=[[0.26704764]], p-value=0.6053191494165701, df_denom=1>"
      ]
     },
     "execution_count": 58,
     "metadata": {},
     "output_type": "execute_result"
    }
   ],
   "source": [
    "res.wald_test('phylim=actlim')"
   ]
  },
  {
   "cell_type": "markdown",
   "metadata": {
    "slideshow": {
     "slide_type": "subslide"
    }
   },
   "source": [
    "- Another common test is one of the joint statistical significance of a subset of the regressors."
   ]
  },
  {
   "cell_type": "code",
   "execution_count": 59,
   "metadata": {
    "slideshow": {
     "slide_type": "fragment"
    }
   },
   "outputs": [
    {
     "data": {
      "text/plain": [
       "<class 'statsmodels.stats.contrast.ContrastResults'>\n",
       "<F test: F=array([[272.36086188]]), p=5.051920297189521e-156, df_denom=2947, df_num=3>"
      ]
     },
     "execution_count": 59,
     "metadata": {},
     "output_type": "execute_result"
    }
   ],
   "source": [
    "res.f_test('phylim=0,actlim=0,totchr=0')"
   ]
  },
  {
   "cell_type": "markdown",
   "metadata": {
    "slideshow": {
     "slide_type": "subslide"
    }
   },
   "source": [
    "- It is very useful to be able to tabulate key results from multiple regressions for both one's own analysis and final report writing.\n",
    "- We compare the original regression model with a variant that replaces `income` with `educyr`.\n",
    "- The example uses several of the available options for `summary_col`."
   ]
  },
  {
   "cell_type": "code",
   "execution_count": 60,
   "metadata": {
    "scrolled": false,
    "slideshow": {
     "slide_type": "subslide"
    }
   },
   "outputs": [
    {
     "data": {
      "text/html": [
       "<table class=\"simpletable\">\n",
       "<tr>\n",
       "          <td></td>           <th>Reg 1</th>     <th>Reg 2</th>  \n",
       "</tr>\n",
       "<tr>\n",
       "  <th>suppins</th>          <td>0.2556***</td> <td>0.2063***</td>\n",
       "</tr>\n",
       "<tr>\n",
       "  <th></th>                 <td>(0.0466)</td>  <td>(0.0471)</td> \n",
       "</tr>\n",
       "<tr>\n",
       "  <th>income</th>           <td>0.0025**</td>      <td></td>     \n",
       "</tr>\n",
       "<tr>\n",
       "  <th></th>                 <td>(0.0010)</td>      <td></td>     \n",
       "</tr>\n",
       "<tr>\n",
       "  <th>educyr</th>               <td></td>      <td>0.0480***</td>\n",
       "</tr>\n",
       "<tr>\n",
       "  <th></th>                     <td></td>      <td>(0.0070)</td> \n",
       "</tr>\n",
       "<tr>\n",
       "  <th>No. observations</th>   <td>2955</td>      <td>2955</td>   \n",
       "</tr>\n",
       "<tr>\n",
       "  <th>R-squared</th>         <td>0.2289</td>    <td>0.2406</td>  \n",
       "</tr>\n",
       "<tr>\n",
       "  <th>F stats</th>          <td>126.9723</td>  <td>132.5337</td> \n",
       "</tr>\n",
       "</table>"
      ],
      "text/plain": [
       "<class 'statsmodels.iolib.summary2.Summary'>\n",
       "\"\"\"\n",
       "\n",
       "====================================\n",
       "                   Reg 1     Reg 2  \n",
       "------------------------------------\n",
       "suppins          0.2556*** 0.2063***\n",
       "                 (0.0466)  (0.0471) \n",
       "income           0.0025**           \n",
       "                 (0.0010)           \n",
       "educyr                     0.0480***\n",
       "                           (0.0070) \n",
       "No. observations 2955      2955     \n",
       "R-squared        0.2289    0.2406   \n",
       "F stats          126.9723  132.5337 \n",
       "====================================\n",
       "Standard errors in parentheses.\n",
       "* p<.1, ** p<.05, ***p<.01\n",
       "\"\"\""
      ]
     },
     "execution_count": 60,
     "metadata": {},
     "output_type": "execute_result"
    }
   ],
   "source": [
    "f1='ltotexp~suppins+phylim+actlim+totchr+age+female+educyr'\n",
    "res1=smf.ols(formula=f1,data=data).fit(cov_type='HC1')\n",
    "\n",
    "from statsmodels.iolib.summary2 import summary_col\n",
    "\n",
    "info_dict={'No. observations' : lambda x: f\"{int(x.nobs):d}\", 'R-squared' : lambda x: f\"{x.rsquared:.4f}\", 'F stats': lambda x: f\"{x.fvalue[0][0]:.4f}\"}\n",
    "summary_col(results=[res,res1], stars = True, model_names=['Reg 1', 'Reg 2'], info_dict=info_dict, regressor_order=['suppins','income','educyr'], drop_omitted=True)"
   ]
  },
  {
   "cell_type": "markdown",
   "metadata": {
    "slideshow": {
     "slide_type": "subslide"
    }
   },
   "source": [
    "- Suppose we wish to add as regressors to the regression model a set of indicator variables for family size and this set of indicator interacted with income."
   ]
  },
  {
   "cell_type": "code",
   "execution_count": 61,
   "metadata": {
    "scrolled": false,
    "slideshow": {
     "slide_type": "subslide"
    }
   },
   "outputs": [
    {
     "name": "stderr",
     "output_type": "stream",
     "text": [
      "C:\\Users\\bayes\\Anaconda3\\lib\\site-packages\\statsmodels\\base\\model.py:1532: ValueWarning: covariance of constraints does not have full rank. The number of constraints is 25, but rank is 22\n",
      "  'rank is %d' % (J, J_), ValueWarning)\n"
     ]
    },
    {
     "data": {
      "text/html": [
       "<table class=\"simpletable\">\n",
       "<tr>\n",
       "              <td></td>                <th>coef</th>     <th>std err</th>      <th>z</th>      <th>P>|z|</th>  <th>[0.025</th>    <th>0.975]</th>  \n",
       "</tr>\n",
       "<tr>\n",
       "  <th>Intercept</th>                <td>    6.7481</td> <td>    0.301</td> <td>   22.452</td> <td> 0.000</td> <td>    6.159</td> <td>    7.337</td>\n",
       "</tr>\n",
       "<tr>\n",
       "  <th>C(famsze)[T.2.0]</th>         <td>    0.0759</td> <td>    0.072</td> <td>    1.050</td> <td> 0.294</td> <td>   -0.066</td> <td>    0.218</td>\n",
       "</tr>\n",
       "<tr>\n",
       "  <th>C(famsze)[T.3.0]</th>         <td>   -0.2180</td> <td>    0.131</td> <td>   -1.664</td> <td> 0.096</td> <td>   -0.475</td> <td>    0.039</td>\n",
       "</tr>\n",
       "<tr>\n",
       "  <th>C(famsze)[T.4.0]</th>         <td>   -0.2928</td> <td>    0.198</td> <td>   -1.476</td> <td> 0.140</td> <td>   -0.682</td> <td>    0.096</td>\n",
       "</tr>\n",
       "<tr>\n",
       "  <th>C(famsze)[T.5.0]</th>         <td>    0.3940</td> <td>    0.450</td> <td>    0.875</td> <td> 0.381</td> <td>   -0.488</td> <td>    1.276</td>\n",
       "</tr>\n",
       "<tr>\n",
       "  <th>C(famsze)[T.6.0]</th>         <td>   -0.3438</td> <td>    0.452</td> <td>   -0.760</td> <td> 0.447</td> <td>   -1.231</td> <td>    0.543</td>\n",
       "</tr>\n",
       "<tr>\n",
       "  <th>C(famsze)[T.7.0]</th>         <td>   -1.1018</td> <td>    0.505</td> <td>   -2.183</td> <td> 0.029</td> <td>   -2.091</td> <td>   -0.113</td>\n",
       "</tr>\n",
       "<tr>\n",
       "  <th>C(famsze)[T.8.0]</th>         <td>    0.0021</td> <td>    0.001</td> <td>    3.459</td> <td> 0.001</td> <td>    0.001</td> <td>    0.003</td>\n",
       "</tr>\n",
       "<tr>\n",
       "  <th>C(famsze)[T.10.0]</th>        <td>    1.4830</td> <td>    0.298</td> <td>    4.983</td> <td> 0.000</td> <td>    0.900</td> <td>    2.066</td>\n",
       "</tr>\n",
       "<tr>\n",
       "  <th>C(famsze)[T.13.0]</th>        <td>   -0.0153</td> <td>    0.001</td> <td>  -26.303</td> <td> 0.000</td> <td>   -0.016</td> <td>   -0.014</td>\n",
       "</tr>\n",
       "<tr>\n",
       "  <th>suppins</th>                  <td>    0.2394</td> <td>    0.047</td> <td>    5.128</td> <td> 0.000</td> <td>    0.148</td> <td>    0.331</td>\n",
       "</tr>\n",
       "<tr>\n",
       "  <th>phylim</th>                   <td>    0.3053</td> <td>    0.058</td> <td>    5.301</td> <td> 0.000</td> <td>    0.192</td> <td>    0.418</td>\n",
       "</tr>\n",
       "<tr>\n",
       "  <th>actlim</th>                   <td>    0.3465</td> <td>    0.063</td> <td>    5.485</td> <td> 0.000</td> <td>    0.223</td> <td>    0.470</td>\n",
       "</tr>\n",
       "<tr>\n",
       "  <th>totchr</th>                   <td>    0.3744</td> <td>    0.019</td> <td>   19.915</td> <td> 0.000</td> <td>    0.338</td> <td>    0.411</td>\n",
       "</tr>\n",
       "<tr>\n",
       "  <th>age</th>                      <td>    0.0031</td> <td>    0.004</td> <td>    0.832</td> <td> 0.405</td> <td>   -0.004</td> <td>    0.011</td>\n",
       "</tr>\n",
       "<tr>\n",
       "  <th>female</th>                   <td>   -0.0726</td> <td>    0.048</td> <td>   -1.528</td> <td> 0.127</td> <td>   -0.166</td> <td>    0.021</td>\n",
       "</tr>\n",
       "<tr>\n",
       "  <th>income</th>                   <td>    0.0028</td> <td>    0.002</td> <td>    1.789</td> <td> 0.074</td> <td>   -0.000</td> <td>    0.006</td>\n",
       "</tr>\n",
       "<tr>\n",
       "  <th>income:C(famsze)[T.2.0]</th>  <td>   -0.0013</td> <td>    0.002</td> <td>   -0.623</td> <td> 0.533</td> <td>   -0.005</td> <td>    0.003</td>\n",
       "</tr>\n",
       "<tr>\n",
       "  <th>income:C(famsze)[T.3.0]</th>  <td>    0.0041</td> <td>    0.004</td> <td>    1.048</td> <td> 0.295</td> <td>   -0.004</td> <td>    0.012</td>\n",
       "</tr>\n",
       "<tr>\n",
       "  <th>income:C(famsze)[T.4.0]</th>  <td>    0.0161</td> <td>    0.008</td> <td>    1.928</td> <td> 0.054</td> <td>   -0.000</td> <td>    0.032</td>\n",
       "</tr>\n",
       "<tr>\n",
       "  <th>income:C(famsze)[T.5.0]</th>  <td>   -0.0251</td> <td>    0.018</td> <td>   -1.428</td> <td> 0.153</td> <td>   -0.060</td> <td>    0.009</td>\n",
       "</tr>\n",
       "<tr>\n",
       "  <th>income:C(famsze)[T.6.0]</th>  <td>    0.0280</td> <td>    0.023</td> <td>    1.230</td> <td> 0.219</td> <td>   -0.017</td> <td>    0.073</td>\n",
       "</tr>\n",
       "<tr>\n",
       "  <th>income:C(famsze)[T.7.0]</th>  <td>   -0.0324</td> <td>    0.028</td> <td>   -1.161</td> <td> 0.246</td> <td>   -0.087</td> <td>    0.022</td>\n",
       "</tr>\n",
       "<tr>\n",
       "  <th>income:C(famsze)[T.8.0]</th>  <td>    0.0214</td> <td>    0.006</td> <td>    3.459</td> <td> 0.001</td> <td>    0.009</td> <td>    0.034</td>\n",
       "</tr>\n",
       "<tr>\n",
       "  <th>income:C(famsze)[T.10.0]</th> <td>   -0.1759</td> <td>    0.017</td> <td>  -10.367</td> <td> 0.000</td> <td>   -0.209</td> <td>   -0.143</td>\n",
       "</tr>\n",
       "<tr>\n",
       "  <th>income:C(famsze)[T.13.0]</th> <td>   -0.1688</td> <td>    0.006</td> <td>  -26.303</td> <td> 0.000</td> <td>   -0.181</td> <td>   -0.156</td>\n",
       "</tr>\n",
       "</table>"
      ],
      "text/plain": [
       "<class 'statsmodels.iolib.table.SimpleTable'>"
      ]
     },
     "execution_count": 61,
     "metadata": {},
     "output_type": "execute_result"
    }
   ],
   "source": [
    "f='ltotexp~suppins+phylim+actlim+totchr+age+female+income*C(famsze)'\n",
    "res2=smf.ols(formula=f,data=data).fit(cov_type='HC1')\n",
    "res2.summary().tables[1]"
   ]
  },
  {
   "cell_type": "markdown",
   "metadata": {
    "slideshow": {
     "slide_type": "slide"
    }
   },
   "source": [
    "## Specification Analysis\n",
    "\n",
    "- Before interpreting the results, it is useful to subject this regression to some additional scrutiny because a badly misspecification model may lead to erroneous inference.\n",
    "- In microeconometrics, the most common approach to deciding on the adequacy of a model is a Wald-test approach that fits a richer model and determines whether the data support the need for a richer model."
   ]
  },
  {
   "cell_type": "markdown",
   "metadata": {
    "slideshow": {
     "slide_type": "subslide"
    }
   },
   "source": [
    "- Diagnostic plots are used less in microeconometrics than in some other branches of statistics.\n",
    "- Here we consider various residual plots that can aid in outlier detection, where an outlier is an observation poorly predicted by the model.\n",
    "- One way to do this is to plot the residuals $\\hat{u}_i = y_i - \\hat{y}_i$ against the fitted values $\\hat{y}_i = x_i'\\hat{\\beta}$."
   ]
  },
  {
   "cell_type": "code",
   "execution_count": 62,
   "metadata": {
    "slideshow": {
     "slide_type": "subslide"
    }
   },
   "outputs": [
    {
     "data": {
      "image/png": "[encoded data removed]",
      "text/plain": [
       "<Figure size 432x288 with 1 Axes>"
      ]
     },
     "metadata": {
      "needs_background": "light"
     },
     "output_type": "display_data"
    }
   ],
   "source": [
    "sns.scatterplot(res.fittedvalues,res.resid);"
   ]
  },
  {
   "cell_type": "code",
   "execution_count": 63,
   "metadata": {
    "slideshow": {
     "slide_type": "subslide"
    }
   },
   "outputs": [
    {
     "data": {
      "text/html": [
       "<div>\n",
       "<style scoped>\n",
       "    .dataframe tbody tr th:only-of-type {\n",
       "        vertical-align: middle;\n",
       "    }\n",
       "\n",
       "    .dataframe tbody tr th {\n",
       "        vertical-align: top;\n",
       "    }\n",
       "\n",
       "    .dataframe thead th {\n",
       "        text-align: right;\n",
       "    }\n",
       "</style>\n",
       "<table border=\"1\" class=\"dataframe\">\n",
       "  <thead>\n",
       "    <tr style=\"text-align: right;\">\n",
       "      <th></th>\n",
       "      <th>totexp</th>\n",
       "      <th>ltotexp</th>\n",
       "      <th>yhat</th>\n",
       "      <th>uhat</th>\n",
       "    </tr>\n",
       "  </thead>\n",
       "  <tbody>\n",
       "    <tr>\n",
       "      <th>0</th>\n",
       "      <td>3.0</td>\n",
       "      <td>1.098612</td>\n",
       "      <td>7.254340</td>\n",
       "      <td>-6.155728</td>\n",
       "    </tr>\n",
       "    <tr>\n",
       "      <th>1</th>\n",
       "      <td>6.0</td>\n",
       "      <td>1.791759</td>\n",
       "      <td>7.513357</td>\n",
       "      <td>-5.721598</td>\n",
       "    </tr>\n",
       "    <tr>\n",
       "      <th>2</th>\n",
       "      <td>9.0</td>\n",
       "      <td>2.197225</td>\n",
       "      <td>7.631211</td>\n",
       "      <td>-5.433987</td>\n",
       "    </tr>\n",
       "  </tbody>\n",
       "</table>\n",
       "</div>"
      ],
      "text/plain": [
       "   totexp   ltotexp      yhat      uhat\n",
       "0     3.0  1.098612  7.254340 -6.155728\n",
       "1     6.0  1.791759  7.513357 -5.721598\n",
       "2     9.0  2.197225  7.631211 -5.433987"
      ]
     },
     "execution_count": 63,
     "metadata": {},
     "output_type": "execute_result"
    }
   ],
   "source": [
    "d=pd.concat([data[['totexp','ltotexp']],res.fittedvalues,res.resid],axis=1)\n",
    "d.columns=['totexp','ltotexp','yhat','uhat']\n",
    "d[d.uhat<-5]"
   ]
  },
  {
   "cell_type": "markdown",
   "metadata": {
    "slideshow": {
     "slide_type": "subslide"
    }
   },
   "source": [
    "- Some observations may have unusual influence in determining parameter estimates and resulting model predictions\n",
    "- Influential observations can be detected using one of several measures that are large if the residual is large, the leverage measure is large, or both."
   ]
  },
  {
   "cell_type": "markdown",
   "metadata": {
    "slideshow": {
     "slide_type": "subslide"
    }
   },
   "source": [
    "- A commonly used measure is $\\text{dfits}_i$, which can be shown to equal the difference between predictions of $y_i$ with and without the ith observation in the OLS regression.\n",
    "- A rule of thumb is that observations with $|\\text{dfits}|>2\\sqrt{k/N}$ may be worthy of further investigation, though for large datasets this rule can suggest that many observations are influential."
   ]
  },
  {
   "cell_type": "code",
   "execution_count": 64,
   "metadata": {
    "slideshow": {
     "slide_type": "subslide"
    }
   },
   "outputs": [
    {
     "data": {
      "text/plain": [
       "0.10406297715753676"
      ]
     },
     "execution_count": 64,
     "metadata": {},
     "output_type": "execute_result"
    }
   ],
   "source": [
    "f='ltotexp~suppins+phylim+actlim+totchr+age+female+income'\n",
    "res=smf.ols(formula=f,data=data).fit()\n",
    "r=res.get_influence()\n",
    "dfits,threshold=r.dffits\n",
    "threshold"
   ]
  },
  {
   "cell_type": "code",
   "execution_count": 65,
   "metadata": {
    "slideshow": {
     "slide_type": "fragment"
    }
   },
   "outputs": [
    {
     "data": {
      "text/plain": [
       "count    2955.000000\n",
       "mean       -0.000449\n",
       "std         0.052850\n",
       "min        -0.421218\n",
       "25%        -0.030351\n",
       "50%         0.000247\n",
       "75%         0.031175\n",
       "max         0.220728\n",
       "Name: dfits, dtype: float64"
      ]
     },
     "execution_count": 65,
     "metadata": {},
     "output_type": "execute_result"
    }
   ],
   "source": [
    "dfits=pd.Series(dfits,name='dfits')\n",
    "dfits.describe()"
   ]
  },
  {
   "cell_type": "code",
   "execution_count": 66,
   "metadata": {
    "slideshow": {
     "slide_type": "subslide"
    }
   },
   "outputs": [
    {
     "data": {
      "text/html": [
       "<div>\n",
       "<style scoped>\n",
       "    .dataframe tbody tr th:only-of-type {\n",
       "        vertical-align: middle;\n",
       "    }\n",
       "\n",
       "    .dataframe tbody tr th {\n",
       "        vertical-align: top;\n",
       "    }\n",
       "\n",
       "    .dataframe thead th {\n",
       "        text-align: right;\n",
       "    }\n",
       "</style>\n",
       "<table border=\"1\" class=\"dataframe\">\n",
       "  <thead>\n",
       "    <tr style=\"text-align: right;\">\n",
       "      <th></th>\n",
       "      <th>dfits</th>\n",
       "      <th>totexp</th>\n",
       "      <th>ltotexp</th>\n",
       "      <th>yhat</th>\n",
       "      <th>uhat</th>\n",
       "    </tr>\n",
       "  </thead>\n",
       "  <tbody>\n",
       "    <tr>\n",
       "      <th>0</th>\n",
       "      <td>-0.231918</td>\n",
       "      <td>3.0</td>\n",
       "      <td>1.098612</td>\n",
       "      <td>7.254340</td>\n",
       "      <td>-6.155728</td>\n",
       "    </tr>\n",
       "    <tr>\n",
       "      <th>1</th>\n",
       "      <td>-0.300299</td>\n",
       "      <td>6.0</td>\n",
       "      <td>1.791759</td>\n",
       "      <td>7.513357</td>\n",
       "      <td>-5.721598</td>\n",
       "    </tr>\n",
       "    <tr>\n",
       "      <th>2</th>\n",
       "      <td>-0.276527</td>\n",
       "      <td>9.0</td>\n",
       "      <td>2.197225</td>\n",
       "      <td>7.631211</td>\n",
       "      <td>-5.433987</td>\n",
       "    </tr>\n",
       "    <tr>\n",
       "      <th>9</th>\n",
       "      <td>-0.217006</td>\n",
       "      <td>30.0</td>\n",
       "      <td>3.401197</td>\n",
       "      <td>8.348724</td>\n",
       "      <td>-4.947527</td>\n",
       "    </tr>\n",
       "    <tr>\n",
       "      <th>41</th>\n",
       "      <td>-0.261232</td>\n",
       "      <td>103.0</td>\n",
       "      <td>4.634729</td>\n",
       "      <td>7.579820</td>\n",
       "      <td>-2.945091</td>\n",
       "    </tr>\n",
       "    <tr>\n",
       "      <th>43</th>\n",
       "      <td>-0.421218</td>\n",
       "      <td>110.0</td>\n",
       "      <td>4.700480</td>\n",
       "      <td>8.993904</td>\n",
       "      <td>-4.293423</td>\n",
       "    </tr>\n",
       "    <tr>\n",
       "      <th>107</th>\n",
       "      <td>-0.232628</td>\n",
       "      <td>228.0</td>\n",
       "      <td>5.429346</td>\n",
       "      <td>7.971406</td>\n",
       "      <td>-2.542060</td>\n",
       "    </tr>\n",
       "    <tr>\n",
       "      <th>113</th>\n",
       "      <td>-0.244763</td>\n",
       "      <td>239.0</td>\n",
       "      <td>5.476463</td>\n",
       "      <td>7.946240</td>\n",
       "      <td>-2.469776</td>\n",
       "    </tr>\n",
       "    <tr>\n",
       "      <th>136</th>\n",
       "      <td>-0.217734</td>\n",
       "      <td>283.0</td>\n",
       "      <td>5.645447</td>\n",
       "      <td>7.929720</td>\n",
       "      <td>-2.284273</td>\n",
       "    </tr>\n",
       "    <tr>\n",
       "      <th>210</th>\n",
       "      <td>-0.211344</td>\n",
       "      <td>415.0</td>\n",
       "      <td>6.028278</td>\n",
       "      <td>8.028338</td>\n",
       "      <td>-2.000060</td>\n",
       "    </tr>\n",
       "    <tr>\n",
       "      <th>2924</th>\n",
       "      <td>0.220728</td>\n",
       "      <td>62346.0</td>\n",
       "      <td>11.040455</td>\n",
       "      <td>8.660132</td>\n",
       "      <td>2.380323</td>\n",
       "    </tr>\n",
       "  </tbody>\n",
       "</table>\n",
       "</div>"
      ],
      "text/plain": [
       "         dfits   totexp    ltotexp      yhat      uhat\n",
       "0    -0.231918      3.0   1.098612  7.254340 -6.155728\n",
       "1    -0.300299      6.0   1.791759  7.513357 -5.721598\n",
       "2    -0.276527      9.0   2.197225  7.631211 -5.433987\n",
       "9    -0.217006     30.0   3.401197  8.348724 -4.947527\n",
       "41   -0.261232    103.0   4.634729  7.579820 -2.945091\n",
       "43   -0.421218    110.0   4.700480  8.993904 -4.293423\n",
       "107  -0.232628    228.0   5.429346  7.971406 -2.542060\n",
       "113  -0.244763    239.0   5.476463  7.946240 -2.469776\n",
       "136  -0.217734    283.0   5.645447  7.929720 -2.284273\n",
       "210  -0.211344    415.0   6.028278  8.028338 -2.000060\n",
       "2924  0.220728  62346.0  11.040455  8.660132  2.380323"
      ]
     },
     "execution_count": 66,
     "metadata": {},
     "output_type": "execute_result"
    }
   ],
   "source": [
    "d=pd.concat([dfits,d],axis=1)\n",
    "d[abs(d.dfits)>2*threshold]"
   ]
  },
  {
   "cell_type": "markdown",
   "metadata": {
    "slideshow": {
     "slide_type": "subslide"
    }
   },
   "source": [
    "- The most common specification test is to include additional regressors and test whether they are statistically significant by using a Wald test of the null hypothesis that the coefficient is zero.\n",
    "- Here we consider a test specific to the current example. We want to decide whether a regression model for medical expenditures is better in logs than in levels."
   ]
  },
  {
   "cell_type": "code",
   "execution_count": 67,
   "metadata": {
    "slideshow": {
     "slide_type": "subslide"
    }
   },
   "outputs": [
    {
     "name": "stdout",
     "output_type": "stream",
     "text": [
      "0.07740018851220104\n",
      "(0.05746109979663132, 0.09750280496234609)\n"
     ]
    }
   ],
   "source": [
    "from scipy.stats import boxcox\n",
    "t,theta,ci=boxcox(data.loc[data.totexp>0,'totexp'],alpha=0.05)\n",
    "print(theta) # theta = 0 for log model\n",
    "print(ci)"
   ]
  },
  {
   "cell_type": "markdown",
   "metadata": {
    "slideshow": {
     "slide_type": "subslide"
    }
   },
   "source": [
    "- The linear regression model specifies that the conditional mean of the depentdent variable equals $x'_i\\beta$\n",
    "- A common approach is to add powers of $\\hat{y}_i=x'_i\\hat{\\beta}$, the fitted value of the dependent variable, as regressors and a test for the statistical significance of the powers."
   ]
  },
  {
   "cell_type": "code",
   "execution_count": 68,
   "metadata": {
    "slideshow": {
     "slide_type": "subslide"
    }
   },
   "outputs": [
    {
     "data": {
      "text/plain": [
       "<class 'statsmodels.stats.contrast.ContrastResults'>\n",
       "<F test: F=array([[9.03663791]]), p=5.9146084834478285e-06, df_denom=2944, df_num=3>"
      ]
     },
     "execution_count": 68,
     "metadata": {},
     "output_type": "execute_result"
    }
   ],
   "source": [
    "from statsmodels.stats.outliers_influence import reset_ramsey\n",
    "f='ltotexp~suppins+phylim+actlim+totchr+age+female+income'\n",
    "res1=smf.ols(formula=f,data=data).fit(cov_type='HC1')\n",
    "reset_ramsey(res1,4)"
   ]
  },
  {
   "cell_type": "markdown",
   "metadata": {
    "slideshow": {
     "slide_type": "subslide"
    }
   },
   "source": [
    "- An alternative, simpler test is provided by the link test. \n",
    "- This regresses $y$ on $\\hat{y}$ and $\\hat{y}^2$, where now the original model regressors $x$ are omitted, and it tests whether the coefficient of $\\hat{y}^2$ is zero."
   ]
  },
  {
   "cell_type": "code",
   "execution_count": 69,
   "metadata": {
    "slideshow": {
     "slide_type": "subslide"
    }
   },
   "outputs": [
    {
     "data": {
      "text/html": [
       "<table class=\"simpletable\">\n",
       "<tr>\n",
       "        <td></td>          <th>coef</th>     <th>std err</th>      <th>t</th>      <th>P>|t|</th>  <th>[0.025</th>    <th>0.975]</th>  \n",
       "</tr>\n",
       "<tr>\n",
       "  <th>Intercept</th>    <td>  -14.0113</td> <td>    2.780</td> <td>   -5.040</td> <td> 0.000</td> <td>  -19.462</td> <td>   -8.560</td>\n",
       "</tr>\n",
       "<tr>\n",
       "  <th>yhat</th>         <td>    4.4292</td> <td>    0.678</td> <td>    6.533</td> <td> 0.000</td> <td>    3.100</td> <td>    5.759</td>\n",
       "</tr>\n",
       "<tr>\n",
       "  <th>I(yhat ** 2)</th> <td>   -0.2084</td> <td>    0.041</td> <td>   -5.064</td> <td> 0.000</td> <td>   -0.289</td> <td>   -0.128</td>\n",
       "</tr>\n",
       "</table>"
      ],
      "text/plain": [
       "<class 'statsmodels.iolib.table.SimpleTable'>"
      ]
     },
     "execution_count": 69,
     "metadata": {},
     "output_type": "execute_result"
    }
   ],
   "source": [
    "df=pd.DataFrame()\n",
    "df['ltotexp']=res.model.endog\n",
    "df['yhat']=res.predict()\n",
    "f='ltotexp~yhat+I(yhat**2)'\n",
    "res2=smf.ols(formula=f,data=df).fit()\n",
    "res2.summary().tables[1]"
   ]
  },
  {
   "cell_type": "markdown",
   "metadata": {
    "slideshow": {
     "slide_type": "subslide"
    }
   },
   "source": [
    "- There may be interest in formally testing whether heteroskedasticity is present.\n",
    "- The simplest version is the Breusch-Pagan Lagrange multiplier test, which is equal to N times the uncentered explained sum of squares from the regression of the squared residuals on an intercept and z.\n",
    "- Several choices of the components of z are possible.\n",
    "- Standard choices are to use the OLS fitted value $\\hat{y}$, or to use all the regressors so z = x."
   ]
  },
  {
   "cell_type": "code",
   "execution_count": 88,
   "metadata": {
    "slideshow": {
     "slide_type": "subslide"
    }
   },
   "outputs": [
    {
     "data": {
      "text/plain": [
       "[('Lagrange multiplier statistic', 32.86920466895129),\n",
       " ('p-value', 9.857244984434207e-09)]"
      ]
     },
     "execution_count": 88,
     "metadata": {},
     "output_type": "execute_result"
    }
   ],
   "source": [
    "from statsmodels.compat import lzip\n",
    "import statsmodels.stats.api as sms\n",
    "name = ['Lagrange multiplier statistic', 'p-value']\n",
    "test = sms.het_breuschpagan(res.resid, np.column_stack([np.ones(len(res.resid)),res.predict()]))\n",
    "lzip(name, test)"
   ]
  },
  {
   "cell_type": "code",
   "execution_count": 90,
   "metadata": {
    "slideshow": {
     "slide_type": "fragment"
    }
   },
   "outputs": [
    {
     "data": {
      "text/plain": [
       "[('Lagrange multiplier statistic', 93.12802905335911),\n",
       " ('p-value', 2.815060715524527e-17)]"
      ]
     },
     "execution_count": 90,
     "metadata": {},
     "output_type": "execute_result"
    }
   ],
   "source": [
    "test = sms.het_breuschpagan(res.resid, res.model.exog)\n",
    "lzip(name, test)"
   ]
  },
  {
   "cell_type": "markdown",
   "metadata": {
    "collapsed": true,
    "slideshow": {
     "slide_type": "subslide"
    }
   },
   "source": [
    "- Tests can have power in more than one direction, so that if a test targeted to a particular type of model misspecification rejects a model, it is not necessary the case that this particular type of model misspecification is the underlying problem.\n",
    "- To illustrate this example, we use the following simulation exercise."
   ]
  },
  {
   "cell_type": "markdown",
   "metadata": {
    "collapsed": true,
    "slideshow": {
     "slide_type": "subslide"
    }
   },
   "source": [
    "- The DGP is one with homoskedastic normal errors $$ y_i=exp(1+0.25\\times x_i+4\\times x_i^2)+u_i $$ where $$x_i\\sim U(0,1), \\; u_i\\sim N(0,1) $$\n",
    "- We instead fit a model with a misspecified condition mean funciton: $$ y=\\beta_0+\\beta_1 x+\\beta_2 x^2+v $$\n",
    "- We consider a simulation with a sample size of 50."
   ]
  },
  {
   "cell_type": "code",
   "execution_count": 26,
   "metadata": {
    "slideshow": {
     "slide_type": "subslide"
    }
   },
   "outputs": [
    {
     "data": {
      "text/html": [
       "<table class=\"simpletable\">\n",
       "<caption>OLS Regression Results</caption>\n",
       "<tr>\n",
       "  <th>Dep. Variable:</th>            <td>y</td>        <th>  R-squared:         </th> <td>   0.874</td>\n",
       "</tr>\n",
       "<tr>\n",
       "  <th>Model:</th>                   <td>OLS</td>       <th>  Adj. R-squared:    </th> <td>   0.868</td>\n",
       "</tr>\n",
       "<tr>\n",
       "  <th>Method:</th>             <td>Least Squares</td>  <th>  F-statistic:       </th> <td>   162.6</td>\n",
       "</tr>\n",
       "<tr>\n",
       "  <th>Date:</th>             <td>Fri, 21 Jun 2019</td> <th>  Prob (F-statistic):</th> <td>7.61e-22</td>\n",
       "</tr>\n",
       "<tr>\n",
       "  <th>Time:</th>                 <td>10:34:24</td>     <th>  Log-Likelihood:    </th> <td> -185.75</td>\n",
       "</tr>\n",
       "<tr>\n",
       "  <th>No. Observations:</th>      <td>    50</td>      <th>  AIC:               </th> <td>   377.5</td>\n",
       "</tr>\n",
       "<tr>\n",
       "  <th>Df Residuals:</th>          <td>    47</td>      <th>  BIC:               </th> <td>   383.2</td>\n",
       "</tr>\n",
       "<tr>\n",
       "  <th>Df Model:</th>              <td>     2</td>      <th>                     </th>     <td> </td>   \n",
       "</tr>\n",
       "<tr>\n",
       "  <th>Covariance Type:</th>      <td>nonrobust</td>    <th>                     </th>     <td> </td>   \n",
       "</tr>\n",
       "</table>\n",
       "<table class=\"simpletable\">\n",
       "<tr>\n",
       "      <td></td>         <th>coef</th>     <th>std err</th>      <th>t</th>      <th>P>|t|</th>  <th>[0.025</th>    <th>0.975]</th>  \n",
       "</tr>\n",
       "<tr>\n",
       "  <th>Intercept</th> <td>   17.4888</td> <td>    4.109</td> <td>    4.256</td> <td> 0.000</td> <td>    9.223</td> <td>   25.754</td>\n",
       "</tr>\n",
       "<tr>\n",
       "  <th>x</th>         <td> -140.4669</td> <td>   21.341</td> <td>   -6.582</td> <td> 0.000</td> <td> -183.400</td> <td>  -97.534</td>\n",
       "</tr>\n",
       "<tr>\n",
       "  <th>I(x ** 2)</th> <td>  233.9588</td> <td>   22.227</td> <td>   10.526</td> <td> 0.000</td> <td>  189.243</td> <td>  278.674</td>\n",
       "</tr>\n",
       "</table>\n",
       "<table class=\"simpletable\">\n",
       "<tr>\n",
       "  <th>Omnibus:</th>       <td>50.834</td> <th>  Durbin-Watson:     </th> <td>   1.570</td>\n",
       "</tr>\n",
       "<tr>\n",
       "  <th>Prob(Omnibus):</th> <td> 0.000</td> <th>  Jarque-Bera (JB):  </th> <td> 324.215</td>\n",
       "</tr>\n",
       "<tr>\n",
       "  <th>Skew:</th>          <td> 2.473</td> <th>  Prob(JB):          </th> <td>3.96e-71</td>\n",
       "</tr>\n",
       "<tr>\n",
       "  <th>Kurtosis:</th>      <td>14.452</td> <th>  Cond. No.          </th> <td>    24.0</td>\n",
       "</tr>\n",
       "</table><br/><br/>Warnings:<br/>[1] Standard Errors assume that the covariance matrix of the errors is correctly specified."
      ],
      "text/plain": [
       "<class 'statsmodels.iolib.summary.Summary'>\n",
       "\"\"\"\n",
       "                            OLS Regression Results                            \n",
       "==============================================================================\n",
       "Dep. Variable:                      y   R-squared:                       0.874\n",
       "Model:                            OLS   Adj. R-squared:                  0.868\n",
       "Method:                 Least Squares   F-statistic:                     162.6\n",
       "Date:                Fri, 21 Jun 2019   Prob (F-statistic):           7.61e-22\n",
       "Time:                        10:34:24   Log-Likelihood:                -185.75\n",
       "No. Observations:                  50   AIC:                             377.5\n",
       "Df Residuals:                      47   BIC:                             383.2\n",
       "Df Model:                           2                                         \n",
       "Covariance Type:            nonrobust                                         \n",
       "==============================================================================\n",
       "                 coef    std err          t      P>|t|      [0.025      0.975]\n",
       "------------------------------------------------------------------------------\n",
       "Intercept     17.4888      4.109      4.256      0.000       9.223      25.754\n",
       "x           -140.4669     21.341     -6.582      0.000    -183.400     -97.534\n",
       "I(x ** 2)    233.9588     22.227     10.526      0.000     189.243     278.674\n",
       "==============================================================================\n",
       "Omnibus:                       50.834   Durbin-Watson:                   1.570\n",
       "Prob(Omnibus):                  0.000   Jarque-Bera (JB):              324.215\n",
       "Skew:                           2.473   Prob(JB):                     3.96e-71\n",
       "Kurtosis:                      14.452   Cond. No.                         24.0\n",
       "==============================================================================\n",
       "\n",
       "Warnings:\n",
       "[1] Standard Errors assume that the covariance matrix of the errors is correctly specified.\n",
       "\"\"\""
      ]
     },
     "execution_count": 26,
     "metadata": {},
     "output_type": "execute_result"
    }
   ],
   "source": [
    "from scipy.stats import uniform,norm\n",
    "x=uniform(0,1).rvs(50)\n",
    "u=norm(0,1).rvs(50)\n",
    "y=np.exp(1+0.25*x+4*x**2)+u\n",
    "d=pd.DataFrame({'y':y,'x':x,'u':u})\n",
    "res3=smf.ols(formula='y~x+I(x**2)',data=d).fit()\n",
    "res3.summary()"
   ]
  },
  {
   "cell_type": "code",
   "execution_count": 27,
   "metadata": {
    "slideshow": {
     "slide_type": "subslide"
    }
   },
   "outputs": [
    {
     "data": {
      "text/plain": [
       "[('Lagrange multiplier statistic', 13.433571589946109),\n",
       " ('p-value', 0.0012104225142752535)]"
      ]
     },
     "execution_count": 27,
     "metadata": {},
     "output_type": "execute_result"
    }
   ],
   "source": [
    "name = ['Lagrange multiplier statistic', 'p-value']\n",
    "test = sms.het_breuschpagan(res3.resid, res3.model.exog)\n",
    "lzip(name, test)"
   ]
  },
  {
   "cell_type": "code",
   "execution_count": 28,
   "metadata": {
    "slideshow": {
     "slide_type": "fragment"
    }
   },
   "outputs": [
    {
     "data": {
      "text/plain": [
       "<class 'statsmodels.stats.contrast.ContrastResults'>\n",
       "<F test: F=array([[1704.38550884]]), p=1.629714284947637e-45, df_denom=44, df_num=3>"
      ]
     },
     "execution_count": 28,
     "metadata": {},
     "output_type": "execute_result"
    }
   ],
   "source": [
    "reset_ramsey(res3,4)"
   ]
  },
  {
   "cell_type": "markdown",
   "metadata": {
    "slideshow": {
     "slide_type": "slide"
    }
   },
   "source": [
    "## Prediction\n",
    "\n",
    "- The most common type of prediction is in-sample, where evaluation is at the observed regressor values for each observation.\n",
    "- To do this, we use `predict` method after regression.\n",
    "- We consider prediction based on a linear regression model in levels rather than logs."
   ]
  },
  {
   "cell_type": "code",
   "execution_count": 29,
   "metadata": {
    "scrolled": false,
    "slideshow": {
     "slide_type": "subslide"
    }
   },
   "outputs": [
    {
     "data": {
      "text/html": [
       "<table class=\"simpletable\">\n",
       "<caption>OLS Regression Results</caption>\n",
       "<tr>\n",
       "  <th>Dep. Variable:</th>         <td>totexp</td>      <th>  R-squared:         </th> <td>   0.116</td> \n",
       "</tr>\n",
       "<tr>\n",
       "  <th>Model:</th>                   <td>OLS</td>       <th>  Adj. R-squared:    </th> <td>   0.114</td> \n",
       "</tr>\n",
       "<tr>\n",
       "  <th>Method:</th>             <td>Least Squares</td>  <th>  F-statistic:       </th> <td>   40.58</td> \n",
       "</tr>\n",
       "<tr>\n",
       "  <th>Date:</th>             <td>Fri, 21 Jun 2019</td> <th>  Prob (F-statistic):</th> <td>7.52e-55</td> \n",
       "</tr>\n",
       "<tr>\n",
       "  <th>Time:</th>                 <td>10:34:25</td>     <th>  Log-Likelihood:    </th> <td> -31763.</td> \n",
       "</tr>\n",
       "<tr>\n",
       "  <th>No. Observations:</th>      <td>  2955</td>      <th>  AIC:               </th> <td>6.354e+04</td>\n",
       "</tr>\n",
       "<tr>\n",
       "  <th>Df Residuals:</th>          <td>  2947</td>      <th>  BIC:               </th> <td>6.359e+04</td>\n",
       "</tr>\n",
       "<tr>\n",
       "  <th>Df Model:</th>              <td>     7</td>      <th>                     </th>     <td> </td>    \n",
       "</tr>\n",
       "<tr>\n",
       "  <th>Covariance Type:</th>         <td>HC1</td>       <th>                     </th>     <td> </td>    \n",
       "</tr>\n",
       "</table>\n",
       "<table class=\"simpletable\">\n",
       "<tr>\n",
       "      <td></td>         <th>coef</th>     <th>std err</th>      <th>z</th>      <th>P>|z|</th>  <th>[0.025</th>    <th>0.975]</th>  \n",
       "</tr>\n",
       "<tr>\n",
       "  <th>Intercept</th> <td> 8358.9539</td> <td> 2847.802</td> <td>    2.935</td> <td> 0.003</td> <td> 2777.364</td> <td> 1.39e+04</td>\n",
       "</tr>\n",
       "<tr>\n",
       "  <th>suppins</th>   <td>  724.8632</td> <td>  427.305</td> <td>    1.696</td> <td> 0.090</td> <td> -112.638</td> <td> 1562.365</td>\n",
       "</tr>\n",
       "<tr>\n",
       "  <th>phylim</th>    <td> 2389.0186</td> <td>  544.349</td> <td>    4.389</td> <td> 0.000</td> <td> 1322.114</td> <td> 3455.924</td>\n",
       "</tr>\n",
       "<tr>\n",
       "  <th>actlim</th>    <td> 3900.4908</td> <td>  705.224</td> <td>    5.531</td> <td> 0.000</td> <td> 2518.276</td> <td> 5282.705</td>\n",
       "</tr>\n",
       "<tr>\n",
       "  <th>totchr</th>    <td> 1844.3769</td> <td>  186.894</td> <td>    9.869</td> <td> 0.000</td> <td> 1478.072</td> <td> 2210.682</td>\n",
       "</tr>\n",
       "<tr>\n",
       "  <th>age</th>       <td>  -85.3626</td> <td>   37.819</td> <td>   -2.257</td> <td> 0.024</td> <td> -159.486</td> <td>  -11.239</td>\n",
       "</tr>\n",
       "<tr>\n",
       "  <th>female</th>    <td>-1383.2898</td> <td>  432.476</td> <td>   -3.199</td> <td> 0.001</td> <td>-2230.927</td> <td> -535.653</td>\n",
       "</tr>\n",
       "<tr>\n",
       "  <th>income</th>    <td>    6.4689</td> <td>    8.571</td> <td>    0.755</td> <td> 0.450</td> <td>  -10.329</td> <td>   23.267</td>\n",
       "</tr>\n",
       "</table>\n",
       "<table class=\"simpletable\">\n",
       "<tr>\n",
       "  <th>Omnibus:</th>       <td>2543.516</td> <th>  Durbin-Watson:     </th> <td>   0.205</td> \n",
       "</tr>\n",
       "<tr>\n",
       "  <th>Prob(Omnibus):</th>  <td> 0.000</td>  <th>  Jarque-Bera (JB):  </th> <td>75622.335</td>\n",
       "</tr>\n",
       "<tr>\n",
       "  <th>Skew:</th>           <td> 4.052</td>  <th>  Prob(JB):          </th> <td>    0.00</td> \n",
       "</tr>\n",
       "<tr>\n",
       "  <th>Kurtosis:</th>       <td>26.421</td>  <th>  Cond. No.          </th> <td>    979.</td> \n",
       "</tr>\n",
       "</table><br/><br/>Warnings:<br/>[1] Standard Errors are heteroscedasticity robust (HC1)"
      ],
      "text/plain": [
       "<class 'statsmodels.iolib.summary.Summary'>\n",
       "\"\"\"\n",
       "                            OLS Regression Results                            \n",
       "==============================================================================\n",
       "Dep. Variable:                 totexp   R-squared:                       0.116\n",
       "Model:                            OLS   Adj. R-squared:                  0.114\n",
       "Method:                 Least Squares   F-statistic:                     40.58\n",
       "Date:                Fri, 21 Jun 2019   Prob (F-statistic):           7.52e-55\n",
       "Time:                        10:34:25   Log-Likelihood:                -31763.\n",
       "No. Observations:                2955   AIC:                         6.354e+04\n",
       "Df Residuals:                    2947   BIC:                         6.359e+04\n",
       "Df Model:                           7                                         \n",
       "Covariance Type:                  HC1                                         \n",
       "==============================================================================\n",
       "                 coef    std err          z      P>|z|      [0.025      0.975]\n",
       "------------------------------------------------------------------------------\n",
       "Intercept   8358.9539   2847.802      2.935      0.003    2777.364    1.39e+04\n",
       "suppins      724.8632    427.305      1.696      0.090    -112.638    1562.365\n",
       "phylim      2389.0186    544.349      4.389      0.000    1322.114    3455.924\n",
       "actlim      3900.4908    705.224      5.531      0.000    2518.276    5282.705\n",
       "totchr      1844.3769    186.894      9.869      0.000    1478.072    2210.682\n",
       "age          -85.3626     37.819     -2.257      0.024    -159.486     -11.239\n",
       "female     -1383.2898    432.476     -3.199      0.001   -2230.927    -535.653\n",
       "income         6.4689      8.571      0.755      0.450     -10.329      23.267\n",
       "==============================================================================\n",
       "Omnibus:                     2543.516   Durbin-Watson:                   0.205\n",
       "Prob(Omnibus):                  0.000   Jarque-Bera (JB):            75622.335\n",
       "Skew:                           4.052   Prob(JB):                         0.00\n",
       "Kurtosis:                      26.421   Cond. No.                         979.\n",
       "==============================================================================\n",
       "\n",
       "Warnings:\n",
       "[1] Standard Errors are heteroscedasticity robust (HC1)\n",
       "\"\"\""
      ]
     },
     "execution_count": 29,
     "metadata": {},
     "output_type": "execute_result"
    }
   ],
   "source": [
    "data1=data[data.totexp>0]\n",
    "f='totexp~suppins+phylim+actlim+totchr+age+female+income'\n",
    "res=smf.ols(formula=f,data=data1).fit(cov_type='HC1')\n",
    "res.summary()"
   ]
  },
  {
   "cell_type": "code",
   "execution_count": 30,
   "metadata": {
    "slideshow": {
     "slide_type": "subslide"
    }
   },
   "outputs": [
    {
     "data": {
      "text/html": [
       "<div>\n",
       "<style scoped>\n",
       "    .dataframe tbody tr th:only-of-type {\n",
       "        vertical-align: middle;\n",
       "    }\n",
       "\n",
       "    .dataframe tbody tr th {\n",
       "        vertical-align: top;\n",
       "    }\n",
       "\n",
       "    .dataframe thead th {\n",
       "        text-align: right;\n",
       "    }\n",
       "</style>\n",
       "<table border=\"1\" class=\"dataframe\">\n",
       "  <thead>\n",
       "    <tr style=\"text-align: right;\">\n",
       "      <th></th>\n",
       "      <th>totexp</th>\n",
       "      <th>predict</th>\n",
       "    </tr>\n",
       "  </thead>\n",
       "  <tbody>\n",
       "    <tr>\n",
       "      <th>count</th>\n",
       "      <td>2955.000000</td>\n",
       "      <td>2955.000000</td>\n",
       "    </tr>\n",
       "    <tr>\n",
       "      <th>mean</th>\n",
       "      <td>7290.235195</td>\n",
       "      <td>7290.235195</td>\n",
       "    </tr>\n",
       "    <tr>\n",
       "      <th>std</th>\n",
       "      <td>11990.841032</td>\n",
       "      <td>4089.624288</td>\n",
       "    </tr>\n",
       "    <tr>\n",
       "      <th>min</th>\n",
       "      <td>3.000000</td>\n",
       "      <td>-236.378135</td>\n",
       "    </tr>\n",
       "    <tr>\n",
       "      <th>25%</th>\n",
       "      <td>1433.000000</td>\n",
       "      <td>4093.164999</td>\n",
       "    </tr>\n",
       "    <tr>\n",
       "      <th>50%</th>\n",
       "      <td>3334.000000</td>\n",
       "      <td>6464.691971</td>\n",
       "    </tr>\n",
       "    <tr>\n",
       "      <th>75%</th>\n",
       "      <td>7491.500000</td>\n",
       "      <td>10197.043464</td>\n",
       "    </tr>\n",
       "    <tr>\n",
       "      <th>max</th>\n",
       "      <td>125610.000000</td>\n",
       "      <td>22559.002786</td>\n",
       "    </tr>\n",
       "  </tbody>\n",
       "</table>\n",
       "</div>"
      ],
      "text/plain": [
       "              totexp       predict\n",
       "count    2955.000000   2955.000000\n",
       "mean     7290.235195   7290.235195\n",
       "std     11990.841032   4089.624288\n",
       "min         3.000000   -236.378135\n",
       "25%      1433.000000   4093.164999\n",
       "50%      3334.000000   6464.691971\n",
       "75%      7491.500000  10197.043464\n",
       "max    125610.000000  22559.002786"
      ]
     },
     "execution_count": 30,
     "metadata": {},
     "output_type": "execute_result"
    }
   ],
   "source": [
    "yhat=res.predict()\n",
    "pd.DataFrame({'totexp':data1.totexp,'predict':yhat}).describe()"
   ]
  },
  {
   "cell_type": "markdown",
   "metadata": {
    "collapsed": true,
    "slideshow": {
     "slide_type": "subslide"
    }
   },
   "source": [
    "- Transforming the dependent variable by taking the natural logarithm complicates prediction.\n",
    "- It is easy to predict $E(\\ln y|x)$, but we are instead interested in $E(y|x)$ because we want to predict the level of medical expenditures rather than the natural logarithm.\n",
    "- The obvious procedure of predicting $\\ln y$ and taking the exponential is wrong because $\\exp\\{E (\\ln y)\\} \\neq E(y)$."
   ]
  },
  {
   "cell_type": "markdown",
   "metadata": {
    "collapsed": true,
    "slideshow": {
     "slide_type": "subslide"
    }
   },
   "source": [
    "- The log-linear model $\\ln y = x'\\beta + u$ implies that $y = \\exp(x'\\beta)exp(u)$. \n",
    "- It follows that $$ E(y_i|x_i) = \\exp(x_i'\\beta)E\\{\\exp(u_i)\\} $$\n",
    "- The simplest prediction is $\\exp(x_i'\\hat{\\beta})$, but this is wrong because it ignores the multiple $E\\{\\exp(u_i)\\}$."
   ]
  },
  {
   "cell_type": "markdown",
   "metadata": {
    "collapsed": true,
    "slideshow": {
     "slide_type": "subslide"
    }
   },
   "source": [
    "- If it is assumed that $u\\sim N(0, \\sigma^2)$, then it can be shown that $E\\{\\exp(u_i)\\} = \\exp(0.5\\sigma^2)$, which can be estimated by $\\exp(0.5\\hat{\\sigma}^2)$, where $\\hat{\\sigma}^2$ is a n unbiased estimator of the log-linear regression model error.\n",
    "- A weaker assumption is to assume that $u_i$ is independent and identically distributed, in which case we can consistently estimate $E\\{\\exp(u_i)\\}$ by the sample average $N^{-1}\\sum_{j=1}^N\\exp(\\hat{u}_j)$."
   ]
  },
  {
   "cell_type": "code",
   "execution_count": 31,
   "metadata": {
    "slideshow": {
     "slide_type": "subslide"
    }
   },
   "outputs": [
    {
     "data": {
      "text/html": [
       "<div>\n",
       "<style scoped>\n",
       "    .dataframe tbody tr th:only-of-type {\n",
       "        vertical-align: middle;\n",
       "    }\n",
       "\n",
       "    .dataframe tbody tr th {\n",
       "        vertical-align: top;\n",
       "    }\n",
       "\n",
       "    .dataframe thead th {\n",
       "        text-align: right;\n",
       "    }\n",
       "</style>\n",
       "<table border=\"1\" class=\"dataframe\">\n",
       "  <thead>\n",
       "    <tr style=\"text-align: right;\">\n",
       "      <th></th>\n",
       "      <th>totexp</th>\n",
       "      <th>yhatwrong</th>\n",
       "      <th>yhatnormal</th>\n",
       "      <th>yhatduan</th>\n",
       "      <th>yhatlevels</th>\n",
       "    </tr>\n",
       "  </thead>\n",
       "  <tbody>\n",
       "    <tr>\n",
       "      <th>count</th>\n",
       "      <td>2955.000000</td>\n",
       "      <td>2955.000000</td>\n",
       "      <td>2955.000000</td>\n",
       "      <td>2955.000000</td>\n",
       "      <td>2955.000000</td>\n",
       "    </tr>\n",
       "    <tr>\n",
       "      <th>mean</th>\n",
       "      <td>7290.235195</td>\n",
       "      <td>4004.452909</td>\n",
       "      <td>8249.927516</td>\n",
       "      <td>8005.522118</td>\n",
       "      <td>7290.235195</td>\n",
       "    </tr>\n",
       "    <tr>\n",
       "      <th>std</th>\n",
       "      <td>11990.841032</td>\n",
       "      <td>3303.554757</td>\n",
       "      <td>6805.945260</td>\n",
       "      <td>6604.318063</td>\n",
       "      <td>4089.624288</td>\n",
       "    </tr>\n",
       "    <tr>\n",
       "      <th>min</th>\n",
       "      <td>3.000000</td>\n",
       "      <td>959.599322</td>\n",
       "      <td>1976.955412</td>\n",
       "      <td>1918.387798</td>\n",
       "      <td>-236.378135</td>\n",
       "    </tr>\n",
       "    <tr>\n",
       "      <th>25%</th>\n",
       "      <td>1433.000000</td>\n",
       "      <td>1982.406211</td>\n",
       "      <td>4084.130321</td>\n",
       "      <td>3963.137320</td>\n",
       "      <td>4093.164999</td>\n",
       "    </tr>\n",
       "    <tr>\n",
       "      <th>50%</th>\n",
       "      <td>3334.000000</td>\n",
       "      <td>2961.863251</td>\n",
       "      <td>6101.996375</td>\n",
       "      <td>5921.223774</td>\n",
       "      <td>6464.691971</td>\n",
       "    </tr>\n",
       "    <tr>\n",
       "      <th>75%</th>\n",
       "      <td>7491.500000</td>\n",
       "      <td>4730.013141</td>\n",
       "      <td>9744.718305</td>\n",
       "      <td>9456.029495</td>\n",
       "      <td>10197.043464</td>\n",
       "    </tr>\n",
       "    <tr>\n",
       "      <th>max</th>\n",
       "      <td>125610.000000</td>\n",
       "      <td>37726.232322</td>\n",
       "      <td>77723.147005</td>\n",
       "      <td>75420.586574</td>\n",
       "      <td>22559.002786</td>\n",
       "    </tr>\n",
       "  </tbody>\n",
       "</table>\n",
       "</div>"
      ],
      "text/plain": [
       "              totexp     yhatwrong    yhatnormal      yhatduan    yhatlevels\n",
       "count    2955.000000   2955.000000   2955.000000   2955.000000   2955.000000\n",
       "mean     7290.235195   4004.452909   8249.927516   8005.522118   7290.235195\n",
       "std     11990.841032   3303.554757   6805.945260   6604.318063   4089.624288\n",
       "min         3.000000    959.599322   1976.955412   1918.387798   -236.378135\n",
       "25%      1433.000000   1982.406211   4084.130321   3963.137320   4093.164999\n",
       "50%      3334.000000   2961.863251   6101.996375   5921.223774   6464.691971\n",
       "75%      7491.500000   4730.013141   9744.718305   9456.029495  10197.043464\n",
       "max    125610.000000  37726.232322  77723.147005  75420.586574  22559.002786"
      ]
     },
     "execution_count": 31,
     "metadata": {},
     "output_type": "execute_result"
    }
   ],
   "source": [
    "f='ltotexp~suppins+phylim+actlim+totchr+age+female+income'\n",
    "res1=smf.ols(formula=f,data=data1).fit()\n",
    "lyhat=res1.predict()\n",
    "yhatwrong=np.exp(lyhat)\n",
    "yhatnormal=np.exp(lyhat)*np.exp(0.5*res1.mse_resid)\n",
    "yhatduan=np.exp(lyhat)*np.mean(np.exp(res1.resid))\n",
    "pd.DataFrame({'totexp':data1.totexp,'yhatwrong':yhatwrong,'yhatnormal':yhatnormal,'yhatduan':yhatduan,'yhatlevels':yhat}).describe()"
   ]
  },
  {
   "cell_type": "markdown",
   "metadata": {
    "slideshow": {
     "slide_type": "subslide"
    }
   },
   "source": [
    "- There are several ways that predictions can be used to simulate the effects of a policy experiment. \n",
    "- We consider the effect of a binary treatment, whether a person has supplementary insurance, on medical expenditure. \n",
    "- Here we base our predictions on estimates that assume supplementary insurance is exogenous."
   ]
  },
  {
   "cell_type": "markdown",
   "metadata": {
    "slideshow": {
     "slide_type": "subslide"
    }
   },
   "source": [
    "- An obvious comparison is to compare the difference in sample means $(\\bar{y}_1 - \\bar{y}_0)$, where the subscript 1 denotes those with supplementary insurance and the subscript 0 denotes those without supplementary insurance. \n",
    "- This measure does not control for individual characteristics. \n",
    "- A measure that does control for individual characteristics is the difference in mean predictions $(\\bar{\\hat{y}}_1 - \\bar{\\hat{y}}_0)$, where, for example, $\\bar{\\hat{y}}_1$ denotes the average prediction for those with health insurance."
   ]
  },
  {
   "cell_type": "code",
   "execution_count": 32,
   "metadata": {
    "slideshow": {
     "slide_type": "subslide"
    }
   },
   "outputs": [
    {
     "data": {
      "text/html": [
       "<div>\n",
       "<style scoped>\n",
       "    .dataframe tbody tr th:only-of-type {\n",
       "        vertical-align: middle;\n",
       "    }\n",
       "\n",
       "    .dataframe tbody tr th {\n",
       "        vertical-align: top;\n",
       "    }\n",
       "\n",
       "    .dataframe thead th {\n",
       "        text-align: right;\n",
       "    }\n",
       "</style>\n",
       "<table border=\"1\" class=\"dataframe\">\n",
       "  <thead>\n",
       "    <tr style=\"text-align: right;\">\n",
       "      <th></th>\n",
       "      <th></th>\n",
       "      <th>totexp</th>\n",
       "      <th>yhatlevels</th>\n",
       "      <th>yhatduan</th>\n",
       "    </tr>\n",
       "    <tr>\n",
       "      <th>suppins</th>\n",
       "      <th></th>\n",
       "      <th></th>\n",
       "      <th></th>\n",
       "      <th></th>\n",
       "    </tr>\n",
       "  </thead>\n",
       "  <tbody>\n",
       "    <tr>\n",
       "      <th rowspan=\"6\" valign=\"top\">0.0</th>\n",
       "      <th>count</th>\n",
       "      <td>1207.000000</td>\n",
       "      <td>1207.000000</td>\n",
       "      <td>1207.000000</td>\n",
       "    </tr>\n",
       "    <tr>\n",
       "      <th>mean</th>\n",
       "      <td>6824.303231</td>\n",
       "      <td>6824.303231</td>\n",
       "      <td>6745.958626</td>\n",
       "    </tr>\n",
       "    <tr>\n",
       "      <th>std</th>\n",
       "      <td>11425.937998</td>\n",
       "      <td>4077.063509</td>\n",
       "      <td>5365.255204</td>\n",
       "    </tr>\n",
       "    <tr>\n",
       "      <th>min</th>\n",
       "      <td>9.000000</td>\n",
       "      <td>-236.378135</td>\n",
       "      <td>1918.387798</td>\n",
       "    </tr>\n",
       "    <tr>\n",
       "      <th>50%</th>\n",
       "      <td>2779.000000</td>\n",
       "      <td>6069.130452</td>\n",
       "      <td>4836.481653</td>\n",
       "    </tr>\n",
       "    <tr>\n",
       "      <th>max</th>\n",
       "      <td>104823.000000</td>\n",
       "      <td>20131.432422</td>\n",
       "      <td>54981.742587</td>\n",
       "    </tr>\n",
       "    <tr>\n",
       "      <th rowspan=\"6\" valign=\"top\">1.0</th>\n",
       "      <th>count</th>\n",
       "      <td>1748.000000</td>\n",
       "      <td>1748.000000</td>\n",
       "      <td>1748.000000</td>\n",
       "    </tr>\n",
       "    <tr>\n",
       "      <th>mean</th>\n",
       "      <td>7611.962815</td>\n",
       "      <td>7611.962815</td>\n",
       "      <td>8875.255033</td>\n",
       "    </tr>\n",
       "    <tr>\n",
       "      <th>std</th>\n",
       "      <td>12358.834637</td>\n",
       "      <td>4068.397367</td>\n",
       "      <td>7212.993184</td>\n",
       "    </tr>\n",
       "    <tr>\n",
       "      <th>min</th>\n",
       "      <td>3.000000</td>\n",
       "      <td>502.923747</td>\n",
       "      <td>2518.538120</td>\n",
       "    </tr>\n",
       "    <tr>\n",
       "      <th>50%</th>\n",
       "      <td>3648.500000</td>\n",
       "      <td>6781.035663</td>\n",
       "      <td>6183.845687</td>\n",
       "    </tr>\n",
       "    <tr>\n",
       "      <th>max</th>\n",
       "      <td>125610.000000</td>\n",
       "      <td>22559.002786</td>\n",
       "      <td>75420.586574</td>\n",
       "    </tr>\n",
       "  </tbody>\n",
       "</table>\n",
       "</div>"
      ],
      "text/plain": [
       "                      totexp    yhatlevels      yhatduan\n",
       "suppins                                                 \n",
       "0.0     count    1207.000000   1207.000000   1207.000000\n",
       "        mean     6824.303231   6824.303231   6745.958626\n",
       "        std     11425.937998   4077.063509   5365.255204\n",
       "        min         9.000000   -236.378135   1918.387798\n",
       "        50%      2779.000000   6069.130452   4836.481653\n",
       "        max    104823.000000  20131.432422  54981.742587\n",
       "1.0     count    1748.000000   1748.000000   1748.000000\n",
       "        mean     7611.962815   7611.962815   8875.255033\n",
       "        std     12358.834637   4068.397367   7212.993184\n",
       "        min         3.000000    502.923747   2518.538120\n",
       "        50%      3648.500000   6781.035663   6183.845687\n",
       "        max    125610.000000  22559.002786  75420.586574"
      ]
     },
     "execution_count": 32,
     "metadata": {},
     "output_type": "execute_result"
    }
   ],
   "source": [
    "t=pd.DataFrame({'totexp':data1.totexp,'suppins':data1.suppins,'yhatlevels':yhat,'yhatduan':yhatduan}).groupby('suppins')\n",
    "t.describe(percentiles=[]).stack()"
   ]
  },
  {
   "cell_type": "markdown",
   "metadata": {
    "slideshow": {
     "slide_type": "subslide"
    }
   },
   "source": [
    "- A third measure is the difference between the mean predictions, one with suppins set to 1 for all observations and one with suppins = 0.\n",
    "- For the linear model, this is simply the estimated coefficient of suppins, which is \\$724.86."
   ]
  },
  {
   "cell_type": "markdown",
   "metadata": {
    "slideshow": {
     "slide_type": "subslide"
    }
   },
   "source": [
    "- For the log-linear model, we need to make separate predictions for each individual with suppins set to 1 and with suppins set to 0. \n",
    "- For simplicity, we make predictions in levels from the log-linear model assuming normally distributed errors."
   ]
  },
  {
   "cell_type": "code",
   "execution_count": 33,
   "metadata": {
    "slideshow": {
     "slide_type": "subslide"
    }
   },
   "outputs": [
    {
     "data": {
      "text/html": [
       "<div>\n",
       "<style scoped>\n",
       "    .dataframe tbody tr th:only-of-type {\n",
       "        vertical-align: middle;\n",
       "    }\n",
       "\n",
       "    .dataframe tbody tr th {\n",
       "        vertical-align: top;\n",
       "    }\n",
       "\n",
       "    .dataframe thead th {\n",
       "        text-align: right;\n",
       "    }\n",
       "</style>\n",
       "<table border=\"1\" class=\"dataframe\">\n",
       "  <thead>\n",
       "    <tr style=\"text-align: right;\">\n",
       "      <th></th>\n",
       "      <th>yhatnormal0</th>\n",
       "      <th>yhatnormal1</th>\n",
       "      <th>treateffect</th>\n",
       "    </tr>\n",
       "  </thead>\n",
       "  <tbody>\n",
       "    <tr>\n",
       "      <th>count</th>\n",
       "      <td>2955.000000</td>\n",
       "      <td>2955.000000</td>\n",
       "      <td>2955.000000</td>\n",
       "    </tr>\n",
       "    <tr>\n",
       "      <th>mean</th>\n",
       "      <td>7029.453335</td>\n",
       "      <td>9077.072251</td>\n",
       "      <td>2047.618916</td>\n",
       "    </tr>\n",
       "    <tr>\n",
       "      <th>std</th>\n",
       "      <td>5664.068827</td>\n",
       "      <td>7313.963053</td>\n",
       "      <td>1649.894226</td>\n",
       "    </tr>\n",
       "    <tr>\n",
       "      <th>min</th>\n",
       "      <td>1976.955412</td>\n",
       "      <td>2552.825413</td>\n",
       "      <td>575.870001</td>\n",
       "    </tr>\n",
       "    <tr>\n",
       "      <th>50%</th>\n",
       "      <td>4956.093346</td>\n",
       "      <td>6399.760442</td>\n",
       "      <td>1443.667096</td>\n",
       "    </tr>\n",
       "    <tr>\n",
       "      <th>max</th>\n",
       "      <td>60190.248554</td>\n",
       "      <td>77723.147005</td>\n",
       "      <td>17532.898451</td>\n",
       "    </tr>\n",
       "  </tbody>\n",
       "</table>\n",
       "</div>"
      ],
      "text/plain": [
       "        yhatnormal0   yhatnormal1   treateffect\n",
       "count   2955.000000   2955.000000   2955.000000\n",
       "mean    7029.453335   9077.072251   2047.618916\n",
       "std     5664.068827   7313.963053   1649.894226\n",
       "min     1976.955412   2552.825413    575.870001\n",
       "50%     4956.093346   6399.760442   1443.667096\n",
       "max    60190.248554  77723.147005  17532.898451"
      ]
     },
     "execution_count": 33,
     "metadata": {},
     "output_type": "execute_result"
    }
   ],
   "source": [
    "df0=data1.copy()\n",
    "df0['suppins']=0\n",
    "df1=data1.copy()\n",
    "df1['suppins']=1\n",
    "lyhat0=res1.predict(df0)\n",
    "yhatnormal0=np.exp(lyhat0)*np.exp(0.5*res1.mse_resid)\n",
    "lyhat1=res1.predict(df1)\n",
    "yhatnormal1=np.exp(lyhat1)*np.exp(0.5*res1.mse_resid)\n",
    "treateffect=yhatnormal1-yhatnormal0\n",
    "pd.DataFrame({'yhatnormal0':yhatnormal0,'yhatnormal1':yhatnormal1,'treateffect':treateffect}).describe(percentiles=[])"
   ]
  },
  {
   "cell_type": "markdown",
   "metadata": {
    "slideshow": {
     "slide_type": "slide"
    }
   },
   "source": [
    "## Sampling weights\n",
    "\n",
    "- The analysis to date has presumed simple random sampling, where sample observations have been drawn from the population with equal probability. \n",
    "- In practice, however, many microeconometric studies llSe data from surveys that are not representative of the population."
   ]
  },
  {
   "cell_type": "markdown",
   "metadata": {
    "slideshow": {
     "slide_type": "subslide"
    }
   },
   "source": [
    "- As explained below, weights should be used for estimation of population means and for postregression prediction and computation of MEs.\n",
    "- However, in most cases, the regression itself can be fitted without weights, as is the norm in microeconometric."
   ]
  },
  {
   "cell_type": "markdown",
   "metadata": {
    "slideshow": {
     "slide_type": "subslide"
    }
   },
   "source": [
    "- To illustrate the use of sampling weights, we create an artificial weighting variable (sampling weights are available for the MEPS data but were not included in the data, extract used in this chapter). \n",
    "- We manufacture weights that increase the weight given to those with more chronic problems."
   ]
  },
  {
   "cell_type": "code",
   "execution_count": 34,
   "metadata": {
    "slideshow": {
     "slide_type": "subslide"
    }
   },
   "outputs": [
    {
     "data": {
      "text/plain": [
       "count    3064.000000\n",
       "mean        5.285574\n",
       "std         6.029423\n",
       "min         0.500000\n",
       "50%         4.500000\n",
       "max        49.500000\n",
       "Name: swght, dtype: float64"
      ]
     },
     "execution_count": 34,
     "metadata": {},
     "output_type": "execute_result"
    }
   ],
   "source": [
    "data.loc[:,'swght']=data.totchr**2+0.5\n",
    "data.swght.describe(percentiles=[])"
   ]
  },
  {
   "cell_type": "markdown",
   "metadata": {
    "slideshow": {
     "slide_type": "subslide"
    }
   },
   "source": [
    "- If an estimate of a population mean is desired, then we should clearly weight."
   ]
  },
  {
   "cell_type": "code",
   "execution_count": 35,
   "metadata": {
    "slideshow": {
     "slide_type": "fragment"
    }
   },
   "outputs": [
    {
     "data": {
      "text/plain": [
       "10670.82547082433"
      ]
     },
     "execution_count": 35,
     "metadata": {},
     "output_type": "execute_result"
    }
   ],
   "source": [
    "np.average(data.totexp,weights=data.swght)"
   ]
  },
  {
   "cell_type": "markdown",
   "metadata": {
    "slideshow": {
     "slide_type": "subslide"
    }
   },
   "source": [
    "- Although the weighted estimator is easily obtained, for legitimate reasons many microeconometric analyses do not use weighted regression even where sampling weights are available.\n",
    "- Weighted regression is not needed if we make the stronger assumptions that the DGP is the specified model $y_i = x_i'\\beta + u_i$ and sufficient controls are assumed to be added so that the error $E(u_i|x_i) = 0$. "
   ]
  },
  {
   "cell_type": "markdown",
   "metadata": {
    "slideshow": {
     "slide_type": "subslide"
    }
   },
   "source": [
    "- This approach, called a control-function approach or a model approach, is the approach usually taken in microeconometric studies that emphasize a causal interpretation of regression. \n",
    "- Under the assumption that $E(u_i|x_i) = 0$, the weighted least-squares estimator will be consistent for $\\beta$ for any choice of weights including equal weights, and if u, is homoskedastic, the most efficient estimator is the OLS estimator, which uses equal weights."
   ]
  },
  {
   "cell_type": "code",
   "execution_count": 36,
   "metadata": {
    "slideshow": {
     "slide_type": "subslide"
    }
   },
   "outputs": [
    {
     "data": {
      "text/html": [
       "<table class=\"simpletable\">\n",
       "<caption>WLS Regression Results</caption>\n",
       "<tr>\n",
       "  <th>Dep. Variable:</th>         <td>totexp</td>      <th>  R-squared:         </th> <td>   0.098</td> \n",
       "</tr>\n",
       "<tr>\n",
       "  <th>Model:</th>                   <td>WLS</td>       <th>  Adj. R-squared:    </th> <td>   0.096</td> \n",
       "</tr>\n",
       "<tr>\n",
       "  <th>Method:</th>             <td>Least Squares</td>  <th>  F-statistic:       </th> <td>   47.26</td> \n",
       "</tr>\n",
       "<tr>\n",
       "  <th>Date:</th>             <td>Fri, 21 Jun 2019</td> <th>  Prob (F-statistic):</th> <td>5.16e-64</td> \n",
       "</tr>\n",
       "<tr>\n",
       "  <th>Time:</th>                 <td>10:34:25</td>     <th>  Log-Likelihood:    </th> <td> -34481.</td> \n",
       "</tr>\n",
       "<tr>\n",
       "  <th>No. Observations:</th>      <td>  3064</td>      <th>  AIC:               </th> <td>6.898e+04</td>\n",
       "</tr>\n",
       "<tr>\n",
       "  <th>Df Residuals:</th>          <td>  3056</td>      <th>  BIC:               </th> <td>6.903e+04</td>\n",
       "</tr>\n",
       "<tr>\n",
       "  <th>Df Model:</th>              <td>     7</td>      <th>                     </th>     <td> </td>    \n",
       "</tr>\n",
       "<tr>\n",
       "  <th>Covariance Type:</th>      <td>nonrobust</td>    <th>                     </th>     <td> </td>    \n",
       "</tr>\n",
       "</table>\n",
       "<table class=\"simpletable\">\n",
       "<tr>\n",
       "      <td></td>         <th>coef</th>     <th>std err</th>      <th>t</th>      <th>P>|t|</th>  <th>[0.025</th>    <th>0.975]</th>  \n",
       "</tr>\n",
       "<tr>\n",
       "  <th>Intercept</th> <td> 7336.7580</td> <td> 3202.105</td> <td>    2.291</td> <td> 0.022</td> <td> 1058.261</td> <td> 1.36e+04</td>\n",
       "</tr>\n",
       "<tr>\n",
       "  <th>suppins</th>   <td>  278.1578</td> <td>  526.928</td> <td>    0.528</td> <td> 0.598</td> <td> -755.012</td> <td> 1311.328</td>\n",
       "</tr>\n",
       "<tr>\n",
       "  <th>phylim</th>    <td> 2484.5203</td> <td>  637.289</td> <td>    3.899</td> <td> 0.000</td> <td> 1234.961</td> <td> 3734.079</td>\n",
       "</tr>\n",
       "<tr>\n",
       "  <th>actlim</th>    <td> 4271.1536</td> <td>  627.107</td> <td>    6.811</td> <td> 0.000</td> <td> 3041.560</td> <td> 5500.748</td>\n",
       "</tr>\n",
       "<tr>\n",
       "  <th>totchr</th>    <td> 1819.9291</td> <td>  202.794</td> <td>    8.974</td> <td> 0.000</td> <td> 1422.302</td> <td> 2217.556</td>\n",
       "</tr>\n",
       "<tr>\n",
       "  <th>age</th>       <td>  -59.3125</td> <td>   41.273</td> <td>   -1.437</td> <td> 0.151</td> <td> -140.239</td> <td>   21.614</td>\n",
       "</tr>\n",
       "<tr>\n",
       "  <th>female</th>    <td>-2654.4319</td> <td>  521.910</td> <td>   -5.086</td> <td> 0.000</td> <td>-3677.763</td> <td>-1631.101</td>\n",
       "</tr>\n",
       "<tr>\n",
       "  <th>income</th>    <td>    5.0423</td> <td>   13.762</td> <td>    0.366</td> <td> 0.714</td> <td>  -21.941</td> <td>   32.026</td>\n",
       "</tr>\n",
       "</table>\n",
       "<table class=\"simpletable\">\n",
       "<tr>\n",
       "  <th>Omnibus:</th>       <td>3028.885</td> <th>  Durbin-Watson:     </th>  <td>   0.500</td> \n",
       "</tr>\n",
       "<tr>\n",
       "  <th>Prob(Omnibus):</th>  <td> 0.000</td>  <th>  Jarque-Bera (JB):  </th> <td>181221.464</td>\n",
       "</tr>\n",
       "<tr>\n",
       "  <th>Skew:</th>           <td> 4.755</td>  <th>  Prob(JB):          </th>  <td>    0.00</td> \n",
       "</tr>\n",
       "<tr>\n",
       "  <th>Kurtosis:</th>       <td>39.456</td>  <th>  Cond. No.          </th>  <td>1.00e+03</td> \n",
       "</tr>\n",
       "</table><br/><br/>Warnings:<br/>[1] Standard Errors assume that the covariance matrix of the errors is correctly specified.<br/>[2] The condition number is large,  1e+03. This might indicate that there are<br/>strong multicollinearity or other numerical problems."
      ],
      "text/plain": [
       "<class 'statsmodels.iolib.summary.Summary'>\n",
       "\"\"\"\n",
       "                            WLS Regression Results                            \n",
       "==============================================================================\n",
       "Dep. Variable:                 totexp   R-squared:                       0.098\n",
       "Model:                            WLS   Adj. R-squared:                  0.096\n",
       "Method:                 Least Squares   F-statistic:                     47.26\n",
       "Date:                Fri, 21 Jun 2019   Prob (F-statistic):           5.16e-64\n",
       "Time:                        10:34:25   Log-Likelihood:                -34481.\n",
       "No. Observations:                3064   AIC:                         6.898e+04\n",
       "Df Residuals:                    3056   BIC:                         6.903e+04\n",
       "Df Model:                           7                                         \n",
       "Covariance Type:            nonrobust                                         \n",
       "==============================================================================\n",
       "                 coef    std err          t      P>|t|      [0.025      0.975]\n",
       "------------------------------------------------------------------------------\n",
       "Intercept   7336.7580   3202.105      2.291      0.022    1058.261    1.36e+04\n",
       "suppins      278.1578    526.928      0.528      0.598    -755.012    1311.328\n",
       "phylim      2484.5203    637.289      3.899      0.000    1234.961    3734.079\n",
       "actlim      4271.1536    627.107      6.811      0.000    3041.560    5500.748\n",
       "totchr      1819.9291    202.794      8.974      0.000    1422.302    2217.556\n",
       "age          -59.3125     41.273     -1.437      0.151    -140.239      21.614\n",
       "female     -2654.4319    521.910     -5.086      0.000   -3677.763   -1631.101\n",
       "income         5.0423     13.762      0.366      0.714     -21.941      32.026\n",
       "==============================================================================\n",
       "Omnibus:                     3028.885   Durbin-Watson:                   0.500\n",
       "Prob(Omnibus):                  0.000   Jarque-Bera (JB):           181221.464\n",
       "Skew:                           4.755   Prob(JB):                         0.00\n",
       "Kurtosis:                      39.456   Cond. No.                     1.00e+03\n",
       "==============================================================================\n",
       "\n",
       "Warnings:\n",
       "[1] Standard Errors assume that the covariance matrix of the errors is correctly specified.\n",
       "[2] The condition number is large,  1e+03. This might indicate that there are\n",
       "strong multicollinearity or other numerical problems.\n",
       "\"\"\""
      ]
     },
     "execution_count": 36,
     "metadata": {},
     "output_type": "execute_result"
    }
   ],
   "source": [
    "f='totexp~suppins+phylim+actlim+totchr+age+female+income'\n",
    "res=smf.wls(formula=f,data=data,weights=data.swght).fit()\n",
    "res.summary()"
   ]
  },
  {
   "cell_type": "markdown",
   "metadata": {
    "slideshow": {
     "slide_type": "subslide"
    }
   },
   "source": [
    "- The estimated coefficients of all statistically significant variables aside from female are within 10% of those from unweighted regression.\n",
    "- Big differences between weighted and unweighted regression would indicate that $E(u_i|x_i) \\neq 0$ because of model misspecification."
   ]
  },
  {
   "cell_type": "markdown",
   "metadata": {
    "slideshow": {
     "slide_type": "subslide"
    }
   },
   "source": [
    "- After regression, unweighted prediction will provide an estimate of the sample-average value of the dependent variable. \n",
    "- We may instead want to estimate the population-mean value of the dependent variable. \n",
    "- Then sampling weights should be used in forming an average prediction."
   ]
  },
  {
   "cell_type": "code",
   "execution_count": 37,
   "metadata": {
    "slideshow": {
     "slide_type": "subslide"
    }
   },
   "outputs": [
    {
     "data": {
      "text/plain": [
       "7135.206175578559"
      ]
     },
     "execution_count": 37,
     "metadata": {},
     "output_type": "execute_result"
    }
   ],
   "source": [
    "yhat=res.predict()\n",
    "np.mean(yhat)"
   ]
  },
  {
   "cell_type": "code",
   "execution_count": 38,
   "metadata": {
    "slideshow": {
     "slide_type": "fragment"
    }
   },
   "outputs": [
    {
     "data": {
      "text/plain": [
       "10670.825470824346"
      ]
     },
     "execution_count": 38,
     "metadata": {},
     "output_type": "execute_result"
    }
   ],
   "source": [
    "np.average(yhat,weights=data.swght)"
   ]
  }
 ],
 "metadata": {
  "celltoolbar": "幻灯片",
  "kernelspec": {
   "display_name": "Python 3",
   "language": "python",
   "name": "python3"
  },
  "language_info": {
   "codemirror_mode": {
    "name": "ipython",
    "version": 3
   },
   "file_extension": ".py",
   "mimetype": "text/x-python",
   "name": "python",
   "nbconvert_exporter": "python",
   "pygments_lexer": "ipython3",
   "version": "3.7.3"
  },
  "livereveal": {
   "scroll": true
  }
 },
 "nbformat": 4,
 "nbformat_minor": 1
}
