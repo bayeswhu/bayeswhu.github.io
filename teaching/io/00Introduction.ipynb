{
 "cells": [
  {
   "cell_type": "markdown",
   "metadata": {
    "nbpresent": {
     "id": "edc23752-8d3e-43f9-a677-4816aa76fbcb"
    },
    "slideshow": {
     "slide_type": "slide"
    }
   },
   "source": [
    "## Course\n",
    "\n",
    "- Industrial Organization (Fall 2019)\n",
    "- Lecture: 5-8(W), JY-101"
   ]
  },
  {
   "cell_type": "markdown",
   "metadata": {
    "nbpresent": {
     "id": "edc23752-8d3e-43f9-a677-4816aa76fbcb"
    },
    "slideshow": {
     "slide_type": "slide"
    }
   },
   "source": [
    "## Object\n",
    "\n",
    "- The object of this course is to introduce many applied industrial organization (applied microeconometrics) method, and the implication of them with Python."
   ]
  },
  {
   "cell_type": "markdown",
   "metadata": {
    "nbpresent": {
     "id": "edc23752-8d3e-43f9-a677-4816aa76fbcb"
    },
    "slideshow": {
     "slide_type": "slide"
    }
   },
   "source": [
    "## About Me\n",
    "\n",
    "- Instructor: FANG, Jing (方晶)\n",
    "- Office: School of Economics 419\n",
    "- Email: jing_fang@hust.edu.cn"
   ]
  },
  {
   "cell_type": "markdown",
   "metadata": {
    "nbpresent": {
     "id": "edc23752-8d3e-43f9-a677-4816aa76fbcb"
    },
    "slideshow": {
     "slide_type": "subslide"
    }
   },
   "source": [
    "- Wuhan University, BA & BS in Econ & Math\n",
    "- Wuhan University, MA in Econ\n",
    "- University of Minnesota, PhD in Econ\n",
    "- Research interests: Industrial organization and applied microeconomics"
   ]
  },
  {
   "cell_type": "markdown",
   "metadata": {
    "nbpresent": {
     "id": "21bdd805-4ab6-4653-81d0-1c89d388f6a3"
    },
    "slideshow": {
     "slide_type": "slide"
    }
   },
   "source": [
    "## Course Description\n",
    "\n",
    "- There is no textbook for this course.\n",
    "- Instead, we have slides and exercises for you.\n",
    "- You need to bring your own laptop."
   ]
  },
  {
   "cell_type": "markdown",
   "metadata": {
    "nbpresent": {
     "id": "df515157-ea86-4c57-9d41-9c8005fc2bb7"
    },
    "slideshow": {
     "slide_type": "subslide"
    }
   },
   "source": [
    "- This will be a full English course. We will use English everywhere except conversation.\n",
    "- You could find the necessary materials in the course website: [bayeswhu.github.io](bayeswhu.github.io/teaching/io.html)\n",
    "- You could find enough material on the internet to help you, and you need to prepare to learn it by yourself and help each other."
   ]
  },
  {
   "cell_type": "markdown",
   "metadata": {
    "nbpresent": {
     "id": "65179e07-7c89-4895-9ad4-b4db15f40b75"
    },
    "slideshow": {
     "slide_type": "slide"
    }
   },
   "source": [
    "## Course Prerequisite\n",
    "\n",
    "- Python Programming: You need to know some basic ideas of python programming, or at least, basic idess of programming.\n",
    "    + Variable, variable type\n",
    "    + Function, parameters and return value\n",
    "    + Loop and condition, `for`, `while` and `if`"
   ]
  },
  {
   "cell_type": "markdown",
   "metadata": {
    "nbpresent": {
     "id": "65179e07-7c89-4895-9ad4-b4db15f40b75"
    },
    "slideshow": {
     "slide_type": "subslide"
    }
   },
   "source": [
    "- But don’t give up if you have none.\n",
    "- You just need to cover a few of the fundamentals of programming before returning here\n",
    "- Good references for first time programmers include:\n",
    "    + Python Crash Course\n",
    "    + Learn Python 3 the Hard Way\n",
    "    + A byte of python"
   ]
  },
  {
   "cell_type": "markdown",
   "metadata": {
    "nbpresent": {
     "id": "65179e07-7c89-4895-9ad4-b4db15f40b75"
    },
    "slideshow": {
     "slide_type": "slide"
    }
   },
   "source": [
    "## Course Requirements\n",
    "\n",
    "- Many Exercises\n",
    "- 1 Final project"
   ]
  },
  {
   "cell_type": "markdown",
   "metadata": {
    "nbpresent": {
     "id": "65179e07-7c89-4895-9ad4-b4db15f40b75"
    },
    "slideshow": {
     "slide_type": "slide"
    }
   },
   "source": [
    "## Grading Policy\n",
    "\n",
    "- The weights for the final score will be as follows:\n",
    "    + Exercises: at most 40%\n",
    "    + Final project: at least 60%"
   ]
  },
  {
   "cell_type": "markdown",
   "metadata": {
    "nbpresent": {
     "id": "65179e07-7c89-4895-9ad4-b4db15f40b75"
    },
    "slideshow": {
     "slide_type": "slide"
    }
   },
   "source": [
    "## Question？"
   ]
  }
 ],
 "metadata": {
  "celltoolbar": "幻灯片",
  "kernelspec": {
   "display_name": "Python 3",
   "language": "python",
   "name": "python3"
  },
  "language_info": {
   "codemirror_mode": {
    "name": "ipython",
    "version": 3
   },
   "file_extension": ".py",
   "mimetype": "text/x-python",
   "name": "python",
   "nbconvert_exporter": "python",
   "pygments_lexer": "ipython3",
   "version": "3.7.4"
  },
  "livereveal": {
   "scroll": true
  }
 },
 "nbformat": 4,
 "nbformat_minor": 1
}
