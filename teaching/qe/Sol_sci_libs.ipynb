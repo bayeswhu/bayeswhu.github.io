{
  "cells": [
    {
      "cell_type": "markdown",
      "metadata": {},
      "source": [
        "## Solutions"
      ]
    },
    {
      "cell_type": "markdown",
      "metadata": {},
      "source": [
        "### Exercise 1\n",
        "\n",
        "We let\n",
        "\n",
        "- 0 represent “low”  \n",
        "- 1 represent “high”  "
      ]
    },
    {
      "cell_type": "code",
      "execution_count": 14,
      "metadata": {
        "hide-output": false
      },
      "outputs": [],
      "source": [
        "p, q = 0.1, 0.2  # Prob of leaving low and high state respectively"
      ]
    },
    {
      "cell_type": "markdown",
      "metadata": {},
      "source": [
        "Here’s a pure Python version of the function"
      ]
    },
    {
      "cell_type": "code",
      "execution_count": 15,
      "metadata": {
        "hide-output": false
      },
      "outputs": [],
      "source": [
        "def compute_series(n):\n",
        "    x = np.empty(n, dtype=int)\n",
        "    x[0] = 1  # Start in state 1\n",
        "    U = np.random.uniform(0, 1, size=n)\n",
        "    for t in range(1, n):\n",
        "        current_x = x[t-1]\n",
        "        if current_x == 0:\n",
        "            x[t] = U[t] < p\n",
        "        else:\n",
        "            x[t] = U[t] > q\n",
        "    return x"
      ]
    },
    {
      "cell_type": "markdown",
      "metadata": {},
      "source": [
        "Let’s run this code and check that the fraction of time spent in the low\n",
        "state is about 0.666"
      ]
    },
    {
      "cell_type": "code",
      "execution_count": 16,
      "metadata": {
        "hide-output": false
      },
      "outputs": [
        {
          "name": "stdout",
          "output_type": "stream",
          "text": [
            "0.67027\n"
          ]
        }
      ],
      "source": [
        "n = 100000\n",
        "x = compute_series(n)\n",
        "print(np.mean(x == 0))  # Fraction of time x is in state 0"
      ]
    },
    {
      "cell_type": "markdown",
      "metadata": {},
      "source": [
        "Now let’s time it"
      ]
    },
    {
      "cell_type": "code",
      "execution_count": 17,
      "metadata": {
        "hide-output": false
      },
      "outputs": [
        {
          "name": "stdout",
          "output_type": "stream",
          "text": [
            "TOC: Elapsed: 0:00:0.08\n"
          ]
        },
        {
          "data": {
            "text/plain": [
              "0.08388733863830566"
            ]
          },
          "execution_count": 17,
          "metadata": {},
          "output_type": "execute_result"
        }
      ],
      "source": [
        "qe.util.tic()\n",
        "compute_series(n)\n",
        "qe.util.toc()"
      ]
    },
    {
      "cell_type": "markdown",
      "metadata": {},
      "source": [
        "Next let’s implement a Numba version, which is easy"
      ]
    },
    {
      "cell_type": "code",
      "execution_count": 18,
      "metadata": {
        "hide-output": false
      },
      "outputs": [],
      "source": [
        "from numba import jit\n",
        "\n",
        "compute_series_numba = jit(compute_series)"
      ]
    },
    {
      "cell_type": "markdown",
      "metadata": {},
      "source": [
        "Let’s check we still get the right numbers"
      ]
    },
    {
      "cell_type": "code",
      "execution_count": 19,
      "metadata": {
        "hide-output": false
      },
      "outputs": [
        {
          "name": "stdout",
          "output_type": "stream",
          "text": [
            "0.67007\n"
          ]
        }
      ],
      "source": [
        "x = compute_series_numba(n)\n",
        "print(np.mean(x == 0))"
      ]
    },
    {
      "cell_type": "markdown",
      "metadata": {},
      "source": [
        "Let’s see the time"
      ]
    },
    {
      "cell_type": "code",
      "execution_count": 20,
      "metadata": {
        "hide-output": false
      },
      "outputs": [
        {
          "name": "stdout",
          "output_type": "stream",
          "text": [
            "TOC: Elapsed: 0:00:0.00\n"
          ]
        },
        {
          "data": {
            "text/plain": [
              "0.0019526481628417969"
            ]
          },
          "execution_count": 20,
          "metadata": {},
          "output_type": "execute_result"
        }
      ],
      "source": [
        "qe.util.tic()\n",
        "compute_series_numba(n)\n",
        "qe.util.toc()"
      ]
    },
    {
      "cell_type": "markdown",
      "metadata": {},
      "source": [
        "This is a nice speed improvement for one line of code\n",
        "\n",
        "Now let’s implement a Cython version"
      ]
    },
    {
      "cell_type": "code",
      "execution_count": 21,
      "metadata": {
        "hide-output": false
      },
      "outputs": [
        {
          "name": "stdout",
          "output_type": "stream",
          "text": [
            "The Cython extension is already loaded. To reload it, use:\n",
            "  %reload_ext Cython\n"
          ]
        }
      ],
      "source": [
        "%load_ext Cython"
      ]
    },
    {
      "cell_type": "code",
      "execution_count": 22,
      "metadata": {
        "hide-output": false
      },
      "outputs": [],
      "source": [
        "%%cython\n",
        "import numpy as np\n",
        "from numpy cimport int_t, float_t\n",
        "\n",
        "def compute_series_cy(int n):\n",
        "    # == Create NumPy arrays first == #\n",
        "    x_np = np.empty(n, dtype=int)\n",
        "    U_np = np.random.uniform(0, 1, size=n)\n",
        "    # == Now create memoryviews of the arrays == #\n",
        "    cdef int_t [:] x = x_np\n",
        "    cdef float_t [:] U = U_np\n",
        "    # == Other variable declarations == #\n",
        "    cdef float p = 0.1\n",
        "    cdef float q = 0.2\n",
        "    cdef int t\n",
        "    # == Main loop == #\n",
        "    x[0] = 1\n",
        "    for t in range(1, n):\n",
        "        current_x = x[t-1]\n",
        "        if current_x == 0:\n",
        "            x[t] = U[t] < p\n",
        "        else:\n",
        "            x[t] = U[t] > q\n",
        "    return np.asarray(x)"
      ]
    },
    {
      "cell_type": "code",
      "execution_count": 23,
      "metadata": {
        "hide-output": false
      },
      "outputs": [
        {
          "data": {
            "text/plain": [
              "array([1, 0, 0, 0, 0, 0, 0, 0, 0, 0])"
            ]
          },
          "execution_count": 23,
          "metadata": {},
          "output_type": "execute_result"
        }
      ],
      "source": [
        "compute_series_cy(10)"
      ]
    },
    {
      "cell_type": "code",
      "execution_count": 24,
      "metadata": {
        "hide-output": false
      },
      "outputs": [
        {
          "name": "stdout",
          "output_type": "stream",
          "text": [
            "0.67129\n"
          ]
        }
      ],
      "source": [
        "x = compute_series_cy(n)\n",
        "print(np.mean(x == 0))"
      ]
    },
    {
      "cell_type": "code",
      "execution_count": 25,
      "metadata": {
        "hide-output": false
      },
      "outputs": [
        {
          "name": "stdout",
          "output_type": "stream",
          "text": [
            "TOC: Elapsed: 0:00:0.00\n"
          ]
        },
        {
          "data": {
            "text/plain": [
              "0.00342559814453125"
            ]
          },
          "execution_count": 25,
          "metadata": {},
          "output_type": "execute_result"
        }
      ],
      "source": [
        "qe.util.tic()\n",
        "compute_series_cy(n)\n",
        "qe.util.toc()"
      ]
    },
    {
      "cell_type": "markdown",
      "metadata": {},
      "source": [
        "The Cython implementation is fast, but not as fast as Numba"
      ]
    }
  ],
  "metadata": {
    "filename": "sci_libs.rst",
    "kernelspec": {
      "display_name": "Python",
      "language": "python3",
      "name": "python3"
    },
    "language_info": {
      "codemirror_mode": {
        "name": "ipython",
        "version": 3
      },
      "file_extension": ".py",
      "mimetype": "text/x-python",
      "name": "python",
      "nbconvert_exporter": "python",
      "pygments_lexer": "ipython3",
      "version": "3.7.0"
    },
    "title": "Other Scientific Libraries"
  },
  "nbformat": 4,
  "nbformat_minor": 2
}