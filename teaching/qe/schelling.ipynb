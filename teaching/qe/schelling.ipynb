{
  "cells": [
    {
      "cell_type": "markdown",
      "metadata": {},
      "source": [
        "# Schelling’s Segregation Model\n",
        "\n",
        "\n",
        "<a id='index-1'></a>"
      ]
    },
    {
      "cell_type": "markdown",
      "metadata": {},
      "source": [
        "## Contents\n",
        "\n",
        "- [Schelling’s Segregation Model](#Schelling’s-Segregation-Model)  \n",
        "  - [Outline](#Outline)  \n",
        "  - [The Model](#The-Model)  \n",
        "  - [Results](#Results)  \n",
        "  - [Exercises](#Exercises)  \n"
      ]
    },
    {
      "cell_type": "markdown",
      "metadata": {},
      "source": [
        "## Outline\n",
        "\n",
        "In 1969, Thomas C. Schelling developed a simple but striking model of racial segregation [[Sch69]](zreferences.ipynb#schelling1969)\n",
        "\n",
        "His model studies the dynamics of racially mixed neighborhoods\n",
        "\n",
        "Like much of Schelling’s work, the model shows how local interactions can lead to surprising aggregate structure\n",
        "\n",
        "In particular, it shows that relatively mild preference for neighbors of similar race can lead in aggregate to the collapse of mixed neighborhoods, and high levels of segregation\n",
        "\n",
        "In recognition of this and other research, Schelling was awarded the 2005 Nobel Prize in Economic Sciences (joint with Robert Aumann)\n",
        "\n",
        "In this lecture we (in fact you) will build and run a version of Schelling’s model"
      ]
    },
    {
      "cell_type": "markdown",
      "metadata": {},
      "source": [
        "## The Model\n",
        "\n",
        "We will cover a variation of Schelling’s model that is easy to program and captures the main idea"
      ]
    },
    {
      "cell_type": "markdown",
      "metadata": {},
      "source": [
        "### Set Up\n",
        "\n",
        "Suppose we have two types of people: orange people and green people\n",
        "\n",
        "For the purpose of this lecture, we will assume there are 250 of each type\n",
        "\n",
        "These agents all live on a single unit square\n",
        "\n",
        "The location of an agent is just a point $ (x, y) $,  where $ 0 < x, y < 1 $"
      ]
    },
    {
      "cell_type": "markdown",
      "metadata": {},
      "source": [
        "### Preferences\n",
        "\n",
        "We will say that an agent is *happy* if half or more of her 10 nearest neighbors are of the same type\n",
        "\n",
        "Here ‘nearest’ is in terms of [Euclidean distance](https://en.wikipedia.org/wiki/Euclidean_distance)\n",
        "\n",
        "An agent who is not happy is called *unhappy*\n",
        "\n",
        "An important point here is that agents are not averse to living in mixed areas\n",
        "\n",
        "They are perfectly happy if half their neighbors are of the other color"
      ]
    },
    {
      "cell_type": "markdown",
      "metadata": {},
      "source": [
        "### Behavior\n",
        "\n",
        "Initially, agents are mixed together (integrated)\n",
        "\n",
        "In particular, the initial location of each agent is an independent draw from a bivariate uniform distribution on $ S = (0, 1)^2 $\n",
        "\n",
        "Now, cycling through the set of all agents, each agent is now given the chance to stay or move\n",
        "\n",
        "We assume that each agent will stay put if they are happy and move if unhappy\n",
        "\n",
        "The algorithm for moving is as follows\n",
        "\n",
        "1. Draw a random location in $ S $  \n",
        "1. If happy at new location, move there  \n",
        "1. Else, go to step 1  \n",
        "\n",
        "\n",
        "In this way, we cycle continuously through the agents, moving as required\n",
        "\n",
        "We continue to cycle until no one wishes to move"
      ]
    },
    {
      "cell_type": "markdown",
      "metadata": {},
      "source": [
        "## Results\n",
        "\n",
        "Let’s have a look at the results we got when we coded and ran this model\n",
        "\n",
        "As discussed above, agents are initially mixed randomly together\n",
        "\n",
        "<img src=\"https://s3-ap-southeast-2.amazonaws.com/lectures.quantecon.org/py/_static/figures/schelling_fig1.png\" style=\"\">\n",
        "\n",
        "  \n",
        "But after several cycles they become segregated into distinct regions\n",
        "\n",
        "<img src=\"https://s3-ap-southeast-2.amazonaws.com/lectures.quantecon.org/py/_static/figures/schelling_fig2.png\" style=\"\">\n",
        "\n",
        "  \n",
        "<img src=\"https://s3-ap-southeast-2.amazonaws.com/lectures.quantecon.org/py/_static/figures/schelling_fig3.png\" style=\"\">\n",
        "\n",
        "  \n",
        "<img src=\"https://s3-ap-southeast-2.amazonaws.com/lectures.quantecon.org/py/_static/figures/schelling_fig4.png\" style=\"\">\n",
        "\n",
        "  \n",
        "In this instance, the program terminated after 4 cycles through the set of\n",
        "agents, indicating that all agents had reached a state of happiness\n",
        "\n",
        "What is striking about the pictures is how rapidly racial integration breaks down\n",
        "\n",
        "This is despite the fact that people in the model don’t actually mind living mixed with the other type\n",
        "\n",
        "Even with these preferences, the outcome is a high degree of segregation"
      ]
    },
    {
      "cell_type": "markdown",
      "metadata": {},
      "source": [
        "## Exercises\n",
        "\n",
        "\n",
        "<a id='schelling-ex1'></a>"
      ]
    },
    {
      "cell_type": "markdown",
      "metadata": {},
      "source": [
        "### Exercise 1\n",
        "\n",
        "Implement and run this simulation for yourself\n",
        "\n",
        "Consider the following structure for your program\n",
        "\n",
        "Agents can be modeled as [objects](python_oop.ipynb)\n",
        "\n",
        "Here’s an indication of how they might look"
      ]
    },
    {
      "cell_type": "markdown",
      "metadata": {
        "hide-output": false
      },
      "source": [
        "```text\n",
        "* Data:\n",
        "\n",
        "    * type (green or orange)\n",
        "    * location\n",
        "\n",
        "* Methods:\n",
        "\n",
        "    * Determine whether happy or not given locations of other agents\n",
        "\n",
        "    * If not happy, move\n",
        "\n",
        "        * find a new location where happy\n",
        "```\n"
      ]
    },
    {
      "cell_type": "markdown",
      "metadata": {},
      "source": [
        "And here’s some pseudocode for the main loop"
      ]
    },
    {
      "cell_type": "markdown",
      "metadata": {
        "hide-output": false
      },
      "source": [
        "```text\n",
        "while agents are still moving\n",
        "    for agent in agents\n",
        "        give agent the opportunity to move\n",
        "```\n"
      ]
    },
    {
      "cell_type": "markdown",
      "metadata": {},
      "source": [
        "Use 250 agents of each type"
      ]
    }
  ],
  "metadata": {
    "filename": "schelling.rst",
    "kernelspec": {
      "display_name": "Python",
      "language": "python3",
      "name": "python3"
    },
    "language_info": {
      "codemirror_mode": {
        "name": "ipython",
        "version": 3
      },
      "file_extension": ".py",
      "mimetype": "text/x-python",
      "name": "python",
      "nbconvert_exporter": "python",
      "pygments_lexer": "ipython3",
      "version": "3.7.0"
    },
    "title": "Schelling’s Segregation Model"
  },
  "nbformat": 4,
  "nbformat_minor": 2
}