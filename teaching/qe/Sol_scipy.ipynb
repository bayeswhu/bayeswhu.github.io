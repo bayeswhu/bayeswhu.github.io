{
  "cells": [
    {
      "cell_type": "markdown",
      "metadata": {},
      "source": [
        "## Solutions"
      ]
    },
    {
      "cell_type": "markdown",
      "metadata": {},
      "source": [
        "### Exercise 1\n",
        "\n",
        "Here’s a reasonable solution:"
      ]
    },
    {
      "cell_type": "code",
      "execution_count": 25,
      "metadata": {
        "hide-output": false
      },
      "outputs": [],
      "source": [
        "def bisect(f, a, b, tol=10e-5):\n",
        "    \"\"\"\n",
        "    Implements the bisection root finding algorithm, assuming that f is a\n",
        "    real-valued function on [a, b] satisfying f(a) < 0 < f(b).\n",
        "    \"\"\"\n",
        "    lower, upper = a, b\n",
        "    if upper - lower < tol:\n",
        "        return 0.5 * (upper + lower)\n",
        "    else:\n",
        "        middle = 0.5 * (upper + lower)\n",
        "        print(f'Current mid point = {middle}')\n",
        "        if f(middle) > 0:   # Implies root is between lower and middle\n",
        "            bisect(f, lower, middle)\n",
        "        else:               # Implies root is between middle and upper\n",
        "            bisect(f, middle, upper)"
      ]
    },
    {
      "cell_type": "markdown",
      "metadata": {},
      "source": [
        "We can test it as follows"
      ]
    },
    {
      "cell_type": "code",
      "execution_count": 26,
      "metadata": {
        "hide-output": false
      },
      "outputs": [
        {
          "name": "stdout",
          "output_type": "stream",
          "text": [
            "Current mid point = 0.5\n",
            "Current mid point = 0.25\n",
            "Current mid point = 0.375\n",
            "Current mid point = 0.4375\n",
            "Current mid point = 0.40625\n",
            "Current mid point = 0.421875\n",
            "Current mid point = 0.4140625\n",
            "Current mid point = 0.41015625\n",
            "Current mid point = 0.408203125\n",
            "Current mid point = 0.4091796875\n",
            "Current mid point = 0.40869140625\n",
            "Current mid point = 0.408447265625\n",
            "Current mid point = 0.4083251953125\n",
            "Current mid point = 0.40826416015625\n"
          ]
        }
      ],
      "source": [
        "f = lambda x: np.sin(4 * (x - 0.25)) + x + x**20 - 1\n",
        "bisect(f, 0, 1)"
      ]
    }
  ],
  "metadata": {
    "filename": "scipy.rst",
    "kernelspec": {
      "display_name": "Python",
      "language": "python3",
      "name": "python3"
    },
    "language_info": {
      "codemirror_mode": {
        "name": "ipython",
        "version": 3
      },
      "file_extension": ".py",
      "mimetype": "text/x-python",
      "name": "python",
      "nbconvert_exporter": "python",
      "pygments_lexer": "ipython3",
      "version": "3.7.0"
    },
    "title": "SciPy"
  },
  "nbformat": 4,
  "nbformat_minor": 2
}