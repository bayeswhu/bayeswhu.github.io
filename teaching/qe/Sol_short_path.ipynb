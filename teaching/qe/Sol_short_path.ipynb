{
  "cells": [
    {
      "cell_type": "markdown",
      "metadata": {},
      "source": [
        "## Solutions"
      ]
    },
    {
      "cell_type": "markdown",
      "metadata": {},
      "source": [
        "### Exercise 1"
      ]
    },
    {
      "cell_type": "code",
      "execution_count": 2,
      "metadata": {
        "hide-output": false
      },
      "outputs": [
        {
          "name": "stdout",
          "output_type": "stream",
          "text": [
            "node0\n",
            "node8\n",
            "node11\n",
            "node18\n",
            "node23\n",
            "node33\n",
            "node41\n",
            "node53\n",
            "node56\n",
            "node57\n",
            "node60\n",
            "node67\n",
            "node70\n",
            "node73\n",
            "node76\n",
            "node85\n",
            "node87\n",
            "node88\n",
            "node93\n",
            "node94\n",
            "node96\n",
            "node97\n",
            "node98\n",
            "node99\n",
            "\n",
            "Cost:  160.55000000000007\n"
          ]
        }
      ],
      "source": [
        "def read_graph(in_file):\n",
        "    \"\"\" Read in the graph from the data file.  The graph is stored\n",
        "    as a dictionary, where the keys are the nodes, and the values\n",
        "    are a list of pairs (d, c), where d is a node and c is a number.\n",
        "    If (d, c) is in the list for node n, then d can be reached from\n",
        "    n at cost c.\n",
        "    \"\"\"\n",
        "    graph = {}\n",
        "    infile = open(in_file)\n",
        "    for line in infile:\n",
        "        elements = line.split(',')\n",
        "        node = elements.pop(0)\n",
        "        graph[node] = []\n",
        "        if node != 'node99':\n",
        "            for element in elements:\n",
        "                destination, cost = element.split()\n",
        "                graph[node].append((destination, float(cost)))\n",
        "    infile.close()\n",
        "    return graph\n",
        "\n",
        "def update_J(J, graph):\n",
        "    \"The Bellman operator.\"\n",
        "    next_J = {}\n",
        "    for node in graph:\n",
        "        if node == 'node99':\n",
        "            next_J[node] = 0\n",
        "        else:\n",
        "            next_J[node] = min(cost + J[dest] for dest, cost in graph[node])\n",
        "    return next_J\n",
        "\n",
        "def print_best_path(J, graph):\n",
        "    \"\"\" Given a cost-to-go function, computes the best path.  At each node n,\n",
        "    the function prints the current location, looks at all nodes that can be\n",
        "    reached from n, and moves to the node m which minimizes c + J[m], where c\n",
        "    is the cost of moving to m.\n",
        "    \"\"\"\n",
        "    sum_costs = 0\n",
        "    current_location = 'node0'\n",
        "    while current_location != 'node99':\n",
        "        print(current_location)\n",
        "        running_min = 1e100  # Any big number\n",
        "        for destination, cost in graph[current_location]:\n",
        "            cost_of_path = cost + J[destination]\n",
        "            if cost_of_path < running_min:\n",
        "                running_min = cost_of_path\n",
        "                minimizer_cost = cost\n",
        "                minimizer_dest = destination\n",
        "        current_location = minimizer_dest\n",
        "        sum_costs += minimizer_cost\n",
        "\n",
        "    print('node99\\n')\n",
        "    print('Cost: ', sum_costs)\n",
        "\n",
        "\n",
        "## Main loop\n",
        "\n",
        "graph = read_graph('graph.txt')\n",
        "M = 1e10\n",
        "J = {}\n",
        "for node in graph:\n",
        "    J[node] = M\n",
        "J['node99'] = 0\n",
        "\n",
        "while True:\n",
        "    next_J = update_J(J, graph)\n",
        "    if next_J == J:\n",
        "        break\n",
        "    else:\n",
        "        J = next_J\n",
        "\n",
        "print_best_path(J, graph)"
      ]
    }
  ],
  "metadata": {
    "filename": "short_path.rst",
    "kernelspec": {
      "display_name": "Python",
      "language": "python3",
      "name": "python3"
    },
    "language_info": {
      "codemirror_mode": {
        "name": "ipython",
        "version": 3
      },
      "file_extension": ".py",
      "mimetype": "text/x-python",
      "name": "python",
      "nbconvert_exporter": "python",
      "pygments_lexer": "ipython3",
      "version": "3.7.0"
    },
    "title": "Shortest Paths"
  },
  "nbformat": 4,
  "nbformat_minor": 2
}