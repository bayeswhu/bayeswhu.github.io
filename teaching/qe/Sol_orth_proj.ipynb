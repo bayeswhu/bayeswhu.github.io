{
  "cells": [
    {
      "cell_type": "markdown",
      "metadata": {},
      "source": [
        "## Solutions"
      ]
    },
    {
      "cell_type": "markdown",
      "metadata": {},
      "source": [
        "### Exercise 1\n",
        "\n",
        "If $ x \\in S $ and $ x \\in S^\\perp $, then we have in particular\n",
        "that $ \\langle x, x \\rangle = 0 $, ut then $ x = 0 $"
      ]
    },
    {
      "cell_type": "markdown",
      "metadata": {},
      "source": [
        "### Exercise 2\n",
        "\n",
        "Symmetry and idempotence of $ M $ and $ P $ can be established\n",
        "using standard rules for matrix algebra. The intuition behind\n",
        "idempotence of $ M $ and $ P $ is that both are orthogonal\n",
        "projections. After a point is projected into a given subspace, applying\n",
        "the projection again makes no difference. (A point inside the subspace\n",
        "is not shifted by orthogonal projection onto that space because it is\n",
        "already the closest point in the subspace to itself.)"
      ]
    },
    {
      "cell_type": "markdown",
      "metadata": {},
      "source": [
        "### Exercise 3\n",
        "\n",
        "Here’s a function that computes the orthonormal vectors using the GS\n",
        "algorithm given in the lecture"
      ]
    },
    {
      "cell_type": "code",
      "execution_count": 1,
      "metadata": {
        "hide-output": false
      },
      "outputs": [],
      "source": [
        "import numpy as np\n",
        "\n",
        "def gram_schmidt(X):\n",
        "    \"\"\"\n",
        "    Implements Gram-Schmidt orthogonalization.\n",
        "\n",
        "    Parameters\n",
        "    ----------\n",
        "    X : an n x k array with linearly independent columns\n",
        "\n",
        "    Returns\n",
        "    -------\n",
        "    U : an n x k array with orthonormal columns\n",
        "\n",
        "    \"\"\"\n",
        "\n",
        "    # Set up\n",
        "    n, k = X.shape\n",
        "    U = np.empty((n, k))\n",
        "    I = np.eye(n)\n",
        "\n",
        "    # The first col of U is just the normalized first col of X\n",
        "    v1 = X[:,0]\n",
        "    U[:, 0] = v1 / np.sqrt(np.sum(v1 * v1))\n",
        "\n",
        "    for i in range(1, k):\n",
        "        # Set up\n",
        "        b = X[:, i]       # The vector we're going to project\n",
        "        Z = X[:, 0:i]     # First i-1 columns of X\n",
        "\n",
        "        # Project onto the orthogonal complement of the col span of Z\n",
        "        M = I - Z @ np.linalg.inv(Z.T @ Z) @ Z.T\n",
        "        u = M @ b\n",
        "\n",
        "        # Normalize\n",
        "        U[:, i] = u / np.sqrt(np.sum(u * u))\n",
        "\n",
        "    return U"
      ]
    },
    {
      "cell_type": "markdown",
      "metadata": {},
      "source": [
        "Here are the arrays we’ll work with"
      ]
    },
    {
      "cell_type": "code",
      "execution_count": 2,
      "metadata": {
        "hide-output": false
      },
      "outputs": [],
      "source": [
        "y = [1, 3, -3]\n",
        "\n",
        "X = [[1,  0],\n",
        "     [0, -6],\n",
        "     [2,  2]]\n",
        "\n",
        "X, y = [np.asarray(z) for z in (X, y)]"
      ]
    },
    {
      "cell_type": "markdown",
      "metadata": {},
      "source": [
        "First let’s try projection of $ y $ onto the column space of\n",
        "$ X $ using the ordinary matrix expression:"
      ]
    },
    {
      "cell_type": "code",
      "execution_count": 3,
      "metadata": {
        "hide-output": false
      },
      "outputs": [
        {
          "data": {
            "text/plain": [
              "array([-0.56521739,  3.26086957, -2.2173913 ])"
            ]
          },
          "execution_count": 3,
          "metadata": {},
          "output_type": "execute_result"
        }
      ],
      "source": [
        "Py1 = X @ np.linalg.inv(X.T @ X) @ X.T @ y\n",
        "Py1"
      ]
    },
    {
      "cell_type": "markdown",
      "metadata": {},
      "source": [
        "Now let’s do the same using an orthonormal basis created from our\n",
        "`gram_schmidt` function"
      ]
    },
    {
      "cell_type": "code",
      "execution_count": 4,
      "metadata": {
        "hide-output": false
      },
      "outputs": [
        {
          "data": {
            "text/plain": [
              "array([[ 0.4472136 , -0.13187609],\n",
              "       [ 0.        , -0.98907071],\n",
              "       [ 0.89442719,  0.06593805]])"
            ]
          },
          "execution_count": 4,
          "metadata": {},
          "output_type": "execute_result"
        }
      ],
      "source": [
        "U = gram_schmidt(X)\n",
        "U"
      ]
    },
    {
      "cell_type": "code",
      "execution_count": 5,
      "metadata": {
        "hide-output": false
      },
      "outputs": [
        {
          "data": {
            "text/plain": [
              "array([-0.56521739,  3.26086957, -2.2173913 ])"
            ]
          },
          "execution_count": 5,
          "metadata": {},
          "output_type": "execute_result"
        }
      ],
      "source": [
        "Py2 = U @ U.T @ y\n",
        "Py2"
      ]
    },
    {
      "cell_type": "markdown",
      "metadata": {},
      "source": [
        "This is the same answer. So far so good. Finally, let’s try the same\n",
        "thing but with the basis obtained via QR decomposition:"
      ]
    },
    {
      "cell_type": "code",
      "execution_count": 6,
      "metadata": {
        "hide-output": false
      },
      "outputs": [
        {
          "data": {
            "text/plain": [
              "array([[-0.4472136 , -0.13187609],\n",
              "       [-0.        , -0.98907071],\n",
              "       [-0.89442719,  0.06593805]])"
            ]
          },
          "execution_count": 6,
          "metadata": {},
          "output_type": "execute_result"
        }
      ],
      "source": [
        "from scipy.linalg import qr\n",
        "\n",
        "Q, R = qr(X, mode='economic')\n",
        "Q"
      ]
    },
    {
      "cell_type": "code",
      "execution_count": 7,
      "metadata": {
        "hide-output": false
      },
      "outputs": [
        {
          "data": {
            "text/plain": [
              "array([-0.56521739,  3.26086957, -2.2173913 ])"
            ]
          },
          "execution_count": 7,
          "metadata": {},
          "output_type": "execute_result"
        }
      ],
      "source": [
        "Py3 = Q @ Q.T @ y\n",
        "Py3"
      ]
    },
    {
      "cell_type": "markdown",
      "metadata": {},
      "source": [
        "Again, we obtain the same answer"
      ]
    }
  ],
  "metadata": {
    "filename": "orth_proj.rst",
    "kernelspec": {
      "display_name": "Python",
      "language": "python3",
      "name": "python3"
    },
    "language_info": {
      "codemirror_mode": {
        "name": "ipython",
        "version": 3
      },
      "file_extension": ".py",
      "mimetype": "text/x-python",
      "name": "python",
      "nbconvert_exporter": "python",
      "pygments_lexer": "ipython3",
      "version": "3.7.0"
    },
    "title": "Orthogonal Projections and Their Applications"
  },
  "nbformat": 4,
  "nbformat_minor": 2
}