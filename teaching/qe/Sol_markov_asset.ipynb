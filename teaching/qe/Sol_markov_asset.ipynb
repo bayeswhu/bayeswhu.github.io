{
  "cells": [
    {
      "cell_type": "markdown",
      "metadata": {},
      "source": [
        "## Solutions"
      ]
    },
    {
      "cell_type": "markdown",
      "metadata": {},
      "source": [
        "### Exercise 1\n",
        "\n",
        "For a cum-dividend asset, the basic risk-neutral asset pricing equation is\n",
        "\n",
        "$$\n",
        "p_t = d_t + \\beta {\\mathbb E}_t [ p_{t+1} ]\n",
        "$$\n",
        "\n",
        "\n",
        "<a id='mass-ex1'></a>\n",
        "With constant dividends, the equilibrium price is\n",
        "\n",
        "$$\n",
        "p_t = \\frac{1}{1-\\beta} d_t\n",
        "$$\n",
        "\n",
        "With a growing, non-random dividend process, the equilibrium price is\n",
        "\n",
        "$$\n",
        "p_t = \\frac{1}{1 - \\beta g} d_t\n",
        "$$"
      ]
    },
    {
      "cell_type": "markdown",
      "metadata": {},
      "source": [
        "### Exercise 2\n",
        "\n",
        "First let’s enter the parameters:"
      ]
    },
    {
      "cell_type": "code",
      "execution_count": 10,
      "metadata": {
        "hide-output": false
      },
      "outputs": [],
      "source": [
        "n = 5\n",
        "P = 0.0125 * np.ones((n, n))\n",
        "P += np.diag(0.95 - 0.0125 * np.ones(5))\n",
        "s = np.array([0.95, 0.975, 1.0, 1.025, 1.05])  # state values\n",
        "mc = qe.MarkovChain(P, state_values=s)\n",
        "\n",
        "γ = 2.0\n",
        "β = 0.94\n",
        "ζ = 1.0\n",
        "p_s = 150.0"
      ]
    },
    {
      "cell_type": "markdown",
      "metadata": {},
      "source": [
        "Next we’ll create an instance of `AssetPriceModel` to feed into the\n",
        "functions"
      ]
    },
    {
      "cell_type": "code",
      "execution_count": 11,
      "metadata": {
        "hide-output": false
      },
      "outputs": [],
      "source": [
        "apm = AssetPriceModel(β=β, mc=mc, γ=γ, g=lambda x: x)"
      ]
    },
    {
      "cell_type": "markdown",
      "metadata": {},
      "source": [
        "Now we just need to call the relevant functions on the data:"
      ]
    },
    {
      "cell_type": "code",
      "execution_count": 12,
      "metadata": {
        "hide-output": false
      },
      "outputs": [
        {
          "data": {
            "text/plain": [
              "array([29.47401578, 21.93570661, 17.57142236, 14.72515002, 12.72221763])"
            ]
          },
          "execution_count": 12,
          "metadata": {},
          "output_type": "execute_result"
        }
      ],
      "source": [
        "tree_price(apm)"
      ]
    },
    {
      "cell_type": "code",
      "execution_count": 13,
      "metadata": {
        "hide-output": false
      },
      "outputs": [
        {
          "data": {
            "text/plain": [
              "array([753.87100476, 242.55144082, 148.67554548, 109.25108965,\n",
              "        87.56860139])"
            ]
          },
          "execution_count": 13,
          "metadata": {},
          "output_type": "execute_result"
        }
      ],
      "source": [
        "consol_price(apm, ζ)"
      ]
    },
    {
      "cell_type": "code",
      "execution_count": 14,
      "metadata": {
        "hide-output": false
      },
      "outputs": [
        {
          "data": {
            "text/plain": [
              "array([603.87100476, 176.8393343 , 108.67734499,  80.05179254,\n",
              "        64.30843748])"
            ]
          },
          "execution_count": 14,
          "metadata": {},
          "output_type": "execute_result"
        }
      ],
      "source": [
        "call_option(apm, ζ, p_s)"
      ]
    },
    {
      "cell_type": "markdown",
      "metadata": {},
      "source": [
        "Let’s show the last two functions as a plot"
      ]
    },
    {
      "cell_type": "code",
      "execution_count": 15,
      "metadata": {
        "hide-output": false
      },
      "outputs": [
        {
          "data": {
            "image/png": "[encoded data removed]",
            "text/plain": [
              "<Figure size 432x288 with 1 Axes>"
            ]
          },
          "metadata": {
            "needs_background": "light"
          },
          "output_type": "display_data"
        }
      ],
      "source": [
        "fig, ax = plt.subplots()\n",
        "ax.plot(s, consol_price(apm, ζ), label='consol')\n",
        "ax.plot(s, call_option(apm, ζ, p_s), label='call option')\n",
        "ax.legend()\n",
        "plt.show()"
      ]
    },
    {
      "cell_type": "markdown",
      "metadata": {},
      "source": [
        "### Exercise 3\n",
        "\n",
        "Here’s a suitable function:"
      ]
    },
    {
      "cell_type": "code",
      "execution_count": 16,
      "metadata": {
        "hide-output": false
      },
      "outputs": [],
      "source": [
        "def finite_horizon_call_option(ap, ζ, p_s, k):\n",
        "    \"\"\"\n",
        "    Computes k period option value.\n",
        "    \"\"\"\n",
        "    # == Simplify names, set up matrices  == #\n",
        "    β, γ, P, y = ap.β, ap.γ, ap.mc.P, ap.mc.state_values\n",
        "    M = P * ap.g(y)**(- γ)\n",
        "\n",
        "    # == Make sure that a unique solution exists == #\n",
        "    ap.test_stability(M)\n",
        "\n",
        "\n",
        "    # == Compute option price == #\n",
        "    p = consol_price(ap, ζ)\n",
        "    w = np.zeros(ap.n)\n",
        "    for i in range(k):\n",
        "        # == Maximize across columns == #\n",
        "        w = np.maximum(β * M @ w, p - p_s)\n",
        "\n",
        "    return w"
      ]
    },
    {
      "cell_type": "markdown",
      "metadata": {},
      "source": [
        "Now let’s compute the option values at `k=5` and `k=25`"
      ]
    },
    {
      "cell_type": "code",
      "execution_count": 17,
      "metadata": {
        "hide-output": false
      },
      "outputs": [
        {
          "data": {
            "image/png": "[encoded data removed]",
            "text/plain": [
              "<Figure size 432x288 with 1 Axes>"
            ]
          },
          "metadata": {
            "needs_background": "light"
          },
          "output_type": "display_data"
        }
      ],
      "source": [
        "fig, ax = plt.subplots()\n",
        "for k in [5, 25]:\n",
        "    w = finite_horizon_call_option(apm, ζ, p_s, k)\n",
        "    ax.plot(s, w, label=rf'$k = {k}$')\n",
        "ax.legend()\n",
        "plt.show()"
      ]
    },
    {
      "cell_type": "markdown",
      "metadata": {},
      "source": [
        "Not surprisingly, the option has greater value with larger $ k $\n",
        "\n",
        "This is because the owner has a longer time horizon over which he or she\n",
        "may exercise the option"
      ]
    }
  ],
  "metadata": {
    "filename": "markov_asset.rst",
    "kernelspec": {
      "display_name": "Python",
      "language": "python3",
      "name": "python3"
    },
    "language_info": {
      "codemirror_mode": {
        "name": "ipython",
        "version": 3
      },
      "file_extension": ".py",
      "mimetype": "text/x-python",
      "name": "python",
      "nbconvert_exporter": "python",
      "pygments_lexer": "ipython3",
      "version": "3.7.0"
    },
    "title": "Asset Pricing I: Finite State Models"
  },
  "nbformat": 4,
  "nbformat_minor": 2
}