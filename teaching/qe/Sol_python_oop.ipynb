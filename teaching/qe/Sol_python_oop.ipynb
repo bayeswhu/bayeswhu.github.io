{
  "cells": [
    {
      "cell_type": "markdown",
      "metadata": {},
      "source": [
        "## Solutions"
      ]
    },
    {
      "cell_type": "markdown",
      "metadata": {},
      "source": [
        "### Exercise 1"
      ]
    },
    {
      "cell_type": "code",
      "execution_count": 30,
      "metadata": {
        "hide-output": false
      },
      "outputs": [],
      "source": [
        "class ECDF:\n",
        "\n",
        "    def __init__(self, observations):\n",
        "        self.observations = observations\n",
        "\n",
        "    def __call__(self, x):\n",
        "        counter = 0.0\n",
        "        for obs in self.observations:\n",
        "            if obs <= x:\n",
        "                counter += 1\n",
        "        return counter / len(self.observations)"
      ]
    },
    {
      "cell_type": "code",
      "execution_count": 31,
      "metadata": {
        "hide-output": false
      },
      "outputs": [
        {
          "name": "stdout",
          "output_type": "stream",
          "text": [
            "0.7\n",
            "0.514\n"
          ]
        }
      ],
      "source": [
        "# == test == #\n",
        "\n",
        "from random import uniform\n",
        "\n",
        "samples = [uniform(0, 1) for i in range(10)]\n",
        "F = ECDF(samples)\n",
        "\n",
        "print(F(0.5))  # Evaluate ecdf at x = 0.5\n",
        "\n",
        "F.observations = [uniform(0, 1) for i in range(1000)]\n",
        "\n",
        "print(F(0.5))"
      ]
    },
    {
      "cell_type": "markdown",
      "metadata": {},
      "source": [
        "### Exercise 2"
      ]
    },
    {
      "cell_type": "code",
      "execution_count": 32,
      "metadata": {
        "hide-output": false
      },
      "outputs": [],
      "source": [
        "class Polynomial:\n",
        "\n",
        "    def __init__(self, coefficients):\n",
        "        \"\"\"\n",
        "        Creates an instance of the Polynomial class representing\n",
        "\n",
        "            p(x) = a_0 x^0 + ... + a_N x^N,\n",
        "\n",
        "        where a_i = coefficients[i].\n",
        "        \"\"\"\n",
        "        self.coefficients = coefficients\n",
        "\n",
        "    def __call__(self, x):\n",
        "        \"Evaluate the polynomial at x.\"\n",
        "        y = 0\n",
        "        for i, a in enumerate(self.coefficients):\n",
        "            y += a * x**i\n",
        "        return y\n",
        "\n",
        "    def differentiate(self):\n",
        "        \"Reset self.coefficients to those of p' instead of p.\"\n",
        "        new_coefficients = []\n",
        "        for i, a in enumerate(self.coefficients):\n",
        "            new_coefficients.append(i * a)\n",
        "        # Remove the first element, which is zero\n",
        "        del new_coefficients[0]\n",
        "        # And reset coefficients data to new values\n",
        "        self.coefficients = new_coefficients\n",
        "        return new_coefficients"
      ]
    }
  ],
  "metadata": {
    "filename": "python_oop.rst",
    "kernelspec": {
      "display_name": "Python",
      "language": "python3",
      "name": "python3"
    },
    "language_info": {
      "codemirror_mode": {
        "name": "ipython",
        "version": 3
      },
      "file_extension": ".py",
      "mimetype": "text/x-python",
      "name": "python",
      "nbconvert_exporter": "python",
      "pygments_lexer": "ipython3",
      "version": "3.7.0"
    },
    "title": "OOP II: Building Classes"
  },
  "nbformat": 4,
  "nbformat_minor": 2
}