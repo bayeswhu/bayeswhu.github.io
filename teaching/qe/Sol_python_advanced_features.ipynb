{
  "cells": [
    {
      "cell_type": "markdown",
      "metadata": {},
      "source": [
        "## Solutions"
      ]
    },
    {
      "cell_type": "markdown",
      "metadata": {},
      "source": [
        "### Exercise 1\n",
        "\n",
        "Here’s the standard solution"
      ]
    },
    {
      "cell_type": "code",
      "execution_count": 128,
      "metadata": {
        "hide-output": false
      },
      "outputs": [],
      "source": [
        "def x(t):\n",
        "    if t == 0:\n",
        "        return 0\n",
        "    if t == 1:\n",
        "        return 1\n",
        "    else:\n",
        "        return x(t-1) + x(t-2)"
      ]
    },
    {
      "cell_type": "markdown",
      "metadata": {},
      "source": [
        "Let’s test it"
      ]
    },
    {
      "cell_type": "code",
      "execution_count": 129,
      "metadata": {
        "hide-output": false
      },
      "outputs": [
        {
          "name": "stdout",
          "output_type": "stream",
          "text": [
            "[0, 1, 1, 2, 3, 5, 8, 13, 21, 34]\n"
          ]
        }
      ],
      "source": [
        "print([x(i) for i in range(10)])"
      ]
    },
    {
      "cell_type": "markdown",
      "metadata": {},
      "source": [
        "### Exercise 2\n",
        "\n",
        "One solution is as follows"
      ]
    },
    {
      "cell_type": "code",
      "execution_count": 130,
      "metadata": {
        "hide-output": false
      },
      "outputs": [
        {
          "name": "stdout",
          "output_type": "stream",
          "text": [
            "Date\n",
            "2009-05-21\n",
            "2009-05-20\n",
            "2009-05-19\n",
            "2009-05-18\n",
            "2009-05-15\n",
            "2009-05-14\n",
            "2009-05-13\n",
            "2009-05-12\n",
            "2009-05-11\n"
          ]
        }
      ],
      "source": [
        "def column_iterator(target_file, column_number):\n",
        "    \"\"\"A generator function for CSV files.\n",
        "    When called with a file name target_file (string) and column number\n",
        "    column_number (integer), the generator function returns a generator\n",
        "    which steps through the elements of column column_number in file\n",
        "    target_file.\n",
        "    \"\"\"\n",
        "    f = open(target_file, 'r')\n",
        "    for line in f:\n",
        "        yield line.split(',')[column_number - 1]\n",
        "    f.close()\n",
        "\n",
        "dates = column_iterator('test_table.csv', 1)\n",
        "\n",
        "i = 1\n",
        "for date in dates:\n",
        "    print(date)\n",
        "    if i == 10:\n",
        "        break\n",
        "    i += 1"
      ]
    },
    {
      "cell_type": "markdown",
      "metadata": {},
      "source": [
        "### Exercise 3\n",
        "\n",
        "Let’s save the data first"
      ]
    },
    {
      "cell_type": "code",
      "execution_count": 131,
      "metadata": {
        "hide-output": false
      },
      "outputs": [
        {
          "name": "stdout",
          "output_type": "stream",
          "text": [
            "Writing numbers.txt\n"
          ]
        }
      ],
      "source": [
        "%%file numbers.txt\n",
        "prices\n",
        "3\n",
        "8\n",
        "\n",
        "7\n",
        "21"
      ]
    },
    {
      "cell_type": "code",
      "execution_count": 132,
      "metadata": {
        "hide-output": false
      },
      "outputs": [
        {
          "name": "stdout",
          "output_type": "stream",
          "text": [
            "39.0\n"
          ]
        }
      ],
      "source": [
        "f = open('numbers.txt')\n",
        "\n",
        "total = 0.0\n",
        "for line in f:\n",
        "    try:\n",
        "        total += float(line)\n",
        "    except ValueError:\n",
        "        pass\n",
        "\n",
        "f.close()\n",
        "\n",
        "print(total)"
      ]
    }
  ],
  "metadata": {
    "filename": "python_advanced_features.rst",
    "kernelspec": {
      "display_name": "Python",
      "language": "python3",
      "name": "python3"
    },
    "language_info": {
      "codemirror_mode": {
        "name": "ipython",
        "version": 3
      },
      "file_extension": ".py",
      "mimetype": "text/x-python",
      "name": "python",
      "nbconvert_exporter": "python",
      "pygments_lexer": "ipython3",
      "version": "3.7.0"
    },
    "title": "More Language Features"
  },
  "nbformat": 4,
  "nbformat_minor": 2
}