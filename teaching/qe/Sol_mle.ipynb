{
  "cells": [
    {
      "cell_type": "markdown",
      "metadata": {},
      "source": [
        "## Solutions"
      ]
    },
    {
      "cell_type": "markdown",
      "metadata": {},
      "source": [
        "### Exercise 1\n",
        "\n",
        "The log-likelihood can be written as\n",
        "\n",
        "$$\n",
        "\\log \\mathcal{L} = \\sum_{i=1}^n\n",
        "\\big[\n",
        "y_i \\log \\Phi(\\mathbf{x}_i' \\boldsymbol{\\beta}) +\n",
        "(1 - y_i) \\log (1 - \\Phi(\\mathbf{x}_i' \\boldsymbol{\\beta})) \\big]\n",
        "$$\n",
        "\n",
        "Using the **fundamental theorem of calculus**, the derivative of a\n",
        "cumulative probability distribution is its marginal distribution\n",
        "\n",
        "$$\n",
        "\\frac{ \\partial} {\\partial s} \\Phi(s) = \\phi(s)\n",
        "$$\n",
        "\n",
        "where $ \\phi $ is the marginal normal distribution\n",
        "\n",
        "The gradient vector of the Probit model is\n",
        "\n",
        "$$\n",
        "\\frac {\\partial \\log \\mathcal{L}} {\\partial \\boldsymbol{\\beta}} =\n",
        "\\sum_{i=1}^n \\Big[\n",
        "y_i \\frac{\\phi(\\mathbf{x}'_i \\boldsymbol{\\beta})}{\\Phi(\\mathbf{x}'_i \\boldsymbol{\\beta)}} -\n",
        "(1 - y_i) \\frac{\\phi(\\mathbf{x}'_i \\boldsymbol{\\beta)}}{1 - \\Phi(\\mathbf{x}'_i \\boldsymbol{\\beta)}}\n",
        "\\Big] \\mathbf{x}_i\n",
        "$$\n",
        "\n",
        "The Hessian of the Probit model is\n",
        "\n",
        "$$\n",
        "\\frac {\\partial^2 \\log \\mathcal{L}} {\\partial \\boldsymbol{\\beta} \\partial \\boldsymbol{\\beta}'} =\n",
        "- \\sum_{i=1}^n \\phi (\\mathbf{x}_i' \\boldsymbol{\\beta})\n",
        "\\Big[\n",
        "y_i \\frac{ \\phi (\\mathbf{x}_i' \\boldsymbol{\\beta}) + \\mathbf{x}_i' \\boldsymbol{\\beta} \\Phi (\\mathbf{x}_i' \\boldsymbol{\\beta}) } { [\\Phi (\\mathbf{x}_i' \\boldsymbol{\\beta})]^2 } +\n",
        "(1 - y_i) \\frac{ \\phi_i (\\mathbf{x}_i' \\boldsymbol{\\beta}) - \\mathbf{x}_i' \\boldsymbol{\\beta} (1 - \\Phi (\\mathbf{x}_i' \\boldsymbol{\\beta})) } { [1 - \\Phi (\\mathbf{x}_i' \\boldsymbol{\\beta})]^2 }\n",
        "\\Big]\n",
        "\\mathbf{x}_i \\mathbf{x}_i'\n",
        "$$\n",
        "\n",
        "Using these results, we can write a class for the Probit model as\n",
        "follows"
      ]
    },
    {
      "cell_type": "code",
      "execution_count": 19,
      "metadata": {
        "hide-output": false
      },
      "outputs": [],
      "source": [
        "from scipy.stats import norm\n",
        "\n",
        "class ProbitRegression:\n",
        "\n",
        "    def __init__(self, y, X, β):\n",
        "        self.X, self.y, self.β = X, y, β\n",
        "        self.n, self.k = X.shape\n",
        "\n",
        "    def μ(self):\n",
        "        return norm.cdf(self.X @ self.β.T)\n",
        "\n",
        "    def ϕ(self):\n",
        "        return norm.pdf(self.X @ self.β.T)\n",
        "\n",
        "    def logL(self):\n",
        "        μ = self.μ()\n",
        "        return np.sum(y * np.log(μ) + (1 - y) * np.log(1 - μ))\n",
        "\n",
        "    def G(self):\n",
        "        μ = self.μ()\n",
        "        ϕ = self.ϕ()\n",
        "        return np.sum((X.T * y * ϕ / μ - X.T * (1 - y) * ϕ / (1 - μ)), axis=1)\n",
        "\n",
        "    def H(self):\n",
        "        X = self.X\n",
        "        β = self.β\n",
        "        μ = self.μ()\n",
        "        ϕ = self.ϕ()\n",
        "        a = (ϕ + (X @ β.T) * μ) / μ**2\n",
        "        b = (ϕ - (X @ β.T) * (1 - μ)) / (1 - μ)**2\n",
        "        return -(ϕ * (y * a + (1 - y) * b) * X.T) @ X"
      ]
    },
    {
      "cell_type": "markdown",
      "metadata": {},
      "source": [
        "### Exercise 2"
      ]
    },
    {
      "cell_type": "code",
      "execution_count": 20,
      "metadata": {
        "hide-output": false
      },
      "outputs": [
        {
          "name": "stdout",
          "output_type": "stream",
          "text": [
            "Iteration_k  Log-likelihood  θ                                                           \n",
            "-----------------------------------------------------------------------------------------\n",
            "0            -2.3796884      ['-1.34', '0.775', '-0.157']\n",
            "1            -2.3687526      ['-1.53', '0.775', '-0.0981']\n",
            "2            -2.3687294      ['-1.55', '0.778', '-0.0971']\n",
            "3            -2.3687294      ['-1.55', '0.778', '-0.0971']\n",
            "Number of iterations: 4\n",
            "β_hat = [-1.54625858  0.77778952 -0.09709757]\n"
          ]
        },
        {
          "data": {
            "text/plain": [
              "array([-1.54625858,  0.77778952, -0.09709757])"
            ]
          },
          "execution_count": 20,
          "metadata": {},
          "output_type": "execute_result"
        }
      ],
      "source": [
        "X = np.array([[1, 2, 4],\n",
        "              [1, 1, 1],\n",
        "              [1, 4, 3],\n",
        "              [1, 5, 6],\n",
        "              [1, 3, 5]])\n",
        "\n",
        "y = np.array([1, 0, 1, 1, 0])\n",
        "\n",
        "# Take a guess at initial βs\n",
        "β = np.array([0.1, 0.1, 0.1])\n",
        "\n",
        "# Create instance of Probit regression class\n",
        "prob = ProbitRegression(y, X, β)\n",
        "\n",
        "# Run Newton-Raphson algorithm\n",
        "newton_raphson(prob)"
      ]
    },
    {
      "cell_type": "code",
      "execution_count": 21,
      "metadata": {
        "hide-output": false
      },
      "outputs": [
        {
          "name": "stdout",
          "output_type": "stream",
          "text": [
            "Optimization terminated successfully.\n",
            "         Current function value: 0.473746\n",
            "         Iterations 6\n",
            "                          Probit Regression Results                           \n",
            "==============================================================================\n",
            "Dep. Variable:                      y   No. Observations:                    5\n",
            "Model:                         Probit   Df Residuals:                        2\n",
            "Method:                           MLE   Df Model:                            2\n",
            "Date:                Thu, 20 Dec 2018   Pseudo R-squ.:                  0.2961\n",
            "Time:                        12:07:51   Log-Likelihood:                -2.3687\n",
            "converged:                       True   LL-Null:                       -3.3651\n",
            "                                        LLR p-value:                    0.3692\n",
            "==============================================================================\n",
            "                 coef    std err          z      P>|z|      [0.025      0.975]\n",
            "------------------------------------------------------------------------------\n",
            "const         -1.5463      1.866     -0.829      0.407      -5.204       2.111\n",
            "x1             0.7778      0.788      0.986      0.324      -0.768       2.323\n",
            "x2            -0.0971      0.590     -0.165      0.869      -1.254       1.060\n",
            "==============================================================================\n"
          ]
        }
      ],
      "source": [
        "# Use statsmodels to verify results\n",
        "\n",
        "print(Probit(y, X).fit().summary())"
      ]
    }
  ],
  "metadata": {
    "filename": "mle.rst",
    "kernelspec": {
      "display_name": "Python",
      "language": "python3",
      "name": "python3"
    },
    "language_info": {
      "codemirror_mode": {
        "name": "ipython",
        "version": 3
      },
      "file_extension": ".py",
      "mimetype": "text/x-python",
      "name": "python",
      "nbconvert_exporter": "python",
      "pygments_lexer": "ipython3",
      "version": "3.7.0"
    },
    "title": "Maximum Likelihood Estimation"
  },
  "nbformat": 4,
  "nbformat_minor": 2
}