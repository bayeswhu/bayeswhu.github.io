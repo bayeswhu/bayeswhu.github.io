{
  "cells": [
    {
      "cell_type": "markdown",
      "metadata": {},
      "source": [
        "# An Introductory Example\n",
        "\n",
        "\n",
        "<a id='index-0'></a>"
      ]
    },
    {
      "cell_type": "markdown",
      "metadata": {},
      "source": [
        "## Contents\n",
        "\n",
        "- [An Introductory Example](#An-Introductory-Example)  \n",
        "  - [Overview](#Overview)  \n",
        "  - [The Task: Plotting a White Noise Process](#The-Task:-Plotting-a-White-Noise-Process)  \n",
        "  - [Version 1](#Version-1)  \n",
        "  - [Alternative Versions](#Alternative-Versions)  \n",
        "  - [Exercises](#Exercises)  \n"
      ]
    },
    {
      "cell_type": "markdown",
      "metadata": {},
      "source": [
        "We’re now ready to start learning the Python language itself\n",
        "\n",
        "The level of this and the next few lectures will suit those with some basic knowledge of programming\n",
        "\n",
        "But don’t give up if you have none—you are not excluded\n",
        "\n",
        "You just need to cover a few of the fundamentals of programming before returning here\n",
        "\n",
        "Good references for first time programmers include:\n",
        "\n",
        "- The first 5 or 6 chapters of [How to Think Like a Computer Scientist](http://openbookproject.net/thinkcs/python/english3e)  \n",
        "- [Automate the Boring Stuff with Python](https://automatetheboringstuff.com/)  \n",
        "- The start of [Dive into Python 3](http://www.diveintopython3.net/)  \n",
        "\n",
        "\n",
        "Note: These references offer help on installing Python but you should probably stick with the method on our [set up page](getting_started.ipynb#)\n",
        "\n",
        "You’ll then have an outstanding scientific computing environment (Anaconda) and be ready to move on to the rest of our course"
      ]
    },
    {
      "cell_type": "markdown",
      "metadata": {},
      "source": [
        "## Overview\n",
        "\n",
        "In this lecture we will write and then pick apart small Python programs\n",
        "\n",
        "The objective is to introduce you to basic Python syntax and data structures\n",
        "\n",
        "Deeper concepts will be covered in later lectures"
      ]
    },
    {
      "cell_type": "markdown",
      "metadata": {},
      "source": [
        "### Prerequisites\n",
        "\n",
        "The [lecture](getting_started.ipynb#) on getting started with Python"
      ]
    },
    {
      "cell_type": "markdown",
      "metadata": {},
      "source": [
        "## The Task: Plotting a White Noise Process\n",
        "\n",
        "Suppose we want to simulate and plot the white noise\n",
        "process $ \\epsilon_0, \\epsilon_1, \\ldots, \\epsilon_T $, where each draw $ \\epsilon_t $ is independent standard normal\n",
        "\n",
        "In other words, we want to generate figures that look something like this:\n",
        "\n",
        "<img src=\"https://s3-ap-southeast-2.amazonaws.com/lectures.quantecon.org/py/_static/figures/test_program_1_updated.png\" style=\"width:60%;height:60%\">\n",
        "\n",
        "  \n",
        "We’ll do this several different ways"
      ]
    },
    {
      "cell_type": "markdown",
      "metadata": {},
      "source": [
        "## Version 1\n",
        "\n",
        "\n",
        "<a id='ourfirstprog'></a>\n",
        "Here’s a few lines of code that perform the task we set"
      ]
    },
    {
      "cell_type": "code",
      "execution_count": 1,
      "metadata": {
        "hide-output": false
      },
      "outputs": [
        {
          "data": {
            "image/png": "[encoded data removed]",
            "text/plain": [
              "<Figure size 432x288 with 1 Axes>"
            ]
          },
          "metadata": {
            "needs_background": "light"
          },
          "output_type": "display_data"
        }
      ],
      "source": [
        "import numpy as np\n",
        "import matplotlib.pyplot as plt\n",
        "%matplotlib inline\n",
        "\n",
        "x = np.random.randn(100)\n",
        "plt.plot(x)\n",
        "plt.show()"
      ]
    },
    {
      "cell_type": "markdown",
      "metadata": {},
      "source": [
        "Let’s break this program down and see how it works\n",
        "\n",
        "\n",
        "<a id='import'></a>"
      ]
    },
    {
      "cell_type": "markdown",
      "metadata": {},
      "source": [
        "### Import Statements\n",
        "\n",
        "The first two lines of the program import functionality\n",
        "\n",
        "The first line imports [NumPy](numpy.ipynb#), a favorite Python package for tasks like\n",
        "\n",
        "- working with arrays (vectors and matrices)  \n",
        "- common mathematical functions like `cos` and `sqrt`  \n",
        "- generating random numbers  \n",
        "- linear algebra, etc.  \n",
        "\n",
        "\n",
        "After `import numpy as np` we have access to these attributes via the syntax `np.`\n",
        "\n",
        "Here’s another example"
      ]
    },
    {
      "cell_type": "code",
      "execution_count": 2,
      "metadata": {
        "hide-output": false
      },
      "outputs": [
        {
          "data": {
            "text/plain": [
              "2.0"
            ]
          },
          "execution_count": 2,
          "metadata": {},
          "output_type": "execute_result"
        }
      ],
      "source": [
        "import numpy as np\n",
        "\n",
        "np.sqrt(4)"
      ]
    },
    {
      "cell_type": "markdown",
      "metadata": {},
      "source": [
        "We could also just write"
      ]
    },
    {
      "cell_type": "code",
      "execution_count": 3,
      "metadata": {
        "hide-output": false
      },
      "outputs": [
        {
          "data": {
            "text/plain": [
              "2.0"
            ]
          },
          "execution_count": 3,
          "metadata": {},
          "output_type": "execute_result"
        }
      ],
      "source": [
        "import numpy\n",
        "\n",
        "numpy.sqrt(4)"
      ]
    },
    {
      "cell_type": "markdown",
      "metadata": {},
      "source": [
        "But the former method is convenient and more standard"
      ]
    },
    {
      "cell_type": "markdown",
      "metadata": {},
      "source": [
        "#### Why all the imports?\n",
        "\n",
        "Remember that Python is a general purpose language\n",
        "\n",
        "The core language is quite small so it’s easy to learn and maintain\n",
        "\n",
        "When you want to do something interesting with Python, you almost always need\n",
        "to import additional functionality\n",
        "\n",
        "Scientific work in Python is no exception\n",
        "\n",
        "Most of our programs start off with lines similar to the `import` statements seen above"
      ]
    },
    {
      "cell_type": "markdown",
      "metadata": {},
      "source": [
        "#### Packages\n",
        "\n",
        "\n",
        "<a id='index-1'></a>\n",
        "As stated above, NumPy is a Python *package*\n",
        "\n",
        "Packages are used by developers to organize a code library\n",
        "\n",
        "In fact a package is just a directory containing\n",
        "\n",
        "1. files with Python code — called **modules** in Python speak  \n",
        "1. possibly some compiled code that can be accessed by Python (e.g., functions compiled from C or FORTRAN code)  \n",
        "1. a file called `__init__.py` that specifies what will be executed when we type `import package_name`  \n",
        "\n",
        "\n",
        "In fact you can find and explore the directory for NumPy on your computer easily enough if you look around\n",
        "\n",
        "On this machine it’s located in"
      ]
    },
    {
      "cell_type": "markdown",
      "metadata": {
        "hide-output": false
      },
      "source": [
        "```ipython\n",
        "anaconda3/lib/python3.6/site-packages/numpy\n",
        "```\n"
      ]
    },
    {
      "cell_type": "markdown",
      "metadata": {},
      "source": [
        "#### Subpackages\n",
        "\n",
        "\n",
        "<a id='index-2'></a>\n",
        "Consider the line `x = np.random.randn(100)`\n",
        "\n",
        "Here `np` refers to the package NumPy, while `random` is a **subpackage** of NumPy\n",
        "\n",
        "You can see the contents [here](https://github.com/numpy/numpy/tree/master/numpy/random)\n",
        "\n",
        "Subpackages are just packages that are subdirectories of another package"
      ]
    },
    {
      "cell_type": "markdown",
      "metadata": {},
      "source": [
        "### Importing Names Directly\n",
        "\n",
        "Recall this code that we saw above"
      ]
    },
    {
      "cell_type": "code",
      "execution_count": 4,
      "metadata": {
        "hide-output": false
      },
      "outputs": [
        {
          "data": {
            "text/plain": [
              "2.0"
            ]
          },
          "execution_count": 4,
          "metadata": {},
          "output_type": "execute_result"
        }
      ],
      "source": [
        "import numpy as np\n",
        "\n",
        "np.sqrt(4)"
      ]
    },
    {
      "cell_type": "markdown",
      "metadata": {},
      "source": [
        "Here’s another way to access NumPy’s square root function"
      ]
    },
    {
      "cell_type": "code",
      "execution_count": 5,
      "metadata": {
        "hide-output": false
      },
      "outputs": [
        {
          "data": {
            "text/plain": [
              "2.0"
            ]
          },
          "execution_count": 5,
          "metadata": {},
          "output_type": "execute_result"
        }
      ],
      "source": [
        "from numpy import sqrt\n",
        "\n",
        "sqrt(4)"
      ]
    },
    {
      "cell_type": "markdown",
      "metadata": {},
      "source": [
        "This is also fine\n",
        "\n",
        "The advantage is less typing if we use `sqrt` often in our code\n",
        "\n",
        "The disadvantage is that, in a long program, these two lines might be\n",
        "separated by many other lines\n",
        "\n",
        "Then it’s harder for readers to know where `sqrt` came from, should they wish to"
      ]
    },
    {
      "cell_type": "markdown",
      "metadata": {},
      "source": [
        "## Alternative Versions\n",
        "\n",
        "Let’s try writing some alternative versions of [our first program](#ourfirstprog)\n",
        "\n",
        "Our aim in doing this is to illustrate some more Python syntax and semantics\n",
        "\n",
        "The programs below are less efficient but\n",
        "\n",
        "- help us understand basic constructs like loops  \n",
        "- illustrate common data types like lists  "
      ]
    },
    {
      "cell_type": "markdown",
      "metadata": {},
      "source": [
        "### A Version with a For Loop\n",
        "\n",
        "Here’s a version that illustrates loops and Python lists\n",
        "\n",
        "\n",
        "<a id='firstloopprog'></a>"
      ]
    },
    {
      "cell_type": "code",
      "execution_count": 6,
      "metadata": {
        "hide-output": false
      },
      "outputs": [
        {
          "data": {
            "image/png": "[encoded data removed]",
            "text/plain": [
              "<Figure size 432x288 with 1 Axes>"
            ]
          },
          "metadata": {
            "needs_background": "light"
          },
          "output_type": "display_data"
        }
      ],
      "source": [
        "ts_length = 100\n",
        "ϵ_values = []   # Empty list\n",
        "\n",
        "for i in range(ts_length):\n",
        "    e = np.random.randn()\n",
        "    ϵ_values.append(e)\n",
        "\n",
        "plt.plot(ϵ_values)\n",
        "plt.show()"
      ]
    },
    {
      "cell_type": "markdown",
      "metadata": {},
      "source": [
        "In brief,\n",
        "\n",
        "- The first pair of lines `import` functionality as before  \n",
        "- The next line sets the desired length of the time series  \n",
        "- The next line creates an empty *list* called `ϵ_values` that will store the $ \\epsilon_t $ values as we generate them  \n",
        "- The next three lines are the `for` loop, which repeatedly draws a new random number $ \\epsilon_t $ and appends it to the end of the list `ϵ_values`  \n",
        "- The last two lines generate the plot and display it to the user  \n",
        "\n",
        "\n",
        "Let’s study some parts of this program in more detail\n",
        "\n",
        "\n",
        "<a id='lists-ref'></a>"
      ]
    },
    {
      "cell_type": "markdown",
      "metadata": {},
      "source": [
        "### Lists\n",
        "\n",
        "\n",
        "<a id='index-3'></a>\n",
        "Consider the statement `ϵ_values = []`, which creates an empty list\n",
        "\n",
        "Lists are a *native Python data structure* used to group a collection of objects\n",
        "\n",
        "For example, try"
      ]
    },
    {
      "cell_type": "code",
      "execution_count": 7,
      "metadata": {
        "hide-output": false
      },
      "outputs": [
        {
          "data": {
            "text/plain": [
              "list"
            ]
          },
          "execution_count": 7,
          "metadata": {},
          "output_type": "execute_result"
        }
      ],
      "source": [
        "x = [10, 'foo', False]  # We can include heterogeneous data inside a list\n",
        "type(x)"
      ]
    },
    {
      "cell_type": "markdown",
      "metadata": {},
      "source": [
        "The first element of `x` is an [integer](https://en.wikipedia.org/wiki/Integer_%28computer_science%29), the next is a [string](https://en.wikipedia.org/wiki/String_%28computer_science%29) and the third is a [Boolean value](https://en.wikipedia.org/wiki/Boolean_data_type)\n",
        "\n",
        "When adding a value to a list, we can use the syntax `list_name.append(some_value)`"
      ]
    },
    {
      "cell_type": "code",
      "execution_count": 8,
      "metadata": {
        "hide-output": false
      },
      "outputs": [
        {
          "data": {
            "text/plain": [
              "[10, 'foo', False]"
            ]
          },
          "execution_count": 8,
          "metadata": {},
          "output_type": "execute_result"
        }
      ],
      "source": [
        "x"
      ]
    },
    {
      "cell_type": "code",
      "execution_count": 9,
      "metadata": {
        "hide-output": false
      },
      "outputs": [
        {
          "data": {
            "text/plain": [
              "[10, 'foo', False, 2.5]"
            ]
          },
          "execution_count": 9,
          "metadata": {},
          "output_type": "execute_result"
        }
      ],
      "source": [
        "x.append(2.5)\n",
        "x"
      ]
    },
    {
      "cell_type": "markdown",
      "metadata": {},
      "source": [
        "Here `append()` is what’s called a *method*, which is a function “attached to” an object—in this case, the list `x`\n",
        "\n",
        "We’ll learn all about methods later on, but just to give you some idea,\n",
        "\n",
        "- Python objects such as lists, strings, etc. all have methods that are used\n",
        "  to manipulate the data contained in the object  \n",
        "- String objects have [string methods](https://docs.python.org/3/library/stdtypes.html#string-methods), list objects have [list methods](https://docs.python.org/3/tutorial/datastructures.html#more-on-lists), etc.  \n",
        "\n",
        "\n",
        "Another useful list method is `pop()`"
      ]
    },
    {
      "cell_type": "code",
      "execution_count": 10,
      "metadata": {
        "hide-output": false
      },
      "outputs": [
        {
          "data": {
            "text/plain": [
              "[10, 'foo', False, 2.5]"
            ]
          },
          "execution_count": 10,
          "metadata": {},
          "output_type": "execute_result"
        }
      ],
      "source": [
        "x"
      ]
    },
    {
      "cell_type": "code",
      "execution_count": 11,
      "metadata": {
        "hide-output": false
      },
      "outputs": [
        {
          "data": {
            "text/plain": [
              "2.5"
            ]
          },
          "execution_count": 11,
          "metadata": {},
          "output_type": "execute_result"
        }
      ],
      "source": [
        "x.pop()"
      ]
    },
    {
      "cell_type": "code",
      "execution_count": 12,
      "metadata": {
        "hide-output": false
      },
      "outputs": [
        {
          "data": {
            "text/plain": [
              "[10, 'foo', False]"
            ]
          },
          "execution_count": 12,
          "metadata": {},
          "output_type": "execute_result"
        }
      ],
      "source": [
        "x"
      ]
    },
    {
      "cell_type": "markdown",
      "metadata": {},
      "source": [
        "The full set of list methods can be found [here](https://docs.python.org/3/tutorial/datastructures.html#more-on-lists)\n",
        "\n",
        "Following C, C++, Java, etc., lists in Python are zero based"
      ]
    },
    {
      "cell_type": "code",
      "execution_count": 13,
      "metadata": {
        "hide-output": false
      },
      "outputs": [
        {
          "data": {
            "text/plain": [
              "[10, 'foo', False]"
            ]
          },
          "execution_count": 13,
          "metadata": {},
          "output_type": "execute_result"
        }
      ],
      "source": [
        "x"
      ]
    },
    {
      "cell_type": "code",
      "execution_count": 14,
      "metadata": {
        "hide-output": false
      },
      "outputs": [
        {
          "data": {
            "text/plain": [
              "10"
            ]
          },
          "execution_count": 14,
          "metadata": {},
          "output_type": "execute_result"
        }
      ],
      "source": [
        "x[0]"
      ]
    },
    {
      "cell_type": "code",
      "execution_count": 15,
      "metadata": {
        "hide-output": false
      },
      "outputs": [
        {
          "data": {
            "text/plain": [
              "'foo'"
            ]
          },
          "execution_count": 15,
          "metadata": {},
          "output_type": "execute_result"
        }
      ],
      "source": [
        "x[1]"
      ]
    },
    {
      "cell_type": "markdown",
      "metadata": {},
      "source": [
        "### The For Loop\n",
        "\n",
        "\n",
        "<a id='index-4'></a>\n",
        "Now let’s consider the `for` loop from [the program above](#firstloopprog), which was"
      ]
    },
    {
      "cell_type": "code",
      "execution_count": 16,
      "metadata": {
        "hide-output": false
      },
      "outputs": [],
      "source": [
        "for i in range(ts_length):\n",
        "    e = np.random.randn()\n",
        "    ϵ_values.append(e)"
      ]
    },
    {
      "cell_type": "markdown",
      "metadata": {},
      "source": [
        "Python executes the two indented lines `ts_length` times before moving on\n",
        "\n",
        "These two lines are called a `code block`, since they comprise the “block” of code that we are looping over\n",
        "\n",
        "Unlike most other languages, Python knows the extent of the code block *only from indentation*\n",
        "\n",
        "In our program, indentation decreases after line `ϵ_values.append(e)`, telling Python that this line marks the lower limit of the code block\n",
        "\n",
        "More on indentation below—for now let’s look at another example of a `for` loop"
      ]
    },
    {
      "cell_type": "code",
      "execution_count": 17,
      "metadata": {
        "hide-output": false
      },
      "outputs": [
        {
          "name": "stdout",
          "output_type": "stream",
          "text": [
            "The plural of dog is dogs\n",
            "The plural of cat is cats\n",
            "The plural of bird is birds\n"
          ]
        }
      ],
      "source": [
        "animals = ['dog', 'cat', 'bird']\n",
        "for animal in animals:\n",
        "    print(\"The plural of \" + animal + \" is \" + animal + \"s\")"
      ]
    },
    {
      "cell_type": "markdown",
      "metadata": {},
      "source": [
        "This example helps to clarify how the `for` loop works:  When we execute a\n",
        "loop of the form"
      ]
    },
    {
      "cell_type": "markdown",
      "metadata": {
        "hide-output": false
      },
      "source": [
        "```python3\n",
        "for variable_name in sequence:\n",
        "    <code block>\n",
        "```\n"
      ]
    },
    {
      "cell_type": "markdown",
      "metadata": {},
      "source": [
        "The Python interpreter performs the following:\n",
        "\n",
        "- For each element of `sequence`, it “binds” the name `variable_name` to that element and then executes the code block  \n",
        "\n",
        "\n",
        "The `sequence` object can in fact be a very general object, as we’ll see\n",
        "soon enough"
      ]
    },
    {
      "cell_type": "markdown",
      "metadata": {},
      "source": [
        "### Code Blocks and Indentation\n",
        "\n",
        "\n",
        "<a id='index-5'></a>\n",
        "In discussing the `for` loop, we explained that the code blocks being looped over are delimited by indentation\n",
        "\n",
        "In fact, in Python **all** code blocks (i.e., those occurring inside loops, if clauses, function definitions, etc.) are delimited by indentation\n",
        "\n",
        "Thus, unlike most other languages, whitespace in Python code affects the output of the program\n",
        "\n",
        "Once you get used to it, this is a good thing: It\n",
        "\n",
        "- forces clean, consistent indentation, improving readability  \n",
        "- removes clutter, such as the brackets or end statements used in other languages  \n",
        "\n",
        "\n",
        "On the other hand, it takes a bit of care to get right, so please remember:\n",
        "\n",
        "- The line before the start of a code block always ends in a colon  \n",
        "  \n",
        "  - `for i in range(10):`  \n",
        "  - `if x > y:`  \n",
        "  - `while x < 100:`  \n",
        "  - etc., etc.  \n",
        "  \n",
        "- All lines in a code block **must have the same amount of indentation**  \n",
        "- The Python standard is 4 spaces, and that’s what you should use  "
      ]
    },
    {
      "cell_type": "markdown",
      "metadata": {},
      "source": [
        "#### Tabs vs Spaces\n",
        "\n",
        "One small “gotcha” here is the mixing of tabs and spaces, which often leads to errors\n",
        "\n",
        "(Important: Within text files, the internal representation of tabs and spaces is not the same)\n",
        "\n",
        "You can use your `Tab` key to insert 4 spaces, but you need to make sure it’s configured to do so\n",
        "\n",
        "If you are using a Jupyter notebook you will have no problems here\n",
        "\n",
        "Also, good text editors will allow you to configure the Tab key to insert spaces instead of tabs — trying searching on line"
      ]
    },
    {
      "cell_type": "markdown",
      "metadata": {},
      "source": [
        "### While Loops\n",
        "\n",
        "\n",
        "<a id='index-6'></a>\n",
        "The `for` loop is the most common technique for iteration in Python\n",
        "\n",
        "But, for the purpose of illustration, let’s modify [the program above](#firstloopprog) to use a `while` loop instead\n",
        "\n",
        "\n",
        "<a id='whileloopprog'></a>"
      ]
    },
    {
      "cell_type": "code",
      "execution_count": 18,
      "metadata": {
        "hide-output": false
      },
      "outputs": [
        {
          "data": {
            "image/png": "[encoded data removed]",
            "text/plain": [
              "<Figure size 432x288 with 1 Axes>"
            ]
          },
          "metadata": {
            "needs_background": "light"
          },
          "output_type": "display_data"
        }
      ],
      "source": [
        "ts_length = 100\n",
        "ϵ_values = []\n",
        "i = 0\n",
        "while i < ts_length:\n",
        "    e = np.random.randn()\n",
        "    ϵ_values.append(e)\n",
        "    i = i + 1\n",
        "plt.plot(ϵ_values)\n",
        "plt.show()"
      ]
    },
    {
      "cell_type": "markdown",
      "metadata": {},
      "source": [
        "Note that\n",
        "\n",
        "- the code block for the `while` loop is again delimited only by indentation  \n",
        "- the statement  `i = i + 1` can be replaced by `i += 1`  \n",
        "\n",
        "\n",
        "\n",
        "<a id='user-defined-functions'></a>"
      ]
    },
    {
      "cell_type": "markdown",
      "metadata": {},
      "source": [
        "### User-Defined Functions\n",
        "\n",
        "\n",
        "<a id='index-7'></a>\n",
        "Now let’s go back to the `for` loop, but restructure our program to make the logic clearer\n",
        "\n",
        "To this end, we will break our program into two parts:\n",
        "\n",
        "1. A *user-defined function* that generates a list of random variables  \n",
        "1. The main part of the program that  \n",
        "  \n",
        "  1. calls this function to get data  \n",
        "  1. plots the data  \n",
        "  \n",
        "\n",
        "\n",
        "This is accomplished in the next program\n",
        "\n",
        "\n",
        "<a id='funcloopprog'></a>"
      ]
    },
    {
      "cell_type": "code",
      "execution_count": 19,
      "metadata": {
        "hide-output": false
      },
      "outputs": [
        {
          "data": {
            "image/png": "[encoded data removed]",
            "text/plain": [
              "<Figure size 432x288 with 1 Axes>"
            ]
          },
          "metadata": {
            "needs_background": "light"
          },
          "output_type": "display_data"
        }
      ],
      "source": [
        "def generate_data(n):\n",
        "    ϵ_values = []\n",
        "    for i in range(n):\n",
        "        e = np.random.randn()\n",
        "        ϵ_values.append(e)\n",
        "    return ϵ_values\n",
        "\n",
        "data = generate_data(100)\n",
        "plt.plot(data)\n",
        "plt.show()"
      ]
    },
    {
      "cell_type": "markdown",
      "metadata": {},
      "source": [
        "Let’s go over this carefully, in case you’re not familiar with functions and\n",
        "how they work\n",
        "\n",
        "We have defined a function called `generate_data()` as follows\n",
        "\n",
        "- `def` is a Python keyword used to start function definitions  \n",
        "- `def generate_data(n):` indicates that the function is called `generate_data`, and that it has a single argument `n`  \n",
        "- The indented code is a code block called the *function body*—in this case it creates an iid list of random draws using the same logic as before  \n",
        "- The `return` keyword indicates that `ϵ_values` is the object that should be returned to the calling code  \n",
        "\n",
        "\n",
        "This whole function definition is read by the Python interpreter and stored in memory\n",
        "\n",
        "When the interpreter gets to the expression `generate_data(100)`, it executes the function body with `n` set equal to 100\n",
        "\n",
        "The net result is that the name `data` is *bound* to the list `ϵ_values` returned by the function"
      ]
    },
    {
      "cell_type": "markdown",
      "metadata": {},
      "source": [
        "### Conditions\n",
        "\n",
        "\n",
        "<a id='index-8'></a>\n",
        "Our function `generate_data()` is rather limited\n",
        "\n",
        "Let’s make it slightly more useful by giving it the ability to return either standard normals or uniform random variables on $ (0, 1) $ as required\n",
        "\n",
        "This is achieved the next piece of code\n",
        "\n",
        "\n",
        "<a id='funcloopprog2'></a>"
      ]
    },
    {
      "cell_type": "code",
      "execution_count": 20,
      "metadata": {
        "hide-output": false
      },
      "outputs": [
        {
          "data": {
            "image/png": "[encoded data removed]",
            "text/plain": [
              "<Figure size 432x288 with 1 Axes>"
            ]
          },
          "metadata": {
            "needs_background": "light"
          },
          "output_type": "display_data"
        }
      ],
      "source": [
        "def generate_data(n, generator_type):\n",
        "    ϵ_values = []\n",
        "    for i in range(n):\n",
        "        if generator_type == 'U':\n",
        "            e = np.random.uniform(0, 1)\n",
        "        else:\n",
        "            e = np.random.randn()\n",
        "        ϵ_values.append(e)\n",
        "    return ϵ_values\n",
        "\n",
        "data = generate_data(100, 'U')\n",
        "plt.plot(data)\n",
        "plt.show()"
      ]
    },
    {
      "cell_type": "markdown",
      "metadata": {},
      "source": [
        "Hopefully the syntax of the if/else clause is self-explanatory, with indentation again delimiting the extent of the code blocks\n",
        "\n",
        "Notes\n",
        "\n",
        "- We are passing the argument `U` as a string, which is why we write it as `'U'`  \n",
        "- Notice that equality is tested with the `==` syntax, not `=`  \n",
        "  \n",
        "  - For example, the statement `a = 10` assigns the name `a` to the value `10`  \n",
        "  - The expression `a == 10` evaluates to either `True` or `False`, depending on the value of `a`  \n",
        "  \n",
        "\n",
        "\n",
        "Now, there are several ways that we can simplify the code above\n",
        "\n",
        "For example, we can get rid of the conditionals all together by just passing the desired generator type *as a function*\n",
        "\n",
        "To understand this, consider the following version\n",
        "\n",
        "\n",
        "<a id='test-program-6'></a>"
      ]
    },
    {
      "cell_type": "code",
      "execution_count": 21,
      "metadata": {
        "hide-output": false
      },
      "outputs": [
        {
          "data": {
            "image/png": "[encoded data removed]",
            "text/plain": [
              "<Figure size 432x288 with 1 Axes>"
            ]
          },
          "metadata": {
            "needs_background": "light"
          },
          "output_type": "display_data"
        }
      ],
      "source": [
        "def generate_data(n, generator_type):\n",
        "    ϵ_values = []\n",
        "    for i in range(n):\n",
        "        e = generator_type()\n",
        "        ϵ_values.append(e)\n",
        "    return ϵ_values\n",
        "\n",
        "data = generate_data(100, np.random.uniform)\n",
        "plt.plot(data)\n",
        "plt.show()"
      ]
    },
    {
      "cell_type": "markdown",
      "metadata": {},
      "source": [
        "Now, when we call the function `generate_data()`, we pass `np.random.uniform`\n",
        "as the second argument\n",
        "\n",
        "This object is a *function*\n",
        "\n",
        "When the function call  `generate_data(100, np.random.uniform)` is executed, Python runs the function code block with `n` equal to 100 and the name `generator_type` “bound” to the function `np.random.uniform`\n",
        "\n",
        "- While these lines are executed, the names `generator_type` and `np.random.uniform` are “synonyms”, and can be used in identical ways  \n",
        "\n",
        "\n",
        "This principle works more generally—for example, consider the following piece of code"
      ]
    },
    {
      "cell_type": "code",
      "execution_count": 22,
      "metadata": {
        "hide-output": false
      },
      "outputs": [
        {
          "data": {
            "text/plain": [
              "7"
            ]
          },
          "execution_count": 22,
          "metadata": {},
          "output_type": "execute_result"
        }
      ],
      "source": [
        "max(7, 2, 4)   # max() is a built-in Python function"
      ]
    },
    {
      "cell_type": "code",
      "execution_count": 23,
      "metadata": {
        "hide-output": false
      },
      "outputs": [
        {
          "data": {
            "text/plain": [
              "7"
            ]
          },
          "execution_count": 23,
          "metadata": {},
          "output_type": "execute_result"
        }
      ],
      "source": [
        "m = max\n",
        "m(7, 2, 4)"
      ]
    },
    {
      "cell_type": "markdown",
      "metadata": {},
      "source": [
        "Here we created another name for the built-in function `max()`, which could then be used in identical ways\n",
        "\n",
        "In the context of our program, the ability to bind new names to functions means that there is no problem *passing a function as an argument to another function*—as we did above"
      ]
    },
    {
      "cell_type": "markdown",
      "metadata": {},
      "source": [
        "### List Comprehensions\n",
        "\n",
        "\n",
        "<a id='index-9'></a>\n",
        "We can also simplify the code for generating the list of random draws considerably by using something called a *list comprehension*\n",
        "\n",
        "List comprehensions are an elegant Python tool for creating lists\n",
        "\n",
        "Consider the following example, where the list comprehension is on the\n",
        "right-hand side of the second line"
      ]
    },
    {
      "cell_type": "code",
      "execution_count": 24,
      "metadata": {
        "hide-output": false
      },
      "outputs": [
        {
          "data": {
            "text/plain": [
              "['dogs', 'cats', 'birds']"
            ]
          },
          "execution_count": 24,
          "metadata": {},
          "output_type": "execute_result"
        }
      ],
      "source": [
        "animals = ['dog', 'cat', 'bird']\n",
        "plurals = [animal + 's' for animal in animals]\n",
        "plurals"
      ]
    },
    {
      "cell_type": "markdown",
      "metadata": {},
      "source": [
        "Here’s another example"
      ]
    },
    {
      "cell_type": "code",
      "execution_count": 25,
      "metadata": {
        "hide-output": false
      },
      "outputs": [
        {
          "data": {
            "text/plain": [
              "range(0, 8)"
            ]
          },
          "execution_count": 25,
          "metadata": {},
          "output_type": "execute_result"
        }
      ],
      "source": [
        "range(8)"
      ]
    },
    {
      "cell_type": "code",
      "execution_count": 26,
      "metadata": {
        "hide-output": false
      },
      "outputs": [
        {
          "data": {
            "text/plain": [
              "[0, 2, 4, 6, 8, 10, 12, 14]"
            ]
          },
          "execution_count": 26,
          "metadata": {},
          "output_type": "execute_result"
        }
      ],
      "source": [
        "doubles = [2 * x for x in range(8)]\n",
        "doubles"
      ]
    },
    {
      "cell_type": "markdown",
      "metadata": {},
      "source": [
        "With the list comprehension syntax, we can simplify the lines"
      ]
    },
    {
      "cell_type": "markdown",
      "metadata": {
        "hide-output": false
      },
      "source": [
        "```python3\n",
        "ϵ_values = []\n",
        "for i in range(n):\n",
        "    e = generator_type()\n",
        "    ϵ_values.append(e)\n",
        "```\n"
      ]
    },
    {
      "cell_type": "markdown",
      "metadata": {},
      "source": [
        "into"
      ]
    },
    {
      "cell_type": "markdown",
      "metadata": {
        "hide-output": false
      },
      "source": [
        "```python3\n",
        "ϵ_values = [generator_type() for i in range(n)]\n",
        "```\n"
      ]
    },
    {
      "cell_type": "markdown",
      "metadata": {},
      "source": [
        "## Exercises\n",
        "\n",
        "\n",
        "<a id='pbe-ex1'></a>"
      ]
    },
    {
      "cell_type": "markdown",
      "metadata": {},
      "source": [
        "### Exercise 1\n",
        "\n",
        "Recall that $ n! $ is read as “$ n $ factorial” and defined as\n",
        "$ n! = n \\times (n - 1) \\times \\cdots \\times 2 \\times 1 $\n",
        "\n",
        "There are functions to compute this in various modules, but let’s\n",
        "write our own version as an exercise\n",
        "\n",
        "In particular, write a function `factorial` such that `factorial(n)` returns $ n! $\n",
        "for any positive integer $ n $\n",
        "\n",
        "\n",
        "<a id='pbe-ex2'></a>"
      ]
    },
    {
      "cell_type": "markdown",
      "metadata": {},
      "source": [
        "### Exercise 2\n",
        "\n",
        "The [binomial random variable](https://en.wikipedia.org/wiki/Binomial_distribution) $ Y \\sim Bin(n, p) $ represents the number of successes in $ n $ binary trials, where each trial succeeds with probability $ p $\n",
        "\n",
        "Without any import besides `from numpy.random import uniform`, write a function\n",
        "`binomial_rv` such that `binomial_rv(n, p)` generates one draw of $ Y $\n",
        "\n",
        "Hint: If $ U $ is uniform on $ (0, 1) $ and $ p \\in (0,1) $, then the expression `U < p` evaluates to `True` with probability $ p $\n",
        "\n",
        "\n",
        "<a id='pbe-ex3'></a>"
      ]
    },
    {
      "cell_type": "markdown",
      "metadata": {},
      "source": [
        "### Exercise 3\n",
        "\n",
        "Compute an approximation to $ \\pi $ using Monte Carlo.  Use no imports besides"
      ]
    },
    {
      "cell_type": "code",
      "execution_count": 27,
      "metadata": {
        "hide-output": false
      },
      "outputs": [],
      "source": [
        "import numpy as np"
      ]
    },
    {
      "cell_type": "markdown",
      "metadata": {},
      "source": [
        "Your hints are as follows:\n",
        "\n",
        "- If $ U $ is a bivariate uniform random variable on the unit square $ (0, 1)^2 $, then the probability that $ U $ lies in a subset $ B $ of $ (0,1)^2 $ is equal to the area of $ B $  \n",
        "- If $ U_1,\\ldots,U_n $ are iid copies of $ U $, then, as $ n $ gets large, the fraction that fall in $ B $ converges to the probability of landing in $ B $  \n",
        "- For a circle, area = pi * radius^2  \n",
        "\n",
        "\n",
        "\n",
        "<a id='pbe-ex4'></a>"
      ]
    },
    {
      "cell_type": "markdown",
      "metadata": {},
      "source": [
        "### Exercise 4\n",
        "\n",
        "Write a program that prints one realization of the following random device:\n",
        "\n",
        "- Flip an unbiased coin 10 times  \n",
        "- If 3 consecutive heads occur one or more times within this sequence, pay one dollar  \n",
        "- If not, pay nothing  \n",
        "\n",
        "\n",
        "Use no import besides `from numpy.random import uniform`\n",
        "\n",
        "\n",
        "<a id='pbe-ex5'></a>"
      ]
    },
    {
      "cell_type": "markdown",
      "metadata": {},
      "source": [
        "### Exercise 5\n",
        "\n",
        "Your next task is to simulate and plot the correlated time series\n",
        "\n",
        "$$\n",
        "x_{t+1} = \\alpha \\, x_t + \\epsilon_{t+1}\n",
        "\\quad \\text{where} \\quad\n",
        "x_0 = 0\n",
        "\\quad \\text{and} \\quad t = 0,\\ldots,T\n",
        "$$\n",
        "\n",
        "The sequence of shocks $ \\{\\epsilon_t\\} $ is assumed to be iid and standard normal\n",
        "\n",
        "In your solution, restrict your import statements to"
      ]
    },
    {
      "cell_type": "code",
      "execution_count": 28,
      "metadata": {
        "hide-output": false
      },
      "outputs": [],
      "source": [
        "import numpy as np\n",
        "import matplotlib.pyplot as plt"
      ]
    },
    {
      "cell_type": "markdown",
      "metadata": {},
      "source": [
        "Set $ T=200 $ and $ \\alpha = 0.9 $\n",
        "\n",
        "\n",
        "<a id='pbe-ex6'></a>"
      ]
    },
    {
      "cell_type": "markdown",
      "metadata": {},
      "source": [
        "### Exercise 6\n",
        "\n",
        "To do the next exercise, you will need to know how to produce a plot legend\n",
        "\n",
        "The following example should be sufficient to convey the idea"
      ]
    },
    {
      "cell_type": "code",
      "execution_count": 29,
      "metadata": {
        "hide-output": false
      },
      "outputs": [
        {
          "data": {
            "image/png": "[encoded data removed]",
            "text/plain": [
              "<Figure size 432x288 with 1 Axes>"
            ]
          },
          "metadata": {
            "needs_background": "light"
          },
          "output_type": "display_data"
        }
      ],
      "source": [
        "import numpy as np\n",
        "import matplotlib.pyplot as plt\n",
        "\n",
        "x = [np.random.randn() for i in range(100)]\n",
        "plt.plot(x, label=\"white noise\")\n",
        "plt.legend()\n",
        "plt.show()"
      ]
    },
    {
      "cell_type": "markdown",
      "metadata": {},
      "source": [
        "Now, starting with your solution to exercise 5, plot three simulated time series,\n",
        "one for each of the cases $ \\alpha=0 $, $ \\alpha=0.8 $ and $ \\alpha=0.98 $\n",
        "\n",
        "In particular, you should produce (modulo randomness) a figure that looks as follows\n",
        "\n",
        "<img src=\"https://s3-ap-southeast-2.amazonaws.com/lectures.quantecon.org/py/_static/figures/pbe_ex2_fig.png\" style=\"width:70%;height:70%\">\n",
        "\n",
        "  \n",
        "(The figure nicely illustrates how time series with the same one-step-ahead conditional volatilities, as these three processes have, can have very different unconditional volatilities.)\n",
        "\n",
        "Use a `for` loop to step through the $ \\alpha $ values\n",
        "\n",
        "Important hints:\n",
        "\n",
        "- If you call the `plot()` function multiple times before calling `show()`, all of the lines you produce will end up on the same figure  \n",
        "  \n",
        "  - And if you omit the argument `'b-'` to the plot function, Matplotlib will automatically select different colors for each line  \n",
        "  \n",
        "- The expression `'foo' + str(42)` evaluates to `'foo42'`  "
      ]
    }
  ],
  "metadata": {
    "filename": "python_by_example.rst",
    "kernelspec": {
      "display_name": "Python",
      "language": "python3",
      "name": "python3"
    },
    "language_info": {
      "codemirror_mode": {
        "name": "ipython",
        "version": 3
      },
      "file_extension": ".py",
      "mimetype": "text/x-python",
      "name": "python",
      "nbconvert_exporter": "python",
      "pygments_lexer": "ipython3",
      "version": "3.7.0"
    },
    "title": "An Introductory Example"
  },
  "nbformat": 4,
  "nbformat_minor": 2
}