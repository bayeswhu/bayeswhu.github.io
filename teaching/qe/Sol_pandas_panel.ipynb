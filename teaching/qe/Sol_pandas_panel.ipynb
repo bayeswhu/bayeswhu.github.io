{
  "cells": [
    {
      "cell_type": "markdown",
      "metadata": {},
      "source": [
        "## Solutions"
      ]
    },
    {
      "cell_type": "markdown",
      "metadata": {},
      "source": [
        "### Exercise 1"
      ]
    },
    {
      "cell_type": "code",
      "execution_count": 35,
      "metadata": {
        "hide-output": false
      },
      "outputs": [
        {
          "data": {
            "text/html": [
              "<div>\n",
              "<style scoped>\n",
              "    .dataframe tbody tr th:only-of-type {\n",
              "        vertical-align: middle;\n",
              "    }\n",
              "\n",
              "    .dataframe tbody tr th {\n",
              "        vertical-align: top;\n",
              "    }\n",
              "\n",
              "    .dataframe thead tr th {\n",
              "        text-align: left;\n",
              "    }\n",
              "\n",
              "    .dataframe thead tr:last-of-type th {\n",
              "        text-align: right;\n",
              "    }\n",
              "</style>\n",
              "<table border=\"1\" class=\"dataframe\">\n",
              "  <thead>\n",
              "    <tr>\n",
              "      <th>UNIT</th>\n",
              "      <th colspan=\"3\" halign=\"left\">Percentage of total population</th>\n",
              "      <th>...</th>\n",
              "      <th colspan=\"3\" halign=\"left\">Thousand persons</th>\n",
              "    </tr>\n",
              "    <tr>\n",
              "      <th>AGE</th>\n",
              "      <th colspan=\"3\" halign=\"left\">From 15 to 24 years</th>\n",
              "      <th>...</th>\n",
              "      <th colspan=\"3\" halign=\"left\">From 55 to 64 years</th>\n",
              "    </tr>\n",
              "    <tr>\n",
              "      <th>SEX</th>\n",
              "      <th colspan=\"3\" halign=\"left\">Females</th>\n",
              "      <th>...</th>\n",
              "      <th colspan=\"3\" halign=\"left\">Total</th>\n",
              "    </tr>\n",
              "    <tr>\n",
              "      <th>INDIC_EM</th>\n",
              "      <th colspan=\"3\" halign=\"left\">Active population</th>\n",
              "      <th>...</th>\n",
              "      <th colspan=\"3\" halign=\"left\">Total employment (resident population concept - LFS)</th>\n",
              "    </tr>\n",
              "    <tr>\n",
              "      <th>GEO</th>\n",
              "      <th>Austria</th>\n",
              "      <th>Belgium</th>\n",
              "      <th>Bulgaria</th>\n",
              "      <th>...</th>\n",
              "      <th>Switzerland</th>\n",
              "      <th>Turkey</th>\n",
              "      <th>United Kingdom</th>\n",
              "    </tr>\n",
              "    <tr>\n",
              "      <th>DATE</th>\n",
              "      <th></th>\n",
              "      <th></th>\n",
              "      <th></th>\n",
              "      <th></th>\n",
              "      <th></th>\n",
              "      <th></th>\n",
              "      <th></th>\n",
              "    </tr>\n",
              "  </thead>\n",
              "  <tbody>\n",
              "    <tr>\n",
              "      <th>2007-01-01</th>\n",
              "      <td>56.00</td>\n",
              "      <td>31.60</td>\n",
              "      <td>26.00</td>\n",
              "      <td>...</td>\n",
              "      <td>nan</td>\n",
              "      <td>1,282.00</td>\n",
              "      <td>4,131.00</td>\n",
              "    </tr>\n",
              "    <tr>\n",
              "      <th>2008-01-01</th>\n",
              "      <td>56.20</td>\n",
              "      <td>30.80</td>\n",
              "      <td>26.10</td>\n",
              "      <td>...</td>\n",
              "      <td>nan</td>\n",
              "      <td>1,354.00</td>\n",
              "      <td>4,204.00</td>\n",
              "    </tr>\n",
              "    <tr>\n",
              "      <th>2009-01-01</th>\n",
              "      <td>56.20</td>\n",
              "      <td>29.90</td>\n",
              "      <td>24.80</td>\n",
              "      <td>...</td>\n",
              "      <td>nan</td>\n",
              "      <td>1,449.00</td>\n",
              "      <td>4,193.00</td>\n",
              "    </tr>\n",
              "    <tr>\n",
              "      <th>2010-01-01</th>\n",
              "      <td>54.00</td>\n",
              "      <td>29.80</td>\n",
              "      <td>26.60</td>\n",
              "      <td>...</td>\n",
              "      <td>640.00</td>\n",
              "      <td>1,583.00</td>\n",
              "      <td>4,186.00</td>\n",
              "    </tr>\n",
              "    <tr>\n",
              "      <th>2011-01-01</th>\n",
              "      <td>54.80</td>\n",
              "      <td>29.80</td>\n",
              "      <td>24.80</td>\n",
              "      <td>...</td>\n",
              "      <td>661.00</td>\n",
              "      <td>1,760.00</td>\n",
              "      <td>4,164.00</td>\n",
              "    </tr>\n",
              "  </tbody>\n",
              "</table>\n",
              "<p>5 rows × 1440 columns</p>\n",
              "</div>"
            ],
            "text/plain": [
              "UNIT       Percentage of total population                       ...        \\\n",
              "AGE                   From 15 to 24 years                       ...         \n",
              "SEX                               Females                       ...         \n",
              "INDIC_EM                Active population                       ...         \n",
              "GEO                               Austria Belgium Bulgaria      ...         \n",
              "DATE                                                            ...         \n",
              "2007-01-01                          56.00   31.60    26.00      ...         \n",
              "2008-01-01                          56.20   30.80    26.10      ...         \n",
              "2009-01-01                          56.20   29.90    24.80      ...         \n",
              "2010-01-01                          54.00   29.80    26.60      ...         \n",
              "2011-01-01                          54.80   29.80    24.80      ...         \n",
              "\n",
              "UNIT                                           Thousand persons           \\\n",
              "AGE                                         From 55 to 64 years            \n",
              "SEX                                                       Total            \n",
              "INDIC_EM   Total employment (resident population concept - LFS)            \n",
              "GEO                                                 Switzerland   Turkey   \n",
              "DATE                                                                       \n",
              "2007-01-01                                                nan   1,282.00   \n",
              "2008-01-01                                                nan   1,354.00   \n",
              "2009-01-01                                                nan   1,449.00   \n",
              "2010-01-01                                             640.00   1,583.00   \n",
              "2011-01-01                                             661.00   1,760.00   \n",
              "\n",
              "UNIT                       \n",
              "AGE                        \n",
              "SEX                        \n",
              "INDIC_EM                   \n",
              "GEO        United Kingdom  \n",
              "DATE                       \n",
              "2007-01-01       4,131.00  \n",
              "2008-01-01       4,204.00  \n",
              "2009-01-01       4,193.00  \n",
              "2010-01-01       4,186.00  \n",
              "2011-01-01       4,164.00  \n",
              "\n",
              "[5 rows x 1440 columns]"
            ]
          },
          "execution_count": 35,
          "metadata": {},
          "output_type": "execute_result"
        }
      ],
      "source": [
        "employ = pd.read_csv('https://github.com/QuantEcon/QuantEcon.lectures.code/raw/master/pandas_panel/employ.csv')\n",
        "employ = employ.pivot_table(values='Value',\n",
        "                            index=['DATE'],\n",
        "                            columns=['UNIT','AGE', 'SEX', 'INDIC_EM', 'GEO'])\n",
        "employ.index = pd.to_datetime(employ.index) # ensure that dates are datetime format\n",
        "employ.head()"
      ]
    },
    {
      "cell_type": "markdown",
      "metadata": {},
      "source": [
        "This is a large dataset so it is useful to explore the levels and\n",
        "variables available"
      ]
    },
    {
      "cell_type": "code",
      "execution_count": 36,
      "metadata": {
        "hide-output": false
      },
      "outputs": [
        {
          "data": {
            "text/plain": [
              "FrozenList(['UNIT', 'AGE', 'SEX', 'INDIC_EM', 'GEO'])"
            ]
          },
          "execution_count": 36,
          "metadata": {},
          "output_type": "execute_result"
        }
      ],
      "source": [
        "employ.columns.names"
      ]
    },
    {
      "cell_type": "markdown",
      "metadata": {},
      "source": [
        "Variables within levels can be quickly retrieved with a loop"
      ]
    },
    {
      "cell_type": "code",
      "execution_count": 37,
      "metadata": {
        "hide-output": false
      },
      "outputs": [
        {
          "name": "stdout",
          "output_type": "stream",
          "text": [
            "UNIT Index(['Percentage of total population', 'Thousand persons'], dtype='object', name='UNIT')\n",
            "AGE Index(['From 15 to 24 years', 'From 25 to 54 years', 'From 55 to 64 years'], dtype='object', name='AGE')\n",
            "SEX Index(['Females', 'Males', 'Total'], dtype='object', name='SEX')\n",
            "INDIC_EM Index(['Active population', 'Total employment (resident population concept - LFS)'], dtype='object', name='INDIC_EM')\n",
            "GEO Index(['Austria', 'Belgium', 'Bulgaria', 'Croatia', 'Cyprus', 'Czech Republic',\n",
            "       'Denmark', 'Estonia', 'Euro area (17 countries)',\n",
            "       'Euro area (18 countries)', 'Euro area (19 countries)',\n",
            "       'European Union (15 countries)', 'European Union (27 countries)',\n",
            "       'European Union (28 countries)', 'Finland',\n",
            "       'Former Yugoslav Republic of Macedonia, the', 'France',\n",
            "       'France (metropolitan)',\n",
            "       'Germany (until 1990 former territory of the FRG)', 'Greece', 'Hungary',\n",
            "       'Iceland', 'Ireland', 'Italy', 'Latvia', 'Lithuania', 'Luxembourg',\n",
            "       'Malta', 'Netherlands', 'Norway', 'Poland', 'Portugal', 'Romania',\n",
            "       'Slovakia', 'Slovenia', 'Spain', 'Sweden', 'Switzerland', 'Turkey',\n",
            "       'United Kingdom'],\n",
            "      dtype='object', name='GEO')\n"
          ]
        }
      ],
      "source": [
        "for name in employ.columns.names:\n",
        "    print(name, employ.columns.get_level_values(name).unique())"
      ]
    },
    {
      "cell_type": "markdown",
      "metadata": {},
      "source": [
        "### Exercise 2\n",
        "\n",
        "To easily filter by country, swap `GEO` to the top level and sort the\n",
        "`MultiIndex`"
      ]
    },
    {
      "cell_type": "code",
      "execution_count": 38,
      "metadata": {
        "hide-output": false
      },
      "outputs": [],
      "source": [
        "employ.columns = employ.columns.swaplevel(0,-1)\n",
        "employ = employ.sort_index(axis=1)"
      ]
    },
    {
      "cell_type": "markdown",
      "metadata": {},
      "source": [
        "We need to get rid of a few items in `GEO` which are not countries\n",
        "\n",
        "A fast way to get rid of the EU areas is to use a list comprehension to\n",
        "find the level values in `GEO` that begin with ‘Euro’"
      ]
    },
    {
      "cell_type": "code",
      "execution_count": 39,
      "metadata": {
        "hide-output": false
      },
      "outputs": [
        {
          "data": {
            "text/plain": [
              "Index(['Austria', 'Belgium', 'Bulgaria', 'Croatia', 'Cyprus', 'Czech Republic',\n",
              "       'Denmark', 'Estonia', 'Finland',\n",
              "       'Former Yugoslav Republic of Macedonia, the', 'France',\n",
              "       'France (metropolitan)',\n",
              "       'Germany (until 1990 former territory of the FRG)', 'Greece', 'Hungary',\n",
              "       'Iceland', 'Ireland', 'Italy', 'Latvia', 'Lithuania', 'Luxembourg',\n",
              "       'Malta', 'Netherlands', 'Norway', 'Poland', 'Portugal', 'Romania',\n",
              "       'Slovakia', 'Slovenia', 'Spain', 'Sweden', 'Switzerland', 'Turkey',\n",
              "       'United Kingdom'],\n",
              "      dtype='object', name='GEO')"
            ]
          },
          "execution_count": 39,
          "metadata": {},
          "output_type": "execute_result"
        }
      ],
      "source": [
        "geo_list = employ.columns.get_level_values('GEO').unique().tolist()\n",
        "countries = [x for x in geo_list if not x.startswith('Euro')]\n",
        "employ = employ[countries]\n",
        "employ.columns.get_level_values('GEO').unique()"
      ]
    },
    {
      "cell_type": "markdown",
      "metadata": {},
      "source": [
        "Select only percentage employed in the active population from the\n",
        "dataframe"
      ]
    },
    {
      "cell_type": "code",
      "execution_count": 40,
      "metadata": {
        "hide-output": false
      },
      "outputs": [
        {
          "data": {
            "text/html": [
              "<div>\n",
              "<style scoped>\n",
              "    .dataframe tbody tr th:only-of-type {\n",
              "        vertical-align: middle;\n",
              "    }\n",
              "\n",
              "    .dataframe tbody tr th {\n",
              "        vertical-align: top;\n",
              "    }\n",
              "\n",
              "    .dataframe thead tr th {\n",
              "        text-align: left;\n",
              "    }\n",
              "\n",
              "    .dataframe thead tr:last-of-type th {\n",
              "        text-align: right;\n",
              "    }\n",
              "</style>\n",
              "<table border=\"1\" class=\"dataframe\">\n",
              "  <thead>\n",
              "    <tr>\n",
              "      <th>GEO</th>\n",
              "      <th colspan=\"3\" halign=\"left\">Austria</th>\n",
              "      <th>...</th>\n",
              "      <th colspan=\"3\" halign=\"left\">United Kingdom</th>\n",
              "    </tr>\n",
              "    <tr>\n",
              "      <th>AGE</th>\n",
              "      <th colspan=\"3\" halign=\"left\">From 15 to 24 years</th>\n",
              "      <th>...</th>\n",
              "      <th colspan=\"3\" halign=\"left\">From 55 to 64 years</th>\n",
              "    </tr>\n",
              "    <tr>\n",
              "      <th>SEX</th>\n",
              "      <th>Females</th>\n",
              "      <th>Males</th>\n",
              "      <th>Total</th>\n",
              "      <th>...</th>\n",
              "      <th>Females</th>\n",
              "      <th>Males</th>\n",
              "      <th>Total</th>\n",
              "    </tr>\n",
              "    <tr>\n",
              "      <th>DATE</th>\n",
              "      <th></th>\n",
              "      <th></th>\n",
              "      <th></th>\n",
              "      <th></th>\n",
              "      <th></th>\n",
              "      <th></th>\n",
              "      <th></th>\n",
              "    </tr>\n",
              "  </thead>\n",
              "  <tbody>\n",
              "    <tr>\n",
              "      <th>2007-01-01</th>\n",
              "      <td>56.00</td>\n",
              "      <td>62.90</td>\n",
              "      <td>59.40</td>\n",
              "      <td>...</td>\n",
              "      <td>49.90</td>\n",
              "      <td>68.90</td>\n",
              "      <td>59.30</td>\n",
              "    </tr>\n",
              "    <tr>\n",
              "      <th>2008-01-01</th>\n",
              "      <td>56.20</td>\n",
              "      <td>62.90</td>\n",
              "      <td>59.50</td>\n",
              "      <td>...</td>\n",
              "      <td>50.20</td>\n",
              "      <td>69.80</td>\n",
              "      <td>59.80</td>\n",
              "    </tr>\n",
              "    <tr>\n",
              "      <th>2009-01-01</th>\n",
              "      <td>56.20</td>\n",
              "      <td>62.90</td>\n",
              "      <td>59.50</td>\n",
              "      <td>...</td>\n",
              "      <td>50.60</td>\n",
              "      <td>70.30</td>\n",
              "      <td>60.30</td>\n",
              "    </tr>\n",
              "    <tr>\n",
              "      <th>2010-01-01</th>\n",
              "      <td>54.00</td>\n",
              "      <td>62.60</td>\n",
              "      <td>58.30</td>\n",
              "      <td>...</td>\n",
              "      <td>51.10</td>\n",
              "      <td>69.20</td>\n",
              "      <td>60.00</td>\n",
              "    </tr>\n",
              "    <tr>\n",
              "      <th>2011-01-01</th>\n",
              "      <td>54.80</td>\n",
              "      <td>63.60</td>\n",
              "      <td>59.20</td>\n",
              "      <td>...</td>\n",
              "      <td>51.30</td>\n",
              "      <td>68.40</td>\n",
              "      <td>59.70</td>\n",
              "    </tr>\n",
              "  </tbody>\n",
              "</table>\n",
              "<p>5 rows × 306 columns</p>\n",
              "</div>"
            ],
            "text/plain": [
              "GEO                    Austria              ...       United Kingdom        \\\n",
              "AGE        From 15 to 24 years              ...  From 55 to 64 years         \n",
              "SEX                    Females Males Total  ...              Females Males   \n",
              "DATE                                        ...                              \n",
              "2007-01-01               56.00 62.90 59.40  ...                49.90 68.90   \n",
              "2008-01-01               56.20 62.90 59.50  ...                50.20 69.80   \n",
              "2009-01-01               56.20 62.90 59.50  ...                50.60 70.30   \n",
              "2010-01-01               54.00 62.60 58.30  ...                51.10 69.20   \n",
              "2011-01-01               54.80 63.60 59.20  ...                51.30 68.40   \n",
              "\n",
              "GEO               \n",
              "AGE               \n",
              "SEX        Total  \n",
              "DATE              \n",
              "2007-01-01 59.30  \n",
              "2008-01-01 59.80  \n",
              "2009-01-01 60.30  \n",
              "2010-01-01 60.00  \n",
              "2011-01-01 59.70  \n",
              "\n",
              "[5 rows x 306 columns]"
            ]
          },
          "execution_count": 40,
          "metadata": {},
          "output_type": "execute_result"
        }
      ],
      "source": [
        "employ_f = employ.xs(('Percentage of total population', 'Active population'),\n",
        "                     level=('UNIT', 'INDIC_EM'),\n",
        "                     axis=1)\n",
        "employ_f.head()"
      ]
    },
    {
      "cell_type": "markdown",
      "metadata": {},
      "source": [
        "Drop the ‘Total’ value before creating the grouped boxplot"
      ]
    },
    {
      "cell_type": "code",
      "execution_count": 41,
      "metadata": {
        "hide-output": false
      },
      "outputs": [],
      "source": [
        "employ_f = employ_f.drop('Total', level='SEX', axis=1)"
      ]
    },
    {
      "cell_type": "code",
      "execution_count": 42,
      "metadata": {
        "hide-output": false
      },
      "outputs": [
        {
          "data": {
            "image/png": "[encoded data removed]",
            "text/plain": [
              "<Figure size 432x288 with 1 Axes>"
            ]
          },
          "metadata": {
            "needs_background": "light"
          },
          "output_type": "display_data"
        }
      ],
      "source": [
        "box = employ_f['2015'].unstack().reset_index()\n",
        "sns.boxplot(x=\"AGE\", y=0, hue=\"SEX\", data=box, palette=(\"husl\"), showfliers=False)\n",
        "plt.xlabel('')\n",
        "plt.xticks(rotation=35)\n",
        "plt.ylabel('Percentage of population (%)')\n",
        "plt.title('Employment in Europe (2015)')\n",
        "plt.legend(bbox_to_anchor=(1,0.5))\n",
        "plt.show()"
      ]
    }
  ],
  "metadata": {
    "filename": "pandas_panel.rst",
    "kernelspec": {
      "display_name": "Python",
      "language": "python3",
      "name": "python3"
    },
    "language_info": {
      "codemirror_mode": {
        "name": "ipython",
        "version": 3
      },
      "file_extension": ".py",
      "mimetype": "text/x-python",
      "name": "python",
      "nbconvert_exporter": "python",
      "pygments_lexer": "ipython3",
      "version": "3.7.0"
    },
    "title": "Pandas for Panel Data"
  },
  "nbformat": 4,
  "nbformat_minor": 2
}