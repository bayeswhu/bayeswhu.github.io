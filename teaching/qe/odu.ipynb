{
  "cells": [
    {
      "cell_type": "markdown",
      "metadata": {},
      "source": [
        "# Job Search III: Search with Learning"
      ]
    },
    {
      "cell_type": "markdown",
      "metadata": {},
      "source": [
        "## Contents\n",
        "\n",
        "- [Job Search III: Search with Learning](#Job-Search-III:-Search-with-Learning)  \n",
        "  - [Overview](#Overview)  \n",
        "  - [Model](#Model)  \n",
        "  - [Take 1: Solution by VFI](#Take-1:-Solution-by-VFI)  \n",
        "  - [Take 2: A More Efficient Method](#Take-2:-A-More-Efficient-Method)  \n",
        "  - [Exercises](#Exercises)  \n",
        "  - [Appendix](#Appendix)  "
      ]
    },
    {
      "cell_type": "markdown",
      "metadata": {},
      "source": [
        "## Overview\n",
        "\n",
        "In this lecture we consider an extension of the [previously studied](mccall_model.html) job search model of McCall [[McC70]](https://lectures.quantecon.org/py/zreferences.ipynb#mccall1970)\n",
        "\n",
        "In the McCall model, an unemployed worker decides when to accept a permanent position at a specified wage, given\n",
        "\n",
        "- his or her discount rate  \n",
        "- the level of unemployment compensation  \n",
        "- the distribution from which wage offers are drawn  \n",
        "\n",
        "\n",
        "In the version considered below, the wage distribution is unknown and must be learned\n",
        "\n",
        "- The following is based on the presentation in [[LS18]](zreferences.ipynb#ljungqvist2012), section 6.6  \n",
        "\n",
        "\n",
        "Let’s start with some imports"
      ]
    },
    {
      "cell_type": "code",
      "execution_count": 1,
      "metadata": {
        "hide-output": false
      },
      "outputs": [],
      "source": [
        "from numba import njit, prange, vectorize\n",
        "from interpolation import mlinterp, interp\n",
        "from math import gamma\n",
        "import numpy as np\n",
        "import matplotlib.pyplot as plt\n",
        "%matplotlib inline\n",
        "from matplotlib import cm"
      ]
    },
    {
      "cell_type": "markdown",
      "metadata": {},
      "source": [
        "### Model features\n",
        "\n",
        "- Infinite horizon dynamic programming with two states and one binary control  \n",
        "- Bayesian updating to learn the unknown distribution  "
      ]
    },
    {
      "cell_type": "markdown",
      "metadata": {},
      "source": [
        "## Model\n",
        "\n",
        "\n",
        "<a id='index-0'></a>\n",
        "Let’s first review the basic McCall model [[McC70]](zreferences.ipynb#mccall1970) and then add the variation we want to consider"
      ]
    },
    {
      "cell_type": "markdown",
      "metadata": {},
      "source": [
        "### The Basic McCall Model\n",
        "\n",
        "\n",
        "<a id='index-1'></a>\n",
        "Recall that, [in the baseline model](mccall_model.ipynb), an unemployed worker is presented in each period with a\n",
        "permanent job offer at wage $ W_t $\n",
        "\n",
        "At time $ t $, our worker either\n",
        "\n",
        "1. accepts the offer and works permanently at constant wage $ W_t $  \n",
        "1. rejects the offer, receives unemployment compensation $ c $ and reconsiders next period  \n",
        "\n",
        "\n",
        "The wage sequence $ \\{W_t\\} $ is iid and generated from known density $ q $\n",
        "\n",
        "The worker aims to maximize the expected discounted sum of earnings $ \\mathbb{E} \\sum_{t=0}^{\\infty} \\beta^t y_t $\n",
        "The function $ V $ satisfies the recursion\n",
        "\n",
        "\n",
        "<a id='equation-odu-odu-pv'></a>\n",
        "$$\n",
        "v(w)\n",
        "= \\max \\left\\{\n",
        "\\frac{w}{1 - \\beta}, \\, c + \\beta \\int v(w')q(w') dw'\n",
        "\\right\\} \\tag{1}\n",
        "$$\n",
        "\n",
        "The optimal policy has the form $ \\mathbf{1}\\{w \\geq \\bar w\\} $, where\n",
        "$ \\bar w $ is a constant depending called the *reservation wage*"
      ]
    },
    {
      "cell_type": "markdown",
      "metadata": {},
      "source": [
        "### Offer Distribution Unknown\n",
        "\n",
        "Now let’s extend the model by considering the variation presented in [[LS18]](zreferences.ipynb#ljungqvist2012), section 6.6\n",
        "\n",
        "The model is as above, apart from the fact that\n",
        "\n",
        "- the density $ q $ is unknown  \n",
        "- the worker learns about $ q $ by starting with a prior and updating based on wage offers that he/she observes  \n",
        "\n",
        "\n",
        "The worker knows there are two possible distributions $ F $ and $ G $ — with densities $ f $ and $ g $\n",
        "\n",
        "At the start of time, “nature” selects $ q $ to be either $ f $ or\n",
        "$ g $ — the wage distribution from which the entire sequence $ \\{W_t\\} $ will be drawn\n",
        "\n",
        "This choice is not observed by the worker, who puts prior probability $ \\pi_0 $ on $ f $ being chosen\n",
        "\n",
        "Update rule: worker’s time $ t $ estimate of the distribution is $ \\pi_t f + (1 - \\pi_t) g $, where $ \\pi_t $ updates via\n",
        "\n",
        "\n",
        "<a id='equation-odu-pi-rec'></a>\n",
        "$$\n",
        "\\pi_{t+1}\n",
        "= \\frac{\\pi_t f(w_{t+1})}{\\pi_t f(w_{t+1}) + (1 - \\pi_t) g(w_{t+1})} \\tag{2}\n",
        "$$\n",
        "\n",
        "This last expression follows from Bayes’ rule, which tells us that\n",
        "\n",
        "$$\n",
        "\\mathbb{P}\\{q = f \\,|\\, W = w\\}\n",
        "= \\frac{\\mathbb{P}\\{W = w \\,|\\, q = f\\}\\mathbb{P}\\{q = f\\}}\n",
        "{\\mathbb{P}\\{W = w\\}}\n",
        "\\quad \\text{and} \\quad\n",
        "\\mathbb{P}\\{W = w\\} = \\sum_{\\omega \\in \\{f, g\\}} \\mathbb{P}\\{W = w \\,|\\, q = \\omega\\} \\mathbb{P}\\{q = \\omega\\}\n",
        "$$\n",
        "\n",
        "The fact that [(2)](#equation-odu-pi-rec) is recursive allows us to progress to a recursive solution method\n",
        "\n",
        "Letting\n",
        "\n",
        "$$\n",
        "q_{\\pi}(w) := \\pi f(w) + (1 - \\pi) g(w)\n",
        "\\quad \\text{and} \\quad\n",
        "\\kappa(w, \\pi) := \\frac{\\pi f(w)}{\\pi f(w) + (1 - \\pi) g(w)}\n",
        "$$\n",
        "\n",
        "we can express the value function for the unemployed worker recursively as\n",
        "follows\n",
        "\n",
        "\n",
        "<a id='equation-odu-mvf'></a>\n",
        "$$\n",
        "v(w, \\pi)\n",
        "= \\max \\left\\{\n",
        "\\frac{w}{1 - \\beta}, \\, c + \\beta \\int v(w', \\pi') \\, q_{\\pi}(w') \\, dw'\n",
        "\\right\\}\n",
        "\\quad \\text{where} \\quad\n",
        "\\pi' = \\kappa(w', \\pi) \\tag{3}\n",
        "$$\n",
        "\n",
        "Notice that the current guess $ \\pi $ is a state variable, since it affects the worker’s perception of probabilities for future rewards"
      ]
    },
    {
      "cell_type": "markdown",
      "metadata": {},
      "source": [
        "### Parameterization\n",
        "\n",
        "Following  section 6.6 of [[LS18]](zreferences.ipynb#ljungqvist2012), our baseline parameterization will be\n",
        "\n",
        "- $ f $ is $ \\operatorname{Beta}(1, 1) $  \n",
        "- $ g $ is $ \\operatorname{Beta}(3, 1.2) $  \n",
        "- $ \\beta = 0.95 $ and $ c = 0.3 $  \n",
        "\n",
        "\n",
        "The densities $ f $ and $ g $ have the following shape"
      ]
    },
    {
      "cell_type": "code",
      "execution_count": 2,
      "metadata": {
        "hide-output": false
      },
      "outputs": [
        {
          "data": {
            "image/png": "[encoded data removed]",
            "text/plain": [
              "<Figure size 720x576 with 1 Axes>"
            ]
          },
          "metadata": {
            "needs_background": "light"
          },
          "output_type": "display_data"
        }
      ],
      "source": [
        "def beta_function_factory(a, b):\n",
        "\n",
        "    @vectorize\n",
        "    def p(x):\n",
        "        r = gamma(a + b) / (gamma(a) * gamma(b))\n",
        "        return r * x**(a-1) * (1 - x)**(b-1)\n",
        "\n",
        "    return p\n",
        "\n",
        "\n",
        "x_grid = np.linspace(0, 1, 100)\n",
        "f = beta_function_factory(1, 1)\n",
        "g = beta_function_factory(3, 1.2)\n",
        "\n",
        "plt.figure(figsize=(10, 8))\n",
        "plt.plot(x_grid, f(x_grid), label='$f$', lw=2)\n",
        "plt.plot(x_grid, g(x_grid), label='$g$', lw=2)\n",
        "\n",
        "plt.legend()\n",
        "plt.show()"
      ]
    },
    {
      "cell_type": "markdown",
      "metadata": {},
      "source": [
        "\n",
        "<a id='looking-forward'></a>"
      ]
    },
    {
      "cell_type": "markdown",
      "metadata": {},
      "source": [
        "### Looking Forward\n",
        "\n",
        "What kind of optimal policy might result from [(3)](#equation-odu-mvf) and the parameterization specified above?\n",
        "\n",
        "Intuitively, if we accept at $ w_a $ and $ w_a \\leq w_b $, then — all other things being given — we should also accept at $ w_b $\n",
        "\n",
        "This suggests a policy of accepting whenever $ w $ exceeds some threshold value $ \\bar w $\n",
        "\n",
        "But $ \\bar w $ should depend on $ \\pi $ — in fact it should be decreasing in $ \\pi $ because\n",
        "\n",
        "- $ f $ is a less attractive offer distribution than $ g $  \n",
        "- larger $ \\pi $ means more weight on $ f $ and less on $ g $  \n",
        "\n",
        "\n",
        "Thus larger $ \\pi $ depresses the worker’s assessment of her future prospects, and relatively low current offers become more attractive\n",
        "\n",
        "**Summary:**  We conjecture that the optimal policy is of the form\n",
        "$ \\mathbb 1\\{w \\geq \\bar w(\\pi) \\} $ for some decreasing function\n",
        "$ \\bar w $"
      ]
    },
    {
      "cell_type": "markdown",
      "metadata": {},
      "source": [
        "## Take 1: Solution by VFI\n",
        "\n",
        "Let’s set about solving the model and see how our results match with our intuition\n",
        "\n",
        "We begin by solving via value function iteration (VFI), which is natural but ultimately turns out to be second best\n",
        "\n",
        "The class `SearchProblem` is used to store parameters and methods needed to compute optimal actions\n",
        "\n",
        "\n",
        "<a id='odu-vfi-code'></a>"
      ]
    },
    {
      "cell_type": "code",
      "execution_count": 3,
      "metadata": {
        "hide-output": false
      },
      "outputs": [],
      "source": [
        "class SearchProblem:\n",
        "    \"\"\"\n",
        "    A class to store a given parameterization of the \"offer distribution\n",
        "    unknown\" model.\n",
        "\n",
        "    \"\"\"\n",
        "\n",
        "    def __init__(self,\n",
        "                 β=0.95,            # Discount factor\n",
        "                 c=0.3,             # Unemployment compensation\n",
        "                 F_a=1,\n",
        "                 F_b=1,\n",
        "                 G_a=3,\n",
        "                 G_b=1.2,\n",
        "                 w_max=1,           # Maximum wage possible\n",
        "                 w_grid_size=100,\n",
        "                 π_grid_size=100,\n",
        "                 mc_size=500):\n",
        "\n",
        "        self.β, self.c, self.w_max = β, c, w_max\n",
        "\n",
        "        self.f = beta_function_factory(F_a, F_b)\n",
        "        self.g = beta_function_factory(G_a, G_b)\n",
        "\n",
        "        self.π_min, self.π_max = 1e-3, 1-1e-3    # Avoids instability\n",
        "        self.w_grid = np.linspace(0, w_max, w_grid_size)\n",
        "        self.π_grid = np.linspace(self.π_min, self.π_max, π_grid_size)\n",
        "\n",
        "        self.mc_size = mc_size\n",
        "\n",
        "        self.w_f = np.random.beta(F_a, F_b, mc_size)\n",
        "        self.w_g = np.random.beta(G_a, G_b, mc_size)"
      ]
    },
    {
      "cell_type": "markdown",
      "metadata": {},
      "source": [
        "The following function takes an instance of this class and returns jitted versions\n",
        "of the Bellman operator `T`, and a `get_greedy()` function to compute the approximate\n",
        "optimal policy from a guess `v` of the value function"
      ]
    },
    {
      "cell_type": "code",
      "execution_count": 4,
      "metadata": {
        "hide-output": false
      },
      "outputs": [],
      "source": [
        "def operator_factory(sp, parallel_flag=True):\n",
        "\n",
        "    f, g = sp.f, sp.g\n",
        "    w_f, w_g = sp.w_f, sp.w_g\n",
        "    β, c = sp.β, sp.c\n",
        "    mc_size = sp.mc_size\n",
        "    w_grid, π_grid = sp.w_grid, sp.π_grid\n",
        "\n",
        "    @njit\n",
        "    def κ(w, π):\n",
        "        \"\"\"\n",
        "        Updates π using Bayes' rule and the current wage observation w.\n",
        "        \"\"\"\n",
        "        pf, pg = π * f(w), (1 - π) * g(w)\n",
        "        π_new = pf / (pf + pg)\n",
        "\n",
        "        return π_new\n",
        "\n",
        "    @njit(parallel=parallel_flag)\n",
        "    def T(v):\n",
        "        \"\"\"\n",
        "        The Bellman operator.\n",
        "\n",
        "        \"\"\"\n",
        "        v_func = lambda x, y: mlinterp((w_grid, π_grid), v, (x, y))\n",
        "        v_new = np.empty_like(v)\n",
        "\n",
        "        for i in prange(len(w_grid)):\n",
        "            for j in prange(len(π_grid)):\n",
        "                w = w_grid[i]\n",
        "                π = π_grid[j]\n",
        "\n",
        "                v_1 = w / (1 - β)\n",
        "\n",
        "                integral_f, integral_g = 0.0, 0.0\n",
        "                for m in prange(mc_size):\n",
        "                    integral_f += v_func(w_f[m], κ(w_f[m], π))\n",
        "                    integral_g += v_func(w_g[m], κ(w_g[m], π))\n",
        "                integral = (π * integral_f + (1 - π) * integral_g) / mc_size\n",
        "\n",
        "                v_2 = c + β * integral\n",
        "                v_new[i, j] = max(v_1, v_2)\n",
        "\n",
        "        return v_new\n",
        "\n",
        "    @njit(parallel=parallel_flag)\n",
        "    def get_greedy(v):\n",
        "        \"\"\"\"\n",
        "        Compute optimal actions taking v as the value function.\n",
        "\n",
        "        \"\"\"\n",
        "\n",
        "        v_func = lambda x, y: mlinterp((w_grid, π_grid), v, (x, y))\n",
        "        σ = np.empty_like(v)\n",
        "\n",
        "        for i in prange(len(w_grid)):\n",
        "            for j in prange(len(π_grid)):\n",
        "                w = w_grid[i]\n",
        "                π = π_grid[j]\n",
        "\n",
        "                v_1 = w / (1 - β)\n",
        "\n",
        "                integral_f, integral_g = 0.0, 0.0\n",
        "                for m in prange(mc_size):\n",
        "                    integral_f += v_func(w_f[m], κ(w_f[m], π))\n",
        "                    integral_g += v_func(w_g[m], κ(w_g[m], π))\n",
        "                integral = (π * integral_f + (1 - π) * integral_g) / mc_size\n",
        "\n",
        "                v_2 = c + β * integral\n",
        "\n",
        "                σ[i, j] = v_1 > v_2  # Evaluates to 1 or 0\n",
        "\n",
        "        return σ\n",
        "\n",
        "    return T, get_greedy"
      ]
    },
    {
      "cell_type": "markdown",
      "metadata": {},
      "source": [
        "We will omit a detailed discussion of the code because there is a\n",
        "more efficient solution method that we will use later\n",
        "\n",
        "To solve the model we will use the following function that iterates using\n",
        "T to find a fixed point"
      ]
    },
    {
      "cell_type": "code",
      "execution_count": 5,
      "metadata": {
        "hide-output": false
      },
      "outputs": [],
      "source": [
        "def solve_model(sp,\n",
        "                use_parallel=True,\n",
        "                tol=1e-4,\n",
        "                max_iter=1000,\n",
        "                verbose=True,\n",
        "                print_skip=5):\n",
        "\n",
        "    \"\"\"\n",
        "    Solves for the value function\n",
        "\n",
        "    * sp is an instance of SearchProblem\n",
        "    \"\"\"\n",
        "\n",
        "    T, _ = operator_factory(sp, use_parallel)\n",
        "\n",
        "    # Set up loop\n",
        "    i = 0\n",
        "    error = tol + 1\n",
        "    m, n = len(sp.w_grid), len(sp.π_grid)\n",
        "\n",
        "    # Initialize v\n",
        "    v = np.zeros((m, n)) + sp.c / (1 - sp.β)\n",
        "\n",
        "    while i < max_iter and error > tol:\n",
        "        v_new = T(v)\n",
        "        error = np.max(np.abs(v - v_new))\n",
        "        i += 1\n",
        "        if verbose and i % print_skip == 0:\n",
        "            print(f\"Error at iteration {i} is {error}.\")\n",
        "        v = v_new\n",
        "\n",
        "    if i == max_iter:\n",
        "        print(\"Failed to converge!\")\n",
        "\n",
        "    if verbose and i < max_iter:\n",
        "        print(f\"\\nConverged in {i} iterations.\")\n",
        "\n",
        "\n",
        "    return v_new"
      ]
    },
    {
      "cell_type": "markdown",
      "metadata": {},
      "source": [
        "Let’s look at solutions computed from value function iteration"
      ]
    },
    {
      "cell_type": "code",
      "execution_count": 6,
      "metadata": {
        "hide-output": false
      },
      "outputs": [
        {
          "name": "stdout",
          "output_type": "stream",
          "text": [
            "Error at iteration 5 is 0.6542351024907358.\n"
          ]
        },
        {
          "name": "stdout",
          "output_type": "stream",
          "text": [
            "Error at iteration 10 is 0.09814628973083295.\n"
          ]
        },
        {
          "name": "stdout",
          "output_type": "stream",
          "text": [
            "Error at iteration 15 is 0.018151455040568365.\n"
          ]
        },
        {
          "name": "stdout",
          "output_type": "stream",
          "text": [
            "Error at iteration 20 is 0.00343876778277874.\n"
          ]
        },
        {
          "name": "stdout",
          "output_type": "stream",
          "text": [
            "Error at iteration 25 is 0.000658871320192489.\n"
          ]
        },
        {
          "name": "stdout",
          "output_type": "stream",
          "text": [
            "Error at iteration 30 is 0.00012497704235769902.\n"
          ]
        },
        {
          "name": "stdout",
          "output_type": "stream",
          "text": [
            "\n",
            "Converged in 31 iterations.\n"
          ]
        },
        {
          "data": {
            "image/png": "[encoded data removed]",
            "text/plain": [
              "<Figure size 432x432 with 1 Axes>"
            ]
          },
          "metadata": {
            "needs_background": "light"
          },
          "output_type": "display_data"
        }
      ],
      "source": [
        "sp = SearchProblem()\n",
        "v_star = solve_model(sp)\n",
        "fig, ax = plt.subplots(figsize=(6, 6))\n",
        "ax.contourf(sp.π_grid, sp.w_grid, v_star, 12, alpha=0.6, cmap=cm.jet)\n",
        "cs = ax.contour(sp.π_grid, sp.w_grid, v_star, 12, colors=\"black\")\n",
        "ax.clabel(cs, inline=1, fontsize=10)\n",
        "ax.set(xlabel='$\\pi$', ylabel='$w$')\n",
        "\n",
        "plt.show()"
      ]
    },
    {
      "cell_type": "markdown",
      "metadata": {},
      "source": [
        "\n",
        "<a id='odu-pol-vfi'></a>\n",
        "We will also plot the optimal policy"
      ]
    },
    {
      "cell_type": "code",
      "execution_count": 7,
      "metadata": {
        "hide-output": false
      },
      "outputs": [
        {
          "data": {
            "image/png": "[encoded data removed]",
            "text/plain": [
              "<Figure size 432x432 with 1 Axes>"
            ]
          },
          "metadata": {
            "needs_background": "light"
          },
          "output_type": "display_data"
        }
      ],
      "source": [
        "T, get_greedy = operator_factory(sp)\n",
        "σ_star = get_greedy(v_star)\n",
        "\n",
        "fig, ax = plt.subplots(figsize=(6, 6))\n",
        "ax.contourf(sp.π_grid, sp.w_grid, σ_star, 1, alpha=0.6, cmap=cm.jet)\n",
        "ax.contour(sp.π_grid, sp.w_grid, σ_star, 1, colors=\"black\")\n",
        "ax.set(xlabel='$\\pi$', ylabel='$w$')\n",
        "\n",
        "ax.text(0.5, 0.6, 'reject')\n",
        "ax.text(0.7, 0.9, 'accept')\n",
        "\n",
        "plt.show()"
      ]
    },
    {
      "cell_type": "markdown",
      "metadata": {},
      "source": [
        "The results fit well with our intuition from section [looking forward](#looking-forward)\n",
        "\n",
        "- The black line in the figure above corresponds to the function $ \\bar w(\\pi) $ introduced there  \n",
        "- It is decreasing as expected  "
      ]
    },
    {
      "cell_type": "markdown",
      "metadata": {},
      "source": [
        "## Take 2: A More Efficient Method\n",
        "\n",
        "Let’s consider another method to solve for the optimal policy\n",
        "\n",
        "We will use iteration with an operator that has the same contraction rate as the Bellman operator, but\n",
        "\n",
        "- one dimensional rather than two dimensional  \n",
        "- no maximization step  \n",
        "\n",
        "\n",
        "As a consequence, the algorithm is orders of magnitude faster than VFI\n",
        "\n",
        "This section illustrates the point that when it comes to programming, a bit of\n",
        "mathematical analysis goes a long way"
      ]
    },
    {
      "cell_type": "markdown",
      "metadata": {},
      "source": [
        "### Another Functional Equation\n",
        "\n",
        "To begin, note that when $ w = \\bar w(\\pi) $, the worker is indifferent\n",
        "between accepting and rejecting\n",
        "\n",
        "Hence the two choices on the right-hand side of [(3)](#equation-odu-mvf) have equal value:\n",
        "\n",
        "\n",
        "<a id='equation-odu-mvf2'></a>\n",
        "$$\n",
        "\\frac{\\bar w(\\pi)}{1 - \\beta}\n",
        "= c + \\beta \\int v(w', \\pi') \\, q_{\\pi}(w') \\, dw' \\tag{4}\n",
        "$$\n",
        "\n",
        "Together, [(3)](#equation-odu-mvf) and [(4)](#equation-odu-mvf2) give\n",
        "\n",
        "\n",
        "<a id='equation-odu-mvf3'></a>\n",
        "$$\n",
        "v(w, \\pi) =\n",
        "\\max\n",
        "\\left\\{\n",
        "    \\frac{w}{1 - \\beta} ,\\, \\frac{\\bar w(\\pi)}{1 - \\beta}\n",
        "\\right\\} \\tag{5}\n",
        "$$\n",
        "\n",
        "Combining [(4)](#equation-odu-mvf2) and [(5)](#equation-odu-mvf3), we obtain\n",
        "\n",
        "$$\n",
        "\\frac{\\bar w(\\pi)}{1 - \\beta}\n",
        "= c + \\beta \\int \\max \\left\\{\n",
        "    \\frac{w'}{1 - \\beta} ,\\, \\frac{\\bar w(\\pi')}{1 - \\beta}\n",
        "\\right\\}\n",
        "\\, q_{\\pi}(w') \\, dw'\n",
        "$$\n",
        "\n",
        "Multiplying by $ 1 - \\beta $, substituting in $ \\pi' = \\kappa(w', \\pi) $\n",
        "and using $ \\circ $ for composition of functions yields\n",
        "\n",
        "\n",
        "<a id='equation-odu-mvf4'></a>\n",
        "$$\n",
        "\\bar w(\\pi)\n",
        "= (1 - \\beta) c +\n",
        "\\beta \\int \\max \\left\\{ w', \\bar w \\circ \\kappa(w', \\pi) \\right\\} \\, q_{\\pi}(w') \\, dw' \\tag{6}\n",
        "$$\n",
        "\n",
        "Equation [(6)](#equation-odu-mvf4) can be understood as a functional equation, where $ \\bar w $ is the unknown function\n",
        "\n",
        "- Let’s call it the *reservation wage functional equation* (RWFE)  \n",
        "- The solution $ \\bar w $ to the RWFE is the object that we wish to compute  "
      ]
    },
    {
      "cell_type": "markdown",
      "metadata": {},
      "source": [
        "### Solving the RWFE\n",
        "\n",
        "To solve the RWFE, we will first show that its solution is the\n",
        "fixed point of a [contraction mapping](https://en.wikipedia.org/wiki/Contraction_mapping)\n",
        "\n",
        "To this end, let\n",
        "\n",
        "- $ b[0,1] $ be the bounded real-valued functions on $ [0,1] $  \n",
        "- $ \\| \\omega \\| := \\sup_{x \\in [0,1]} | \\omega(x) | $  \n",
        "\n",
        "\n",
        "Consider the operator $ Q $ mapping $ \\omega \\in b[0,1] $ into $ Q\\omega \\in b[0,1] $ via\n",
        "\n",
        "\n",
        "<a id='equation-odu-dq'></a>\n",
        "$$\n",
        "(Q \\omega)(\\pi)\n",
        "= (1 - \\beta) c +\n",
        "\\beta \\int \\max \\left\\{ w', \\omega \\circ \\kappa(w', \\pi) \\right\\} \\, q_{\\pi}(w') \\, dw' \\tag{7}\n",
        "$$\n",
        "\n",
        "Comparing [(6)](#equation-odu-mvf4) and [(7)](#equation-odu-dq), we see that the set of fixed points of $ Q $ exactly coincides with the set of solutions to the RWFE\n",
        "\n",
        "- If $ Q \\bar w = \\bar w $ then $ \\bar w $ solves [(6)](#equation-odu-mvf4) and vice versa  \n",
        "\n",
        "\n",
        "Moreover, for any $ \\omega, \\omega' \\in b[0,1] $, basic algebra and the\n",
        "triangle inequality for integrals tells us that\n",
        "\n",
        "\n",
        "<a id='equation-odu-nt'></a>\n",
        "$$\n",
        "|(Q \\omega)(\\pi) - (Q \\omega')(\\pi)|\n",
        "\\leq \\beta \\int\n",
        "\\left|\n",
        "\\max \\left\\{w', \\omega \\circ \\kappa(w', \\pi) \\right\\} -\n",
        "\\max \\left\\{w', \\omega' \\circ \\kappa(w', \\pi) \\right\\}\n",
        "\\right|\n",
        "\\, q_{\\pi}(w') \\, dw' \\tag{8}\n",
        "$$\n",
        "\n",
        "Working case by case, it is easy to check that for real numbers $ a, b, c $ we always have\n",
        "\n",
        "\n",
        "<a id='equation-odu-nt2'></a>\n",
        "$$\n",
        "| \\max\\{a, b\\} - \\max\\{a, c\\}| \\leq | b - c| \\tag{9}\n",
        "$$\n",
        "\n",
        "Combining [(8)](#equation-odu-nt) and [(9)](#equation-odu-nt2) yields\n",
        "\n",
        "\n",
        "<a id='equation-odu-nt3'></a>\n",
        "$$\n",
        "|(Q \\omega)(\\pi) - (Q \\omega')(\\pi)|\n",
        "\\leq \\beta \\int\n",
        "\\left| \\omega \\circ \\kappa(w', \\pi) -  \\omega' \\circ \\kappa(w', \\pi) \\right|\n",
        "\\, q_{\\pi}(w') \\, dw'\n",
        "\\leq \\beta \\| \\omega - \\omega' \\| \\tag{10}\n",
        "$$\n",
        "\n",
        "Taking the supremum over $ \\pi $ now gives us\n",
        "\n",
        "\n",
        "<a id='equation-odu-rwc'></a>\n",
        "$$\n",
        "\\|Q \\omega - Q \\omega'\\|\n",
        "\\leq \\beta \\| \\omega - \\omega' \\| \\tag{11}\n",
        "$$\n",
        "\n",
        "In other words, $ Q $ is a contraction of modulus $ \\beta $ on the\n",
        "complete metric space $ (b[0,1], \\| \\cdot \\|) $\n",
        "\n",
        "Hence\n",
        "\n",
        "- A unique solution $ \\bar w $ to the RWFE exists in $ b[0,1] $  \n",
        "- $ Q^k \\omega \\to \\bar w $ uniformly as $ k \\to \\infty $, for any $ \\omega \\in b[0,1] $  "
      ]
    },
    {
      "cell_type": "markdown",
      "metadata": {},
      "source": [
        "#### Implementation\n",
        "\n",
        "The following function takes an instance of `SearchProblem` and returns the\n",
        "operator `Q`"
      ]
    },
    {
      "cell_type": "code",
      "execution_count": 8,
      "metadata": {
        "hide-output": false
      },
      "outputs": [],
      "source": [
        "def Q_factory(sp, parallel_flag=True):\n",
        "\n",
        "    f, g = sp.f, sp.g\n",
        "    w_f, w_g = sp.w_f, sp.w_g\n",
        "    β, c = sp.β, sp.c\n",
        "    mc_size = sp.mc_size\n",
        "    w_grid, π_grid = sp.w_grid, sp.π_grid\n",
        "\n",
        "    @njit\n",
        "    def κ(w, π):\n",
        "        \"\"\"\n",
        "        Updates π using Bayes' rule and the current wage observation w.\n",
        "        \"\"\"\n",
        "        pf, pg = π * f(w), (1 - π) * g(w)\n",
        "        π_new = pf / (pf + pg)\n",
        "\n",
        "        return π_new\n",
        "\n",
        "    @njit\n",
        "    def Q(ω):\n",
        "        \"\"\"\n",
        "\n",
        "        Updates the reservation wage function guess ω via the operator\n",
        "        Q.\n",
        "\n",
        "        \"\"\"\n",
        "        ω_func = lambda p: interp(π_grid, ω, p)\n",
        "        ω_new = np.empty_like(ω)\n",
        "\n",
        "        for i in prange(len(π_grid)):\n",
        "            π = π_grid[i]\n",
        "            integral_f, integral_g = 0.0, 0.0\n",
        "\n",
        "            for m in prange(mc_size):\n",
        "                integral_f += max(w_f[m], ω_func(κ(w_f[m], π)))\n",
        "                integral_g += max(w_g[m], ω_func(κ(w_g[m], π)))\n",
        "            integral = (π * integral_f + (1 - π) * integral_g) / mc_size\n",
        "\n",
        "            ω_new[i] = (1 - β) * c + β * integral\n",
        "\n",
        "        return ω_new\n",
        "\n",
        "    return Q"
      ]
    },
    {
      "cell_type": "markdown",
      "metadata": {},
      "source": [
        "In the next exercise you are asked to compute an approximation to $ \\bar w $"
      ]
    },
    {
      "cell_type": "markdown",
      "metadata": {},
      "source": [
        "## Exercises\n",
        "\n",
        "\n",
        "<a id='odu-ex1'></a>"
      ]
    },
    {
      "cell_type": "markdown",
      "metadata": {},
      "source": [
        "### Exercise 1\n",
        "\n",
        "Use the default parameters and `Q_factory` to compute an optimal policy\n",
        "\n",
        "Your result should coincide closely with the figure for the optimal policy [shown above](#odu-pol-vfi)\n",
        "\n",
        "Try experimenting with different parameters, and confirm that the change in\n",
        "the optimal policy coincides with your intuition"
      ]
    },
    {
      "cell_type": "markdown",
      "metadata": {},
      "source": [
        "## Appendix\n",
        "\n",
        "The next piece of code is just a fun simulation to see what the effect of a change in the\n",
        "underlying distribution on the unemployment rate is\n",
        "\n",
        "At a point in the simulation, the distribution becomes significantly worse\n",
        "\n",
        "It takes a while for agents to learn this, and in the meantime they are too optimistic,\n",
        "and turn down too many jobs\n",
        "\n",
        "As a result, the unemployment rate spikes"
      ]
    },
    {
      "cell_type": "code",
      "execution_count": 11,
      "metadata": {
        "hide-output": false
      },
      "outputs": [
        {
          "data": {
            "image/png": "[encoded data removed]",
            "text/plain": [
              "<Figure size 720x432 with 1 Axes>"
            ]
          },
          "metadata": {
            "needs_background": "light"
          },
          "output_type": "display_data"
        }
      ],
      "source": [
        "F_a, F_b, G_a, G_b = 1, 1, 3, 1.2\n",
        "\n",
        "sp = SearchProblem(F_a=F_a, F_b=F_b, G_a=G_a, G_b=G_b)\n",
        "f, g = sp.f, sp.g\n",
        "\n",
        "# Solve for reservation wage\n",
        "w_bar = solve_wbar(sp, verbose=False)\n",
        "\n",
        "# Interpolate reservation wage function\n",
        "π_grid = sp.π_grid\n",
        "w_func = njit(lambda x: interp(π_grid, w_bar, x))\n",
        "\n",
        "@njit\n",
        "def update(a, b, e, π):\n",
        "    \"Update e and π by drawing wage offer from beta distribution with parameters a and b.\"\n",
        "\n",
        "    if e == False:\n",
        "        w = np.random.beta(a, b)       # Draw random wage\n",
        "        if w >= w_func(π):\n",
        "            e = True                   # Take new job\n",
        "        else:\n",
        "            π = 1 / (1 + ((1 - π) * g(w)) / (π * f(w)))\n",
        "\n",
        "    return e, π\n",
        "\n",
        "@njit\n",
        "def simulate_path(F_a=F_a,\n",
        "                  F_b=F_b,\n",
        "                  G_a=G_a,\n",
        "                  G_b=G_b,\n",
        "                  N=5000,       # Number of agents\n",
        "                  T=600,        # Simulation length\n",
        "                  d=200,        # Change date\n",
        "                  s=0.025):     # Separation rate\n",
        "\n",
        "    \"\"\"Simulates path of employment for N number of works over T periods.\"\"\"\n",
        "\n",
        "    e = np.ones((N, T+1))\n",
        "    π = np.ones((N, T+1)) * 1e-3\n",
        "\n",
        "    a, b = G_a, G_b   # Initial distribution parameters\n",
        "\n",
        "    for t in range(T+1):\n",
        "\n",
        "        if t == d:\n",
        "            a, b = F_a, F_b  # Change distribution parameters\n",
        "\n",
        "        # Update each agent\n",
        "        for n in range(N):\n",
        "            if e[n, t] == 1:                    # If agent is currently employment\n",
        "                p = np.random.uniform(0, 1)\n",
        "                if p <= s:                      # Randomly separate with probability s\n",
        "                    e[n, t] = 0\n",
        "\n",
        "            new_e, new_π = update(a, b, e[n, t], π[n, t])\n",
        "            e[n, t+1] = new_e\n",
        "            π[n, t+1] = new_π\n",
        "\n",
        "    return e[:, 1:]\n",
        "\n",
        "d = 200  # Change distribution at time d\n",
        "unemployment_rate = 1 - simulate_path(d=d).mean(axis=0)\n",
        "\n",
        "plt.figure(figsize=(10, 6))\n",
        "plt.plot(unemployment_rate)\n",
        "plt.axvline(d, color='r', alpha=0.6, label='Change date')\n",
        "plt.xlabel('Time')\n",
        "plt.title('Unemployment rate')\n",
        "plt.legend()\n",
        "plt.show()"
      ]
    }
  ],
  "metadata": {
    "filename": "odu.rst",
    "kernelspec": {
      "display_name": "Python",
      "language": "python3",
      "name": "python3"
    },
    "language_info": {
      "codemirror_mode": {
        "name": "ipython",
        "version": 3
      },
      "file_extension": ".py",
      "mimetype": "text/x-python",
      "name": "python",
      "nbconvert_exporter": "python",
      "pygments_lexer": "ipython3",
      "version": "3.7.0"
    },
    "title": "Job Search III: Search with Learning"
  },
  "nbformat": 4,
  "nbformat_minor": 2
}