{
  "cells": [
    {
      "cell_type": "markdown",
      "metadata": {},
      "source": [
        "## Solutions"
      ]
    },
    {
      "cell_type": "code",
      "execution_count": 90,
      "metadata": {
        "hide-output": false
      },
      "outputs": [],
      "source": [
        "import matplotlib.pyplot as plt\n",
        "%matplotlib inline"
      ]
    },
    {
      "cell_type": "markdown",
      "metadata": {},
      "source": [
        "### Exercise 1\n",
        "\n",
        "This code does the job"
      ]
    },
    {
      "cell_type": "code",
      "execution_count": 91,
      "metadata": {
        "hide-output": false
      },
      "outputs": [],
      "source": [
        "def p(x, coef):\n",
        "    X = np.empty(len(coef))\n",
        "    X[0] = 1\n",
        "    X[1:] = x\n",
        "    y = np.cumprod(X)   # y = [1, x, x**2,...]\n",
        "    return coef @ y"
      ]
    },
    {
      "cell_type": "markdown",
      "metadata": {},
      "source": [
        "Let’s test it"
      ]
    },
    {
      "cell_type": "code",
      "execution_count": 92,
      "metadata": {
        "hide-output": false
      },
      "outputs": [
        {
          "name": "stdout",
          "output_type": "stream",
          "text": [
            "[1. 1. 1.]\n",
            "3.0\n",
            "3.0\n"
          ]
        }
      ],
      "source": [
        "coef = np.ones(3)\n",
        "print(coef)\n",
        "print(p(1, coef))\n",
        "# For comparison\n",
        "q = np.poly1d(coef)\n",
        "print(q(1))"
      ]
    },
    {
      "cell_type": "markdown",
      "metadata": {},
      "source": [
        "### Exercise 2\n",
        "\n",
        "Here’s our first pass at a solution:"
      ]
    },
    {
      "cell_type": "code",
      "execution_count": 93,
      "metadata": {
        "hide-output": false
      },
      "outputs": [],
      "source": [
        "from numpy import cumsum\n",
        "from numpy.random import uniform\n",
        "\n",
        "class DiscreteRV:\n",
        "    \"\"\"\n",
        "    Generates an array of draws from a discrete random variable with vector of\n",
        "    probabilities given by q.\n",
        "    \"\"\"\n",
        "\n",
        "    def __init__(self, q):\n",
        "        \"\"\"\n",
        "        The argument q is a NumPy array, or array like, nonnegative and sums\n",
        "        to 1\n",
        "        \"\"\"\n",
        "        self.q = q\n",
        "        self.Q = cumsum(q)\n",
        "\n",
        "    def draw(self, k=1):\n",
        "        \"\"\"\n",
        "        Returns k draws from q. For each such draw, the value i is returned\n",
        "        with probability q[i].\n",
        "        \"\"\"\n",
        "        return self.Q.searchsorted(uniform(0, 1, size=k))"
      ]
    },
    {
      "cell_type": "markdown",
      "metadata": {},
      "source": [
        "The logic is not obvious, but if you take your time and read it slowly,\n",
        "you will understand\n",
        "\n",
        "There is a problem here, however\n",
        "\n",
        "Suppose that `q` is altered after an instance of `discreteRV` is\n",
        "created, for example by"
      ]
    },
    {
      "cell_type": "code",
      "execution_count": 94,
      "metadata": {
        "hide-output": false
      },
      "outputs": [],
      "source": [
        "q = (0.1, 0.9)\n",
        "d = DiscreteRV(q)\n",
        "d.q = (0.5, 0.5)"
      ]
    },
    {
      "cell_type": "markdown",
      "metadata": {},
      "source": [
        "The problem is that `Q` does not change accordingly, and `Q` is the\n",
        "data used in the `draw` method\n",
        "\n",
        "To deal with this, one option is to compute `Q` every time the draw\n",
        "method is called\n",
        "\n",
        "But this is inefficient relative to computing `Q` once off\n",
        "\n",
        "A better option is to use descriptors\n",
        "\n",
        "A solution from the [quantecon\n",
        "library](https://github.com/QuantEcon/QuantEcon.py/tree/master/quantecon)\n",
        "using descriptors that behaves as we desire can be found\n",
        "[here](https://github.com/QuantEcon/QuantEcon.py/blob/master/quantecon/discrete_rv.py)"
      ]
    },
    {
      "cell_type": "markdown",
      "metadata": {},
      "source": [
        "### Exercise 3\n",
        "\n",
        "An example solution is given below\n",
        "\n",
        "In essence we’ve just taken [this\n",
        "code](https://github.com/QuantEcon/QuantEcon.py/blob/master/quantecon/ecdf.py)\n",
        "from QuantEcon and added in a plot method"
      ]
    },
    {
      "cell_type": "code",
      "execution_count": 95,
      "metadata": {
        "hide-output": false
      },
      "outputs": [],
      "source": [
        "\"\"\"\n",
        "Modifies ecdf.py from QuantEcon to add in a plot method\n",
        "\n",
        "\"\"\"\n",
        "\n",
        "class ECDF:\n",
        "    \"\"\"\n",
        "    One-dimensional empirical distribution function given a vector of\n",
        "    observations.\n",
        "\n",
        "    Parameters\n",
        "    ----------\n",
        "    observations : array_like\n",
        "        An array of observations\n",
        "\n",
        "    Attributes\n",
        "    ----------\n",
        "    observations : array_like\n",
        "        An array of observations\n",
        "\n",
        "    \"\"\"\n",
        "\n",
        "    def __init__(self, observations):\n",
        "        self.observations = np.asarray(observations)\n",
        "\n",
        "    def __call__(self, x):\n",
        "        \"\"\"\n",
        "        Evaluates the ecdf at x\n",
        "\n",
        "        Parameters\n",
        "        ----------\n",
        "        x : scalar(float)\n",
        "            The x at which the ecdf is evaluated\n",
        "\n",
        "        Returns\n",
        "        -------\n",
        "        scalar(float)\n",
        "            Fraction of the sample less than x\n",
        "\n",
        "        \"\"\"\n",
        "        return np.mean(self.observations <= x)\n",
        "\n",
        "    def plot(self, a=None, b=None):\n",
        "        \"\"\"\n",
        "        Plot the ecdf on the interval [a, b].\n",
        "\n",
        "        Parameters\n",
        "        ----------\n",
        "        a : scalar(float), optional(default=None)\n",
        "            Lower end point of the plot interval\n",
        "        b : scalar(float), optional(default=None)\n",
        "            Upper end point of the plot interval\n",
        "\n",
        "        \"\"\"\n",
        "\n",
        "        # === choose reasonable interval if [a, b] not specified === #\n",
        "        if a is None:\n",
        "            a = self.observations.min() - self.observations.std()\n",
        "        if b is None:\n",
        "            b = self.observations.max() + self.observations.std()\n",
        "\n",
        "        # === generate plot === #\n",
        "        x_vals = np.linspace(a, b, num=100)\n",
        "        f = np.vectorize(self.__call__)\n",
        "        plt.plot(x_vals, f(x_vals))\n",
        "        plt.show()"
      ]
    },
    {
      "cell_type": "markdown",
      "metadata": {},
      "source": [
        "Here’s an example of usage"
      ]
    },
    {
      "cell_type": "code",
      "execution_count": 96,
      "metadata": {
        "hide-output": false
      },
      "outputs": [
        {
          "data": {
            "image/png": "[encoded data removed]",
            "text/plain": [
              "<Figure size 432x288 with 1 Axes>"
            ]
          },
          "metadata": {
            "needs_background": "light"
          },
          "output_type": "display_data"
        }
      ],
      "source": [
        "X = np.random.randn(1000)\n",
        "F = ECDF(X)\n",
        "F.plot()"
      ]
    }
  ],
  "metadata": {
    "filename": "numpy.rst",
    "kernelspec": {
      "display_name": "Python",
      "language": "python3",
      "name": "python3"
    },
    "language_info": {
      "codemirror_mode": {
        "name": "ipython",
        "version": 3
      },
      "file_extension": ".py",
      "mimetype": "text/x-python",
      "name": "python",
      "nbconvert_exporter": "python",
      "pygments_lexer": "ipython3",
      "version": "3.7.0"
    },
    "title": "NumPy"
  },
  "nbformat": 4,
  "nbformat_minor": 2
}