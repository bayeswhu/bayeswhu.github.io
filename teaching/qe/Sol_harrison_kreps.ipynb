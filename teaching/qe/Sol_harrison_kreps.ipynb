{
  "cells": [
    {
      "cell_type": "markdown",
      "metadata": {},
      "source": [
        "## Solutions"
      ]
    },
    {
      "cell_type": "markdown",
      "metadata": {},
      "source": [
        "### Exercise 1\n",
        "\n",
        "First we will obtain equilibrium price vectors with homogeneous beliefs, including when all\n",
        "investors are optimistic or pessimistic"
      ]
    },
    {
      "cell_type": "code",
      "execution_count": 6,
      "metadata": {
        "hide-output": false
      },
      "outputs": [
        {
          "name": "stdout",
          "output_type": "stream",
          "text": [
            "p_a\n",
            "====================\n",
            "State 0: [1.33]\n",
            "State 1: [1.22]\n",
            "--------------------\n",
            "p_b\n",
            "====================\n",
            "State 0: [1.45]\n",
            "State 1: [1.91]\n",
            "--------------------\n",
            "p_optimistic\n",
            "====================\n",
            "State 0: [1.85]\n",
            "State 1: [2.08]\n",
            "--------------------\n",
            "p_pessimistic\n",
            "====================\n",
            "State 0: [1.]\n",
            "State 1: [1.]\n",
            "--------------------\n"
          ]
        }
      ],
      "source": [
        "qa = np.array([[1/2, 1/2], [2/3, 1/3]])    # Type a transition matrix\n",
        "qb = np.array([[2/3, 1/3], [1/4, 3/4]])    # Type b transition matrix\n",
        "qopt = np.array([[1/2, 1/2], [1/4, 3/4]])  # Optimistic investor transition matrix\n",
        "qpess = np.array([[2/3, 1/3], [2/3, 1/3]]) # Pessimistic investor transition matrix\n",
        "\n",
        "dividendreturn = np.array([[0], [1]])\n",
        "\n",
        "transitions = [qa, qb, qopt, qpess]\n",
        "labels = ['p_a', 'p_b', 'p_optimistic', 'p_pessimistic']\n",
        "\n",
        "for transition, label in zip(transitions, labels):\n",
        "    print(label)\n",
        "    print(\"=\" * 20)\n",
        "    s0, s1 = np.round(price_single_beliefs(transition, dividendreturn), 2)\n",
        "    print(f\"State 0: {s0}\")\n",
        "    print(f\"State 1: {s1}\")\n",
        "    print(\"-\" * 20)"
      ]
    },
    {
      "cell_type": "markdown",
      "metadata": {},
      "source": [
        "We will use the price_optimistic_beliefs function to find the price under\n",
        "heterogeneous beliefs"
      ]
    },
    {
      "cell_type": "code",
      "execution_count": 7,
      "metadata": {
        "hide-output": false
      },
      "outputs": [
        {
          "name": "stdout",
          "output_type": "stream",
          "text": [
            "p_optimistic\n",
            "====================\n",
            "State 0: [1.85]\n",
            "State 1: [2.08]\n",
            "--------------------\n",
            "p_hat_a\n",
            "====================\n",
            "State 0: [1.85]\n",
            "State 1: [1.69]\n",
            "--------------------\n",
            "p_hat_b\n",
            "====================\n",
            "State 0: [1.69]\n",
            "State 1: [2.08]\n",
            "--------------------\n"
          ]
        }
      ],
      "source": [
        "opt_beliefs = price_optimistic_beliefs([qa, qb], dividendreturn)\n",
        "labels = ['p_optimistic', 'p_hat_a', 'p_hat_b']\n",
        "\n",
        "for p, label in zip(opt_beliefs, labels):\n",
        "    print(label)\n",
        "    print(\"=\" * 20)\n",
        "    s0, s1 = np.round(p, 2)\n",
        "    print(f\"State 0: {s0}\")\n",
        "    print(f\"State 1: {s1}\")\n",
        "    print(\"-\" * 20)"
      ]
    },
    {
      "cell_type": "markdown",
      "metadata": {},
      "source": [
        "Notice that the equilibrium price with heterogeneous beliefs is equal to the price under single beliefs\n",
        "with optimistic investors - this is due to the marginal investor being the temporarily optimistic type"
      ]
    },
    {
      "cell_type": "markdown",
      "metadata": {},
      "source": [
        "**Footnotes**\n",
        "\n",
        "<p><a id=f1 href=#f1-link><strong>[1]</strong></a> By assuming that both types of agent always have “deep enough pockets” to purchase all of the asset, the model takes wealth dynamics off the table. The Harrison-Kreps model generates high trading volume when the state changes either from 0 to 1 or from 1 to 0."
      ]
    }
  ],
  "metadata": {
    "filename": "harrison_kreps.rst",
    "kernelspec": {
      "display_name": "Python",
      "language": "python3",
      "name": "python3"
    },
    "language_info": {
      "codemirror_mode": {
        "name": "ipython",
        "version": 3
      },
      "file_extension": ".py",
      "mimetype": "text/x-python",
      "name": "python",
      "nbconvert_exporter": "python",
      "pygments_lexer": "ipython3",
      "version": "3.7.0"
    },
    "title": "Asset Pricing III:  Incomplete Markets"
  },
  "nbformat": 4,
  "nbformat_minor": 2
}