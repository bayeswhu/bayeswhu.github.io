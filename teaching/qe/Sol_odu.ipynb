{
  "cells": [
    {
      "cell_type": "markdown",
      "metadata": {},
      "source": [
        "## Solutions"
      ]
    },
    {
      "cell_type": "markdown",
      "metadata": {},
      "source": [
        "### Exercise 1\n",
        "\n",
        "This code solves the “Offer Distribution Unknown” model by iterating on\n",
        "a guess of the reservation wage function\n",
        "\n",
        "You should find that the run time is shorter than that of the value\n",
        "function approach\n",
        "\n",
        "Similar to above, we set up a function to iterate with `Q` to find the fixed point"
      ]
    },
    {
      "cell_type": "code",
      "execution_count": 10,
      "metadata": {
        "hide-output": false
      },
      "outputs": [],
      "source": [
        "def solve_wbar(sp,\n",
        "               use_parallel=True,\n",
        "               tol=1e-4,\n",
        "               max_iter=1000,\n",
        "               verbose=True,\n",
        "               print_skip=5):\n",
        "\n",
        "    Q = Q_factory(sp, use_parallel)\n",
        "\n",
        "    # Set up loop\n",
        "    i = 0\n",
        "    error = tol + 1\n",
        "    m, n = len(sp.w_grid), len(sp.π_grid)\n",
        "\n",
        "    # Initialize w\n",
        "    w = np.ones_like(sp.π_grid)\n",
        "\n",
        "    while i < max_iter and error > tol:\n",
        "        w_new = Q(w)\n",
        "        error = np.max(np.abs(w - w_new))\n",
        "        i += 1\n",
        "        if verbose and i % print_skip == 0:\n",
        "            print(f\"Error at iteration {i} is {error}.\")\n",
        "        w = w_new\n",
        "\n",
        "    if i == max_iter:\n",
        "        print(\"Failed to converge!\")\n",
        "\n",
        "    if verbose and i < max_iter:\n",
        "        print(f\"\\nConverged in {i} iterations.\")\n",
        "\n",
        "    return w_new"
      ]
    },
    {
      "cell_type": "markdown",
      "metadata": {},
      "source": [
        "The solution can be plotted as follows"
      ]
    },
    {
      "cell_type": "code",
      "execution_count": 11,
      "metadata": {
        "hide-output": false
      },
      "outputs": [
        {
          "name": "stdout",
          "output_type": "stream",
          "text": [
            "Error at iteration 5 is 0.023140382065605758.\n",
            "Error at iteration 10 is 0.007508776548445062.\n"
          ]
        },
        {
          "name": "stdout",
          "output_type": "stream",
          "text": [
            "Error at iteration 15 is 0.0018522665425529938.\n",
            "Error at iteration 20 is 0.0004174378574898219.\n",
            "Error at iteration 25 is 9.259972557973395e-05.\n",
            "\n",
            "Converged in 25 iterations.\n"
          ]
        },
        {
          "data": {
            "image/png": "[encoded data removed]",
            "text/plain": [
              "<Figure size 648x504 with 1 Axes>"
            ]
          },
          "metadata": {
            "needs_background": "light"
          },
          "output_type": "display_data"
        }
      ],
      "source": [
        "sp = SearchProblem()\n",
        "w_bar = solve_wbar(sp)\n",
        "\n",
        "fig, ax = plt.subplots(figsize=(9, 7))\n",
        "\n",
        "ax.plot(sp.π_grid, w_bar, color='k')\n",
        "ax.fill_between(sp.π_grid, 0, w_bar, color='blue', alpha=0.15)\n",
        "ax.fill_between(sp.π_grid, w_bar, sp.w_max, color='green', alpha=0.15)\n",
        "ax.text(0.5, 0.6, 'reject')\n",
        "ax.text(0.7, 0.9, 'accept')\n",
        "ax.set(xlabel='$\\pi$', ylabel='$w$')\n",
        "ax.grid()\n",
        "plt.show()"
      ]
    }
  ],
  "metadata": {
    "filename": "odu.rst",
    "kernelspec": {
      "display_name": "Python",
      "language": "python3",
      "name": "python3"
    },
    "language_info": {
      "codemirror_mode": {
        "name": "ipython",
        "version": 3
      },
      "file_extension": ".py",
      "mimetype": "text/x-python",
      "name": "python",
      "nbconvert_exporter": "python",
      "pygments_lexer": "ipython3",
      "version": "3.7.0"
    },
    "title": "Job Search III: Search with Learning"
  },
  "nbformat": 4,
  "nbformat_minor": 2
}