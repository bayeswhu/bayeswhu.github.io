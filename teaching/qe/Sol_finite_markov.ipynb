{
  "cells": [
    {
      "cell_type": "markdown",
      "metadata": {},
      "source": [
        "## Solutions"
      ]
    },
    {
      "cell_type": "code",
      "execution_count": 22,
      "metadata": {
        "hide-output": false
      },
      "outputs": [],
      "source": [
        "import numpy as np\n",
        "import matplotlib.pyplot as plt\n",
        "from quantecon import MarkovChain"
      ]
    },
    {
      "cell_type": "markdown",
      "metadata": {},
      "source": [
        "### Exercise 1\n",
        "\n",
        "Compute the fraction of time that the worker spends unemployed, and\n",
        "compare it to the stationary probability"
      ]
    },
    {
      "cell_type": "code",
      "execution_count": 23,
      "metadata": {
        "hide-output": false
      },
      "outputs": [
        {
          "data": {
            "image/png": "[encoded data removed]",
            "text/plain": [
              "<Figure size 648x432 with 1 Axes>"
            ]
          },
          "metadata": {
            "needs_background": "light"
          },
          "output_type": "display_data"
        }
      ],
      "source": [
        "α = β = 0.1\n",
        "N = 10000\n",
        "p = β / (α + β)\n",
        "\n",
        "P = ((1 - α,       α),               # Careful: P and p are distinct\n",
        "     (    β,   1 - β))\n",
        "P = np.array(P)\n",
        "mc = MarkovChain(P)\n",
        "\n",
        "fig, ax = plt.subplots(figsize=(9, 6))\n",
        "ax.set_ylim(-0.25, 0.25)\n",
        "ax.grid()\n",
        "ax.hlines(0, 0, N, lw=2, alpha=0.6)   # Horizonal line at zero\n",
        "\n",
        "for x0, col in ((0, 'blue'), (1, 'green')):\n",
        "    # == Generate time series for worker that starts at x0 == #\n",
        "    X = mc.simulate(N, init=x0)\n",
        "    # == Compute fraction of time spent unemployed, for each n == #\n",
        "    X_bar = (X == 0).cumsum() / (1 + np.arange(N, dtype=float))\n",
        "    # == Plot == #\n",
        "    ax.fill_between(range(N), np.zeros(N), X_bar - p, color=col, alpha=0.1)\n",
        "    ax.plot(X_bar - p, color=col, label=f'$X_0 = \\, {x0} $')\n",
        "    ax.plot(X_bar - p, 'k-', alpha=0.6)  # Overlay in black--make lines clearer\n",
        "\n",
        "ax.legend(loc='upper right')\n",
        "plt.show()"
      ]
    },
    {
      "cell_type": "markdown",
      "metadata": {},
      "source": [
        "### Exercise 2\n",
        "\n",
        "First save the data into a file called `web_graph_data.txt` by\n",
        "executing the next cell"
      ]
    },
    {
      "cell_type": "code",
      "execution_count": 24,
      "metadata": {
        "hide-output": false
      },
      "outputs": [
        {
          "name": "stdout",
          "output_type": "stream",
          "text": [
            "Writing web_graph_data.txt\n"
          ]
        }
      ],
      "source": [
        "%%file web_graph_data.txt\n",
        "a -> d;\n",
        "a -> f;\n",
        "b -> j;\n",
        "b -> k;\n",
        "b -> m;\n",
        "c -> c;\n",
        "c -> g;\n",
        "c -> j;\n",
        "c -> m;\n",
        "d -> f;\n",
        "d -> h;\n",
        "d -> k;\n",
        "e -> d;\n",
        "e -> h;\n",
        "e -> l;\n",
        "f -> a;\n",
        "f -> b;\n",
        "f -> j;\n",
        "f -> l;\n",
        "g -> b;\n",
        "g -> j;\n",
        "h -> d;\n",
        "h -> g;\n",
        "h -> l;\n",
        "h -> m;\n",
        "i -> g;\n",
        "i -> h;\n",
        "i -> n;\n",
        "j -> e;\n",
        "j -> i;\n",
        "j -> k;\n",
        "k -> n;\n",
        "l -> m;\n",
        "m -> g;\n",
        "n -> c;\n",
        "n -> j;\n",
        "n -> m;"
      ]
    },
    {
      "cell_type": "code",
      "execution_count": 25,
      "metadata": {
        "hide-output": false
      },
      "outputs": [
        {
          "name": "stdout",
          "output_type": "stream",
          "text": [
            "Rankings\n",
            " ***\n",
            "g: 0.1607\n",
            "j: 0.1594\n",
            "m: 0.1195\n",
            "n: 0.1088\n",
            "k: 0.09106\n",
            "b: 0.08326\n",
            "e: 0.05312\n",
            "i: 0.05312\n",
            "c: 0.04834\n",
            "h: 0.0456\n",
            "l: 0.03202\n",
            "d: 0.03056\n",
            "f: 0.01164\n",
            "a: 0.002911\n"
          ]
        }
      ],
      "source": [
        "\"\"\"\n",
        "Return list of pages, ordered by rank\n",
        "\"\"\"\n",
        "import numpy as np\n",
        "from operator import itemgetter\n",
        "\n",
        "infile = 'web_graph_data.txt'\n",
        "alphabet = 'abcdefghijklmnopqrstuvwxyz'\n",
        "\n",
        "n = 14 # Total number of web pages (nodes)\n",
        "\n",
        "# == Create a matrix Q indicating existence of links == #\n",
        "#  * Q[i, j] = 1 if there is a link from i to j\n",
        "#  * Q[i, j] = 0 otherwise\n",
        "Q = np.zeros((n, n), dtype=int)\n",
        "f = open(infile, 'r')\n",
        "edges = f.readlines()\n",
        "f.close()\n",
        "for edge in edges:\n",
        "    from_node, to_node = re.findall('\\w', edge)\n",
        "    i, j = alphabet.index(from_node), alphabet.index(to_node)\n",
        "    Q[i, j] = 1\n",
        "# == Create the corresponding Markov matrix P == #\n",
        "P = np.empty((n, n))\n",
        "for i in range(n):\n",
        "    P[i, :] = Q[i, :] / Q[i, :].sum()\n",
        "mc = MarkovChain(P)\n",
        "# == Compute the stationary distribution r == #\n",
        "r = mc.stationary_distributions[0]\n",
        "ranked_pages = {alphabet[i] : r[i] for i in range(n)}\n",
        "# == Print solution, sorted from highest to lowest rank == #\n",
        "print('Rankings\\n ***')\n",
        "for name, rank in sorted(ranked_pages.items(), key=itemgetter(1), reverse=1):\n",
        "    print(f'{name}: {rank:.4}')"
      ]
    },
    {
      "cell_type": "markdown",
      "metadata": {},
      "source": [
        "### Exercise 3\n",
        "\n",
        "A solution from the [QuantEcon.py](http://quantecon.org/python_index.html) library\n",
        "can be found [here](https://github.com/QuantEcon/QuantEcon.py/blob/master/quantecon/markov/approximation.py)"
      ]
    },
    {
      "cell_type": "markdown",
      "metadata": {},
      "source": [
        "**Footnotes**\n",
        "\n",
        "<p><a id=pm href=#pm-link><strong>[1]</strong></a> Hint: First show that if $ P $ and $ Q $ are stochastic matrices then so is their product — to check the row sums, try postmultiplying by a column vector of ones.  Finally, argue that $ P^n $ is a stochastic matrix using induction."
      ]
    }
  ],
  "metadata": {
    "filename": "finite_markov.rst",
    "kernelspec": {
      "display_name": "Python",
      "language": "python3",
      "name": "python3"
    },
    "language_info": {
      "codemirror_mode": {
        "name": "ipython",
        "version": 3
      },
      "file_extension": ".py",
      "mimetype": "text/x-python",
      "name": "python",
      "nbconvert_exporter": "python",
      "pygments_lexer": "ipython3",
      "version": "3.7.0"
    },
    "title": "Finite Markov Chains"
  },
  "nbformat": 4,
  "nbformat_minor": 2
}