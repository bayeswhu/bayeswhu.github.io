{
  "cells": [
    {
      "cell_type": "markdown",
      "metadata": {},
      "source": [
        "## Solutions"
      ]
    },
    {
      "cell_type": "markdown",
      "metadata": {},
      "source": [
        "### Exercise 1\n",
        "\n",
        "Let $ T, K, M, v $ and $ y $ be as stated in the exercise\n",
        "\n",
        "Using the envelope theorem, one can show that $ (Tv)'(y) = u'(\\sigma(y)) $\n",
        "where $ \\sigma(y) $ solves\n",
        "\n",
        "\n",
        "<a id='equation-cpi-foo'></a>\n",
        "$$\n",
        "u'(\\sigma(y))\n",
        "= \\beta \\int v' (f(y - \\sigma(y)) z ) f'(y - \\sigma(y)) z \\phi(dz) \\tag{10}\n",
        "$$\n",
        "\n",
        "Hence $ MTv(y) = (u')^{-1} (u'(\\sigma(y))) = \\sigma(y) $\n",
        "\n",
        "On the other hand, $ KMv(y) $ is the $ \\sigma(y) $ that solves\n",
        "\n",
        "$$\n",
        "\\begin{aligned}\n",
        "    u'(\\sigma(y))\n",
        "    & = \\beta \\int (u' \\circ (Mv)) (f(y - \\sigma(y)) z ) f'(y - \\sigma(y)) z \\phi(dz)\n",
        "    \\\\\n",
        "    & = \\beta \\int (u' \\circ ((u')^{-1} \\circ v'))\n",
        "        (f(y - \\sigma(y)) z ) f'(y - \\sigma(y)) z \\phi(dz)\n",
        "    \\\\\n",
        "    & = \\beta \\int v'(f(y - \\sigma(y)) z ) f'(y - \\sigma(y)) z \\phi(dz)\n",
        "\\end{aligned}\n",
        "$$\n",
        "\n",
        "We see that $ \\sigma(y) $ is the same in each case"
      ]
    },
    {
      "cell_type": "markdown",
      "metadata": {},
      "source": [
        "### Exercise 2\n",
        "\n",
        "We need to show that $ M $ is a bijection from $ \\mathscr V $ to $ \\mathscr P $\n",
        "\n",
        "To see this, first observe that, in view of our assumptions above, $ u' $ is a strictly decreasing continuous bijection from $ (0,\\infty) $ to itself\n",
        "\n",
        "It [follows](https://math.stackexchange.com/questions/672174/continuity-of-an-inverse-function) that $ h $ has the same properties\n",
        "\n",
        "Moreover, for fixed $ v \\in \\mathscr V $, the derivative $ v' $ is\n",
        "a continuous, strictly decreasing function\n",
        "\n",
        "Hence, for fixed $ v \\in \\mathscr V $, the map $ M v = h \\circ v' $\n",
        "is strictly increasing and continuous, taking values in $ (0, \\infty) $\n",
        "\n",
        "Moreover, interiority holds because $ v' $ strictly dominates $ u' $, implying that\n",
        "\n",
        "$$\n",
        "(M v)(y) = h(v'(y)) < h(u'(y)) = y\n",
        "$$\n",
        "\n",
        "In particular, $ \\sigma(y) := (Mv)(y) $ is an element of $ \\mathscr\n",
        "P $\n",
        "\n",
        "To see that each $ \\sigma \\in \\mathscr P $ has a preimage $ v \\in \\mathscr V $ with $ Mv = \\sigma $, fix any $ \\sigma \\in \\mathscr P $\n",
        "\n",
        "Let $ v(y) := \\int_0^y u'(\\sigma(x)) dx $ with $ v(0) = 0 $\n",
        "\n",
        "With a small amount of effort you will be able to show that $ v \\in \\mathscr V $ and $ Mv = \\sigma $\n",
        "\n",
        "It’s also true that $ M $ is one-to-one on $ \\mathscr V $\n",
        "\n",
        "To see this, suppose that  $ v $ and $ w $ are elements of $ \\mathscr V $\n",
        "satisfying $ Mv = Mw $\n",
        "\n",
        "Then $ v(0) = w(0) = 0 $ and $ v' = w' $ on $ (0, \\infty) $\n",
        "\n",
        "The fundamental theorem of calculus then implies that $ v = w $ on $ \\mathbb R_+ $"
      ]
    },
    {
      "cell_type": "markdown",
      "metadata": {},
      "source": [
        "### Exercise 3\n",
        "\n",
        "Here’s the code, which will execute if you’ve run all the code above"
      ]
    },
    {
      "cell_type": "code",
      "execution_count": 9,
      "metadata": {
        "hide-output": false
      },
      "outputs": [
        {
          "data": {
            "image/png": "[encoded data removed]",
            "text/plain": [
              "<Figure size 432x288 with 1 Axes>"
            ]
          },
          "metadata": {
            "needs_background": "light"
          },
          "output_type": "display_data"
        }
      ],
      "source": [
        "γ = 1.5   # Preference parameter\n",
        "\n",
        "@njit\n",
        "def u(c):\n",
        "    return (c**(1 - γ) - 1) / (1 - γ)\n",
        "\n",
        "@njit\n",
        "def u_prime(c):\n",
        "    return c**(-γ)\n",
        "\n",
        "og = OptimalGrowthModel(f=f, f_prime=f_prime, u=u, u_prime=u_prime)\n",
        "\n",
        "T, get_greedy = operator_factory(og)\n",
        "K = time_operator_factory(og)\n",
        "\n",
        "σ = grid        # Initial condition for σ\n",
        "v = u(grid)     # Initial condition for v\n",
        "sim_length = 20\n",
        "\n",
        "for i in range(sim_length):\n",
        "    σ = K(σ)  # Time iteration\n",
        "    v = T(v)  # Value function iteration\n",
        "\n",
        "\n",
        "plt.plot(grid, σ, alpha=0.6, label=\"policy iteration\")\n",
        "plt.plot(grid, get_greedy(v), alpha=0.6, label=\"value iteration\")\n",
        "plt.legend()\n",
        "plt.show()"
      ]
    },
    {
      "cell_type": "markdown",
      "metadata": {},
      "source": [
        "The policies are indeed close"
      ]
    },
    {
      "cell_type": "markdown",
      "metadata": {},
      "source": [
        "### Exercise 4\n",
        "\n",
        "Here’s is the function we need to solve the model using value function iteration,\n",
        "copied from the previous lecture"
      ]
    },
    {
      "cell_type": "code",
      "execution_count": 10,
      "metadata": {
        "hide-output": false
      },
      "outputs": [],
      "source": [
        "def solve_model(og,\n",
        "                use_parallel=True,\n",
        "                tol=1e-4,\n",
        "                max_iter=1000,\n",
        "                verbose=True,\n",
        "                print_skip=25):\n",
        "\n",
        "    T, _ = operator_factory(og, parallel_flag=use_parallel)\n",
        "\n",
        "    # Set up loop\n",
        "    v = np.log(og.grid)  # Initial condition\n",
        "    i = 0\n",
        "    error = tol + 1\n",
        "\n",
        "    while i < max_iter and error > tol:\n",
        "        v_new = T(v)\n",
        "        error = np.max(np.abs(v - v_new))\n",
        "        i += 1\n",
        "        if verbose and i % print_skip == 0:\n",
        "            print(f\"Error at iteration {i} is {error}.\")\n",
        "        v = v_new\n",
        "\n",
        "    if i == max_iter:\n",
        "        print(\"Failed to converge!\")\n",
        "\n",
        "    if verbose and i < max_iter:\n",
        "        print(f\"\\nConverged in {i} iterations.\")\n",
        "\n",
        "    return v_new"
      ]
    },
    {
      "cell_type": "markdown",
      "metadata": {},
      "source": [
        "Similarly, we can write a function that uses `K` to solve the model"
      ]
    },
    {
      "cell_type": "code",
      "execution_count": 11,
      "metadata": {
        "hide-output": false
      },
      "outputs": [],
      "source": [
        "def solve_model_time(og,\n",
        "                     use_parallel=True,\n",
        "                     tol=1e-4,\n",
        "                     max_iter=1000,\n",
        "                     verbose=True,\n",
        "                     print_skip=25):\n",
        "\n",
        "    K = time_operator_factory(og, parallel_flag=use_parallel)\n",
        "\n",
        "    # Set up loop\n",
        "    σ = og.grid  # Initial condition\n",
        "    i = 0\n",
        "    error = tol + 1\n",
        "\n",
        "    while i < max_iter and error > tol:\n",
        "        σ_new = K(σ)\n",
        "        error = np.max(np.abs(σ - σ_new))\n",
        "        i += 1\n",
        "        if verbose and i % print_skip == 0:\n",
        "            print(f\"Error at iteration {i} is {error}.\")\n",
        "        σ = σ_new\n",
        "\n",
        "    if i == max_iter:\n",
        "        print(\"Failed to converge!\")\n",
        "\n",
        "    if verbose and i < max_iter:\n",
        "        print(f\"\\nConverged in {i} iterations.\")\n",
        "\n",
        "    return σ_new"
      ]
    },
    {
      "cell_type": "markdown",
      "metadata": {},
      "source": [
        "Solving both models and plotting"
      ]
    },
    {
      "cell_type": "code",
      "execution_count": 12,
      "metadata": {
        "hide-output": false
      },
      "outputs": [
        {
          "name": "stdout",
          "output_type": "stream",
          "text": [
            "Error at iteration 25 is 0.40046072989093773.\n",
            "Error at iteration 50 is 0.14432473224434617.\n"
          ]
        },
        {
          "name": "stdout",
          "output_type": "stream",
          "text": [
            "Error at iteration 75 is 0.0520141596623489.\n",
            "Error at iteration 100 is 0.0187457323726008.\n"
          ]
        },
        {
          "name": "stdout",
          "output_type": "stream",
          "text": [
            "Error at iteration 125 is 0.006755900402321657.\n",
            "Error at iteration 150 is 0.002434804324398243.\n"
          ]
        },
        {
          "name": "stdout",
          "output_type": "stream",
          "text": [
            "Error at iteration 175 is 0.0008774954847226013.\n",
            "Error at iteration 200 is 0.00031624649182049325.\n"
          ]
        },
        {
          "name": "stdout",
          "output_type": "stream",
          "text": [
            "Error at iteration 225 is 0.00011397419738656822.\n",
            "\n",
            "Converged in 229 iterations.\n"
          ]
        },
        {
          "name": "stdout",
          "output_type": "stream",
          "text": [
            "\n",
            "Converged in 10 iterations.\n"
          ]
        },
        {
          "data": {
            "image/png": "[encoded data removed]",
            "text/plain": [
              "<Figure size 432x288 with 1 Axes>"
            ]
          },
          "metadata": {
            "needs_background": "light"
          },
          "output_type": "display_data"
        }
      ],
      "source": [
        "v_star = solve_model(og)\n",
        "σ_star = solve_model_time(og)\n",
        "\n",
        "plt.plot(grid, get_greedy(v_star), alpha=0.6, label='Bellman operator')\n",
        "plt.plot(grid, σ_star, alpha=0.6, label='Coleman-Reffett operator')\n",
        "plt.legend()\n",
        "plt.show()"
      ]
    },
    {
      "cell_type": "markdown",
      "metadata": {},
      "source": [
        "Time iteration is numerically far more accurate for a given number of iterations"
      ]
    }
  ],
  "metadata": {
    "filename": "coleman_policy_iter.rst",
    "kernelspec": {
      "display_name": "Python",
      "language": "python3",
      "name": "python3"
    },
    "language_info": {
      "codemirror_mode": {
        "name": "ipython",
        "version": 3
      },
      "file_extension": ".py",
      "mimetype": "text/x-python",
      "name": "python",
      "nbconvert_exporter": "python",
      "pygments_lexer": "ipython3",
      "version": "3.7.0"
    },
    "title": "Optimal Growth II: Time Iteration"
  },
  "nbformat": 4,
  "nbformat_minor": 2
}