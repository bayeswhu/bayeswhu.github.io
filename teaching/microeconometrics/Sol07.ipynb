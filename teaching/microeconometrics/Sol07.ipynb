{
 "cells": [
  {
   "cell_type": "markdown",
   "metadata": {},
   "source": [
    "## Solutions"
   ]
  },
  {
   "cell_type": "code",
   "execution_count": 1,
   "metadata": {
    "hide-output": false
   },
   "outputs": [],
   "source": [
    "import numpy as np\n",
    "import pandas as pd\n",
    "import matplotlib.pyplot as plt\n",
    "import seaborn as sns\n",
    "import statsmodels.api as sm\n",
    "import statsmodels.formula.api as smf "
   ]
  },
  {
   "cell_type": "markdown",
   "metadata": {},
   "source": [
    "### Exercise 1"
   ]
  },
  {
   "cell_type": "code",
   "execution_count": 2,
   "metadata": {},
   "outputs": [],
   "source": [
    "from scipy import stats\n",
    "\n",
    "np.random.seed(10101)\n",
    "N=500\n",
    "nd=stats.norm(0,5)\n",
    "x2,x3,epsilon=np.split(nd.rvs(3*N),3)\n",
    "u=np.sqrt(np.exp(-1+0.2*x2))*epsilon\n",
    "y=1+x2+x3+u\n",
    "data=pd.DataFrame({'x2':x2,'x3':x3,'e':epsilon,'u':u,'y':y})"
   ]
  },
  {
   "cell_type": "code",
   "execution_count": 3,
   "metadata": {},
   "outputs": [],
   "source": [
    "from scipy.optimize import least_squares\n",
    "\n",
    "res=smf.ols(formula='y~x2+x3',data=data).fit()\n",
    "\n",
    "def func(g,x,y):\n",
    "    return np.exp(g[0]+g[1]*x)-y\n",
    "\n",
    "data['uhatsq']=res.resid**2\n",
    "g0=np.ones(2)\n",
    "res_lsq = least_squares(func, g0, args=(data.x2, data.uhatsq))\n",
    "data['varu']=np.exp(res_lsq.x@[np.ones(len(data.x2)),data.x2])"
   ]
  },
  {
   "cell_type": "code",
   "execution_count": 4,
   "metadata": {},
   "outputs": [
    {
     "data": {
      "text/html": [
       "<table class=\"simpletable\">\n",
       "<tr>\n",
       "      <td></td>         <th>coef</th>     <th>std err</th>      <th>t</th>      <th>P>|t|</th>  <th>[0.025</th>    <th>0.975]</th>  \n",
       "</tr>\n",
       "<tr>\n",
       "  <th>Intercept</th> <td>    1.0664</td> <td>    0.144</td> <td>    7.415</td> <td> 0.000</td> <td>    0.784</td> <td>    1.349</td>\n",
       "</tr>\n",
       "<tr>\n",
       "  <th>x2</th>        <td>    1.0065</td> <td>    0.024</td> <td>   41.193</td> <td> 0.000</td> <td>    0.959</td> <td>    1.055</td>\n",
       "</tr>\n",
       "<tr>\n",
       "  <th>x3</th>        <td>    0.9839</td> <td>    0.023</td> <td>   42.090</td> <td> 0.000</td> <td>    0.938</td> <td>    1.030</td>\n",
       "</tr>\n",
       "</table>"
      ],
      "text/plain": [
       "<class 'statsmodels.iolib.table.SimpleTable'>"
      ]
     },
     "execution_count": 4,
     "metadata": {},
     "output_type": "execute_result"
    }
   ],
   "source": [
    "# 1\n",
    "res1=smf.wls(formula='y~x2+x3',data=data,weights=1./data.varu).fit()\n",
    "res1.summary().tables[1]"
   ]
  },
  {
   "cell_type": "code",
   "execution_count": 5,
   "metadata": {},
   "outputs": [
    {
     "data": {
      "text/html": [
       "<table class=\"simpletable\">\n",
       "<tr>\n",
       "     <td></td>       <th>coef</th>     <th>std err</th>      <th>t</th>      <th>P>|t|</th>  <th>[0.025</th>    <th>0.975]</th>  \n",
       "</tr>\n",
       "<tr>\n",
       "  <th>tr_one</th> <td>    1.0664</td> <td>    0.144</td> <td>    7.415</td> <td> 0.000</td> <td>    0.784</td> <td>    1.349</td>\n",
       "</tr>\n",
       "<tr>\n",
       "  <th>tr_x2</th>  <td>    1.0065</td> <td>    0.024</td> <td>   41.193</td> <td> 0.000</td> <td>    0.959</td> <td>    1.055</td>\n",
       "</tr>\n",
       "<tr>\n",
       "  <th>tr_x3</th>  <td>    0.9839</td> <td>    0.023</td> <td>   42.090</td> <td> 0.000</td> <td>    0.938</td> <td>    1.030</td>\n",
       "</tr>\n",
       "</table>"
      ],
      "text/plain": [
       "<class 'statsmodels.iolib.table.SimpleTable'>"
      ]
     },
     "execution_count": 5,
     "metadata": {},
     "output_type": "execute_result"
    }
   ],
   "source": [
    "# 2\n",
    "tr_y=y/np.sqrt(data.varu) \n",
    "tr_x2=x2/np.sqrt(data.varu)\n",
    "tr_x3=x3/np.sqrt(data.varu) \n",
    "tr_one=np.ones(len(data.x2))/np.sqrt(data.varu)\n",
    "res2=smf.ols(formula='tr_y~tr_one+tr_x2+tr_x3-1',data=data).fit()\n",
    "res2.summary().tables[1]"
   ]
  },
  {
   "cell_type": "markdown",
   "metadata": {},
   "source": [
    "### Exercise 2"
   ]
  },
  {
   "cell_type": "code",
   "execution_count": 6,
   "metadata": {},
   "outputs": [
    {
     "data": {
      "text/html": [
       "<table class=\"simpletable\">\n",
       "<tr>\n",
       "     <td></td>       <th>coef</th>     <th>std err</th>      <th>t</th>      <th>P>|t|</th>  <th>[0.025</th>    <th>0.975]</th>  \n",
       "</tr>\n",
       "<tr>\n",
       "  <th>tr_one</th> <td>    1.0513</td> <td>    0.148</td> <td>    7.111</td> <td> 0.000</td> <td>    0.761</td> <td>    1.342</td>\n",
       "</tr>\n",
       "<tr>\n",
       "  <th>tr_x2</th>  <td>    1.0028</td> <td>    0.022</td> <td>   46.398</td> <td> 0.000</td> <td>    0.960</td> <td>    1.045</td>\n",
       "</tr>\n",
       "<tr>\n",
       "  <th>tr_x3</th>  <td>    0.9890</td> <td>    0.020</td> <td>   50.023</td> <td> 0.000</td> <td>    0.950</td> <td>    1.028</td>\n",
       "</tr>\n",
       "</table>"
      ],
      "text/plain": [
       "<class 'statsmodels.iolib.table.SimpleTable'>"
      ]
     },
     "execution_count": 6,
     "metadata": {},
     "output_type": "execute_result"
    }
   ],
   "source": [
    "w=np.sqrt(np.exp(-1+0.2*x2))\n",
    "tr_y=y/w\n",
    "tr_x2=x2/w\n",
    "tr_x3=x3/w \n",
    "tr_one=np.ones(len(data.x2))/w\n",
    "res3=smf.ols(formula='tr_y~tr_one+tr_x2+tr_x3-1',data=data).fit()\n",
    "res3.summary().tables[1]"
   ]
  },
  {
   "cell_type": "markdown",
   "metadata": {},
   "source": [
    "### Exercise 3"
   ]
  },
  {
   "cell_type": "code",
   "execution_count": 7,
   "metadata": {},
   "outputs": [
    {
     "data": {
      "text/html": [
       "<table class=\"simpletable\">\n",
       "<tr>\n",
       "      <td></td>         <th>coef</th>     <th>std err</th>      <th>z</th>      <th>P>|z|</th>  <th>[0.025</th>    <th>0.975]</th>  \n",
       "</tr>\n",
       "<tr>\n",
       "  <th>Intercept</th> <td>    0.0645</td> <td>    0.472</td> <td>    0.137</td> <td> 0.891</td> <td>   -0.861</td> <td>    0.990</td>\n",
       "</tr>\n",
       "<tr>\n",
       "  <th>x2</th>        <td>    1.9148</td> <td>    1.184</td> <td>    1.618</td> <td> 0.106</td> <td>   -0.405</td> <td>    4.234</td>\n",
       "</tr>\n",
       "<tr>\n",
       "  <th>x3</th>        <td>    1.0176</td> <td>    0.366</td> <td>    2.782</td> <td> 0.005</td> <td>    0.301</td> <td>    1.735</td>\n",
       "</tr>\n",
       "</table>"
      ],
      "text/plain": [
       "<class 'statsmodels.iolib.table.SimpleTable'>"
      ]
     },
     "execution_count": 7,
     "metadata": {},
     "output_type": "execute_result"
    }
   ],
   "source": [
    "x2sq=x2**2\n",
    "res4=smf.wls(formula='y~x2+x3',data=data,weights=1./x2sq).fit(cov_type='HC1')\n",
    "res4.summary().tables[1]"
   ]
  },
  {
   "cell_type": "code",
   "execution_count": 8,
   "metadata": {},
   "outputs": [
    {
     "data": {
      "text/html": [
       "<table class=\"simpletable\">\n",
       "<tr>\n",
       "      <td></td>         <th>coef</th>     <th>std err</th>      <th>t</th>      <th>P>|t|</th>  <th>[0.025</th>    <th>0.975]</th>  \n",
       "</tr>\n",
       "<tr>\n",
       "  <th>Intercept</th> <td>    1.0715</td> <td>    0.157</td> <td>    6.827</td> <td> 0.000</td> <td>    0.763</td> <td>    1.380</td>\n",
       "</tr>\n",
       "<tr>\n",
       "  <th>x2</th>        <td>    1.0121</td> <td>    0.031</td> <td>   32.886</td> <td> 0.000</td> <td>    0.952</td> <td>    1.073</td>\n",
       "</tr>\n",
       "<tr>\n",
       "  <th>x3</th>        <td>    0.9638</td> <td>    0.031</td> <td>   30.685</td> <td> 0.000</td> <td>    0.902</td> <td>    1.026</td>\n",
       "</tr>\n",
       "</table>"
      ],
      "text/plain": [
       "<class 'statsmodels.iolib.table.SimpleTable'>"
      ]
     },
     "execution_count": 8,
     "metadata": {},
     "output_type": "execute_result"
    }
   ],
   "source": [
    "res.summary().tables[1]"
   ]
  },
  {
   "cell_type": "code",
   "execution_count": 9,
   "metadata": {},
   "outputs": [
    {
     "data": {
      "text/plain": [
       "0.5968487611275441"
      ]
     },
     "execution_count": 9,
     "metadata": {},
     "output_type": "execute_result"
    }
   ],
   "source": [
    "from statsmodels.stats.diagnostic import het_breuschpagan\n",
    "\n",
    "het_breuschpagan(res4.resid, res4.model.exog)[1]"
   ]
  },
  {
   "cell_type": "markdown",
   "metadata": {},
   "source": [
    "### Exercise 4"
   ]
  },
  {
   "cell_type": "code",
   "execution_count": 10,
   "metadata": {},
   "outputs": [
    {
     "data": {
      "text/html": [
       "<table class=\"simpletable\">\n",
       "<tr>\n",
       "         <td></td>             <th>Reg</th>          <th>Reg 1</th>         <th>Reg 2</th>        <th>Reg 3</th>   \n",
       "</tr>\n",
       "<tr>\n",
       "  <th>Intercept</th>      <td>-11358.6034**</td> <td>-11358.6034**</td>  <td>-42445.6035</td>  <td>-42445.6035</td>\n",
       "</tr>\n",
       "<tr>\n",
       "  <th></th>                <td>(4884.9018)</td>   <td>(4466.4852)</td>  <td>(28975.2153)</td> <td>(27116.6104)</td>\n",
       "</tr>\n",
       "<tr>\n",
       "  <th>R-squared</th>         <td>0.1959</td>        <td>0.1959</td>        <td>0.0820</td>       <td>0.0820</td>   \n",
       "</tr>\n",
       "<tr>\n",
       "  <th>R-squared Adj.</th>    <td>0.1945</td>        <td>0.1945</td>        <td>0.0804</td>       <td>0.0804</td>   \n",
       "</tr>\n",
       "<tr>\n",
       "  <th>actlim</th>          <td>704.0432***</td>   <td>704.0432***</td>  <td>4778.5762***</td> <td>4778.5762***</td>\n",
       "</tr>\n",
       "<tr>\n",
       "  <th></th>                 <td>(77.0857)</td>     <td>(87.4941)</td>    <td>(454.3489)</td>   <td>(547.3765)</td> \n",
       "</tr>\n",
       "<tr>\n",
       "  <th>age</th>             <td>330.6778**</td>    <td>330.6778***</td>    <td>1159.3610</td>    <td>1159.3610</td> \n",
       "</tr>\n",
       "<tr>\n",
       "  <th></th>                <td>(130.5802)</td>    <td>(118.8841)</td>    <td>(774.7039)</td>   <td>(720.4713)</td> \n",
       "</tr>\n",
       "<tr>\n",
       "  <th>age2</th>            <td>-2.2975***</td>    <td>-2.2975***</td>      <td>-8.0282</td>     <td>-8.0282*</td>  \n",
       "</tr>\n",
       "<tr>\n",
       "  <th></th>                 <td>(0.8682)</td>      <td>(0.7866)</td>      <td>(5.1510)</td>     <td>(4.7658)</td>  \n",
       "</tr>\n",
       "<tr>\n",
       "  <th>educyr</th>               <td></td>              <td></td>         <td>189.7413***</td>  <td>189.7413***</td>\n",
       "</tr>\n",
       "<tr>\n",
       "  <th></th>                     <td></td>              <td></td>          <td>(55.0097)</td>    <td>(54.3381)</td> \n",
       "</tr>\n",
       "<tr>\n",
       "  <th>medicaid</th>        <td>404.5302***</td>   <td>404.5302***</td>        <td></td>             <td></td>      \n",
       "</tr>\n",
       "<tr>\n",
       "  <th></th>                 <td>(99.0941)</td>    <td>(120.6113)</td>         <td></td>             <td></td>      \n",
       "</tr>\n",
       "<tr>\n",
       "  <th>private</th>           <td>64.6532</td>       <td>64.6532</td>      <td>631.7496</td>     <td>631.7496</td>  \n",
       "</tr>\n",
       "<tr>\n",
       "  <th></th>                 <td>(71.5972)</td>     <td>(65.1827)</td>    <td>(412.3087)</td>   <td>(417.3323)</td> \n",
       "</tr>\n",
       "<tr>\n",
       "  <th>totchr</th>          <td>549.1138***</td>   <td>549.1138***</td>  <td>1474.1629***</td> <td>1474.1629***</td>\n",
       "</tr>\n",
       "<tr>\n",
       "  <th></th>                 <td>(26.4351)</td>     <td>(31.0156)</td>    <td>(156.2869)</td>   <td>(168.3264)</td> \n",
       "</tr>\n",
       "</table>"
      ],
      "text/plain": [
       "<class 'statsmodels.iolib.summary2.Summary'>\n",
       "\"\"\"\n",
       "\n",
       "====================================================================\n",
       "                    Reg          Reg 1        Reg 2        Reg 3    \n",
       "--------------------------------------------------------------------\n",
       "Intercept      -11358.6034** -11358.6034** -42445.6035  -42445.6035 \n",
       "               (4884.9018)   (4466.4852)   (28975.2153) (27116.6104)\n",
       "R-squared      0.1959        0.1959        0.0820       0.0820      \n",
       "R-squared Adj. 0.1945        0.1945        0.0804       0.0804      \n",
       "actlim         704.0432***   704.0432***   4778.5762*** 4778.5762***\n",
       "               (77.0857)     (87.4941)     (454.3489)   (547.3765)  \n",
       "age            330.6778**    330.6778***   1159.3610    1159.3610   \n",
       "               (130.5802)    (118.8841)    (774.7039)   (720.4713)  \n",
       "age2           -2.2975***    -2.2975***    -8.0282      -8.0282*    \n",
       "               (0.8682)      (0.7866)      (5.1510)     (4.7658)    \n",
       "educyr                                     189.7413***  189.7413*** \n",
       "                                           (55.0097)    (54.3381)   \n",
       "medicaid       404.5302***   404.5302***                            \n",
       "               (99.0941)     (120.6113)                             \n",
       "private        64.6532       64.6532       631.7496     631.7496    \n",
       "               (71.5972)     (65.1827)     (412.3087)   (417.3323)  \n",
       "totchr         549.1138***   549.1138***   1474.1629*** 1474.1629***\n",
       "               (26.4351)     (31.0156)     (156.2869)   (168.3264)  \n",
       "====================================================================\n",
       "Standard errors in parentheses.\n",
       "* p<.1, ** p<.05, ***p<.01\n",
       "\"\"\""
      ]
     },
     "execution_count": 10,
     "metadata": {},
     "output_type": "execute_result"
    }
   ],
   "source": [
    "from statsmodels.iolib.summary2 import summary_col\n",
    "\n",
    "data=pd.read_stata('data/mus05surdata.dta')\n",
    "res=smf.ols(formula='drugexp ~ age+age2+actlim+totchr+medicaid+private',data=data).fit()\n",
    "res1=smf.ols(formula='drugexp ~ age+age2+actlim+totchr+medicaid+private',data=data).fit(cov_type='HC1')\n",
    "res2=smf.ols(formula='totothr ~ age+age2+educyr+actlim+totchr+private',data=data).fit()\n",
    "res3=smf.ols(formula='totothr ~ age+age2+educyr+actlim+totchr+private',data=data).fit(cov_type='HC1')\n",
    "summary_col(results=[res,res1,res2,res3], stars = True, model_names=['Reg', 'Reg 1', 'Reg 2', 'Reg 3'], drop_omitted=True)"
   ]
  },
  {
   "cell_type": "code",
   "execution_count": 11,
   "metadata": {
    "scrolled": false
   },
   "outputs": [
    {
     "name": "stdout",
     "output_type": "stream",
     "text": [
      "                                        Num. Constraints:                      None\n",
      "                Equation: drugexp, Dependent Variable: drugexp                \n",
      "==============================================================================\n",
      "            Parameter  Std. Err.     T-stat    P-value    Lower CI    Upper CI\n",
      "------------------------------------------------------------------------------\n",
      "Intercept  -1.136e+04     4879.8    -2.3279     0.0199  -2.092e+04     -1795.3\n",
      "age            330.69     130.45     2.5351     0.0112      75.025      586.36\n",
      "age2          -2.2975     0.8673    -2.6491     0.0081     -3.9974     -0.5977\n",
      "actlim         703.88     76.990     9.1424     0.0000      552.98      854.78\n",
      "totchr         549.09     26.406     20.794     0.0000      497.33      600.84\n",
      "medicaid       405.72     98.351     4.1252     0.0000      212.96      598.49\n",
      "private        64.970     71.461     0.9092     0.3633     -75.090      205.03\n",
      "                Equation: totothr, Dependent Variable: totothr                \n",
      "==============================================================================\n",
      "            Parameter  Std. Err.     T-stat    P-value    Lower CI    Upper CI\n",
      "------------------------------------------------------------------------------\n",
      "Intercept  -4.243e+04  2.895e+04    -1.4658     0.1427  -9.916e+04    1.43e+04\n",
      "age            1160.7     773.90     1.4998     0.1337     -356.15      2677.5\n",
      "age2          -8.0380     5.1457    -1.5621     0.1183     -18.123      2.0474\n",
      "educyr         184.09     54.597     3.3717     0.0007      77.078      291.09\n",
      "actlim         4772.2     453.82     10.516     0.0000      3882.7      5661.7\n",
      "totchr         1473.6     156.12     9.4389     0.0000      1167.6      1779.6\n",
      "private        643.93     411.66     1.5642     0.1178     -162.91      1450.8\n",
      "==============================================================================\n",
      "\n",
      "Covariance Estimator:\n",
      "Homoskedastic (Unadjusted) Covariance (Debiased: False, GLS: True)\n"
     ]
    },
    {
     "name": "stderr",
     "output_type": "stream",
     "text": [
      "C:\\Users\\bayes\\Anaconda3\\lib\\site-packages\\linearmodels\\iv\\data.py:25: FutureWarning: is_categorical is deprecated and will be removed in a future version.  Use is_categorical_dtype instead\n",
      "  if is_categorical(s):\n"
     ]
    }
   ],
   "source": [
    "from linearmodels.system import SUR\n",
    "\n",
    "formula = '{drugexp ~ 1 + age+age2+actlim+totchr+medicaid+private} {totothr ~ 1 + age+age2+educyr+actlim+totchr+private}'\n",
    "res4 = SUR.from_formula(formula, data).fit(cov_type='unadjusted')\n",
    "print('\\n'.join(res4.summary.as_text().split('\\n')[8:]))"
   ]
  },
  {
   "cell_type": "code",
   "execution_count": 12,
   "metadata": {
    "scrolled": false
   },
   "outputs": [
    {
     "name": "stdout",
     "output_type": "stream",
     "text": [
      "                                        Num. Constraints:                      None\n",
      "                Equation: drugexp, Dependent Variable: drugexp                \n",
      "==============================================================================\n",
      "            Parameter  Std. Err.     T-stat    P-value    Lower CI    Upper CI\n",
      "------------------------------------------------------------------------------\n",
      "Intercept  -1.136e+04     2.3428    -4848.7     0.0000  -1.136e+04  -1.135e+04\n",
      "age            330.69     0.0624     5301.5     0.0000      330.57      330.82\n",
      "age2          -2.2975     0.0004    -5565.1     0.0000     -2.2984     -2.2967\n",
      "actlim         703.88     0.0460  1.529e+04     0.0000      703.79      703.97\n",
      "totchr         549.09     0.0164  3.354e+04     0.0000      549.05      549.12\n",
      "medicaid       405.72     0.0637     6366.8     0.0000      405.60      405.85\n",
      "private        64.970     0.0343     1893.1     0.0000      64.903      65.037\n",
      "                Equation: totothr, Dependent Variable: totothr                \n",
      "==============================================================================\n",
      "            Parameter  Std. Err.     T-stat    P-value    Lower CI    Upper CI\n",
      "------------------------------------------------------------------------------\n",
      "Intercept  -4.243e+04     2.4042 -1.765e+04     0.0000  -4.243e+04  -4.242e+04\n",
      "age            1160.7     0.0639  1.816e+04     0.0000      1160.5      1160.8\n",
      "age2          -8.0380     0.0004 -1.901e+04     0.0000     -8.0388     -8.0371\n",
      "educyr         184.09     0.0057  3.241e+04     0.0000      184.08      184.10\n",
      "actlim         4772.2     0.0487  9.792e+04     0.0000      4772.1      4772.3\n",
      "totchr         1473.6     0.0149   9.86e+04     0.0000      1473.6      1473.7\n",
      "private        643.93     0.0377  1.709e+04     0.0000      643.86      644.01\n",
      "==============================================================================\n",
      "\n",
      "Covariance Estimator:\n",
      "Heteroskedastic (Robust) Covariance (Debiased: False, GLS: True)\n"
     ]
    }
   ],
   "source": [
    "res5 = SUR.from_formula(formula, data).fit(cov_type='robust')\n",
    "print('\\n'.join(res5.summary.as_text().split('\\n')[8:]))"
   ]
  },
  {
   "cell_type": "markdown",
   "metadata": {},
   "source": [
    "### Exercise 5"
   ]
  },
  {
   "cell_type": "code",
   "execution_count": 13,
   "metadata": {
    "scrolled": true
   },
   "outputs": [
    {
     "data": {
      "text/plain": [
       "14.26046085357666"
      ]
     },
     "execution_count": 13,
     "metadata": {},
     "output_type": "execute_result"
    }
   ],
   "source": [
    "data=pd.read_stata('data/mus05nhanes2.dta')\n",
    "data.hgb.mean()"
   ]
  },
  {
   "cell_type": "code",
   "execution_count": 14,
   "metadata": {},
   "outputs": [
    {
     "data": {
      "text/plain": [
       "14.28339958862687"
      ]
     },
     "execution_count": 14,
     "metadata": {},
     "output_type": "execute_result"
    }
   ],
   "source": [
    "np.average(data.hgb,weights=data.finalwgt)"
   ]
  },
  {
   "cell_type": "code",
   "execution_count": 15,
   "metadata": {},
   "outputs": [
    {
     "data": {
      "text/html": [
       "<table class=\"simpletable\">\n",
       "<tr>\n",
       "      <td></td>         <th>coef</th>     <th>std err</th>      <th>z</th>      <th>P>|z|</th>  <th>[0.025</th>    <th>0.975]</th>  \n",
       "</tr>\n",
       "<tr>\n",
       "  <th>Intercept</th> <td>   15.1171</td> <td>    0.062</td> <td>  242.750</td> <td> 0.000</td> <td>   14.995</td> <td>   15.239</td>\n",
       "</tr>\n",
       "<tr>\n",
       "  <th>age</th>       <td>    0.0007</td> <td>    0.001</td> <td>    0.777</td> <td> 0.437</td> <td>   -0.001</td> <td>    0.002</td>\n",
       "</tr>\n",
       "<tr>\n",
       "  <th>female</th>    <td>   -1.6572</td> <td>    0.031</td> <td>  -53.275</td> <td> 0.000</td> <td>   -1.718</td> <td>   -1.596</td>\n",
       "</tr>\n",
       "</table>"
      ],
      "text/plain": [
       "<class 'statsmodels.iolib.table.SimpleTable'>"
      ]
     },
     "execution_count": 15,
     "metadata": {},
     "output_type": "execute_result"
    }
   ],
   "source": [
    "data.loc[:,'uniqpsu']=2*data.strata+data.psu\n",
    "res=smf.wls(formula='hgb~age+female',data=data,weights=data.finalwgt).fit(cov_type='cluster',cov_kwds={'groups': data.uniqpsu})\n",
    "res.summary().tables[1]"
   ]
  },
  {
   "cell_type": "code",
   "execution_count": 16,
   "metadata": {},
   "outputs": [
    {
     "data": {
      "text/html": [
       "<table class=\"simpletable\">\n",
       "<tr>\n",
       "      <td></td>         <th>coef</th>     <th>std err</th>      <th>t</th>      <th>P>|t|</th>  <th>[0.025</th>    <th>0.975]</th>  \n",
       "</tr>\n",
       "<tr>\n",
       "  <th>Intercept</th> <td>   15.0862</td> <td>    0.035</td> <td>  428.325</td> <td> 0.000</td> <td>   15.017</td> <td>   15.155</td>\n",
       "</tr>\n",
       "<tr>\n",
       "  <th>age</th>       <td>   -0.0003</td> <td>    0.001</td> <td>   -0.507</td> <td> 0.612</td> <td>   -0.002</td> <td>    0.001</td>\n",
       "</tr>\n",
       "<tr>\n",
       "  <th>female</th>    <td>   -1.5422</td> <td>    0.023</td> <td>  -68.084</td> <td> 0.000</td> <td>   -1.587</td> <td>   -1.498</td>\n",
       "</tr>\n",
       "</table>"
      ],
      "text/plain": [
       "<class 'statsmodels.iolib.table.SimpleTable'>"
      ]
     },
     "execution_count": 16,
     "metadata": {},
     "output_type": "execute_result"
    }
   ],
   "source": [
    "res2=smf.ols(formula='hgb~age+female',data=data).fit()\n",
    "res2.summary().tables[1]"
   ]
  },
  {
   "cell_type": "markdown",
   "metadata": {},
   "source": [
    "### Exercise 6"
   ]
  },
  {
   "cell_type": "code",
   "execution_count": 17,
   "metadata": {},
   "outputs": [
    {
     "data": {
      "text/html": [
       "<table class=\"simpletable\">\n",
       "<tr>\n",
       "         <td></td>            <th>Reg</th>       <th>Reg 1</th>      <th>Reg 2</th>      <th>Reg 3</th>  \n",
       "</tr>\n",
       "<tr>\n",
       "  <th>Intercept</th>        <td>-4.4022</td>    <td>-4.4022</td>    <td>-6.1414</td>    <td>-6.1414</td> \n",
       "</tr>\n",
       "<tr>\n",
       "  <th></th>                <td>(2.9867)</td>   <td>(2.9724)</td>   <td>(3.8382)</td>   <td>(3.8531)</td> \n",
       "</tr>\n",
       "<tr>\n",
       "  <th>R-squared</th>        <td>0.2270</td>     <td>0.2270</td>     <td>0.1540</td>     <td>0.1540</td>  \n",
       "</tr>\n",
       "<tr>\n",
       "  <th>R-squared Adj.</th>   <td>0.2256</td>     <td>0.2256</td>     <td>0.1525</td>     <td>0.1525</td>  \n",
       "</tr>\n",
       "<tr>\n",
       "  <th>actlim</th>          <td>0.3574***</td>  <td>0.3574***</td>  <td>0.7421***</td>  <td>0.7421***</td>\n",
       "</tr>\n",
       "<tr>\n",
       "  <th></th>                <td>(0.0468)</td>   <td>(0.0455)</td>   <td>(0.0601)</td>   <td>(0.0636)</td> \n",
       "</tr>\n",
       "<tr>\n",
       "  <th>age</th>             <td>0.2764***</td>  <td>0.2764***</td>  <td>0.3174***</td>  <td>0.3174***</td>\n",
       "</tr>\n",
       "<tr>\n",
       "  <th></th>                <td>(0.0798)</td>   <td>(0.0793)</td>   <td>(0.1026)</td>   <td>(0.1030)</td> \n",
       "</tr>\n",
       "<tr>\n",
       "  <th>age2</th>           <td>-0.0018***</td> <td>-0.0018***</td> <td>-0.0021***</td> <td>-0.0021***</td>\n",
       "</tr>\n",
       "<tr>\n",
       "  <th></th>                <td>(0.0005)</td>   <td>(0.0005)</td>   <td>(0.0007)</td>   <td>(0.0007)</td> \n",
       "</tr>\n",
       "<tr>\n",
       "  <th>educyr</th>              <td></td>           <td></td>       <td>0.0650***</td>  <td>0.0650***</td>\n",
       "</tr>\n",
       "<tr>\n",
       "  <th></th>                    <td></td>           <td></td>       <td>(0.0073)</td>   <td>(0.0076)</td> \n",
       "</tr>\n",
       "<tr>\n",
       "  <th>medicaid</th>         <td>0.0893</td>     <td>0.0893</td>        <td></td>           <td></td>     \n",
       "</tr>\n",
       "<tr>\n",
       "  <th></th>                <td>(0.0601)</td>   <td>(0.0623)</td>       <td></td>           <td></td>     \n",
       "</tr>\n",
       "<tr>\n",
       "  <th>private</th>          <td>0.0775*</td>    <td>0.0775*</td>   <td>0.2590***</td>  <td>0.2590***</td>\n",
       "</tr>\n",
       "<tr>\n",
       "  <th></th>                <td>(0.0438)</td>   <td>(0.0443)</td>   <td>(0.0546)</td>   <td>(0.0543)</td> \n",
       "</tr>\n",
       "<tr>\n",
       "  <th>totchr</th>          <td>0.4035***</td>  <td>0.4035***</td>  <td>0.2960***</td>  <td>0.2960***</td>\n",
       "</tr>\n",
       "<tr>\n",
       "  <th></th>                <td>(0.0162)</td>   <td>(0.0163)</td>   <td>(0.0207)</td>   <td>(0.0205)</td> \n",
       "</tr>\n",
       "</table>"
      ],
      "text/plain": [
       "<class 'statsmodels.iolib.summary2.Summary'>\n",
       "\"\"\"\n",
       "\n",
       "==========================================================\n",
       "                  Reg       Reg 1      Reg 2      Reg 3   \n",
       "----------------------------------------------------------\n",
       "Intercept      -4.4022    -4.4022    -6.1414    -6.1414   \n",
       "               (2.9867)   (2.9724)   (3.8382)   (3.8531)  \n",
       "R-squared      0.2270     0.2270     0.1540     0.1540    \n",
       "R-squared Adj. 0.2256     0.2256     0.1525     0.1525    \n",
       "actlim         0.3574***  0.3574***  0.7421***  0.7421*** \n",
       "               (0.0468)   (0.0455)   (0.0601)   (0.0636)  \n",
       "age            0.2764***  0.2764***  0.3174***  0.3174*** \n",
       "               (0.0798)   (0.0793)   (0.1026)   (0.1030)  \n",
       "age2           -0.0018*** -0.0018*** -0.0021*** -0.0021***\n",
       "               (0.0005)   (0.0005)   (0.0007)   (0.0007)  \n",
       "educyr                               0.0650***  0.0650*** \n",
       "                                     (0.0073)   (0.0076)  \n",
       "medicaid       0.0893     0.0893                          \n",
       "               (0.0601)   (0.0623)                        \n",
       "private        0.0775*    0.0775*    0.2590***  0.2590*** \n",
       "               (0.0438)   (0.0443)   (0.0546)   (0.0543)  \n",
       "totchr         0.4035***  0.4035***  0.2960***  0.2960*** \n",
       "               (0.0162)   (0.0163)   (0.0207)   (0.0205)  \n",
       "==========================================================\n",
       "Standard errors in parentheses.\n",
       "* p<.1, ** p<.05, ***p<.01\n",
       "\"\"\""
      ]
     },
     "execution_count": 17,
     "metadata": {},
     "output_type": "execute_result"
    }
   ],
   "source": [
    "from statsmodels.iolib.summary2 import summary_col\n",
    "\n",
    "data=pd.read_stata('data/mus05surdata.dta')\n",
    "res=smf.ols(formula='ldrugexp ~ age+age2+actlim+totchr+medicaid+private',data=data).fit()\n",
    "res1=smf.ols(formula='ldrugexp ~ age+age2+actlim+totchr+medicaid+private',data=data).fit(cov_type='HC1')\n",
    "res2=smf.ols(formula='ltotothr ~ age+age2+educyr+actlim+totchr+private',data=data).fit()\n",
    "res3=smf.ols(formula='ltotothr ~ age+age2+educyr+actlim+totchr+private',data=data).fit(cov_type='HC1')\n",
    "summary_col(results=[res,res1,res2,res3], stars = True, model_names=['Reg', 'Reg 1', 'Reg 2', 'Reg 3'], drop_omitted=True)"
   ]
  },
  {
   "cell_type": "code",
   "execution_count": 18,
   "metadata": {},
   "outputs": [
    {
     "name": "stdout",
     "output_type": "stream",
     "text": [
      "                                        Num. Constraints:                      None\n",
      "               Equation: ldrugexp, Dependent Variable: ldrugexp               \n",
      "==============================================================================\n",
      "            Parameter  Std. Err.     T-stat    P-value    Lower CI    Upper CI\n",
      "------------------------------------------------------------------------------\n",
      "Intercept     -3.8913     2.9759    -1.3076     0.1910     -9.7239      1.9414\n",
      "age            0.2630     0.0795     3.3074     0.0009      0.1072      0.4189\n",
      "age2          -0.0017     0.0005    -3.2964     0.0010     -0.0028     -0.0007\n",
      "actlim         0.3547     0.0466     7.6079     0.0000      0.2633      0.4460\n",
      "totchr         0.4005     0.0161     24.810     0.0000      0.3689      0.4322\n",
      "medicaid       0.1068     0.0592     1.8028     0.0714     -0.0093      0.2229\n",
      "private        0.0810     0.0436     1.8598     0.0629     -0.0044      0.1664\n",
      "               Equation: ltotothr, Dependent Variable: ltotothr               \n",
      "==============================================================================\n",
      "            Parameter  Std. Err.     T-stat    P-value    Lower CI    Upper CI\n",
      "------------------------------------------------------------------------------\n",
      "Intercept     -5.1983     3.9141    -1.3281     0.1841     -12.870      2.4731\n",
      "age            0.2928     0.1046     2.7987     0.0051      0.0877      0.4978\n",
      "age2          -0.0019     0.0007    -2.7676     0.0056     -0.0033     -0.0006\n",
      "educyr         0.0653     0.0073     8.9167     0.0000      0.0509      0.0796\n",
      "actlim         0.7387     0.0609     12.134     0.0000      0.6194      0.8580\n",
      "totchr         0.2874     0.0212     13.573     0.0000      0.2459      0.3289\n",
      "private        0.2689     0.0557     4.8292     0.0000      0.1598      0.3780\n",
      "==============================================================================\n",
      "\n",
      "Covariance Estimator:\n",
      "Homoskedastic (Unadjusted) Covariance (Debiased: False, GLS: True)\n"
     ]
    },
    {
     "name": "stderr",
     "output_type": "stream",
     "text": [
      "C:\\Users\\bayes\\Anaconda3\\lib\\site-packages\\linearmodels\\iv\\data.py:25: FutureWarning: is_categorical is deprecated and will be removed in a future version.  Use is_categorical_dtype instead\n",
      "  if is_categorical(s):\n",
      "C:\\Users\\bayes\\Anaconda3\\lib\\site-packages\\linearmodels\\utility.py:549: MissingValueWarning: \n",
      "Inputs contain missing values. Dropping rows with missing observations.\n",
      "  warnings.warn(missing_value_warning_msg, MissingValueWarning)\n"
     ]
    }
   ],
   "source": [
    "from linearmodels.system import SUR\n",
    "\n",
    "formula = '{ldrugexp ~ 1 + age+age2+actlim+totchr+medicaid+private} {ltotothr ~ 1 + age+age2+educyr+actlim+totchr+private}'\n",
    "res4 = SUR.from_formula(formula, data).fit(cov_type='unadjusted')\n",
    "print('\\n'.join(res4.summary.as_text().split('\\n')[8:]))"
   ]
  },
  {
   "cell_type": "code",
   "execution_count": 19,
   "metadata": {},
   "outputs": [
    {
     "name": "stdout",
     "output_type": "stream",
     "text": [
      "                                        Num. Constraints:                      None\n",
      "               Equation: ldrugexp, Dependent Variable: ldrugexp               \n",
      "==============================================================================\n",
      "            Parameter  Std. Err.     T-stat    P-value    Lower CI    Upper CI\n",
      "------------------------------------------------------------------------------\n",
      "Intercept     -3.8913     2.6290    -1.4802     0.1388     -9.0439      1.2614\n",
      "age            0.2630     0.0702     3.7478     0.0002      0.1255      0.4006\n",
      "age2          -0.0017     0.0005    -3.7387     0.0002     -0.0027     -0.0008\n",
      "actlim         0.3547     0.0400     8.8715     0.0000      0.2763      0.4330\n",
      "totchr         0.4005     0.0144     27.828     0.0000      0.3723      0.4287\n",
      "medicaid       0.1068     0.0539     1.9798     0.0477      0.0011      0.2125\n",
      "private        0.0810     0.0390     2.0788     0.0376      0.0046      0.1574\n",
      "               Equation: ltotothr, Dependent Variable: ltotothr               \n",
      "==============================================================================\n",
      "            Parameter  Std. Err.     T-stat    P-value    Lower CI    Upper CI\n",
      "------------------------------------------------------------------------------\n",
      "Intercept     -5.1983     2.6469    -1.9640     0.0495     -10.386     -0.0106\n",
      "age            0.2928     0.0707     4.1399     0.0000      0.1542      0.4314\n",
      "age2          -0.0019     0.0005    -4.0930     0.0000     -0.0028     -0.0010\n",
      "educyr         0.0653     0.0053     12.238     0.0000      0.0548      0.0757\n",
      "actlim         0.7387     0.0431     17.143     0.0000      0.6542      0.8231\n",
      "totchr         0.2874     0.0141     20.318     0.0000      0.2596      0.3151\n",
      "private        0.2689     0.0373     7.2116     0.0000      0.1958      0.3420\n",
      "==============================================================================\n",
      "\n",
      "Covariance Estimator:\n",
      "Heteroskedastic (Robust) Covariance (Debiased: False, GLS: True)\n"
     ]
    }
   ],
   "source": [
    "res5 = SUR.from_formula(formula, data).fit(cov_type='robust')\n",
    "print('\\n'.join(res5.summary.as_text().split('\\n')[8:]))"
   ]
  }
 ],
 "metadata": {
  "filename": "pandas.rst",
  "kernelspec": {
   "display_name": "Python 3",
   "language": "python",
   "name": "python3"
  },
  "language_info": {
   "codemirror_mode": {
    "name": "ipython",
    "version": 3
   },
   "file_extension": ".py",
   "mimetype": "text/x-python",
   "name": "python",
   "nbconvert_exporter": "python",
   "pygments_lexer": "ipython3",
   "version": "3.8.5"
  },
  "title": "Pandas"
 },
 "nbformat": 4,
 "nbformat_minor": 2
}
