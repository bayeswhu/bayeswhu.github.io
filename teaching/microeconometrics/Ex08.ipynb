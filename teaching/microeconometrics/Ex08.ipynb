{
 "cells": [
  {
   "cell_type": "markdown",
   "metadata": {
    "slideshow": {
     "slide_type": "slide"
    }
   },
   "source": [
    "## Exercises"
   ]
  },
  {
   "cell_type": "markdown",
   "metadata": {
    "slideshow": {
     "slide_type": "subslide"
    }
   },
   "source": [
    "### Exercise 1\n",
    "\n",
    "Estimate by 2SLS the regression model as in `ldrugexp ~ hi_empunion + totchr + female + age + linc + blhisp`, with the instruments `multlc` and `firmsz` for `hi_empunion`. Compare the 2SLS estimates with OLS estimates. Perform a test of endogeneity of `hi_empunion`. Perform a test of overidentification. Throughout this exercise, perform inference that is robust to heteroskedasticity. Repeat this exercise using optimal GMM."
   ]
  },
  {
   "cell_type": "markdown",
   "metadata": {},
   "source": [
    "### Exercise 2\n",
    "\n",
    "Use the model and instruments of exercise 1. Compare the following estimators: 2SLS, LIML, and GMM given heteroskedastic errors."
   ]
  },
  {
   "cell_type": "markdown",
   "metadata": {},
   "source": [
    "### Exercise 3\n",
    "\n",
    "Use the model of exercise 1. Compare 2SLS estimates as the instruments `ssiratio`, `lowincome`, `multlc`, and `firmsz` are progressively added."
   ]
  },
  {
   "cell_type": "markdown",
   "metadata": {},
   "source": [
    "### Exercise 4\n",
    "\n",
    "Use the model and instruments of exercise 1. Perform appropriate diagnostics and tests for weak instruments using the 2SLS estimator. Throughout this exercise, perform inference assuming errors are i.i.d."
   ]
  },
  {
   "cell_type": "markdown",
   "metadata": {},
   "source": [
    "### Exercise 5\n",
    "\n",
    "Estimate the 3SLS model of `ldrugexp ~ 1 + hi_empunion + totchr + age + female + linc + blhisp` and `hi_empunion ~ 1 + ldrugexp + totchr + female + blhisp + ssiratio`, and compare the 3SLS coefficient estimates and standard errors in the `ldrugexp` equation with those from 2SLS estimation (with default standard errors)."
   ]
  },
  {
   "cell_type": "markdown",
   "metadata": {},
   "source": [
    "### Exercise 6\n",
    "\n",
    "This question considers the same earnings-schooling dataset as that analyzed in Cameron and Trivedi (2005, 111). The data are in `mus06klingdata.dta`. There are three endogenous regressors---years of schooling, years of work experience, and experience-squared---and three instruments---a college proximity indicator, age, and age-squared. Interest lies in the coefficient of schooling. Perform appropriate diagnostics and tests for weak instruments for the following model. The following commands yield the IV estimator:"
   ]
  },
  {
   "cell_type": "code",
   "execution_count": null,
   "metadata": {},
   "outputs": [],
   "source": [
    "data=pd.read_stata('data/mus06klingdata.dta')\n",
    "formula='wage76 ~ 1 + black+south76+smsa76+reg2+reg3+reg4+reg5+reg6+reg7+reg8+reg9+smsa66+sinmom14+nodaded+nomomed+daded+momed+famed1+famed2+famed3+famed4+famed5+famed6+famed7+famed8 + [grade76+exp76+expsq76 ~ col4+age76+agesq76]'\n",
    "res = IV2SLS.from_formula(formula, data).fit(cov_type='robust')\n",
    "print(res.first_stage)\n",
    "print('\\n'.join(res.summary.as_text().split('\\n')[8:]))"
   ]
  },
  {
   "cell_type": "markdown",
   "metadata": {},
   "source": [
    "### Exercise 7\n",
    "\n",
    "Use the same dataset as the previous question. Treat only `grade76` as endogenous, let `exp76` and `expsq76` be exogenous, and use `col4` as the only instrument. Perform appropriate diagnostics and tests for a weak instrument."
   ]
  },
  {
   "cell_type": "markdown",
   "metadata": {},
   "source": [
    "### Exercise 8\n",
    "\n",
    "When an endogenous variable enters the regression nonlinearly, the obvious IV estimator is inconsistent and a modification is needed. Specifically, suppose $y_1 = \\beta y_2^2 + u$, and the first-stage equation for $y_2$ is $y_2 = \\pi z + v$, where the zero mean errors u and v are correlated. Here the endogenous regressor appears in the structural equation as $y_2^2$ rather than $y_2$. The IV estimator is $\\hat{\\beta}_{IV} = (\\sum_i z_i y_{2i}^2)^{-1}\\sum_i z_i y_{1i}$· This can be implemented by a regular IV regression of y on $y_2^2$ with the instrument z: regress $y_2^2$ on z and then regress $y_1$ on the first stage\n",
    "prediction $\\hat{y_2^2}$. If instead we regress $y_2$ on z at the first stage, giving $\\hat{y}_2$, and then regress $y_1$ on $(\\hat{y}_2)^2$, an inconsistent estimate is obtained. Generate a simulation sample to demonstrate these points. Consider whether this example can be generalized to other nonlinear models where the nonlinearity is in regressors only, so that $y_1 = g(y_2)'\\beta + u$, where $g(y_2)$ is a nonlinear function of $y_2$·"
   ]
  }
 ],
 "metadata": {
  "kernelspec": {
   "display_name": "Python 3",
   "language": "python",
   "name": "python3"
  },
  "language_info": {
   "codemirror_mode": {
    "name": "ipython",
    "version": 3
   },
   "file_extension": ".py",
   "mimetype": "text/x-python",
   "name": "python",
   "nbconvert_exporter": "python",
   "pygments_lexer": "ipython3",
   "version": "3.8.5"
  },
  "livereveal": {
   "scroll": true
  }
 },
 "nbformat": 4,
 "nbformat_minor": 2
}
