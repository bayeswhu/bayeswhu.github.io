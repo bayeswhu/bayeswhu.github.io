{
 "cells": [
  {
   "cell_type": "markdown",
   "metadata": {
    "slideshow": {
     "slide_type": "slide"
    }
   },
   "source": [
    "## Introduction\n",
    "\n",
    "- This lecture presents generalized least-squares (GLS) estimation in the linear regression model.\n",
    "- GLS estimators are appropriate when one or more of the assumptions of homoskedasticity and noncorrelation of regression errors fails."
   ]
  },
  {
   "cell_type": "markdown",
   "metadata": {
    "slideshow": {
     "slide_type": "slide"
    }
   },
   "source": [
    "## Modeling heteroskedastic data\n",
    "\n",
    "- Heteroskedastic errors are pervasive in microeconometrics.\n",
    "- The failure of homoskedasticity in the standard regression model leads to the OLS estimator being inefficient, though it is still a consistant estimator."
   ]
  },
  {
   "cell_type": "markdown",
   "metadata": {
    "scrolled": true,
    "slideshow": {
     "slide_type": "subslide"
    }
   },
   "source": [
    "- Given heteroskedastic errors, there are two leading approaches:\n",
    "    + The first is to obtain robust estimates of the standard errors of regression coefficients without assumptions about the functional form of heteroskedasticity.\n",
    "    + The second apporach seeks to model the heteroskedasticity and to obtain more-efficient FGLS estimates."
   ]
  },
  {
   "cell_type": "markdown",
   "metadata": {
    "scrolled": true,
    "slideshow": {
     "slide_type": "subslide"
    }
   },
   "source": [
    "### Simulated dataset\n",
    "\n",
    "- The specific data-generating process (DGP) is $$ \\begin{matrix}\n",
    "y & = & 1+x_2+x_3+u; \\; x_2,x_3\\sim N(0,25) \\\\\n",
    "u & = & \\sqrt{exp(-1+0.2x_2)}\\times\\varepsilon; \\; \\varepsilon\\sim N(0,25)\n",
    "\\end{matrix} $$\n",
    "- We generate a sample of size 500 from this DGP"
   ]
  },
  {
   "cell_type": "code",
   "execution_count": 2,
   "metadata": {
    "slideshow": {
     "slide_type": "subslide"
    }
   },
   "outputs": [],
   "source": [
    "import numpy as np\n",
    "import pandas as pd\n",
    "import matplotlib.pyplot as plt\n",
    "import seaborn as sns\n",
    "import statsmodels.api as sm\n",
    "import statsmodels.formula.api as smf "
   ]
  },
  {
   "cell_type": "code",
   "execution_count": 3,
   "metadata": {
    "scrolled": true,
    "slideshow": {
     "slide_type": "subslide"
    }
   },
   "outputs": [
    {
     "data": {
      "text/html": [
       "<div>\n",
       "<style scoped>\n",
       "    .dataframe tbody tr th:only-of-type {\n",
       "        vertical-align: middle;\n",
       "    }\n",
       "\n",
       "    .dataframe tbody tr th {\n",
       "        vertical-align: top;\n",
       "    }\n",
       "\n",
       "    .dataframe thead th {\n",
       "        text-align: right;\n",
       "    }\n",
       "</style>\n",
       "<table border=\"1\" class=\"dataframe\">\n",
       "  <thead>\n",
       "    <tr style=\"text-align: right;\">\n",
       "      <th></th>\n",
       "      <th>x2</th>\n",
       "      <th>x3</th>\n",
       "      <th>e</th>\n",
       "      <th>u</th>\n",
       "      <th>y</th>\n",
       "    </tr>\n",
       "  </thead>\n",
       "  <tbody>\n",
       "    <tr>\n",
       "      <th>count</th>\n",
       "      <td>500.000000</td>\n",
       "      <td>500.000000</td>\n",
       "      <td>500.000000</td>\n",
       "      <td>500.000000</td>\n",
       "      <td>500.000000</td>\n",
       "    </tr>\n",
       "    <tr>\n",
       "      <th>mean</th>\n",
       "      <td>0.105675</td>\n",
       "      <td>-0.001212</td>\n",
       "      <td>0.095266</td>\n",
       "      <td>0.072774</td>\n",
       "      <td>1.177237</td>\n",
       "    </tr>\n",
       "    <tr>\n",
       "      <th>std</th>\n",
       "      <td>5.103832</td>\n",
       "      <td>5.000587</td>\n",
       "      <td>4.896203</td>\n",
       "      <td>3.506734</td>\n",
       "      <td>7.911386</td>\n",
       "    </tr>\n",
       "    <tr>\n",
       "      <th>min</th>\n",
       "      <td>-16.113826</td>\n",
       "      <td>-15.801241</td>\n",
       "      <td>-14.490510</td>\n",
       "      <td>-13.406188</td>\n",
       "      <td>-23.120749</td>\n",
       "    </tr>\n",
       "    <tr>\n",
       "      <th>50%</th>\n",
       "      <td>0.021711</td>\n",
       "      <td>-0.022021</td>\n",
       "      <td>0.059194</td>\n",
       "      <td>0.019839</td>\n",
       "      <td>1.065032</td>\n",
       "    </tr>\n",
       "    <tr>\n",
       "      <th>max</th>\n",
       "      <td>17.840012</td>\n",
       "      <td>16.877893</td>\n",
       "      <td>15.768188</td>\n",
       "      <td>15.375412</td>\n",
       "      <td>31.524742</td>\n",
       "    </tr>\n",
       "  </tbody>\n",
       "</table>\n",
       "</div>"
      ],
      "text/plain": [
       "               x2          x3           e           u           y\n",
       "count  500.000000  500.000000  500.000000  500.000000  500.000000\n",
       "mean     0.105675   -0.001212    0.095266    0.072774    1.177237\n",
       "std      5.103832    5.000587    4.896203    3.506734    7.911386\n",
       "min    -16.113826  -15.801241  -14.490510  -13.406188  -23.120749\n",
       "50%      0.021711   -0.022021    0.059194    0.019839    1.065032\n",
       "max     17.840012   16.877893   15.768188   15.375412   31.524742"
      ]
     },
     "execution_count": 3,
     "metadata": {},
     "output_type": "execute_result"
    }
   ],
   "source": [
    "from scipy import stats\n",
    "np.random.seed(10101)\n",
    "N=500\n",
    "nd=stats.norm(0,5)\n",
    "x2,x3,epsilon=np.split(nd.rvs(3*N),3)\n",
    "u=np.sqrt(np.exp(-1+0.2*x2))*epsilon\n",
    "y=1+x2+x3+u\n",
    "data=pd.DataFrame({'x2':x2,'x3':x3,'e':epsilon,'u':u,'y':y})\n",
    "data.describe([])"
   ]
  },
  {
   "cell_type": "markdown",
   "metadata": {
    "scrolled": true,
    "slideshow": {
     "slide_type": "subslide"
    }
   },
   "source": [
    "### OLS estimation\n",
    "\n",
    "- OLS regression with default standard errors yields"
   ]
  },
  {
   "cell_type": "code",
   "execution_count": 4,
   "metadata": {
    "slideshow": {
     "slide_type": "fragment"
    }
   },
   "outputs": [
    {
     "data": {
      "text/html": [
       "<table class=\"simpletable\">\n",
       "<tr>\n",
       "      <td></td>         <th>coef</th>     <th>std err</th>      <th>t</th>      <th>P>|t|</th>  <th>[0.025</th>    <th>0.975]</th>  \n",
       "</tr>\n",
       "<tr>\n",
       "  <th>Intercept</th> <td>    1.0715</td> <td>    0.157</td> <td>    6.827</td> <td> 0.000</td> <td>    0.763</td> <td>    1.380</td>\n",
       "</tr>\n",
       "<tr>\n",
       "  <th>x2</th>        <td>    1.0121</td> <td>    0.031</td> <td>   32.886</td> <td> 0.000</td> <td>    0.952</td> <td>    1.073</td>\n",
       "</tr>\n",
       "<tr>\n",
       "  <th>x3</th>        <td>    0.9638</td> <td>    0.031</td> <td>   30.685</td> <td> 0.000</td> <td>    0.902</td> <td>    1.026</td>\n",
       "</tr>\n",
       "</table>"
      ],
      "text/plain": [
       "<class 'statsmodels.iolib.table.SimpleTable'>"
      ]
     },
     "execution_count": 4,
     "metadata": {},
     "output_type": "execute_result"
    }
   ],
   "source": [
    "res=smf.ols(formula='y~x2+x3',data=data).fit()\n",
    "res.summary().tables[1]"
   ]
  },
  {
   "cell_type": "markdown",
   "metadata": {
    "scrolled": true,
    "slideshow": {
     "slide_type": "subslide"
    }
   },
   "source": [
    "- The standard procedure is to obtain heteroskedasticity-robust standard errors for the same OLS estimators."
   ]
  },
  {
   "cell_type": "code",
   "execution_count": 5,
   "metadata": {
    "run_control": {
     "marked": false
    },
    "slideshow": {
     "slide_type": "fragment"
    }
   },
   "outputs": [
    {
     "data": {
      "text/html": [
       "<table class=\"simpletable\">\n",
       "<tr>\n",
       "      <td></td>         <th>coef</th>     <th>std err</th>      <th>z</th>      <th>P>|z|</th>  <th>[0.025</th>    <th>0.975]</th>  \n",
       "</tr>\n",
       "<tr>\n",
       "  <th>Intercept</th> <td>    1.0715</td> <td>    0.154</td> <td>    6.938</td> <td> 0.000</td> <td>    0.769</td> <td>    1.374</td>\n",
       "</tr>\n",
       "<tr>\n",
       "  <th>x2</th>        <td>    1.0121</td> <td>    0.039</td> <td>   26.100</td> <td> 0.000</td> <td>    0.936</td> <td>    1.088</td>\n",
       "</tr>\n",
       "<tr>\n",
       "  <th>x3</th>        <td>    0.9638</td> <td>    0.032</td> <td>   30.315</td> <td> 0.000</td> <td>    0.902</td> <td>    1.026</td>\n",
       "</tr>\n",
       "</table>"
      ],
      "text/plain": [
       "<class 'statsmodels.iolib.table.SimpleTable'>"
      ]
     },
     "execution_count": 5,
     "metadata": {},
     "output_type": "execute_result"
    }
   ],
   "source": [
    "res1=smf.ols(formula='y~x2+x3',data=data).fit(cov_type='HC1')\n",
    "res1.summary().tables[1]"
   ]
  },
  {
   "cell_type": "markdown",
   "metadata": {
    "slideshow": {
     "slide_type": "subslide"
    }
   },
   "source": [
    "### Detecting heteroskedasticity\n",
    "\n",
    "- A simple informal diagnostic procedure is to plot the absolute value of the fitted regression residual, $|\\hat{u}_i|$, against a variable assumed to be in the skedasticity function."
   ]
  },
  {
   "cell_type": "code",
   "execution_count": 6,
   "metadata": {
    "slideshow": {
     "slide_type": "subslide"
    }
   },
   "outputs": [
    {
     "data": {
      "image/png": "[encoded data removed]",
      "text/plain": [
       "<Figure size 864x432 with 2 Axes>"
      ]
     },
     "metadata": {
      "needs_background": "light"
     },
     "output_type": "display_data"
    }
   ],
   "source": [
    "data['absu']=np.abs(res.resid)\n",
    "g=sns.PairGrid(data,y_vars='absu',x_vars=['x2','x3'],height=6)\n",
    "g.map(sns.regplot, lowess=True)\n",
    "plt.show()"
   ]
  },
  {
   "cell_type": "markdown",
   "metadata": {
    "slideshow": {
     "slide_type": "subslide"
    }
   },
   "source": [
    "- We can also go beyond a visual representation of heteroskedasticity by formally testing the null hypothesis of homoskedasticity against the alternative that residual variances depend upon some or all regressors. (Breusch–Pagan test)"
   ]
  },
  {
   "cell_type": "code",
   "execution_count": 7,
   "metadata": {
    "slideshow": {
     "slide_type": "fragment"
    }
   },
   "outputs": [
    {
     "name": "stdout",
     "output_type": "stream",
     "text": [
      "1.1971463661571842e-18\n",
      "0.8929714690971295\n",
      "1.3367559351625431e-17\n"
     ]
    }
   ],
   "source": [
    "from statsmodels.stats.diagnostic import het_breuschpagan\n",
    "\n",
    "exog=pd.DataFrame(res.model.exog,columns=['const','x2','x3'])\n",
    "print(het_breuschpagan(res.resid, exog[['const','x2']])[1])\n",
    "print(het_breuschpagan(res.resid, exog[['const','x3']])[1])\n",
    "print(het_breuschpagan(res.resid, exog)[1])"
   ]
  },
  {
   "cell_type": "markdown",
   "metadata": {
    "slideshow": {
     "slide_type": "subslide"
    }
   },
   "source": [
    "### FGLS estimation\n",
    "\n",
    "- For potential gains in efficiency, we can estimate the parameters of the model by using the two-step FGLS estimation method.\n",
    "- At the first step, we estimate the linear regression by OLS, save the residuals $\\hat{u}_i = y-x'\\hat{\\beta}_{OLS}$, estimate the skedasticity function $\\sigma^2(z_i, \\gamma)$ by regressing $\\hat{u}_i^2$ on $\\sigma^2(z_i, \\gamma)$, and get the predicted values $\\hat{\\sigma}^2(z_i, \\hat{\\gamma})$. "
   ]
  },
  {
   "cell_type": "markdown",
   "metadata": {
    "slideshow": {
     "slide_type": "subslide"
    }
   },
   "source": [
    "- Here our tests suggest that the skedasticity function should include only x2. \n",
    "- We specify the skedasticity function $\\sigma^2(z) = \\exp(\\gamma_1 + \\gamma_2 x_2)$, because taking the exponential ensures a positive variance."
   ]
  },
  {
   "cell_type": "code",
   "execution_count": 8,
   "metadata": {
    "slideshow": {
     "slide_type": "subslide"
    }
   },
   "outputs": [],
   "source": [
    "from scipy.optimize import least_squares\n",
    "\n",
    "def func(g,x,y):\n",
    "    return np.exp(g[0]+g[1]*x)-y\n",
    "\n",
    "data['uhatsq']=res.resid**2\n",
    "g0=np.ones(2)\n",
    "res_lsq = least_squares(func, g0, args=(data.x2, data.uhatsq))\n",
    "data['varu']=np.exp(res_lsq.x@[np.ones(len(data.x2)),data.x2])"
   ]
  },
  {
   "cell_type": "markdown",
   "metadata": {
    "slideshow": {
     "slide_type": "subslide"
    }
   },
   "source": [
    "- At the second step, the predictions $\\hat{\\sigma}^2(z)$ define the weights that are used to obtain the FGLS estimator. \n",
    "- Specifically, we regress $y_i/\\hat{\\sigma}_i$ on $x_i/\\hat{\\sigma}_i$ where $\\hat{\\sigma}_i^2 = \\exp(\\hat{\\gamma}_1+\\hat{\\gamma}_2 x_{2i})$."
   ]
  },
  {
   "cell_type": "code",
   "execution_count": 9,
   "metadata": {
    "slideshow": {
     "slide_type": "subslide"
    }
   },
   "outputs": [
    {
     "data": {
      "text/html": [
       "<table class=\"simpletable\">\n",
       "<tr>\n",
       "      <td></td>         <th>coef</th>     <th>std err</th>      <th>t</th>      <th>P>|t|</th>  <th>[0.025</th>    <th>0.975]</th>  \n",
       "</tr>\n",
       "<tr>\n",
       "  <th>Intercept</th> <td>    1.0664</td> <td>    0.144</td> <td>    7.415</td> <td> 0.000</td> <td>    0.784</td> <td>    1.349</td>\n",
       "</tr>\n",
       "<tr>\n",
       "  <th>x2</th>        <td>    1.0065</td> <td>    0.024</td> <td>   41.193</td> <td> 0.000</td> <td>    0.959</td> <td>    1.055</td>\n",
       "</tr>\n",
       "<tr>\n",
       "  <th>x3</th>        <td>    0.9839</td> <td>    0.023</td> <td>   42.090</td> <td> 0.000</td> <td>    0.938</td> <td>    1.030</td>\n",
       "</tr>\n",
       "</table>"
      ],
      "text/plain": [
       "<class 'statsmodels.iolib.table.SimpleTable'>"
      ]
     },
     "execution_count": 9,
     "metadata": {},
     "output_type": "execute_result"
    }
   ],
   "source": [
    "res2=smf.wls(formula='y~x2+x3',data=data,weights=1./data.varu).fit()\n",
    "res2.summary().tables[1]"
   ]
  },
  {
   "cell_type": "markdown",
   "metadata": {
    "slideshow": {
     "slide_type": "subslide"
    }
   },
   "source": [
    "### WLS estimation\n",
    "\n",
    "- The FGLS standard errors are based on the assumption of a correct model for heteroskedasticity.\n",
    "- To guard against misspecification of this model, we use the WLS estimator, which is equal to the FGLS estimator but uses robust standard errors that do not rely on a model for heteroskedasticity."
   ]
  },
  {
   "cell_type": "code",
   "execution_count": 10,
   "metadata": {
    "slideshow": {
     "slide_type": "subslide"
    }
   },
   "outputs": [
    {
     "data": {
      "text/html": [
       "<table class=\"simpletable\">\n",
       "<tr>\n",
       "      <td></td>         <th>coef</th>     <th>std err</th>      <th>z</th>      <th>P>|z|</th>  <th>[0.025</th>    <th>0.975]</th>  \n",
       "</tr>\n",
       "<tr>\n",
       "  <th>Intercept</th> <td>    1.0664</td> <td>    0.148</td> <td>    7.194</td> <td> 0.000</td> <td>    0.776</td> <td>    1.357</td>\n",
       "</tr>\n",
       "<tr>\n",
       "  <th>x2</th>        <td>    1.0065</td> <td>    0.023</td> <td>   43.982</td> <td> 0.000</td> <td>    0.962</td> <td>    1.051</td>\n",
       "</tr>\n",
       "<tr>\n",
       "  <th>x3</th>        <td>    0.9839</td> <td>    0.021</td> <td>   46.588</td> <td> 0.000</td> <td>    0.942</td> <td>    1.025</td>\n",
       "</tr>\n",
       "</table>"
      ],
      "text/plain": [
       "<class 'statsmodels.iolib.table.SimpleTable'>"
      ]
     },
     "execution_count": 10,
     "metadata": {},
     "output_type": "execute_result"
    }
   ],
   "source": [
    "res3=smf.wls(formula='y~x2+x3',data=data,weights=1./data.varu).fit(cov_type='HC1')\n",
    "res3.summary().tables[1]"
   ]
  },
  {
   "cell_type": "markdown",
   "metadata": {
    "slideshow": {
     "slide_type": "slide"
    }
   },
   "source": [
    "## System of linear regressions\n",
    "\n",
    "- In this section, we extend GLS estimation to a system of linear equations with errors that are correlated across equations for a given individual but are uncorrelated across individuals. \n",
    "- Then cross-equation correlation of the errors can be exploited to improve estimator efficiency. \n",
    "- This multivariate linear regression model is usually referred to in econometrics as a set of SUR equations."
   ]
  },
  {
   "cell_type": "markdown",
   "metadata": {
    "slideshow": {
     "slide_type": "subslide"
    }
   },
   "source": [
    "### Application to two categories of expenditures\n",
    "\n",
    "- The application of SUR considered here involves two dependent variables that are the logarithm of expenditure on prescribed drugs (ldrugexp) and expenditure on all categories of medical services other than drugs (ltotothr).\n",
    "- This data extract from the Medical Expenditure Panel Survey (MEPS) is similar to that studied in the previous chapter and covers the Medicare-eligible population of those aged 65 years and more."
   ]
  },
  {
   "cell_type": "code",
   "execution_count": 11,
   "metadata": {
    "slideshow": {
     "slide_type": "subslide"
    }
   },
   "outputs": [
    {
     "data": {
      "text/html": [
       "<div>\n",
       "<style scoped>\n",
       "    .dataframe tbody tr th:only-of-type {\n",
       "        vertical-align: middle;\n",
       "    }\n",
       "\n",
       "    .dataframe tbody tr th {\n",
       "        vertical-align: top;\n",
       "    }\n",
       "\n",
       "    .dataframe thead th {\n",
       "        text-align: right;\n",
       "    }\n",
       "</style>\n",
       "<table border=\"1\" class=\"dataframe\">\n",
       "  <thead>\n",
       "    <tr style=\"text-align: right;\">\n",
       "      <th></th>\n",
       "      <th>ldrugexp</th>\n",
       "      <th>ltotothr</th>\n",
       "      <th>age</th>\n",
       "      <th>age2</th>\n",
       "      <th>educyr</th>\n",
       "      <th>actlim</th>\n",
       "      <th>totchr</th>\n",
       "      <th>medicaid</th>\n",
       "      <th>private</th>\n",
       "    </tr>\n",
       "  </thead>\n",
       "  <tbody>\n",
       "    <tr>\n",
       "      <th>count</th>\n",
       "      <td>3285.000000</td>\n",
       "      <td>3350.000000</td>\n",
       "      <td>3384.000000</td>\n",
       "      <td>3384.000000</td>\n",
       "      <td>3384.000000</td>\n",
       "      <td>3384.000000</td>\n",
       "      <td>3384.000000</td>\n",
       "      <td>3384.000000</td>\n",
       "      <td>3384.000000</td>\n",
       "    </tr>\n",
       "    <tr>\n",
       "      <th>mean</th>\n",
       "      <td>6.936536</td>\n",
       "      <td>7.537203</td>\n",
       "      <td>74.384752</td>\n",
       "      <td>5573.835938</td>\n",
       "      <td>11.291076</td>\n",
       "      <td>0.345449</td>\n",
       "      <td>1.954492</td>\n",
       "      <td>0.161643</td>\n",
       "      <td>0.515662</td>\n",
       "    </tr>\n",
       "    <tr>\n",
       "      <th>std</th>\n",
       "      <td>1.300313</td>\n",
       "      <td>1.612980</td>\n",
       "      <td>6.388984</td>\n",
       "      <td>961.357056</td>\n",
       "      <td>3.775800</td>\n",
       "      <td>0.475585</td>\n",
       "      <td>1.326529</td>\n",
       "      <td>0.368177</td>\n",
       "      <td>0.499829</td>\n",
       "    </tr>\n",
       "    <tr>\n",
       "      <th>min</th>\n",
       "      <td>1.386294</td>\n",
       "      <td>1.098612</td>\n",
       "      <td>65.000000</td>\n",
       "      <td>4225.000000</td>\n",
       "      <td>0.000000</td>\n",
       "      <td>0.000000</td>\n",
       "      <td>0.000000</td>\n",
       "      <td>0.000000</td>\n",
       "      <td>0.000000</td>\n",
       "    </tr>\n",
       "    <tr>\n",
       "      <th>50%</th>\n",
       "      <td>7.155396</td>\n",
       "      <td>7.508513</td>\n",
       "      <td>74.000000</td>\n",
       "      <td>5476.000000</td>\n",
       "      <td>12.000000</td>\n",
       "      <td>0.000000</td>\n",
       "      <td>2.000000</td>\n",
       "      <td>0.000000</td>\n",
       "      <td>1.000000</td>\n",
       "    </tr>\n",
       "    <tr>\n",
       "      <th>max</th>\n",
       "      <td>10.337734</td>\n",
       "      <td>11.718923</td>\n",
       "      <td>90.000000</td>\n",
       "      <td>8100.000000</td>\n",
       "      <td>17.000000</td>\n",
       "      <td>1.000000</td>\n",
       "      <td>8.000000</td>\n",
       "      <td>1.000000</td>\n",
       "      <td>1.000000</td>\n",
       "    </tr>\n",
       "  </tbody>\n",
       "</table>\n",
       "</div>"
      ],
      "text/plain": [
       "          ldrugexp     ltotothr          age         age2       educyr  \\\n",
       "count  3285.000000  3350.000000  3384.000000  3384.000000  3384.000000   \n",
       "mean      6.936536     7.537203    74.384752  5573.835938    11.291076   \n",
       "std       1.300313     1.612980     6.388984   961.357056     3.775800   \n",
       "min       1.386294     1.098612    65.000000  4225.000000     0.000000   \n",
       "50%       7.155396     7.508513    74.000000  5476.000000    12.000000   \n",
       "max      10.337734    11.718923    90.000000  8100.000000    17.000000   \n",
       "\n",
       "            actlim       totchr     medicaid      private  \n",
       "count  3384.000000  3384.000000  3384.000000  3384.000000  \n",
       "mean      0.345449     1.954492     0.161643     0.515662  \n",
       "std       0.475585     1.326529     0.368177     0.499829  \n",
       "min       0.000000     0.000000     0.000000     0.000000  \n",
       "50%       0.000000     2.000000     0.000000     1.000000  \n",
       "max       1.000000     8.000000     1.000000     1.000000  "
      ]
     },
     "execution_count": 11,
     "metadata": {},
     "output_type": "execute_result"
    }
   ],
   "source": [
    "data=pd.read_stata('data/mus05surdata.dta')\n",
    "data[['ldrugexp','ltotothr','age','age2','educyr','actlim','totchr','medicaid','private']].describe([])"
   ]
  },
  {
   "cell_type": "markdown",
   "metadata": {
    "slideshow": {
     "slide_type": "subslide"
    }
   },
   "source": [
    "- Because SUR estimation reduces to OLS if exactly the same set of regressors appears in each equation, we omit educyr from the model for ldrugexp, and we omit medicaid from the model for ltotothr."
   ]
  },
  {
   "cell_type": "code",
   "execution_count": 12,
   "metadata": {
    "scrolled": false,
    "slideshow": {
     "slide_type": "subslide"
    }
   },
   "outputs": [
    {
     "name": "stdout",
     "output_type": "stream",
     "text": [
      "                                                                              \n",
      "               Equation: ldrugexp, Dependent Variable: ldrugexp               \n",
      "==============================================================================\n",
      "            Parameter  Std. Err.     T-stat    P-value    Lower CI    Upper CI\n",
      "------------------------------------------------------------------------------\n",
      "Intercept     -3.8913     2.9759    -1.3076     0.1910     -9.7239      1.9414\n",
      "age            0.2630     0.0795     3.3074     0.0009      0.1072      0.4189\n",
      "age2          -0.0017     0.0005    -3.2964     0.0010     -0.0028     -0.0007\n",
      "actlim         0.3547     0.0466     7.6079     0.0000      0.2633      0.4460\n",
      "totchr         0.4005     0.0161     24.810     0.0000      0.3689      0.4322\n",
      "medicaid       0.1068     0.0592     1.8028     0.0714     -0.0093      0.2229\n",
      "private        0.0810     0.0436     1.8598     0.0629     -0.0044      0.1664\n",
      "               Equation: ltotothr, Dependent Variable: ltotothr               \n",
      "==============================================================================\n",
      "            Parameter  Std. Err.     T-stat    P-value    Lower CI    Upper CI\n",
      "------------------------------------------------------------------------------\n",
      "Intercept     -5.1983     3.9141    -1.3281     0.1841     -12.870      2.4731\n",
      "age            0.2928     0.1046     2.7987     0.0051      0.0877      0.4978\n",
      "age2          -0.0019     0.0007    -2.7676     0.0056     -0.0033     -0.0006\n",
      "educyr         0.0653     0.0073     8.9167     0.0000      0.0509      0.0796\n",
      "actlim         0.7387     0.0609     12.134     0.0000      0.6194      0.8580\n",
      "totchr         0.2874     0.0212     13.573     0.0000      0.2459      0.3289\n",
      "private        0.2689     0.0557     4.8292     0.0000      0.1598      0.3780\n",
      "==============================================================================\n",
      "\n",
      "Covariance Estimator:\n",
      "Homoskedastic (Unadjusted) Covariance (Debiased: False, GLS: True)\n"
     ]
    },
    {
     "name": "stderr",
     "output_type": "stream",
     "text": [
      "C:\\Users\\bayes\\Anaconda3\\lib\\site-packages\\linearmodels\\utility.py:476: MissingValueWarning: \n",
      "Inputs contain missing values. Dropping rows with missing observations.\n",
      "  warnings.warn(missing_value_warning_msg, MissingValueWarning)\n"
     ]
    }
   ],
   "source": [
    "from linearmodels.system import SUR\n",
    "\n",
    "formula = '{ldrugexp ~ 1 + age+age2+actlim+totchr+medicaid+private} {ltotothr ~ 1 + age+age2+educyr+actlim+totchr+private}'\n",
    "res = SUR.from_formula(formula, data).fit(cov_type='unadjusted')\n",
    "print('\\n'.join(res.summary.as_text().split('\\n')[8:]))"
   ]
  },
  {
   "cell_type": "markdown",
   "metadata": {
    "slideshow": {
     "slide_type": "subslide"
    }
   },
   "source": [
    "- We yields the correlation matrix for the fitted residuals that is used to form a test of the independence of the errors in the two equations."
   ]
  },
  {
   "cell_type": "code",
   "execution_count": 13,
   "metadata": {
    "scrolled": false,
    "slideshow": {
     "slide_type": "fragment"
    }
   },
   "outputs": [
    {
     "data": {
      "text/html": [
       "<style  type=\"text/css\" >\n",
       "</style><table id=\"T_c61b2e0a_b716_11e9_b5d4_9cb6d0ff089e\" ><thead>    <tr>        <th class=\"blank level0\" ></th>        <th class=\"col_heading level0 col0\" >ldrugexp</th>        <th class=\"col_heading level0 col1\" >ltotothr</th>    </tr></thead><tbody>\n",
       "                <tr>\n",
       "                        <th id=\"T_c61b2e0a_b716_11e9_b5d4_9cb6d0ff089elevel0_row0\" class=\"row_heading level0 row0\" >ldrugexp</th>\n",
       "                        <td id=\"T_c61b2e0a_b716_11e9_b5d4_9cb6d0ff089erow0_col0\" class=\"data row0 col0\" >1.000</td>\n",
       "                        <td id=\"T_c61b2e0a_b716_11e9_b5d4_9cb6d0ff089erow0_col1\" class=\"data row0 col1\" >0.174</td>\n",
       "            </tr>\n",
       "            <tr>\n",
       "                        <th id=\"T_c61b2e0a_b716_11e9_b5d4_9cb6d0ff089elevel0_row1\" class=\"row_heading level0 row1\" >ltotothr</th>\n",
       "                        <td id=\"T_c61b2e0a_b716_11e9_b5d4_9cb6d0ff089erow1_col0\" class=\"data row1 col0\" >0.174</td>\n",
       "                        <td id=\"T_c61b2e0a_b716_11e9_b5d4_9cb6d0ff089erow1_col1\" class=\"data row1 col1\" >1.000</td>\n",
       "            </tr>\n",
       "    </tbody></table>"
      ],
      "text/plain": [
       "<pandas.io.formats.style.Styler at 0x251e5688710>"
      ]
     },
     "execution_count": 13,
     "metadata": {},
     "output_type": "execute_result"
    }
   ],
   "source": [
    "cov = res.sigma\n",
    "std = np.sqrt(np.diag(res.sigma)[:,None])\n",
    "corr = pd.DataFrame(cov / (std @ std.T),columns=['ldrugexp','ltotothr'],index=['ldrugexp','ltotothr'])\n",
    "corr.style.format('{:0.3f}')"
   ]
  },
  {
   "cell_type": "markdown",
   "metadata": {
    "slideshow": {
     "slide_type": "subslide"
    }
   },
   "source": [
    "- The standard errors reported impose homoskedasticity. \n",
    "- This is a reasonable assumption in this example, because taking the natural logarithm of expenditures greatly reduces heteroskedasticity.\n",
    "- But in other applications, such as using the levels of expenditures, this would not be reasonable."
   ]
  },
  {
   "cell_type": "code",
   "execution_count": 14,
   "metadata": {
    "scrolled": false,
    "slideshow": {
     "slide_type": "subslide"
    }
   },
   "outputs": [
    {
     "name": "stdout",
     "output_type": "stream",
     "text": [
      "                                                                              \n",
      "               Equation: ldrugexp, Dependent Variable: ldrugexp               \n",
      "==============================================================================\n",
      "            Parameter  Std. Err.     T-stat    P-value    Lower CI    Upper CI\n",
      "------------------------------------------------------------------------------\n",
      "Intercept     -3.8913     2.6290    -1.4802     0.1388     -9.0439      1.2614\n",
      "age            0.2630     0.0702     3.7478     0.0002      0.1255      0.4006\n",
      "age2          -0.0017     0.0005    -3.7387     0.0002     -0.0027     -0.0008\n",
      "actlim         0.3547     0.0400     8.8715     0.0000      0.2763      0.4330\n",
      "totchr         0.4005     0.0144     27.828     0.0000      0.3723      0.4287\n",
      "medicaid       0.1068     0.0539     1.9798     0.0477      0.0011      0.2125\n",
      "private        0.0810     0.0390     2.0788     0.0376      0.0046      0.1574\n",
      "               Equation: ltotothr, Dependent Variable: ltotothr               \n",
      "==============================================================================\n",
      "            Parameter  Std. Err.     T-stat    P-value    Lower CI    Upper CI\n",
      "------------------------------------------------------------------------------\n",
      "Intercept     -5.1983     2.6469    -1.9640     0.0495     -10.386     -0.0106\n",
      "age            0.2928     0.0707     4.1399     0.0000      0.1542      0.4314\n",
      "age2          -0.0019     0.0005    -4.0930     0.0000     -0.0028     -0.0010\n",
      "educyr         0.0653     0.0053     12.238     0.0000      0.0548      0.0757\n",
      "actlim         0.7387     0.0431     17.143     0.0000      0.6542      0.8231\n",
      "totchr         0.2874     0.0141     20.318     0.0000      0.2596      0.3151\n",
      "private        0.2689     0.0373     7.2116     0.0000      0.1958      0.3420\n",
      "==============================================================================\n",
      "\n",
      "Covariance Estimator:\n",
      "Heteroskedastic (Robust) Covariance (Debiased: False, GLS: True)\n"
     ]
    },
    {
     "name": "stderr",
     "output_type": "stream",
     "text": [
      "C:\\Users\\bayes\\Anaconda3\\lib\\site-packages\\linearmodels\\utility.py:476: MissingValueWarning: \n",
      "Inputs contain missing values. Dropping rows with missing observations.\n",
      "  warnings.warn(missing_value_warning_msg, MissingValueWarning)\n"
     ]
    }
   ],
   "source": [
    "res = SUR.from_formula(formula, data).fit(cov_type='robust')\n",
    "print('\\n'.join(res.summary.as_text().split('\\n')[8:]))"
   ]
  },
  {
   "cell_type": "markdown",
   "metadata": {
    "slideshow": {
     "slide_type": "subslide"
    }
   },
   "source": [
    "### Imposing cross-equation constraints\n",
    "\n",
    "- We now obtain estimates that impose restrictions on parameters across equations. \n",
    "- Usually, such constraints are based on economic theory. \n",
    "- As an illustrative example, we impose the constraint that having private insurance has the same impact on both dependent variables."
   ]
  },
  {
   "cell_type": "code",
   "execution_count": 15,
   "metadata": {
    "scrolled": true,
    "slideshow": {
     "slide_type": "subslide"
    }
   },
   "outputs": [
    {
     "data": {
      "text/html": [
       "<div>\n",
       "<style scoped>\n",
       "    .dataframe tbody tr th:only-of-type {\n",
       "        vertical-align: middle;\n",
       "    }\n",
       "\n",
       "    .dataframe tbody tr th {\n",
       "        vertical-align: top;\n",
       "    }\n",
       "\n",
       "    .dataframe thead th {\n",
       "        text-align: right;\n",
       "    }\n",
       "</style>\n",
       "<table border=\"1\" class=\"dataframe\">\n",
       "  <thead>\n",
       "    <tr style=\"text-align: right;\">\n",
       "      <th></th>\n",
       "      <th>ldrugexp_Intercept</th>\n",
       "      <th>ldrugexp_age</th>\n",
       "      <th>ldrugexp_age2</th>\n",
       "      <th>ldrugexp_actlim</th>\n",
       "      <th>ldrugexp_totchr</th>\n",
       "      <th>ldrugexp_medicaid</th>\n",
       "      <th>ldrugexp_private</th>\n",
       "      <th>ltotothr_Intercept</th>\n",
       "      <th>ltotothr_age</th>\n",
       "      <th>ltotothr_age2</th>\n",
       "      <th>ltotothr_educyr</th>\n",
       "      <th>ltotothr_actlim</th>\n",
       "      <th>ltotothr_totchr</th>\n",
       "      <th>ltotothr_private</th>\n",
       "    </tr>\n",
       "  </thead>\n",
       "  <tbody>\n",
       "    <tr>\n",
       "      <th>0</th>\n",
       "      <td>0.0</td>\n",
       "      <td>0.0</td>\n",
       "      <td>0.0</td>\n",
       "      <td>0.0</td>\n",
       "      <td>0.0</td>\n",
       "      <td>0.0</td>\n",
       "      <td>-1</td>\n",
       "      <td>0.0</td>\n",
       "      <td>0.0</td>\n",
       "      <td>0.0</td>\n",
       "      <td>0.0</td>\n",
       "      <td>0.0</td>\n",
       "      <td>0.0</td>\n",
       "      <td>1</td>\n",
       "    </tr>\n",
       "  </tbody>\n",
       "</table>\n",
       "</div>"
      ],
      "text/plain": [
       "   ldrugexp_Intercept  ldrugexp_age  ldrugexp_age2  ldrugexp_actlim  \\\n",
       "0                 0.0           0.0            0.0              0.0   \n",
       "\n",
       "   ldrugexp_totchr  ldrugexp_medicaid  ldrugexp_private  ltotothr_Intercept  \\\n",
       "0              0.0                0.0                -1                 0.0   \n",
       "\n",
       "   ltotothr_age  ltotothr_age2  ltotothr_educyr  ltotothr_actlim  \\\n",
       "0           0.0            0.0              0.0              0.0   \n",
       "\n",
       "   ltotothr_totchr  ltotothr_private  \n",
       "0              0.0                 1  "
      ]
     },
     "execution_count": 15,
     "metadata": {},
     "output_type": "execute_result"
    }
   ],
   "source": [
    "mod=SUR.from_formula(formula, data)\n",
    "r = pd.DataFrame(np.zeros((1,len(mod.param_names))),columns=mod.param_names)\n",
    "r['ldrugexp_private']=-1\n",
    "r['ltotothr_private']=1\n",
    "r"
   ]
  },
  {
   "cell_type": "code",
   "execution_count": 16,
   "metadata": {
    "scrolled": false,
    "slideshow": {
     "slide_type": "subslide"
    }
   },
   "outputs": [
    {
     "name": "stdout",
     "output_type": "stream",
     "text": [
      "                                                                              \n",
      "               Equation: ldrugexp, Dependent Variable: ldrugexp               \n",
      "==============================================================================\n",
      "            Parameter  Std. Err.     T-stat    P-value    Lower CI    Upper CI\n",
      "------------------------------------------------------------------------------\n",
      "Intercept     -4.2351     2.6284    -1.6113     0.1071     -9.3867      0.9165\n",
      "age            0.2707     0.0702     3.8568     0.0001      0.1331      0.4083\n",
      "age2          -0.0018     0.0005    -3.8408     0.0001     -0.0027     -0.0009\n",
      "actlim         0.3575     0.0400     8.9392     0.0000      0.2791      0.4359\n",
      "totchr         0.3998     0.0144     27.760     0.0000      0.3716      0.4280\n",
      "medicaid       0.1474     0.0519     2.8396     0.0045      0.0457      0.2491\n",
      "private        0.1483     0.0284     5.2281     0.0000      0.0927      0.2039\n",
      "               Equation: ltotothr, Dependent Variable: ltotothr               \n",
      "==============================================================================\n",
      "            Parameter  Std. Err.     T-stat    P-value    Lower CI    Upper CI\n",
      "------------------------------------------------------------------------------\n",
      "Intercept     -4.6216     2.6518    -1.7428     0.0814     -9.8190      0.5758\n",
      "age            0.2780     0.0709     3.9234     0.0001      0.1391      0.4169\n",
      "age2          -0.0018     0.0005    -3.8832     0.0001     -0.0028     -0.0009\n",
      "educyr         0.0704     0.0052     13.410     0.0000      0.0601      0.0806\n",
      "actlim         0.7276     0.0431     16.896     0.0000      0.6432      0.8120\n",
      "totchr         0.2875     0.0141     20.328     0.0000      0.2597      0.3152\n",
      "private        0.1483     0.0284     5.2281     0.0000      0.0927      0.2039\n",
      "==============================================================================\n",
      "\n",
      "Covariance Estimator:\n",
      "Heteroskedastic (Robust) Covariance (Debiased: False, GLS: True)\n"
     ]
    }
   ],
   "source": [
    "mod.add_constraints(r)\n",
    "res = mod.fit()\n",
    "print('\\n'.join(res.summary.as_text().split('\\n')[8:]))"
   ]
  },
  {
   "cell_type": "markdown",
   "metadata": {
    "slideshow": {
     "slide_type": "slide"
    }
   },
   "source": [
    "## Survey data: Weighting, clustering, and stratification\n",
    "\n",
    "- We now turn to a quite different topic: adjustments to standard estimation methods when the data are not from a simple random sample, as we have implicitly assumed, but instead come from complex survey data.\n",
    "- Complex survey data lead to a sample that can be weighted, clustered, and stratified."
   ]
  },
  {
   "cell_type": "markdown",
   "metadata": {
    "slideshow": {
     "slide_type": "subslide"
    }
   },
   "source": [
    "- As an example of complex survey data, we use `nhanes2.dta`. \n",
    "- These data come from the second National Health and Nutrition Examination Survey (NHANES II), a U.S. survey conducted in 1976-1980.\n",
    "- We consider models for the hemoglobin count, a measure of the amount of the oxygen-transporting protein hemoglobin present in one's blood.\n",
    "- We estimate both the mean and the relationship with age and gender, restricting analysis to nonelderly adults."
   ]
  },
  {
   "cell_type": "markdown",
   "metadata": {
    "slideshow": {
     "slide_type": "subslide"
    }
   },
   "source": [
    "- Here is a brief explanation of the survey design for the data analyzed: \n",
    "    + The country is split into 32 geographical strata. \n",
    "    + Each stratum contains a number of primary sampling units (PSUs), where a PSU represents a county or several contiguous counties with an average population of several hundred thousand people. \n",
    "    + Exactly two PSUs were chosen from each of the 32 strata, and then several hundred individuals were sampled from each PSU. "
   ]
  },
  {
   "cell_type": "markdown",
   "metadata": {
    "slideshow": {
     "slide_type": "subslide"
    }
   },
   "source": [
    "- We can see descriptions and summary statistics for the key survey design variables and key analysis variables by typing"
   ]
  },
  {
   "cell_type": "code",
   "execution_count": 17,
   "metadata": {
    "run_control": {
     "marked": false
    },
    "scrolled": false,
    "slideshow": {
     "slide_type": "fragment"
    }
   },
   "outputs": [
    {
     "data": {
      "text/html": [
       "<div>\n",
       "<style scoped>\n",
       "    .dataframe tbody tr th:only-of-type {\n",
       "        vertical-align: middle;\n",
       "    }\n",
       "\n",
       "    .dataframe tbody tr th {\n",
       "        vertical-align: top;\n",
       "    }\n",
       "\n",
       "    .dataframe thead th {\n",
       "        text-align: right;\n",
       "    }\n",
       "</style>\n",
       "<table border=\"1\" class=\"dataframe\">\n",
       "  <thead>\n",
       "    <tr style=\"text-align: right;\">\n",
       "      <th></th>\n",
       "      <th>sampl</th>\n",
       "      <th>finalwgt</th>\n",
       "      <th>strata</th>\n",
       "      <th>psu</th>\n",
       "    </tr>\n",
       "  </thead>\n",
       "  <tbody>\n",
       "    <tr>\n",
       "      <th>count</th>\n",
       "      <td>8136.000000</td>\n",
       "      <td>8136.000000</td>\n",
       "      <td>8136.000000</td>\n",
       "      <td>8136.000000</td>\n",
       "    </tr>\n",
       "    <tr>\n",
       "      <th>mean</th>\n",
       "      <td>33518.937930</td>\n",
       "      <td>12654.808997</td>\n",
       "      <td>16.671460</td>\n",
       "      <td>1.487955</td>\n",
       "    </tr>\n",
       "    <tr>\n",
       "      <th>std</th>\n",
       "      <td>18447.036657</td>\n",
       "      <td>7400.204525</td>\n",
       "      <td>9.431087</td>\n",
       "      <td>0.499886</td>\n",
       "    </tr>\n",
       "    <tr>\n",
       "      <th>min</th>\n",
       "      <td>1400.000000</td>\n",
       "      <td>2079.000000</td>\n",
       "      <td>1.000000</td>\n",
       "      <td>1.000000</td>\n",
       "    </tr>\n",
       "    <tr>\n",
       "      <th>50%</th>\n",
       "      <td>34516.000000</td>\n",
       "      <td>10923.500000</td>\n",
       "      <td>16.000000</td>\n",
       "      <td>1.000000</td>\n",
       "    </tr>\n",
       "    <tr>\n",
       "      <th>max</th>\n",
       "      <td>64702.000000</td>\n",
       "      <td>79634.000000</td>\n",
       "      <td>32.000000</td>\n",
       "      <td>2.000000</td>\n",
       "    </tr>\n",
       "  </tbody>\n",
       "</table>\n",
       "</div>"
      ],
      "text/plain": [
       "              sampl      finalwgt       strata          psu\n",
       "count   8136.000000   8136.000000  8136.000000  8136.000000\n",
       "mean   33518.937930  12654.808997    16.671460     1.487955\n",
       "std    18447.036657   7400.204525     9.431087     0.499886\n",
       "min     1400.000000   2079.000000     1.000000     1.000000\n",
       "50%    34516.000000  10923.500000    16.000000     1.000000\n",
       "max    64702.000000  79634.000000    32.000000     2.000000"
      ]
     },
     "execution_count": 17,
     "metadata": {},
     "output_type": "execute_result"
    }
   ],
   "source": [
    "data=pd.read_stata('data/mus05nhanes2.dta')\n",
    "data=data.loc[(data.age>=21) & (data.age<=65),:]\n",
    "data.loc[:,['sampl','finalwgt','strata','psu']].describe([])"
   ]
  },
  {
   "cell_type": "code",
   "execution_count": 18,
   "metadata": {
    "slideshow": {
     "slide_type": "subslide"
    }
   },
   "outputs": [
    {
     "data": {
      "text/html": [
       "<div>\n",
       "<style scoped>\n",
       "    .dataframe tbody tr th:only-of-type {\n",
       "        vertical-align: middle;\n",
       "    }\n",
       "\n",
       "    .dataframe tbody tr th {\n",
       "        vertical-align: top;\n",
       "    }\n",
       "\n",
       "    .dataframe thead tr th {\n",
       "        text-align: left;\n",
       "    }\n",
       "\n",
       "    .dataframe thead tr:last-of-type th {\n",
       "        text-align: right;\n",
       "    }\n",
       "</style>\n",
       "<table border=\"1\" class=\"dataframe\">\n",
       "  <thead>\n",
       "    <tr>\n",
       "      <th></th>\n",
       "      <th colspan=\"5\" halign=\"left\">sampl</th>\n",
       "    </tr>\n",
       "    <tr>\n",
       "      <th></th>\n",
       "      <th>count</th>\n",
       "      <th>sum</th>\n",
       "      <th>min</th>\n",
       "      <th>mean</th>\n",
       "      <th>max</th>\n",
       "    </tr>\n",
       "    <tr>\n",
       "      <th>strata</th>\n",
       "      <th></th>\n",
       "      <th></th>\n",
       "      <th></th>\n",
       "      <th></th>\n",
       "      <th></th>\n",
       "    </tr>\n",
       "  </thead>\n",
       "  <tbody>\n",
       "    <tr>\n",
       "      <th>1</th>\n",
       "      <td>2</td>\n",
       "      <td>286</td>\n",
       "      <td>132</td>\n",
       "      <td>143.0</td>\n",
       "      <td>154</td>\n",
       "    </tr>\n",
       "    <tr>\n",
       "      <th>2</th>\n",
       "      <td>2</td>\n",
       "      <td>138</td>\n",
       "      <td>57</td>\n",
       "      <td>69.0</td>\n",
       "      <td>81</td>\n",
       "    </tr>\n",
       "    <tr>\n",
       "      <th>3</th>\n",
       "      <td>2</td>\n",
       "      <td>255</td>\n",
       "      <td>103</td>\n",
       "      <td>127.5</td>\n",
       "      <td>152</td>\n",
       "    </tr>\n",
       "    <tr>\n",
       "      <th>4</th>\n",
       "      <td>2</td>\n",
       "      <td>369</td>\n",
       "      <td>179</td>\n",
       "      <td>184.5</td>\n",
       "      <td>190</td>\n",
       "    </tr>\n",
       "    <tr>\n",
       "      <th>5</th>\n",
       "      <td>2</td>\n",
       "      <td>215</td>\n",
       "      <td>93</td>\n",
       "      <td>107.5</td>\n",
       "      <td>122</td>\n",
       "    </tr>\n",
       "    <tr>\n",
       "      <th>6</th>\n",
       "      <td>2</td>\n",
       "      <td>245</td>\n",
       "      <td>112</td>\n",
       "      <td>122.5</td>\n",
       "      <td>133</td>\n",
       "    </tr>\n",
       "    <tr>\n",
       "      <th>7</th>\n",
       "      <td>2</td>\n",
       "      <td>349</td>\n",
       "      <td>145</td>\n",
       "      <td>174.5</td>\n",
       "      <td>204</td>\n",
       "    </tr>\n",
       "    <tr>\n",
       "      <th>8</th>\n",
       "      <td>2</td>\n",
       "      <td>250</td>\n",
       "      <td>114</td>\n",
       "      <td>125.0</td>\n",
       "      <td>136</td>\n",
       "    </tr>\n",
       "    <tr>\n",
       "      <th>9</th>\n",
       "      <td>2</td>\n",
       "      <td>203</td>\n",
       "      <td>88</td>\n",
       "      <td>101.5</td>\n",
       "      <td>115</td>\n",
       "    </tr>\n",
       "    <tr>\n",
       "      <th>10</th>\n",
       "      <td>2</td>\n",
       "      <td>205</td>\n",
       "      <td>97</td>\n",
       "      <td>102.5</td>\n",
       "      <td>108</td>\n",
       "    </tr>\n",
       "    <tr>\n",
       "      <th>11</th>\n",
       "      <td>2</td>\n",
       "      <td>226</td>\n",
       "      <td>105</td>\n",
       "      <td>113.0</td>\n",
       "      <td>121</td>\n",
       "    </tr>\n",
       "    <tr>\n",
       "      <th>12</th>\n",
       "      <td>2</td>\n",
       "      <td>253</td>\n",
       "      <td>123</td>\n",
       "      <td>126.5</td>\n",
       "      <td>130</td>\n",
       "    </tr>\n",
       "    <tr>\n",
       "      <th>13</th>\n",
       "      <td>2</td>\n",
       "      <td>276</td>\n",
       "      <td>121</td>\n",
       "      <td>138.0</td>\n",
       "      <td>155</td>\n",
       "    </tr>\n",
       "    <tr>\n",
       "      <th>14</th>\n",
       "      <td>2</td>\n",
       "      <td>327</td>\n",
       "      <td>163</td>\n",
       "      <td>163.5</td>\n",
       "      <td>164</td>\n",
       "    </tr>\n",
       "    <tr>\n",
       "      <th>15</th>\n",
       "      <td>2</td>\n",
       "      <td>295</td>\n",
       "      <td>145</td>\n",
       "      <td>147.5</td>\n",
       "      <td>150</td>\n",
       "    </tr>\n",
       "    <tr>\n",
       "      <th>16</th>\n",
       "      <td>2</td>\n",
       "      <td>268</td>\n",
       "      <td>128</td>\n",
       "      <td>134.0</td>\n",
       "      <td>140</td>\n",
       "    </tr>\n",
       "    <tr>\n",
       "      <th>17</th>\n",
       "      <td>2</td>\n",
       "      <td>321</td>\n",
       "      <td>142</td>\n",
       "      <td>160.5</td>\n",
       "      <td>179</td>\n",
       "    </tr>\n",
       "    <tr>\n",
       "      <th>18</th>\n",
       "      <td>2</td>\n",
       "      <td>287</td>\n",
       "      <td>117</td>\n",
       "      <td>143.5</td>\n",
       "      <td>170</td>\n",
       "    </tr>\n",
       "    <tr>\n",
       "      <th>20</th>\n",
       "      <td>2</td>\n",
       "      <td>221</td>\n",
       "      <td>95</td>\n",
       "      <td>110.5</td>\n",
       "      <td>126</td>\n",
       "    </tr>\n",
       "    <tr>\n",
       "      <th>21</th>\n",
       "      <td>2</td>\n",
       "      <td>170</td>\n",
       "      <td>84</td>\n",
       "      <td>85.0</td>\n",
       "      <td>86</td>\n",
       "    </tr>\n",
       "    <tr>\n",
       "      <th>22</th>\n",
       "      <td>2</td>\n",
       "      <td>242</td>\n",
       "      <td>98</td>\n",
       "      <td>121.0</td>\n",
       "      <td>144</td>\n",
       "    </tr>\n",
       "    <tr>\n",
       "      <th>23</th>\n",
       "      <td>2</td>\n",
       "      <td>277</td>\n",
       "      <td>136</td>\n",
       "      <td>138.5</td>\n",
       "      <td>141</td>\n",
       "    </tr>\n",
       "    <tr>\n",
       "      <th>24</th>\n",
       "      <td>2</td>\n",
       "      <td>339</td>\n",
       "      <td>162</td>\n",
       "      <td>169.5</td>\n",
       "      <td>177</td>\n",
       "    </tr>\n",
       "    <tr>\n",
       "      <th>25</th>\n",
       "      <td>2</td>\n",
       "      <td>210</td>\n",
       "      <td>94</td>\n",
       "      <td>105.0</td>\n",
       "      <td>116</td>\n",
       "    </tr>\n",
       "    <tr>\n",
       "      <th>26</th>\n",
       "      <td>2</td>\n",
       "      <td>210</td>\n",
       "      <td>103</td>\n",
       "      <td>105.0</td>\n",
       "      <td>107</td>\n",
       "    </tr>\n",
       "    <tr>\n",
       "      <th>27</th>\n",
       "      <td>2</td>\n",
       "      <td>230</td>\n",
       "      <td>110</td>\n",
       "      <td>115.0</td>\n",
       "      <td>120</td>\n",
       "    </tr>\n",
       "    <tr>\n",
       "      <th>28</th>\n",
       "      <td>2</td>\n",
       "      <td>229</td>\n",
       "      <td>106</td>\n",
       "      <td>114.5</td>\n",
       "      <td>123</td>\n",
       "    </tr>\n",
       "    <tr>\n",
       "      <th>29</th>\n",
       "      <td>2</td>\n",
       "      <td>351</td>\n",
       "      <td>165</td>\n",
       "      <td>175.5</td>\n",
       "      <td>186</td>\n",
       "    </tr>\n",
       "    <tr>\n",
       "      <th>30</th>\n",
       "      <td>2</td>\n",
       "      <td>291</td>\n",
       "      <td>134</td>\n",
       "      <td>145.5</td>\n",
       "      <td>157</td>\n",
       "    </tr>\n",
       "    <tr>\n",
       "      <th>31</th>\n",
       "      <td>2</td>\n",
       "      <td>251</td>\n",
       "      <td>115</td>\n",
       "      <td>125.5</td>\n",
       "      <td>136</td>\n",
       "    </tr>\n",
       "    <tr>\n",
       "      <th>32</th>\n",
       "      <td>2</td>\n",
       "      <td>347</td>\n",
       "      <td>166</td>\n",
       "      <td>173.5</td>\n",
       "      <td>181</td>\n",
       "    </tr>\n",
       "  </tbody>\n",
       "</table>\n",
       "</div>"
      ],
      "text/plain": [
       "       sampl                      \n",
       "       count  sum  min   mean  max\n",
       "strata                            \n",
       "1          2  286  132  143.0  154\n",
       "2          2  138   57   69.0   81\n",
       "3          2  255  103  127.5  152\n",
       "4          2  369  179  184.5  190\n",
       "5          2  215   93  107.5  122\n",
       "6          2  245  112  122.5  133\n",
       "7          2  349  145  174.5  204\n",
       "8          2  250  114  125.0  136\n",
       "9          2  203   88  101.5  115\n",
       "10         2  205   97  102.5  108\n",
       "11         2  226  105  113.0  121\n",
       "12         2  253  123  126.5  130\n",
       "13         2  276  121  138.0  155\n",
       "14         2  327  163  163.5  164\n",
       "15         2  295  145  147.5  150\n",
       "16         2  268  128  134.0  140\n",
       "17         2  321  142  160.5  179\n",
       "18         2  287  117  143.5  170\n",
       "20         2  221   95  110.5  126\n",
       "21         2  170   84   85.0   86\n",
       "22         2  242   98  121.0  144\n",
       "23         2  277  136  138.5  141\n",
       "24         2  339  162  169.5  177\n",
       "25         2  210   94  105.0  116\n",
       "26         2  210  103  105.0  107\n",
       "27         2  230  110  115.0  120\n",
       "28         2  229  106  114.5  123\n",
       "29         2  351  165  175.5  186\n",
       "30         2  291  134  145.5  157\n",
       "31         2  251  115  125.5  136\n",
       "32         2  347  166  173.5  181"
      ]
     },
     "execution_count": 18,
     "metadata": {},
     "output_type": "execute_result"
    }
   ],
   "source": [
    "t=data.groupby(['strata','psu']).agg({'sampl':'count'})\n",
    "t.groupby(['strata']).agg({'sampl':['count','sum','min','mean','max']})"
   ]
  },
  {
   "cell_type": "markdown",
   "metadata": {
    "slideshow": {
     "slide_type": "subslide"
    }
   },
   "source": [
    "### Survey mean estimation\n",
    "\n",
    "- We consider estimation of the population mean of `hgb`, the hemoglobin count with a normal range of approximately 12-15 for women and 13.5-16.5 for men. \n",
    "- To estimate the population mean, we should definitely use the sampling weights."
   ]
  },
  {
   "cell_type": "code",
   "execution_count": 19,
   "metadata": {
    "slideshow": {
     "slide_type": "subslide"
    }
   },
   "outputs": [
    {
     "data": {
      "text/plain": [
       "14.297127459497771"
      ]
     },
     "execution_count": 19,
     "metadata": {},
     "output_type": "execute_result"
    }
   ],
   "source": [
    "np.average(data.hgb,weights=data.finalwgt)"
   ]
  },
  {
   "cell_type": "code",
   "execution_count": 20,
   "metadata": {
    "slideshow": {
     "slide_type": "fragment"
    }
   },
   "outputs": [
    {
     "data": {
      "text/plain": [
       "14.285755"
      ]
     },
     "execution_count": 20,
     "metadata": {},
     "output_type": "execute_result"
    }
   ],
   "source": [
    "np.average(data.hgb)"
   ]
  },
  {
   "cell_type": "markdown",
   "metadata": {
    "slideshow": {
     "slide_type": "subslide"
    }
   },
   "source": [
    "### Survey linear regression\n",
    "\n",
    "- The same weighted estimates, with standard errors that control for clustering can be obtained"
   ]
  },
  {
   "cell_type": "code",
   "execution_count": 21,
   "metadata": {
    "slideshow": {
     "slide_type": "fragment"
    }
   },
   "outputs": [
    {
     "data": {
      "text/html": [
       "<table class=\"simpletable\">\n",
       "<tr>\n",
       "      <td></td>         <th>coef</th>     <th>std err</th>      <th>z</th>      <th>P>|z|</th>  <th>[0.025</th>    <th>0.975]</th>  \n",
       "</tr>\n",
       "<tr>\n",
       "  <th>Intercept</th> <td>   15.0851</td> <td>    0.065</td> <td>  230.648</td> <td> 0.000</td> <td>   14.957</td> <td>   15.213</td>\n",
       "</tr>\n",
       "<tr>\n",
       "  <th>age</th>       <td>    0.0022</td> <td>    0.001</td> <td>    1.947</td> <td> 0.052</td> <td>-1.44e-05</td> <td>    0.004</td>\n",
       "</tr>\n",
       "<tr>\n",
       "  <th>female</th>    <td>   -1.6968</td> <td>    0.032</td> <td>  -53.367</td> <td> 0.000</td> <td>   -1.759</td> <td>   -1.635</td>\n",
       "</tr>\n",
       "</table>"
      ],
      "text/plain": [
       "<class 'statsmodels.iolib.table.SimpleTable'>"
      ]
     },
     "execution_count": 21,
     "metadata": {},
     "output_type": "execute_result"
    }
   ],
   "source": [
    "data.loc[:,'uniqpsu']=2*data.strata+data.psu\n",
    "res=smf.wls(formula='hgb~age+female',data=data,weights=data.finalwgt).fit(cov_type='cluster',cov_kwds={'groups': data.uniqpsu})\n",
    "res.summary().tables[1]"
   ]
  },
  {
   "cell_type": "markdown",
   "metadata": {
    "slideshow": {
     "slide_type": "subslide"
    }
   },
   "source": [
    "- Finally, consider a naive OLS regression without weighting or obtaining cluster robust VCE"
   ]
  },
  {
   "cell_type": "code",
   "execution_count": 22,
   "metadata": {
    "slideshow": {
     "slide_type": "fragment"
    }
   },
   "outputs": [
    {
     "data": {
      "text/html": [
       "<table class=\"simpletable\">\n",
       "<tr>\n",
       "      <td></td>         <th>coef</th>     <th>std err</th>      <th>t</th>      <th>P>|t|</th>  <th>[0.025</th>    <th>0.975]</th>  \n",
       "</tr>\n",
       "<tr>\n",
       "  <th>Intercept</th> <td>   15.0712</td> <td>    0.041</td> <td>  370.975</td> <td> 0.000</td> <td>   14.992</td> <td>   15.151</td>\n",
       "</tr>\n",
       "<tr>\n",
       "  <th>age</th>       <td>    0.0013</td> <td>    0.001</td> <td>    1.579</td> <td> 0.114</td> <td>   -0.000</td> <td>    0.003</td>\n",
       "</tr>\n",
       "<tr>\n",
       "  <th>female</th>    <td>   -1.6242</td> <td>    0.025</td> <td>  -65.340</td> <td> 0.000</td> <td>   -1.673</td> <td>   -1.575</td>\n",
       "</tr>\n",
       "</table>"
      ],
      "text/plain": [
       "<class 'statsmodels.iolib.table.SimpleTable'>"
      ]
     },
     "execution_count": 22,
     "metadata": {},
     "output_type": "execute_result"
    }
   ],
   "source": [
    "res2=smf.ols(formula='hgb~age+female',data=data).fit()\n",
    "res2.summary().tables[1]"
   ]
  }
 ],
 "metadata": {
  "celltoolbar": "幻灯片",
  "kernelspec": {
   "display_name": "Python 3",
   "language": "python",
   "name": "python3"
  },
  "language_info": {
   "codemirror_mode": {
    "name": "ipython",
    "version": 3
   },
   "file_extension": ".py",
   "mimetype": "text/x-python",
   "name": "python",
   "nbconvert_exporter": "python",
   "pygments_lexer": "ipython3",
   "version": "3.7.3"
  },
  "livereveal": {
   "scroll": true
  }
 },
 "nbformat": 4,
 "nbformat_minor": 1
}
