{
 "cells": [
  {
   "cell_type": "markdown",
   "metadata": {
    "slideshow": {
     "slide_type": "slide"
    }
   },
   "source": [
    "## Introduction\n",
    "\n",
    "- The fundamental assumption for consistency of least-squares estimators is that the model error term is unrelated to the regressors, i.e., $E(u|x) = 0$.\n",
    "- If this assumption fails, the ordinary least-squares (OLS) estimator is inconsistent and the OLS estimator can no longer be given a causal interpretation."
   ]
  },
  {
   "cell_type": "markdown",
   "metadata": {
    "slideshow": {
     "slide_type": "subslide"
    }
   },
   "source": [
    "- The instrumental-variables (iv) estimator provides a consistent estimator under the very strong assumption that valid instruments exist, where the instruments z are variables that are correlated with the regressors x that satisfy $E(u|z) = 0$.\n",
    "- The IV approach is the original and leading approach for estimating the parameters of the models with endogenous regressors and errors-in-variables models."
   ]
  },
  {
   "cell_type": "markdown",
   "metadata": {
    "slideshow": {
     "slide_type": "slide"
    }
   },
   "source": [
    "## IV example\n",
    "\n",
    "- We consider a model with one endogenous regressor, several exogenous regressors, and one or more excluded exogenous variables that serve as the identifying instruments.\n",
    "- The dataset is an extract from the Medical Expenditure Panel Survey (MEPS) of individuals over the age of 65 years, similar to the dataset described before."
   ]
  },
  {
   "cell_type": "markdown",
   "metadata": {
    "scrolled": true,
    "slideshow": {
     "slide_type": "subslide"
    }
   },
   "source": [
    "- The equation to be estimated has the dependent variable ldrugexp, the log of total out-of-pocket expenditures on prescribed medications. \n",
    "- The regressors are"
   ]
  },
  {
   "cell_type": "markdown",
   "metadata": {
    "scrolled": true,
    "slideshow": {
     "slide_type": "subslide"
    }
   },
   "source": [
    "- an indicator for whether the individual holds either employer or union-sponsored health insurance (hi_empunion), \n",
    "- number of chronic conditions (totchr), \n",
    "- and four sociodemographic variables: age in years (age), indicators for whether female (female) and whether black or Hispanic (blhisp), and the natural logarithm of annual household income in thousands of dollars (linc)."
   ]
  },
  {
   "cell_type": "markdown",
   "metadata": {
    "scrolled": true,
    "slideshow": {
     "slide_type": "subslide"
    }
   },
   "source": [
    "- We treat the health insurance variable hLempunion as endogenous.\n",
    "- The intuitive justification is that having such supplementary insurance on top of the near universal Medicare insurance for the elderly may be a choice variable.\n",
    "- Even though most individuals in the sample are no longer working, those who expected high future medical expenses might have been more likely to choose a job when they were working that would provide supplementary health insurance upon retirement."
   ]
  },
  {
   "cell_type": "code",
   "execution_count": 1,
   "metadata": {
    "slideshow": {
     "slide_type": "subslide"
    }
   },
   "outputs": [],
   "source": [
    "import numpy as np\n",
    "import pandas as pd\n",
    "import statsmodels.api as sm\n",
    "import statsmodels.formula.api as smf "
   ]
  },
  {
   "cell_type": "code",
   "execution_count": 2,
   "metadata": {
    "scrolled": true,
    "slideshow": {
     "slide_type": "subslide"
    }
   },
   "outputs": [
    {
     "data": {
      "text/html": [
       "<div>\n",
       "<style scoped>\n",
       "    .dataframe tbody tr th:only-of-type {\n",
       "        vertical-align: middle;\n",
       "    }\n",
       "\n",
       "    .dataframe tbody tr th {\n",
       "        vertical-align: top;\n",
       "    }\n",
       "\n",
       "    .dataframe thead th {\n",
       "        text-align: right;\n",
       "    }\n",
       "</style>\n",
       "<table border=\"1\" class=\"dataframe\">\n",
       "  <thead>\n",
       "    <tr style=\"text-align: right;\">\n",
       "      <th></th>\n",
       "      <th>ldrugexp</th>\n",
       "      <th>hi_empunion</th>\n",
       "      <th>totchr</th>\n",
       "      <th>age</th>\n",
       "      <th>female</th>\n",
       "      <th>blhisp</th>\n",
       "      <th>linc</th>\n",
       "    </tr>\n",
       "  </thead>\n",
       "  <tbody>\n",
       "    <tr>\n",
       "      <th>count</th>\n",
       "      <td>10391.000000</td>\n",
       "      <td>10391.000000</td>\n",
       "      <td>10391.000000</td>\n",
       "      <td>10391.000000</td>\n",
       "      <td>10391.000000</td>\n",
       "      <td>10391.000000</td>\n",
       "      <td>10089.000000</td>\n",
       "    </tr>\n",
       "    <tr>\n",
       "      <th>mean</th>\n",
       "      <td>6.479664</td>\n",
       "      <td>0.379655</td>\n",
       "      <td>1.860745</td>\n",
       "      <td>75.046386</td>\n",
       "      <td>0.579732</td>\n",
       "      <td>0.170340</td>\n",
       "      <td>2.743271</td>\n",
       "    </tr>\n",
       "    <tr>\n",
       "      <th>std</th>\n",
       "      <td>1.363393</td>\n",
       "      <td>0.485324</td>\n",
       "      <td>1.290131</td>\n",
       "      <td>6.693680</td>\n",
       "      <td>0.493626</td>\n",
       "      <td>0.375956</td>\n",
       "      <td>0.913144</td>\n",
       "    </tr>\n",
       "    <tr>\n",
       "      <th>min</th>\n",
       "      <td>0.000000</td>\n",
       "      <td>0.000000</td>\n",
       "      <td>0.000000</td>\n",
       "      <td>65.000000</td>\n",
       "      <td>0.000000</td>\n",
       "      <td>0.000000</td>\n",
       "      <td>-6.907755</td>\n",
       "    </tr>\n",
       "    <tr>\n",
       "      <th>50%</th>\n",
       "      <td>6.677083</td>\n",
       "      <td>0.000000</td>\n",
       "      <td>2.000000</td>\n",
       "      <td>74.000000</td>\n",
       "      <td>1.000000</td>\n",
       "      <td>0.000000</td>\n",
       "      <td>2.743160</td>\n",
       "    </tr>\n",
       "    <tr>\n",
       "      <th>max</th>\n",
       "      <td>10.180172</td>\n",
       "      <td>1.000000</td>\n",
       "      <td>9.000000</td>\n",
       "      <td>91.000000</td>\n",
       "      <td>1.000000</td>\n",
       "      <td>1.000000</td>\n",
       "      <td>5.744476</td>\n",
       "    </tr>\n",
       "  </tbody>\n",
       "</table>\n",
       "</div>"
      ],
      "text/plain": [
       "           ldrugexp   hi_empunion        totchr           age        female  \\\n",
       "count  10391.000000  10391.000000  10391.000000  10391.000000  10391.000000   \n",
       "mean       6.479664      0.379655      1.860745     75.046386      0.579732   \n",
       "std        1.363393      0.485324      1.290131      6.693680      0.493626   \n",
       "min        0.000000      0.000000      0.000000     65.000000      0.000000   \n",
       "50%        6.677083      0.000000      2.000000     74.000000      1.000000   \n",
       "max       10.180172      1.000000      9.000000     91.000000      1.000000   \n",
       "\n",
       "             blhisp          linc  \n",
       "count  10391.000000  10089.000000  \n",
       "mean       0.170340      2.743271  \n",
       "std        0.375956      0.913144  \n",
       "min        0.000000     -6.907755  \n",
       "50%        0.000000      2.743160  \n",
       "max        1.000000      5.744476  "
      ]
     },
     "execution_count": 2,
     "metadata": {},
     "output_type": "execute_result"
    }
   ],
   "source": [
    "data=pd.read_stata('data/mus06data.dta')\n",
    "controls = ['totchr', 'age', 'female', 'blhisp', 'linc']\n",
    "data[['ldrugexp','hi_empunion']+controls].describe([])"
   ]
  },
  {
   "cell_type": "code",
   "execution_count": 3,
   "metadata": {
    "scrolled": true,
    "slideshow": {
     "slide_type": "fragment"
    }
   },
   "outputs": [],
   "source": [
    "data=data.dropna(subset=['linc'])"
   ]
  },
  {
   "cell_type": "markdown",
   "metadata": {
    "scrolled": true,
    "slideshow": {
     "slide_type": "subslide"
    }
   },
   "source": [
    "### Available instruments\n",
    "\n",
    "- We consider four potential instruments for hi_empunion. \n",
    "- Two reflect the income status of the individual and two are based on employer characteristics."
   ]
  },
  {
   "cell_type": "markdown",
   "metadata": {
    "scrolled": true,
    "slideshow": {
     "slide_type": "subslide"
    }
   },
   "source": [
    "- The `ssiratio` instrument is the ratio of an individual's social security income to the individual's income from all sources, with high values indicating a significant income constraint.\n",
    "- The `lowincome` instrument is a qualitative indicator of low-income status.\n",
    "- The `firmsz` instrument measures the size of the firm's employed labor force, \n",
    "- and the `multlc` instrument indicates whether the firm is a large operator with multiple locations. "
   ]
  },
  {
   "cell_type": "code",
   "execution_count": 4,
   "metadata": {
    "slideshow": {
     "slide_type": "subslide"
    }
   },
   "outputs": [
    {
     "data": {
      "text/html": [
       "<div>\n",
       "<style scoped>\n",
       "    .dataframe tbody tr th:only-of-type {\n",
       "        vertical-align: middle;\n",
       "    }\n",
       "\n",
       "    .dataframe tbody tr th {\n",
       "        vertical-align: top;\n",
       "    }\n",
       "\n",
       "    .dataframe thead th {\n",
       "        text-align: right;\n",
       "    }\n",
       "</style>\n",
       "<table border=\"1\" class=\"dataframe\">\n",
       "  <thead>\n",
       "    <tr style=\"text-align: right;\">\n",
       "      <th></th>\n",
       "      <th>ssiratio</th>\n",
       "      <th>lowincome</th>\n",
       "      <th>multlc</th>\n",
       "      <th>firmsz</th>\n",
       "    </tr>\n",
       "  </thead>\n",
       "  <tbody>\n",
       "    <tr>\n",
       "      <th>count</th>\n",
       "      <td>10089.000000</td>\n",
       "      <td>10089.000000</td>\n",
       "      <td>10089.000000</td>\n",
       "      <td>10089.000000</td>\n",
       "    </tr>\n",
       "    <tr>\n",
       "      <th>mean</th>\n",
       "      <td>0.536544</td>\n",
       "      <td>0.187432</td>\n",
       "      <td>0.062048</td>\n",
       "      <td>0.140528</td>\n",
       "    </tr>\n",
       "    <tr>\n",
       "      <th>std</th>\n",
       "      <td>0.367820</td>\n",
       "      <td>0.390277</td>\n",
       "      <td>0.241254</td>\n",
       "      <td>2.170324</td>\n",
       "    </tr>\n",
       "    <tr>\n",
       "      <th>min</th>\n",
       "      <td>0.000000</td>\n",
       "      <td>0.000000</td>\n",
       "      <td>0.000000</td>\n",
       "      <td>0.000000</td>\n",
       "    </tr>\n",
       "    <tr>\n",
       "      <th>50%</th>\n",
       "      <td>0.504522</td>\n",
       "      <td>0.000000</td>\n",
       "      <td>0.000000</td>\n",
       "      <td>0.000000</td>\n",
       "    </tr>\n",
       "    <tr>\n",
       "      <th>max</th>\n",
       "      <td>9.250620</td>\n",
       "      <td>1.000000</td>\n",
       "      <td>1.000000</td>\n",
       "      <td>50.000000</td>\n",
       "    </tr>\n",
       "  </tbody>\n",
       "</table>\n",
       "</div>"
      ],
      "text/plain": [
       "           ssiratio     lowincome        multlc        firmsz\n",
       "count  10089.000000  10089.000000  10089.000000  10089.000000\n",
       "mean       0.536544      0.187432      0.062048      0.140528\n",
       "std        0.367820      0.390277      0.241254      2.170324\n",
       "min        0.000000      0.000000      0.000000      0.000000\n",
       "50%        0.504522      0.000000      0.000000      0.000000\n",
       "max        9.250620      1.000000      1.000000     50.000000"
      ]
     },
     "execution_count": 4,
     "metadata": {},
     "output_type": "execute_result"
    }
   ],
   "source": [
    "instruments = ['ssiratio', 'lowincome', 'multlc', 'firmsz']\n",
    "data.loc[:,instruments].describe([])"
   ]
  },
  {
   "cell_type": "markdown",
   "metadata": {
    "scrolled": true,
    "slideshow": {
     "slide_type": "subslide"
    }
   },
   "source": [
    "- We have four available instruments for one endogenous regressor. \n",
    "- The obvious approach is to use all available instruments, because in theory this leads to the most efficient estimator. \n",
    "- In practice, it may lead to larger small-sample bias because the small-sample biases of IV estimators increase with the number of instruments (Hahn and Hausman 2002) ."
   ]
  },
  {
   "cell_type": "markdown",
   "metadata": {
    "scrolled": true,
    "slideshow": {
     "slide_type": "subslide"
    }
   },
   "source": [
    "- At a minimum, it is informative to view the gross correlation between endogenous variables and instruments and between instruments. \n",
    "- When multiple instruments are available, then it is actually the partial correlation after controlling for other available instruments that matters. \n",
    "- This important step is deferred to later sections."
   ]
  },
  {
   "cell_type": "markdown",
   "metadata": {
    "scrolled": true,
    "slideshow": {
     "slide_type": "subslide"
    }
   },
   "source": [
    "### IV estimation of an exactly identified model\n",
    "\n",
    "- We begin with IV regression of ldrugexp on the endogenous regressor `hi_empunion`, instrumented by the single instrument `ssiratio`, and several exogenous regressors."
   ]
  },
  {
   "cell_type": "code",
   "execution_count": 5,
   "metadata": {
    "run_control": {
     "marked": false
    },
    "slideshow": {
     "slide_type": "subslide"
    }
   },
   "outputs": [
    {
     "name": "stderr",
     "output_type": "stream",
     "text": [
      "C:\\Users\\bayes\\Anaconda3\\lib\\site-packages\\linearmodels\\panel\\data.py:10: FutureWarning: The Panel class is removed from pandas. Accessing it from the top-level namespace will also be removed in the next version\n",
      "  from pandas import (Categorical, DataFrame, Index, MultiIndex, Panel, Series,\n"
     ]
    },
    {
     "name": "stdout",
     "output_type": "stream",
     "text": [
      "    First Stage Estimation Results    \n",
      "======================================\n",
      "                           hi_empunion\n",
      "--------------------------------------\n",
      "R-squared                       0.0761\n",
      "Partial R-squared               0.0179\n",
      "Shea's R-squared                0.0179\n",
      "Partial F-statistic             65.806\n",
      "P-value (Partial F-stat)     4.441e-16\n",
      "Partial F-stat Distn           chi2(1)\n",
      "========================== ===========\n",
      "Intercept                       1.0290\n",
      "                              (17.705)\n",
      "totchr                          0.0128\n",
      "                              (3.4896)\n",
      "female                         -0.0734\n",
      "                             (-7.6226)\n",
      "age                            -0.0086\n",
      "                             (-12.184)\n",
      "linc                            0.0484\n",
      "                              (7.3266)\n",
      "blhisp                         -0.0627\n",
      "                             (-5.1084)\n",
      "ssiratio                       -0.1916\n",
      "                             (-8.1121)\n",
      "--------------------------------------\n",
      "\n",
      "T-stats reported in parentheses\n",
      "T-stats use same covariance type as original model\n",
      "                                                                              \n",
      "                              Parameter Estimates                              \n",
      "===============================================================================\n",
      "             Parameter  Std. Err.     T-stat    P-value    Lower CI    Upper CI\n",
      "-------------------------------------------------------------------------------\n",
      "Intercept       6.7872     0.2688     25.246     0.0000      6.2602      7.3141\n",
      "totchr          0.4503     0.0102     44.157     0.0000      0.4303      0.4703\n",
      "female         -0.0204     0.0326    -0.6257     0.5315     -0.0843      0.0435\n",
      "age            -0.0132     0.0030    -4.4092     0.0000     -0.0191     -0.0073\n",
      "linc            0.0870     0.0226     3.8436     0.0001      0.0426      0.1314\n",
      "blhisp         -0.2174     0.0395    -5.5052     0.0000     -0.2948     -0.1400\n",
      "hi_empunion    -0.8976     0.2211    -4.0592     0.0000     -1.3310     -0.4642\n",
      "===============================================================================\n",
      "\n",
      "Endogenous: hi_empunion\n",
      "Instruments: ssiratio\n",
      "Robust Covariance (Heteroskedastic)\n",
      "Debiased: False\n"
     ]
    }
   ],
   "source": [
    "from linearmodels.iv import IV2SLS\n",
    "\n",
    "formula = 'ldrugexp ~ 1 + totchr + female + age + linc + blhisp + [hi_empunion ~ ssiratio]'\n",
    "res = IV2SLS.from_formula(formula, data).fit(cov_type='robust')\n",
    "print(res.first_stage)\n",
    "print('\\n'.join(res.summary.as_text().split('\\n')[8:]))"
   ]
  },
  {
   "cell_type": "markdown",
   "metadata": {
    "slideshow": {
     "slide_type": "subslide"
    }
   },
   "source": [
    "### IV estimation of an overidentified model\n",
    "\n",
    "- We next consider estimation of an overidentified model. \n",
    "- Then different estimates are obtained by 2SLS estimation and by different variants of GMM."
   ]
  },
  {
   "cell_type": "markdown",
   "metadata": {
    "slideshow": {
     "slide_type": "subslide"
    }
   },
   "source": [
    "- We use two instruments, `ssiratio` and `multlc`, for `hi_empunion`, the endogenous regressor. \n",
    "- The first estimator is 2SLS; obtained with standard errors that correct for heteroskedaticity\n",
    "- The second estimator is optimal GMM given heteroskedastic errors."
   ]
  },
  {
   "cell_type": "markdown",
   "metadata": {
    "slideshow": {
     "slide_type": "subslide"
    }
   },
   "source": [
    "- The third continuously updating GMM estimator simultaneously optimizes the moment conditions and the weighting matrix.\n",
    "- The fourth estimator is one that illustrates optimal GMM with clustered errors by clustering on age. \n",
    "- The final estimator is the same as the first but reports default standard errors that do not adjust for heteroskedasticity."
   ]
  },
  {
   "cell_type": "code",
   "execution_count": 6,
   "metadata": {
    "slideshow": {
     "slide_type": "subslide"
    }
   },
   "outputs": [
    {
     "data": {
      "text/html": [
       "<table class=\"simpletable\">\n",
       "<caption>Model Comparison</caption>\n",
       "<tr>\n",
       "            <td></td>              <th>Model 0</th>       <th>Model 1</th>       <th>Model 2</th>       <th>Model 3</th>        <th>Model 4</th>   \n",
       "</tr>\n",
       "<tr>\n",
       "  <th>Dep. Variable</th>          <td>ldrugexp</td>      <td>ldrugexp</td>      <td>ldrugexp</td>      <td>ldrugexp</td>       <td>ldrugexp</td>   \n",
       "</tr>\n",
       "<tr>\n",
       "  <th>Estimator</th>               <td>IV-2SLS</td>       <td>IV-GMM</td>        <td>IV-GMM</td>        <td>IV-GMM</td>         <td>IV-2SLS</td>   \n",
       "</tr>\n",
       "<tr>\n",
       "  <th>No. Observations</th>         <td>10089</td>         <td>10089</td>         <td>10089</td>         <td>10089</td>          <td>10089</td>    \n",
       "</tr>\n",
       "<tr>\n",
       "  <th>Cov. Est.</th>               <td>robust</td>        <td>robust</td>        <td>robust</td>       <td>clustered</td>     <td>unadjusted</td>  \n",
       "</tr>\n",
       "<tr>\n",
       "  <th>R-squared</th>               <td>0.0414</td>        <td>0.0406</td>        <td>0.0388</td>        <td>0.0406</td>         <td>0.0414</td>    \n",
       "</tr>\n",
       "<tr>\n",
       "  <th>Adj. R-squared</th>          <td>0.0409</td>        <td>0.0400</td>        <td>0.0382</td>        <td>0.0400</td>         <td>0.0409</td>    \n",
       "</tr>\n",
       "<tr>\n",
       "  <th>F-statistic</th>             <td>1955.4</td>        <td>1952.6</td>        <td>1949.2</td>        <td>1613.6</td>         <td>1882.3</td>    \n",
       "</tr>\n",
       "<tr>\n",
       "  <th>P-value (F-stat)</th>        <td>0.0000</td>        <td>0.0000</td>        <td>0.0000</td>        <td>0.0000</td>         <td>0.0000</td>    \n",
       "</tr>\n",
       "<tr>\n",
       "  <th>==================</th>    <td>===========</td>   <td>===========</td>   <td>===========</td>   <td>===========</td>   <td>============</td> \n",
       "</tr>\n",
       "<tr>\n",
       "  <th>Intercept</th>               <td>6.8752</td>        <td>6.8778</td>        <td>6.8847</td>        <td>6.8778</td>         <td>6.8752</td>    \n",
       "</tr>\n",
       "<tr>\n",
       "  <th> </th>                      <td>(26.660)</td>      <td>(26.658)</td>      <td>(26.657)</td>      <td>(13.733)</td>       <td>(28.030)</td>   \n",
       "</tr>\n",
       "<tr>\n",
       "  <th>totchr</th>                  <td>0.4512</td>        <td>0.4510</td>        <td>0.4510</td>        <td>0.4510</td>         <td>0.4512</td>    \n",
       "</tr>\n",
       "<tr>\n",
       "  <th> </th>                      <td>(43.769)</td>      <td>(43.738)</td>      <td>(43.701)</td>      <td>(33.846)</td>       <td>(42.942)</td>   \n",
       "</tr>\n",
       "<tr>\n",
       "  <th>female</th>                  <td>-0.0278</td>       <td>-0.0282</td>       <td>-0.0288</td>       <td>-0.0282</td>        <td>-0.0278</td>   \n",
       "</tr>\n",
       "<tr>\n",
       "  <th> </th>                      <td>(-0.8653)</td>     <td>(-0.8752)</td>     <td>(-0.8928)</td>     <td>(-0.9716)</td>      <td>(-0.8933)</td>  \n",
       "</tr>\n",
       "<tr>\n",
       "  <th>age</th>                     <td>-0.0141</td>       <td>-0.0142</td>       <td>-0.0142</td>       <td>-0.0142</td>        <td>-0.0141</td>   \n",
       "</tr>\n",
       "<tr>\n",
       "  <th> </th>                      <td>(-4.8753)</td>     <td>(-4.8773)</td>     <td>(-4.8969)</td>     <td>(-2.2595)</td>      <td>(-5.0834)</td>  \n",
       "</tr>\n",
       "<tr>\n",
       "  <th>linc</th>                    <td>0.0943</td>        <td>0.0945</td>        <td>0.0950</td>        <td>0.0945</td>         <td>0.0943</td>    \n",
       "</tr>\n",
       "<tr>\n",
       "  <th> </th>                      <td>(4.3079)</td>      <td>(4.3142)</td>      <td>(4.3333)</td>      <td>(6.4165)</td>       <td>(4.4400)</td>   \n",
       "</tr>\n",
       "<tr>\n",
       "  <th>blhisp</th>                  <td>-0.2237</td>       <td>-0.2231</td>       <td>-0.2236</td>       <td>-0.2231</td>        <td>-0.2237</td>   \n",
       "</tr>\n",
       "<tr>\n",
       "  <th> </th>                      <td>(-5.6514)</td>     <td>(-5.6344)</td>     <td>(-5.6421)</td>     <td>(-4.3302)</td>      <td>(-5.7805)</td>  \n",
       "</tr>\n",
       "<tr>\n",
       "  <th>hi_empunion</th>             <td>-0.9899</td>       <td>-0.9933</td>       <td>-1.0002</td>       <td>-0.9933</td>        <td>-0.9899</td>   \n",
       "</tr>\n",
       "<tr>\n",
       "  <th> </th>                      <td>(-4.8386)</td>     <td>(-4.8530)</td>     <td>(-4.8810)</td>     <td>(-4.8027)</td>      <td>(-5.1501)</td>  \n",
       "</tr>\n",
       "<tr>\n",
       "  <th>====================</th> <td>=============</td> <td>=============</td> <td>=============</td> <td>=============</td> <td>==============</td>\n",
       "</tr>\n",
       "<tr>\n",
       "  <th>Instruments</th>            <td>ssiratio</td>      <td>ssiratio</td>      <td>ssiratio</td>      <td>ssiratio</td>       <td>ssiratio</td>   \n",
       "</tr>\n",
       "<tr>\n",
       "  <th></th>                        <td>multlc</td>        <td>multlc</td>        <td>multlc</td>        <td>multlc</td>         <td>multlc</td>    \n",
       "</tr>\n",
       "</table><br/><br/>T-stats reported in parentheses<br/>id: 0x26571d02a48"
      ],
      "text/plain": [
       "                                      Model Comparison                                     \n",
       "===========================================================================================\n",
       "                           Model 0       Model 1       Model 2       Model 3        Model 4\n",
       "-------------------------------------------------------------------------------------------\n",
       "Dep. Variable             ldrugexp      ldrugexp      ldrugexp      ldrugexp       ldrugexp\n",
       "Estimator                  IV-2SLS        IV-GMM        IV-GMM        IV-GMM        IV-2SLS\n",
       "No. Observations             10089         10089         10089         10089          10089\n",
       "Cov. Est.                   robust        robust        robust     clustered     unadjusted\n",
       "R-squared                   0.0414        0.0406        0.0388        0.0406         0.0414\n",
       "Adj. R-squared              0.0409        0.0400        0.0382        0.0400         0.0409\n",
       "F-statistic                 1955.4        1952.6        1949.2        1613.6         1882.3\n",
       "P-value (F-stat)            0.0000        0.0000        0.0000        0.0000         0.0000\n",
       "==================     ===========   ===========   ===========   ===========   ============\n",
       "Intercept                   6.8752        6.8778        6.8847        6.8778         6.8752\n",
       "                          (26.660)      (26.658)      (26.657)      (13.733)       (28.030)\n",
       "totchr                      0.4512        0.4510        0.4510        0.4510         0.4512\n",
       "                          (43.769)      (43.738)      (43.701)      (33.846)       (42.942)\n",
       "female                     -0.0278       -0.0282       -0.0288       -0.0282        -0.0278\n",
       "                         (-0.8653)     (-0.8752)     (-0.8928)     (-0.9716)      (-0.8933)\n",
       "age                        -0.0141       -0.0142       -0.0142       -0.0142        -0.0141\n",
       "                         (-4.8753)     (-4.8773)     (-4.8969)     (-2.2595)      (-5.0834)\n",
       "linc                        0.0943        0.0945        0.0950        0.0945         0.0943\n",
       "                          (4.3079)      (4.3142)      (4.3333)      (6.4165)       (4.4400)\n",
       "blhisp                     -0.2237       -0.2231       -0.2236       -0.2231        -0.2237\n",
       "                         (-5.6514)     (-5.6344)     (-5.6421)     (-4.3302)      (-5.7805)\n",
       "hi_empunion                -0.9899       -0.9933       -1.0002       -0.9933        -0.9899\n",
       "                         (-4.8386)     (-4.8530)     (-4.8810)     (-4.8027)      (-5.1501)\n",
       "==================== ============= ============= ============= ============= ==============\n",
       "Instruments               ssiratio      ssiratio      ssiratio      ssiratio       ssiratio\n",
       "                            multlc        multlc        multlc        multlc         multlc\n",
       "-------------------------------------------------------------------------------------------\n",
       "\n",
       "T-stats reported in parentheses\n",
       "IVModelComparison, id: 0x26571d02a48"
      ]
     },
     "execution_count": 6,
     "metadata": {},
     "output_type": "execute_result"
    }
   ],
   "source": [
    "from linearmodels.iv import IVGMM, IVGMMCUE\n",
    "from linearmodels.iv.results import compare\n",
    "\n",
    "formula = 'ldrugexp ~ 1 + totchr + female + age + linc + blhisp + [hi_empunion ~ ssiratio+multlc]'\n",
    "res_2sls = IV2SLS.from_formula(formula, data).fit(cov_type='robust')\n",
    "res_gmm = IVGMM.from_formula(formula, data).fit(cov_type='robust')\n",
    "res_gmm_cue = IVGMMCUE.from_formula(formula, data).fit(cov_type='robust')\n",
    "res_gmm_clustered = IVGMM.from_formula(formula, data).fit(cov_type='clustered', clusters=data.age)\n",
    "res_2sls_std = IV2SLS.from_formula(formula, data).fit(cov_type='unadjusted')\n",
    "compare([res_2sls,res_gmm,res_gmm_cue,res_gmm_clustered,res_2sls_std])"
   ]
  },
  {
   "cell_type": "markdown",
   "metadata": {
    "slideshow": {
     "slide_type": "subslide"
    }
   },
   "source": [
    "###  Testing for regressor endogeneity\n",
    "\n",
    "- The Hausman test principle provides a way to test whether a regressor is endogenous.\n",
    "- The test usually compares just the coefficients of the endogenous variables in IV and OLS estimations."
   ]
  },
  {
   "cell_type": "code",
   "execution_count": 7,
   "metadata": {
    "slideshow": {
     "slide_type": "subslide"
    }
   },
   "outputs": [
    {
     "data": {
      "text/plain": [
       "Wu-Hausman test of exogeneity\n",
       "H0: All endogenous variables are exogenous\n",
       "Statistic: 25.3253\n",
       "P-value: 0.0000\n",
       "Distributed: F(1,10081)\n",
       "WaldTestStatistic, id: 0x26571d90bc8"
      ]
     },
     "execution_count": 7,
     "metadata": {},
     "output_type": "execute_result"
    }
   ],
   "source": [
    "res.wu_hausman()"
   ]
  },
  {
   "cell_type": "markdown",
   "metadata": {
    "slideshow": {
     "slide_type": "subslide"
    }
   },
   "source": [
    "### Tests of overidentifying restrictions\n",
    "\n",
    "- The validity of an instrument cannot be tested in a just-identified model. \n",
    "- But it is possible to test the validity of overidentifying instruments in an overidentified model provided that the parameters of the model are estimated using optimal GMM."
   ]
  },
  {
   "cell_type": "code",
   "execution_count": 8,
   "metadata": {
    "slideshow": {
     "slide_type": "subslide"
    }
   },
   "outputs": [
    {
     "data": {
      "text/plain": [
       "H0: Expected moment conditions are equal to 0\n",
       "Statistic: 1.0475\n",
       "P-value: 0.3061\n",
       "Distributed: chi2(1)\n",
       "WaldTestStatistic, id: 0x26571c1cc08"
      ]
     },
     "execution_count": 8,
     "metadata": {},
     "output_type": "execute_result"
    }
   ],
   "source": [
    "res_gmm.j_stat"
   ]
  },
  {
   "cell_type": "markdown",
   "metadata": {
    "slideshow": {
     "slide_type": "subslide"
    }
   },
   "source": [
    "- When all instruments are included the story changes, and some of the additional instrument (`lowincome` or `firmsz`) appear to be endogenous."
   ]
  },
  {
   "cell_type": "code",
   "execution_count": 9,
   "metadata": {
    "slideshow": {
     "slide_type": "fragment"
    }
   },
   "outputs": [
    {
     "data": {
      "text/plain": [
       "H0: Expected moment conditions are equal to 0\n",
       "Statistic: 11.5903\n",
       "P-value: 0.0089\n",
       "Distributed: chi2(3)\n",
       "WaldTestStatistic, id: 0x2657444c308"
      ]
     },
     "execution_count": 9,
     "metadata": {},
     "output_type": "execute_result"
    }
   ],
   "source": [
    "formula='ldrugexp ~ 1 + totchr + female + age + linc + blhisp + [hi_empunion ~ ssiratio+multlc+lowincome+firmsz]'\n",
    "res_gmm_all = IVGMM.from_formula(formula,data).fit(cov_type='robust')\n",
    "res_gmm_all.j_stat"
   ]
  },
  {
   "cell_type": "markdown",
   "metadata": {
    "slideshow": {
     "slide_type": "slide"
    }
   },
   "source": [
    "## Weak instruments\n",
    "\n",
    "- Our concern is with whether the instrument is weak, because then asymptotic theory can provide a poor guide to actual finite-sample distributions."
   ]
  },
  {
   "cell_type": "markdown",
   "metadata": {
    "slideshow": {
     "slide_type": "subslide"
    }
   },
   "source": [
    "### Weak instruments\n",
    "\n",
    "- There are several approaches for investigating the weak IV problem, based on analysis of the first-stage reduced-form equation(s) and, particularly, the F statistic for the joint significance of the key instruments."
   ]
  },
  {
   "cell_type": "markdown",
   "metadata": {
    "slideshow": {
     "slide_type": "subslide"
    }
   },
   "source": [
    "####  Diagnostics for weak instruments\n",
    "\n",
    "- The simplest method is to use the pairwise correlations between any endogenous regressor and instruments."
   ]
  },
  {
   "cell_type": "code",
   "execution_count": 10,
   "metadata": {
    "slideshow": {
     "slide_type": "fragment"
    }
   },
   "outputs": [
    {
     "data": {
      "text/html": [
       "<div>\n",
       "<style scoped>\n",
       "    .dataframe tbody tr th:only-of-type {\n",
       "        vertical-align: middle;\n",
       "    }\n",
       "\n",
       "    .dataframe tbody tr th {\n",
       "        vertical-align: top;\n",
       "    }\n",
       "\n",
       "    .dataframe thead th {\n",
       "        text-align: right;\n",
       "    }\n",
       "</style>\n",
       "<table border=\"1\" class=\"dataframe\">\n",
       "  <thead>\n",
       "    <tr style=\"text-align: right;\">\n",
       "      <th></th>\n",
       "      <th>hi_empunion</th>\n",
       "      <th>ssiratio</th>\n",
       "      <th>lowincome</th>\n",
       "      <th>multlc</th>\n",
       "      <th>firmsz</th>\n",
       "    </tr>\n",
       "  </thead>\n",
       "  <tbody>\n",
       "    <tr>\n",
       "      <th>hi_empunion</th>\n",
       "      <td>1.000000</td>\n",
       "      <td>-0.212431</td>\n",
       "      <td>-0.116419</td>\n",
       "      <td>0.119849</td>\n",
       "      <td>0.037352</td>\n",
       "    </tr>\n",
       "    <tr>\n",
       "      <th>ssiratio</th>\n",
       "      <td>-0.212431</td>\n",
       "      <td>1.000000</td>\n",
       "      <td>0.253946</td>\n",
       "      <td>-0.190433</td>\n",
       "      <td>-0.044578</td>\n",
       "    </tr>\n",
       "    <tr>\n",
       "      <th>lowincome</th>\n",
       "      <td>-0.116419</td>\n",
       "      <td>0.253946</td>\n",
       "      <td>1.000000</td>\n",
       "      <td>-0.062465</td>\n",
       "      <td>-0.008232</td>\n",
       "    </tr>\n",
       "    <tr>\n",
       "      <th>multlc</th>\n",
       "      <td>0.119849</td>\n",
       "      <td>-0.190433</td>\n",
       "      <td>-0.062465</td>\n",
       "      <td>1.000000</td>\n",
       "      <td>0.187275</td>\n",
       "    </tr>\n",
       "    <tr>\n",
       "      <th>firmsz</th>\n",
       "      <td>0.037352</td>\n",
       "      <td>-0.044578</td>\n",
       "      <td>-0.008232</td>\n",
       "      <td>0.187275</td>\n",
       "      <td>1.000000</td>\n",
       "    </tr>\n",
       "  </tbody>\n",
       "</table>\n",
       "</div>"
      ],
      "text/plain": [
       "             hi_empunion  ssiratio  lowincome    multlc    firmsz\n",
       "hi_empunion     1.000000 -0.212431  -0.116419  0.119849  0.037352\n",
       "ssiratio       -0.212431  1.000000   0.253946 -0.190433 -0.044578\n",
       "lowincome      -0.116419  0.253946   1.000000 -0.062465 -0.008232\n",
       "multlc          0.119849 -0.190433  -0.062465  1.000000  0.187275\n",
       "firmsz          0.037352 -0.044578  -0.008232  0.187275  1.000000"
      ]
     },
     "execution_count": 10,
     "metadata": {},
     "output_type": "execute_result"
    }
   ],
   "source": [
    "data.loc[:,['hi_empunion']+instruments].corr()"
   ]
  },
  {
   "cell_type": "markdown",
   "metadata": {
    "slideshow": {
     "slide_type": "subslide"
    }
   },
   "source": [
    "### Just-identified model\n",
    "\n",
    "- We consider a just-identified model with one endogenous regressor, with `hi_empunion` instrumented by one variable, `ssiratio`."
   ]
  },
  {
   "cell_type": "code",
   "execution_count": 11,
   "metadata": {
    "slideshow": {
     "slide_type": "subslide"
    }
   },
   "outputs": [
    {
     "data": {
      "text/html": [
       "<div>\n",
       "<style scoped>\n",
       "    .dataframe tbody tr th:only-of-type {\n",
       "        vertical-align: middle;\n",
       "    }\n",
       "\n",
       "    .dataframe tbody tr th {\n",
       "        vertical-align: top;\n",
       "    }\n",
       "\n",
       "    .dataframe thead th {\n",
       "        text-align: right;\n",
       "    }\n",
       "</style>\n",
       "<table border=\"1\" class=\"dataframe\">\n",
       "  <thead>\n",
       "    <tr style=\"text-align: right;\">\n",
       "      <th></th>\n",
       "      <th>rsquared</th>\n",
       "      <th>partial.rsquared</th>\n",
       "      <th>shea.rsquared</th>\n",
       "      <th>f.stat</th>\n",
       "      <th>f.pval</th>\n",
       "      <th>f.dist</th>\n",
       "    </tr>\n",
       "  </thead>\n",
       "  <tbody>\n",
       "    <tr>\n",
       "      <th>hi_empunion</th>\n",
       "      <td>0.076055</td>\n",
       "      <td>0.017921</td>\n",
       "      <td>0.017921</td>\n",
       "      <td>65.805858</td>\n",
       "      <td>4.440892e-16</td>\n",
       "      <td>chi2(1)</td>\n",
       "    </tr>\n",
       "  </tbody>\n",
       "</table>\n",
       "</div>"
      ],
      "text/plain": [
       "             rsquared  partial.rsquared  shea.rsquared     f.stat  \\\n",
       "hi_empunion  0.076055          0.017921       0.017921  65.805858   \n",
       "\n",
       "                   f.pval   f.dist  \n",
       "hi_empunion  4.440892e-16  chi2(1)  "
      ]
     },
     "execution_count": 11,
     "metadata": {},
     "output_type": "execute_result"
    }
   ],
   "source": [
    "res.first_stage.diagnostics"
   ]
  },
  {
   "cell_type": "markdown",
   "metadata": {
    "slideshow": {
     "slide_type": "subslide"
    }
   },
   "source": [
    "### Overidentified model\n",
    "\n",
    "- For a model with a single endogenous regressor that is overidentified, the output is of the same format as the previous example. \n",
    "- The F statistic will now be a joint test for the several instruments."
   ]
  },
  {
   "cell_type": "code",
   "execution_count": 12,
   "metadata": {
    "slideshow": {
     "slide_type": "subslide"
    }
   },
   "outputs": [
    {
     "data": {
      "text/html": [
       "<div>\n",
       "<style scoped>\n",
       "    .dataframe tbody tr th:only-of-type {\n",
       "        vertical-align: middle;\n",
       "    }\n",
       "\n",
       "    .dataframe tbody tr th {\n",
       "        vertical-align: top;\n",
       "    }\n",
       "\n",
       "    .dataframe thead th {\n",
       "        text-align: right;\n",
       "    }\n",
       "</style>\n",
       "<table border=\"1\" class=\"dataframe\">\n",
       "  <thead>\n",
       "    <tr style=\"text-align: right;\">\n",
       "      <th></th>\n",
       "      <th>rsquared</th>\n",
       "      <th>partial.rsquared</th>\n",
       "      <th>shea.rsquared</th>\n",
       "      <th>f.stat</th>\n",
       "      <th>f.pval</th>\n",
       "      <th>f.dist</th>\n",
       "    </tr>\n",
       "  </thead>\n",
       "  <tbody>\n",
       "    <tr>\n",
       "      <th>hi_empunion</th>\n",
       "      <td>0.082054</td>\n",
       "      <td>0.024298</td>\n",
       "      <td>0.024298</td>\n",
       "      <td>179.469746</td>\n",
       "      <td>0.0</td>\n",
       "      <td>chi2(4)</td>\n",
       "    </tr>\n",
       "  </tbody>\n",
       "</table>\n",
       "</div>"
      ],
      "text/plain": [
       "             rsquared  partial.rsquared  shea.rsquared      f.stat  f.pval  \\\n",
       "hi_empunion  0.082054          0.024298       0.024298  179.469746     0.0   \n",
       "\n",
       "              f.dist  \n",
       "hi_empunion  chi2(4)  "
      ]
     },
     "execution_count": 12,
     "metadata": {},
     "output_type": "execute_result"
    }
   ],
   "source": [
    "res_gmm_all.first_stage.diagnostics"
   ]
  },
  {
   "cell_type": "markdown",
   "metadata": {
    "slideshow": {
     "slide_type": "subslide"
    }
   },
   "source": [
    "### Sensitivity to choice of instruments\n",
    "\n",
    "- Is this result sensitive to the choice of the instrument?\n",
    "- To address this question, we compare results for four just-identified specifications, each estimated using just one of the four available instruments. \n",
    "- We present a table with the structural-equation estimates for OLS and for the four IV estimations, followed by the F statistic for each of the four IV estimations."
   ]
  },
  {
   "cell_type": "code",
   "execution_count": 13,
   "metadata": {
    "scrolled": false,
    "slideshow": {
     "slide_type": "subslide"
    }
   },
   "outputs": [
    {
     "data": {
      "text/html": [
       "<table class=\"simpletable\">\n",
       "<caption>Model Comparison</caption>\n",
       "<tr>\n",
       "            <td></td>              <th>Model 0</th>       <th>Model 1</th>       <th>Model 2</th>       <th>Model 3</th>       <th>Model 4</th>   \n",
       "</tr>\n",
       "<tr>\n",
       "  <th>Dep. Variable</th>          <td>ldrugexp</td>      <td>ldrugexp</td>      <td>ldrugexp</td>      <td>ldrugexp</td>      <td>ldrugexp</td>   \n",
       "</tr>\n",
       "<tr>\n",
       "  <th>Estimator</th>                 <td>OLS</td>         <td>IV-2SLS</td>       <td>IV-2SLS</td>       <td>IV-2SLS</td>       <td>IV-2SLS</td>   \n",
       "</tr>\n",
       "<tr>\n",
       "  <th>No. Observations</th>         <td>10089</td>         <td>10089</td>         <td>10089</td>         <td>10089</td>         <td>10089</td>    \n",
       "</tr>\n",
       "<tr>\n",
       "  <th>Cov. Est.</th>               <td>robust</td>        <td>robust</td>        <td>robust</td>        <td>robust</td>        <td>robust</td>    \n",
       "</tr>\n",
       "<tr>\n",
       "  <th>R-squared</th>               <td>0.1770</td>        <td>0.0640</td>        <td>0.1768</td>        <td>-0.0644</td>       <td>-0.9053</td>   \n",
       "</tr>\n",
       "<tr>\n",
       "  <th>Adj. R-squared</th>          <td>0.1765</td>        <td>0.0634</td>        <td>0.1763</td>        <td>-0.0651</td>       <td>-0.9064</td>   \n",
       "</tr>\n",
       "<tr>\n",
       "  <th>F-statistic</th>             <td>2262.6</td>        <td>2000.9</td>        <td>2250.6</td>        <td>1734.1</td>        <td>950.64</td>    \n",
       "</tr>\n",
       "<tr>\n",
       "  <th>P-value (F-stat)</th>        <td>0.0000</td>        <td>0.0000</td>        <td>0.0000</td>        <td>0.0000</td>        <td>0.0000</td>    \n",
       "</tr>\n",
       "<tr>\n",
       "  <th>==================</th>    <td>===========</td>   <td>===========</td>   <td>===========</td>   <td>===========</td>   <td>===========</td> \n",
       "</tr>\n",
       "<tr>\n",
       "  <th>Intercept</th>               <td>5.8611</td>        <td>6.7872</td>        <td>5.8201</td>        <td>7.2145</td>        <td>8.7267</td>    \n",
       "</tr>\n",
       "<tr>\n",
       "  <th> </th>                      <td>(37.320)</td>      <td>(25.246)</td>      <td>(15.267)</td>      <td>(16.326)</td>      <td>(6.4196)</td>   \n",
       "</tr>\n",
       "<tr>\n",
       "  <th>hi_empunion</th>             <td>0.0739</td>        <td>-0.8976</td>       <td>0.1170</td>        <td>-1.3459</td>       <td>-2.9323</td>   \n",
       "</tr>\n",
       "<tr>\n",
       "  <th> </th>                      <td>(2.8441)</td>      <td>(-4.0592)</td>     <td>(0.3254)</td>      <td>(-3.1760)</td>     <td>(-2.0908)</td>  \n",
       "</tr>\n",
       "<tr>\n",
       "  <th>totchr</th>                  <td>0.4404</td>        <td>0.4503</td>        <td>0.4399</td>        <td>0.4548</td>        <td>0.4710</td>    \n",
       "</tr>\n",
       "<tr>\n",
       "  <th> </th>                      <td>(47.049)</td>      <td>(44.157)</td>      <td>(43.834)</td>      <td>(39.193)</td>      <td>(23.163)</td>   \n",
       "</tr>\n",
       "<tr>\n",
       "  <th>female</th>                  <td>0.0578</td>        <td>-0.0204</td>       <td>0.0613</td>        <td>-0.0565</td>       <td>-0.1842</td>   \n",
       "</tr>\n",
       "<tr>\n",
       "  <th> </th>                      <td>(2.2797)</td>      <td>(-0.6257)</td>     <td>(1.6066)</td>      <td>(-1.2596)</td>     <td>(-1.5312)</td>  \n",
       "</tr>\n",
       "<tr>\n",
       "  <th>age</th>                     <td>-0.0035</td>       <td>-0.0132</td>       <td>-0.0031</td>       <td>-0.0177</td>       <td>-0.0335</td>   \n",
       "</tr>\n",
       "<tr>\n",
       "  <th> </th>                      <td>(-1.8228)</td>     <td>(-4.4092)</td>     <td>(-0.7521)</td>     <td>(-3.7086)</td>     <td>(-2.3433)</td>  \n",
       "</tr>\n",
       "<tr>\n",
       "  <th>linc</th>                    <td>0.0105</td>        <td>0.0870</td>        <td>0.0071</td>        <td>0.1223</td>        <td>0.2473</td>    \n",
       "</tr>\n",
       "<tr>\n",
       "  <th> </th>                      <td>(0.7646)</td>      <td>(3.8436)</td>      <td>(0.2280)</td>      <td>(3.2965)</td>      <td>(2.1876)</td>   \n",
       "</tr>\n",
       "<tr>\n",
       "  <th>blhisp</th>                  <td>-0.1513</td>       <td>-0.2174</td>       <td>-0.1484</td>       <td>-0.2479</td>       <td>-0.3559</td>   \n",
       "</tr>\n",
       "<tr>\n",
       "  <th> </th>                      <td>(-4.4353)</td>     <td>(-5.5052)</td>     <td>(-3.5639)</td>     <td>(-5.0727)</td>     <td>(-3.2425)</td>  \n",
       "</tr>\n",
       "<tr>\n",
       "  <th>====================</th> <td>=============</td> <td>=============</td> <td>=============</td> <td>=============</td> <td>=============</td>\n",
       "</tr>\n",
       "<tr>\n",
       "  <th>Instruments</th>                <td></td>          <td>ssiratio</td>      <td>lowincome</td>      <td>multlc</td>        <td>firmsz</td>    \n",
       "</tr>\n",
       "</table><br/><br/>T-stats reported in parentheses<br/>id: 0x26578ca2588"
      ],
      "text/plain": [
       "                                     Model Comparison                                     \n",
       "==========================================================================================\n",
       "                           Model 0       Model 1       Model 2       Model 3       Model 4\n",
       "------------------------------------------------------------------------------------------\n",
       "Dep. Variable             ldrugexp      ldrugexp      ldrugexp      ldrugexp      ldrugexp\n",
       "Estimator                      OLS       IV-2SLS       IV-2SLS       IV-2SLS       IV-2SLS\n",
       "No. Observations             10089         10089         10089         10089         10089\n",
       "Cov. Est.                   robust        robust        robust        robust        robust\n",
       "R-squared                   0.1770        0.0640        0.1768       -0.0644       -0.9053\n",
       "Adj. R-squared              0.1765        0.0634        0.1763       -0.0651       -0.9064\n",
       "F-statistic                 2262.6        2000.9        2250.6        1734.1        950.64\n",
       "P-value (F-stat)            0.0000        0.0000        0.0000        0.0000        0.0000\n",
       "==================     ===========   ===========   ===========   ===========   ===========\n",
       "Intercept                   5.8611        6.7872        5.8201        7.2145        8.7267\n",
       "                          (37.320)      (25.246)      (15.267)      (16.326)      (6.4196)\n",
       "hi_empunion                 0.0739       -0.8976        0.1170       -1.3459       -2.9323\n",
       "                          (2.8441)     (-4.0592)      (0.3254)     (-3.1760)     (-2.0908)\n",
       "totchr                      0.4404        0.4503        0.4399        0.4548        0.4710\n",
       "                          (47.049)      (44.157)      (43.834)      (39.193)      (23.163)\n",
       "female                      0.0578       -0.0204        0.0613       -0.0565       -0.1842\n",
       "                          (2.2797)     (-0.6257)      (1.6066)     (-1.2596)     (-1.5312)\n",
       "age                        -0.0035       -0.0132       -0.0031       -0.0177       -0.0335\n",
       "                         (-1.8228)     (-4.4092)     (-0.7521)     (-3.7086)     (-2.3433)\n",
       "linc                        0.0105        0.0870        0.0071        0.1223        0.2473\n",
       "                          (0.7646)      (3.8436)      (0.2280)      (3.2965)      (2.1876)\n",
       "blhisp                     -0.1513       -0.2174       -0.1484       -0.2479       -0.3559\n",
       "                         (-4.4353)     (-5.5052)     (-3.5639)     (-5.0727)     (-3.2425)\n",
       "==================== ============= ============= ============= ============= =============\n",
       "Instruments                             ssiratio     lowincome        multlc        firmsz\n",
       "------------------------------------------------------------------------------------------\n",
       "\n",
       "T-stats reported in parentheses\n",
       "IVModelComparison, id: 0x26578ca2588"
      ]
     },
     "execution_count": 13,
     "metadata": {},
     "output_type": "execute_result"
    }
   ],
   "source": [
    "res_ols = IV2SLS.from_formula('ldrugexp ~ 1 + hi_empunion + totchr + female + age + linc + blhisp', data).fit(cov_type='robust')\n",
    "res_2sls1 = IV2SLS.from_formula('ldrugexp ~ 1 + totchr + female + age + linc + blhisp + [hi_empunion ~ ssiratio]', data).fit(cov_type='robust')\n",
    "res_2sls2 = IV2SLS.from_formula('ldrugexp ~ 1 + totchr + female + age + linc + blhisp + [hi_empunion ~ lowincome]', data).fit(cov_type='robust')\n",
    "res_2sls3 = IV2SLS.from_formula('ldrugexp ~ 1 + totchr + female + age + linc + blhisp + [hi_empunion ~ multlc]', data).fit(cov_type='robust')\n",
    "res_2sls4 = IV2SLS.from_formula('ldrugexp ~ 1 + totchr + female + age + linc + blhisp + [hi_empunion ~ firmsz]', data).fit(cov_type='robust')\n",
    "compare([res_ols,res_2sls1,res_2sls2,res_2sls3,res_2sls4])"
   ]
  },
  {
   "cell_type": "code",
   "execution_count": 14,
   "metadata": {
    "scrolled": false,
    "slideshow": {
     "slide_type": "subslide"
    }
   },
   "outputs": [
    {
     "data": {
      "text/html": [
       "<div>\n",
       "<style scoped>\n",
       "    .dataframe tbody tr th:only-of-type {\n",
       "        vertical-align: middle;\n",
       "    }\n",
       "\n",
       "    .dataframe tbody tr th {\n",
       "        vertical-align: top;\n",
       "    }\n",
       "\n",
       "    .dataframe thead th {\n",
       "        text-align: right;\n",
       "    }\n",
       "</style>\n",
       "<table border=\"1\" class=\"dataframe\">\n",
       "  <thead>\n",
       "    <tr style=\"text-align: right;\">\n",
       "      <th></th>\n",
       "      <th>rsquared</th>\n",
       "      <th>partial.rsquared</th>\n",
       "      <th>shea.rsquared</th>\n",
       "      <th>f.stat</th>\n",
       "      <th>f.pval</th>\n",
       "      <th>f.dist</th>\n",
       "    </tr>\n",
       "  </thead>\n",
       "  <tbody>\n",
       "    <tr>\n",
       "      <th>ssiratio</th>\n",
       "      <td>0.076055</td>\n",
       "      <td>0.017921</td>\n",
       "      <td>0.017921</td>\n",
       "      <td>65.805858</td>\n",
       "      <td>4.440892e-16</td>\n",
       "      <td>chi2(1)</td>\n",
       "    </tr>\n",
       "    <tr>\n",
       "      <th>lowincome</th>\n",
       "      <td>0.064237</td>\n",
       "      <td>0.005360</td>\n",
       "      <td>0.005360</td>\n",
       "      <td>59.265091</td>\n",
       "      <td>1.376677e-14</td>\n",
       "      <td>chi2(1)</td>\n",
       "    </tr>\n",
       "    <tr>\n",
       "      <th>multlc</th>\n",
       "      <td>0.064313</td>\n",
       "      <td>0.005441</td>\n",
       "      <td>0.005441</td>\n",
       "      <td>52.673484</td>\n",
       "      <td>3.939071e-13</td>\n",
       "      <td>chi2(1)</td>\n",
       "    </tr>\n",
       "    <tr>\n",
       "      <th>firmsz</th>\n",
       "      <td>0.060123</td>\n",
       "      <td>0.000987</td>\n",
       "      <td>0.000987</td>\n",
       "      <td>14.390114</td>\n",
       "      <td>1.485803e-04</td>\n",
       "      <td>chi2(1)</td>\n",
       "    </tr>\n",
       "  </tbody>\n",
       "</table>\n",
       "</div>"
      ],
      "text/plain": [
       "           rsquared  partial.rsquared  shea.rsquared     f.stat        f.pval  \\\n",
       "ssiratio   0.076055          0.017921       0.017921  65.805858  4.440892e-16   \n",
       "lowincome  0.064237          0.005360       0.005360  59.265091  1.376677e-14   \n",
       "multlc     0.064313          0.005441       0.005441  52.673484  3.939071e-13   \n",
       "firmsz     0.060123          0.000987       0.000987  14.390114  1.485803e-04   \n",
       "\n",
       "            f.dist  \n",
       "ssiratio   chi2(1)  \n",
       "lowincome  chi2(1)  \n",
       "multlc     chi2(1)  \n",
       "firmsz     chi2(1)  "
      ]
     },
     "execution_count": 14,
     "metadata": {},
     "output_type": "execute_result"
    }
   ],
   "source": [
    "df=pd.concat([res_2sls1.first_stage.diagnostics,res_2sls2.first_stage.diagnostics,res_2sls3.first_stage.diagnostics,res_2sls4.first_stage.diagnostics])\n",
    "df.index=instruments\n",
    "df"
   ]
  },
  {
   "cell_type": "markdown",
   "metadata": {
    "slideshow": {
     "slide_type": "slide"
    }
   },
   "source": [
    "## Better inference with weak instruments\n",
    "\n",
    "- A different approach when weak instruments are present is to apply an alternative asymptotic theory that may be more appropriate when instruments are weak or to use estimators other than 2SLS, for which the usual asympotic theory may provide a more reasonable approximation when instruments are weak."
   ]
  },
  {
   "cell_type": "markdown",
   "metadata": {
    "slideshow": {
     "slide_type": "subslide"
    }
   },
   "source": [
    "### LIML estimator\n",
    "\n",
    "- The literature suggests several alternative estimators that are asymptotically equivalent to 2SLS but may have better finite sample properties than 2SLS.\n",
    "- The leading example is the LIML estimator.\n",
    "- It is an ML estimator for obvious reasons and is a limited-information estimator when compared with a full-information approach that specifies structural equations (rather than first-stage equations) for all endogenous variables in the model."
   ]
  },
  {
   "cell_type": "code",
   "execution_count": 15,
   "metadata": {
    "scrolled": false,
    "slideshow": {
     "slide_type": "subslide"
    }
   },
   "outputs": [
    {
     "name": "stdout",
     "output_type": "stream",
     "text": [
      "                                                                              \n",
      "                              Parameter Estimates                              \n",
      "===============================================================================\n",
      "             Parameter  Std. Err.     T-stat    P-value    Lower CI    Upper CI\n",
      "-------------------------------------------------------------------------------\n",
      "Intercept       6.8043     0.2538     26.811     0.0000      6.3069      7.3017\n",
      "totchr          0.4504     0.0102     44.139     0.0000      0.4304      0.4705\n",
      "female         -0.0219     0.0316    -0.6912     0.4895     -0.0838      0.0401\n",
      "age            -0.0134     0.0029    -4.6842     0.0000     -0.0190     -0.0078\n",
      "linc            0.0884     0.0214     4.1347     0.0000      0.0465      0.1303\n",
      "blhisp         -0.2186     0.0391    -5.5888     0.0000     -0.2953     -0.1420\n",
      "hi_empunion    -0.9156     0.1989    -4.6037     0.0000     -1.3054     -0.5258\n",
      "===============================================================================\n",
      "\n",
      "Endogenous: hi_empunion\n",
      "Instruments: ssiratio, multlc, lowincome, firmsz\n",
      "Robust Covariance (Heteroskedastic)\n",
      "Debiased: False\n",
      "Kappa: 1.001\n"
     ]
    }
   ],
   "source": [
    "from linearmodels.iv import IVLIML\n",
    "\n",
    "res_liml = IVLIML.from_formula(formula, data).fit(cov_type='robust')\n",
    "print('\\n'.join(res_liml.summary.as_text().split('\\n')[8:]))"
   ]
  },
  {
   "cell_type": "markdown",
   "metadata": {
    "slideshow": {
     "slide_type": "subslide"
    }
   },
   "source": [
    "- We compare estimators for an overidentified model with three instruments for `hi_empunion`."
   ]
  },
  {
   "cell_type": "code",
   "execution_count": 16,
   "metadata": {
    "slideshow": {
     "slide_type": "fragment"
    }
   },
   "outputs": [
    {
     "data": {
      "text/html": [
       "<table class=\"simpletable\">\n",
       "<caption>Model Comparison</caption>\n",
       "<tr>\n",
       "            <td></td>              <th>Model 0</th>       <th>Model 1</th>       <th>Model 2</th>   \n",
       "</tr>\n",
       "<tr>\n",
       "  <th>Dep. Variable</th>          <td>ldrugexp</td>      <td>ldrugexp</td>      <td>ldrugexp</td>   \n",
       "</tr>\n",
       "<tr>\n",
       "  <th>Estimator</th>               <td>IV-2SLS</td>       <td>IV-LIML</td>       <td>IV-GMM</td>    \n",
       "</tr>\n",
       "<tr>\n",
       "  <th>No. Observations</th>         <td>10089</td>         <td>10089</td>         <td>10089</td>    \n",
       "</tr>\n",
       "<tr>\n",
       "  <th>Cov. Est.</th>               <td>robust</td>        <td>robust</td>        <td>robust</td>    \n",
       "</tr>\n",
       "<tr>\n",
       "  <th>R-squared</th>               <td>0.0720</td>        <td>0.0597</td>        <td>0.0829</td>    \n",
       "</tr>\n",
       "<tr>\n",
       "  <th>Adj. R-squared</th>          <td>0.0715</td>        <td>0.0592</td>        <td>0.0824</td>    \n",
       "</tr>\n",
       "<tr>\n",
       "  <th>F-statistic</th>             <td>2017.7</td>        <td>1990.4</td>        <td>2042.1</td>    \n",
       "</tr>\n",
       "<tr>\n",
       "  <th>P-value (F-stat)</th>        <td>0.0000</td>        <td>0.0000</td>        <td>0.0000</td>    \n",
       "</tr>\n",
       "<tr>\n",
       "  <th>==================</th>    <td>===========</td>   <td>===========</td>   <td>===========</td> \n",
       "</tr>\n",
       "<tr>\n",
       "  <th>Intercept</th>               <td>6.7536</td>        <td>6.8043</td>        <td>6.7126</td>    \n",
       "</tr>\n",
       "<tr>\n",
       "  <th> </th>                      <td>(27.611)</td>      <td>(26.811)</td>      <td>(27.670)</td>   \n",
       "</tr>\n",
       "<tr>\n",
       "  <th>totchr</th>                  <td>0.4499</td>        <td>0.4504</td>        <td>0.4495</td>    \n",
       "</tr>\n",
       "<tr>\n",
       "  <th> </th>                      <td>(44.482)</td>      <td>(44.139)</td>      <td>(44.738)</td>   \n",
       "</tr>\n",
       "<tr>\n",
       "  <th>female</th>                  <td>-0.0176</td>       <td>-0.0219</td>       <td>-0.0105</td>   \n",
       "</tr>\n",
       "<tr>\n",
       "  <th> </th>                      <td>(-0.5672)</td>     <td>(-0.6912)</td>     <td>(-0.3406)</td>  \n",
       "</tr>\n",
       "<tr>\n",
       "  <th>age</th>                     <td>-0.0129</td>       <td>-0.0134</td>       <td>-0.0125</td>   \n",
       "</tr>\n",
       "<tr>\n",
       "  <th> </th>                      <td>(-4.6471)</td>     <td>(-4.6842)</td>     <td>(-4.5364)</td>  \n",
       "</tr>\n",
       "<tr>\n",
       "  <th>linc</th>                    <td>0.0842</td>        <td>0.0884</td>        <td>0.0797</td>    \n",
       "</tr>\n",
       "<tr>\n",
       "  <th> </th>                      <td>(4.0895)</td>      <td>(4.1347)</td>      <td>(3.9162)</td>   \n",
       "</tr>\n",
       "<tr>\n",
       "  <th>blhisp</th>                  <td>-0.2150</td>       <td>-0.2186</td>       <td>-0.2061</td>   \n",
       "</tr>\n",
       "<tr>\n",
       "  <th> </th>                      <td>(-5.5679)</td>     <td>(-5.5888)</td>     <td>(-5.3828)</td>  \n",
       "</tr>\n",
       "<tr>\n",
       "  <th>hi_empunion</th>             <td>-0.8623</td>       <td>-0.9156</td>       <td>-0.8124</td>   \n",
       "</tr>\n",
       "<tr>\n",
       "  <th> </th>                      <td>(-4.6153)</td>     <td>(-4.6037)</td>     <td>(-4.3999)</td>  \n",
       "</tr>\n",
       "<tr>\n",
       "  <th>====================</th> <td>=============</td> <td>=============</td> <td>=============</td>\n",
       "</tr>\n",
       "<tr>\n",
       "  <th>Instruments</th>            <td>ssiratio</td>      <td>ssiratio</td>      <td>ssiratio</td>   \n",
       "</tr>\n",
       "<tr>\n",
       "  <th></th>                        <td>multlc</td>        <td>multlc</td>        <td>multlc</td>    \n",
       "</tr>\n",
       "<tr>\n",
       "  <th></th>                       <td>lowincome</td>     <td>lowincome</td>     <td>lowincome</td>  \n",
       "</tr>\n",
       "<tr>\n",
       "  <th></th>                        <td>firmsz</td>        <td>firmsz</td>        <td>firmsz</td>    \n",
       "</tr>\n",
       "</table><br/><br/>T-stats reported in parentheses<br/>id: 0x26579060c48"
      ],
      "text/plain": [
       "                       Model Comparison                       \n",
       "==============================================================\n",
       "                           Model 0       Model 1       Model 2\n",
       "--------------------------------------------------------------\n",
       "Dep. Variable             ldrugexp      ldrugexp      ldrugexp\n",
       "Estimator                  IV-2SLS       IV-LIML        IV-GMM\n",
       "No. Observations             10089         10089         10089\n",
       "Cov. Est.                   robust        robust        robust\n",
       "R-squared                   0.0720        0.0597        0.0829\n",
       "Adj. R-squared              0.0715        0.0592        0.0824\n",
       "F-statistic                 2017.7        1990.4        2042.1\n",
       "P-value (F-stat)            0.0000        0.0000        0.0000\n",
       "==================     ===========   ===========   ===========\n",
       "Intercept                   6.7536        6.8043        6.7126\n",
       "                          (27.611)      (26.811)      (27.670)\n",
       "totchr                      0.4499        0.4504        0.4495\n",
       "                          (44.482)      (44.139)      (44.738)\n",
       "female                     -0.0176       -0.0219       -0.0105\n",
       "                         (-0.5672)     (-0.6912)     (-0.3406)\n",
       "age                        -0.0129       -0.0134       -0.0125\n",
       "                         (-4.6471)     (-4.6842)     (-4.5364)\n",
       "linc                        0.0842        0.0884        0.0797\n",
       "                          (4.0895)      (4.1347)      (3.9162)\n",
       "blhisp                     -0.2150       -0.2186       -0.2061\n",
       "                         (-5.5679)     (-5.5888)     (-5.3828)\n",
       "hi_empunion                -0.8623       -0.9156       -0.8124\n",
       "                         (-4.6153)     (-4.6037)     (-4.3999)\n",
       "==================== ============= ============= =============\n",
       "Instruments               ssiratio      ssiratio      ssiratio\n",
       "                            multlc        multlc        multlc\n",
       "                         lowincome     lowincome     lowincome\n",
       "                            firmsz        firmsz        firmsz\n",
       "--------------------------------------------------------------\n",
       "\n",
       "T-stats reported in parentheses\n",
       "IVModelComparison, id: 0x26579060c48"
      ]
     },
     "execution_count": 16,
     "metadata": {},
     "output_type": "execute_result"
    }
   ],
   "source": [
    "res_2sls = IV2SLS.from_formula(formula, data).fit(cov_type='robust')\n",
    "res_gmm = IVGMM.from_formula(formula, data).fit(cov_type='robust')\n",
    "compare([res_2sls,res_liml,res_gmm])"
   ]
  },
  {
   "cell_type": "markdown",
   "metadata": {
    "slideshow": {
     "slide_type": "slide"
    }
   },
   "source": [
    "## 3SLS systems estimation\n",
    "\n",
    "- The preceding estimators are asymmetric in that they specify a structural equation for only one variable, rather than for all endogenous variables. \n",
    "- For example, we specified a structural model for `ldrugexp`, but not one for `hi_empunion`. \n",
    "- A more complete model specifies structural equations for all endogenous variables."
   ]
  },
  {
   "cell_type": "markdown",
   "metadata": {
    "slideshow": {
     "slide_type": "subslide"
    }
   },
   "source": [
    "- For the example below, we need to provide a structural model for `hi_empunion` in addition to the structural model already specified for `ldrugexp`. \n",
    "- We suppose that `hi_empunion` depends on the single instrument `ssiratio`, on `ldrugexp`, and on `totchr`, `female` and `blhisp`."
   ]
  },
  {
   "cell_type": "code",
   "execution_count": 17,
   "metadata": {
    "run_control": {
     "marked": false
    },
    "scrolled": false,
    "slideshow": {
     "slide_type": "subslide"
    }
   },
   "outputs": [
    {
     "name": "stdout",
     "output_type": "stream",
     "text": [
      "                                                                              \n",
      "                Equation: ldrugexp, Dependent Variable: ldrugexp               \n",
      "===============================================================================\n",
      "             Parameter  Std. Err.     T-stat    P-value    Lower CI    Upper CI\n",
      "-------------------------------------------------------------------------------\n",
      "Intercept       5.8251     0.1531     38.058     0.0000      5.5251      6.1251\n",
      "hi_empunion     0.1532     0.0261     5.8716     0.0000      0.1020      0.2043\n",
      "totchr          0.4399     0.0096     45.971     0.0000      0.4212      0.4587\n",
      "age            -0.0034     0.0019    -1.7983     0.0721     -0.0071      0.0003\n",
      "female          0.0652     0.0252     2.5909     0.0096      0.0159      0.1145\n",
      "linc            0.0071     0.0139     0.5128     0.6081     -0.0202      0.0345\n",
      "blhisp         -0.1457     0.0338    -4.3105     0.0000     -0.2119     -0.0794\n",
      "            Equation: hi_empunion, Dependent Variable: hi_empunion            \n",
      "==============================================================================\n",
      "            Parameter  Std. Err.     T-stat    P-value    Lower CI    Upper CI\n",
      "------------------------------------------------------------------------------\n",
      "Intercept      0.4123     0.0242     17.031     0.0000      0.3648      0.4597\n",
      "ldrugexp       0.0273     0.0038     7.1867     0.0000      0.0199      0.0348\n",
      "totchr        -0.0026     0.0040    -0.6425     0.5205     -0.0104      0.0053\n",
      "female        -0.0841     0.0096    -8.7883     0.0000     -0.1028     -0.0653\n",
      "blhisp        -0.0591     0.0128    -4.6304     0.0000     -0.0841     -0.0341\n",
      "ssiratio      -0.2686     0.0129    -20.797     0.0000     -0.2940     -0.2433\n",
      "==============================================================================\n",
      "\n",
      "Covariance Estimator:\n",
      "Homoskedastic (Unadjusted) Covariance (Debiased: False, GLS: True)\n"
     ]
    }
   ],
   "source": [
    "from linearmodels import IV3SLS\n",
    "\n",
    "ldrugexp='ldrugexp ~ 1 + hi_empunion + totchr + age + female + linc + blhisp'\n",
    "hi_empunion='hi_empunion ~ 1 + ldrugexp + totchr + female + blhisp + ssiratio'\n",
    "equations = dict(ldrugexp=ldrugexp, hi_empunion=hi_empunion)\n",
    "res_3sls = IV3SLS.from_formula(equations, data).fit(cov_type='unadjusted')\n",
    "print('\\n'.join(res_3sls.summary.as_text().split('\\n')[8:]))"
   ]
  }
 ],
 "metadata": {
  "celltoolbar": "幻灯片",
  "kernelspec": {
   "display_name": "Python 3",
   "language": "python",
   "name": "python3"
  },
  "language_info": {
   "codemirror_mode": {
    "name": "ipython",
    "version": 3
   },
   "file_extension": ".py",
   "mimetype": "text/x-python",
   "name": "python",
   "nbconvert_exporter": "python",
   "pygments_lexer": "ipython3",
   "version": "3.8.5"
  },
  "livereveal": {
   "scroll": true
  }
 },
 "nbformat": 4,
 "nbformat_minor": 1
}
