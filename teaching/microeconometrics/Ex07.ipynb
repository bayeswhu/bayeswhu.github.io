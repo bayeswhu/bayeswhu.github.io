{
 "cells": [
  {
   "cell_type": "markdown",
   "metadata": {
    "slideshow": {
     "slide_type": "slide"
    }
   },
   "source": [
    "## Exercises"
   ]
  },
  {
   "cell_type": "markdown",
   "metadata": {
    "slideshow": {
     "slide_type": "subslide"
    }
   },
   "source": [
    "### Exercise 1\n",
    "\n",
    "Generate data by using the same DGP as $$ \\begin{matrix}\n",
    "y & = & 1+x_2+x_3+u; \\; x_2,x_3\\sim N(0,25) \\\\\n",
    "u & = & \\sqrt{exp(-1+0.2x_2)}\\times\\varepsilon; \\; \\varepsilon\\sim N(0,25)\n",
    "\\end{matrix}, $$ and implement the first step of FGLS estimation to get the predicted variance `varu`. Now compare several different methods to implement the second step of weighted estimation. First, use weighted regression with the weight=1/varu, as in the lecture. Second, manually implement this regression by generating the transformed variable $tr\\_y=\\frac{y}{\\sqrt{varu}}$ and regressing `tr_y` on the similarly constructed variables `tr_x2`, `tr_x3`, and `tr_one`, using regression without constant."
   ]
  },
  {
   "cell_type": "markdown",
   "metadata": {},
   "source": [
    "### Exercise 2\n",
    "\n",
    "Consider the same DGP as that in Exercise 1. Given this specification of the model, the rescaled equation $y/w = \\beta_1(1/w) + \\beta_2(x_2/w) + \\beta_3(x_3/w) + e$, where $w = \\sqrt{\\exp(-1+0.2*x_2)}$, will have the error e, which is normally distributed and homoskedastic. Treat w as known and estimate this rescaled regression by using regression without constant term. Compare the results with those given in Exercise 1, where the weight w was estimated. Is there a big difference here between the GLS and FGLS estimators?"
   ]
  },
  {
   "cell_type": "markdown",
   "metadata": {},
   "source": [
    "### Exercise 3\n",
    "\n",
    "Consider the same DGP as that in Exercise 1. Suppose that we incorrectly assume that $u\\sim N(0, \\sigma^2 x_2^2)$. Then FGLS estimates can be obtained by using regression with weight=1/x2sq, where $x2sq=x2^2$ and computer robust standard error. How different are the estimates of $(\\beta_1, \\beta_2 , \\beta_3)$ from the OLS results? Do the standard errors change much if robust standard errors are computed? Use the Breusch–Pagan test to check whether the regression errors in the transformed model are homoskedastic."
   ]
  },
  {
   "cell_type": "markdown",
   "metadata": {},
   "source": [
    "### Exercise 4\n",
    "\n",
    "Consider the dataset mus05surdata.dta. Repeat the analysis in lecture using the dependent variables `drugexp` and `totothr`, which are in levels rather than logs (so heteroskedasticity is more likely to be a problem). First, estimate the\n",
    "two equations using OLS with default standard errors and robust standard errors, and compare the standard errors. Second, estimate the two equations jointly, and compare the estimates with those from OLS. Third, obtain robust standard errors and compare the efficiency of joint estimation with that of OLS."
   ]
  },
  {
   "cell_type": "markdown",
   "metadata": {},
   "source": [
    "### Exercise 5\n",
    "\n",
    "Consider the dataset mus05nhanes2.dta. Repeat the analysis in lecture using all observations rather than restricting the sample to ages between 21 and 65 years. First, compare the unweighted mean of hgb  with the weighted mean. Second, do a similar comparison for least-squares regression of `hgb` on `age` and `female`."
   ]
  },
  {
   "cell_type": "markdown",
   "metadata": {},
   "source": [
    "### Exercise 6\n",
    "\n",
    "Reconsider the dataset from mus05surdata.dta. Estimate the parameters of each equation by OLS. Compare these OLS results with SUR results."
   ]
  }
 ],
 "metadata": {
  "kernelspec": {
   "display_name": "Python 3",
   "language": "python",
   "name": "python3"
  },
  "language_info": {
   "codemirror_mode": {
    "name": "ipython",
    "version": 3
   },
   "file_extension": ".py",
   "mimetype": "text/x-python",
   "name": "python",
   "nbconvert_exporter": "python",
   "pygments_lexer": "ipython3",
   "version": "3.7.3"
  },
  "livereveal": {
   "scroll": true
  }
 },
 "nbformat": 4,
 "nbformat_minor": 2
}
