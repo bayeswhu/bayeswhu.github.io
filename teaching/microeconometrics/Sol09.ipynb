{
 "cells": [
  {
   "cell_type": "markdown",
   "metadata": {},
   "source": [
    "## Solutions"
   ]
  },
  {
   "cell_type": "code",
   "execution_count": 2,
   "metadata": {
    "hide-output": false
   },
   "outputs": [],
   "source": [
    "import numpy as np\n",
    "import pandas as pd\n",
    "import statsmodels.api as sm\n",
    "import statsmodels.formula.api as smf "
   ]
  },
  {
   "cell_type": "markdown",
   "metadata": {},
   "source": [
    "### Exercise 1"
   ]
  },
  {
   "cell_type": "code",
   "execution_count": 6,
   "metadata": {},
   "outputs": [
    {
     "data": {
      "text/html": [
       "<table class=\"simpletable\">\n",
       "<tr>\n",
       "      <td></td>         <th>coef</th>     <th>std err</th>      <th>t</th>      <th>P>|t|</th>  <th>[0.025</th>    <th>0.975]</th>  \n",
       "</tr>\n",
       "<tr>\n",
       "  <th>Intercept</th> <td>-2169.4503</td> <td>  941.838</td> <td>   -2.303</td> <td> 0.021</td> <td>-4016.177</td> <td> -322.724</td>\n",
       "</tr>\n",
       "<tr>\n",
       "  <th>suppins</th>   <td>  687.2222</td> <td>  147.953</td> <td>    4.645</td> <td> 0.000</td> <td>  397.121</td> <td>  977.324</td>\n",
       "</tr>\n",
       "<tr>\n",
       "  <th>totchr</th>    <td> 1332.8333</td> <td>   55.895</td> <td>   23.845</td> <td> 0.000</td> <td> 1223.236</td> <td> 1442.431</td>\n",
       "</tr>\n",
       "<tr>\n",
       "  <th>age</th>       <td>   35.1111</td> <td>   11.451</td> <td>    3.066</td> <td> 0.002</td> <td>   12.659</td> <td>   57.564</td>\n",
       "</tr>\n",
       "<tr>\n",
       "  <th>female</th>    <td> -260.5556</td> <td>  146.868</td> <td>   -1.774</td> <td> 0.076</td> <td> -548.530</td> <td>   27.419</td>\n",
       "</tr>\n",
       "<tr>\n",
       "  <th>white</th>     <td>  549.7836</td> <td>  450.257</td> <td>    1.221</td> <td> 0.222</td> <td> -333.066</td> <td> 1432.633</td>\n",
       "</tr>\n",
       "</table>"
      ],
      "text/plain": [
       "<class 'statsmodels.iolib.table.SimpleTable'>"
      ]
     },
     "execution_count": 6,
     "metadata": {},
     "output_type": "execute_result"
    }
   ],
   "source": [
    "data=pd.read_stata('data/mus03data.dta')\n",
    "data=data.dropna(subset=['ltotexp'])\n",
    "res = smf.quantreg('totexp ~ suppins+totchr+age+female+white', data).fit(q=.5, max_iter=1e4)\n",
    "res.summary().tables[1]"
   ]
  },
  {
   "cell_type": "code",
   "execution_count": 9,
   "metadata": {},
   "outputs": [
    {
     "data": {
      "text/html": [
       "<table class=\"simpletable\">\n",
       "<tr>\n",
       "      <td></td>           <th>OLS</th>          <th>QR25</th>         <th>QR50</th>         <th>QR75</th>    \n",
       "</tr>\n",
       "<tr>\n",
       "  <th>suppins</th>     <td>585.9839</td>     <td>453.4444***</td>  <td>687.2222***</td>  <td>708.4091**</td> \n",
       "</tr>\n",
       "<tr>\n",
       "  <th></th>           <td>(428.8510)</td>     <td>(88.3278)</td>   <td>(147.9529)</td>   <td>(347.4935)</td> \n",
       "</tr>\n",
       "<tr>\n",
       "  <th>totchr</th>    <td>2528.0795***</td>   <td>782.4722***</td> <td>1332.8333***</td> <td>2855.3182***</td>\n",
       "</tr>\n",
       "<tr>\n",
       "  <th></th>           <td>(182.7452)</td>     <td>(31.3871)</td>    <td>(55.8953)</td>   <td>(137.3262)</td> \n",
       "</tr>\n",
       "<tr>\n",
       "  <th>age</th>          <td>6.7110</td>       <td>16.0833**</td>   <td>35.1111***</td>   <td>87.3636***</td> \n",
       "</tr>\n",
       "<tr>\n",
       "  <th></th>            <td>(34.6402)</td>     <td>(7.0061)</td>     <td>(11.4509)</td>    <td>(26.5836)</td> \n",
       "</tr>\n",
       "<tr>\n",
       "  <th>female</th>    <td>-1239.8657***</td>    <td>16.0556</td>    <td>-260.5556*</td>    <td>-554.5909</td> \n",
       "</tr>\n",
       "<tr>\n",
       "  <th></th>           <td>(441.6922)</td>     <td>(87.5926)</td>   <td>(146.8681)</td>   <td>(345.6118)</td> \n",
       "</tr>\n",
       "<tr>\n",
       "  <th>white</th>     <td>2193.1549***</td>    <td>338.0833</td>     <td>549.7836</td>     <td>801.6818</td>  \n",
       "</tr>\n",
       "<tr>\n",
       "  <th></th>           <td>(637.5618)</td>    <td>(271.4894)</td>   <td>(450.2567)</td>   <td>(1062.2746)</td>\n",
       "</tr>\n",
       "<tr>\n",
       "  <th>Intercept</th>   <td>461.4923</td>    <td>-1412.8889**</td> <td>-2169.4503**</td> <td>-4512.0455**</td>\n",
       "</tr>\n",
       "<tr>\n",
       "  <th></th>           <td>(2549.9239)</td>   <td>(573.5134)</td>   <td>(941.8380)</td>   <td>(2194.9754)</td>\n",
       "</tr>\n",
       "</table>"
      ],
      "text/plain": [
       "<class 'statsmodels.iolib.summary2.Summary'>\n",
       "\"\"\"\n",
       "\n",
       "==============================================================\n",
       "               OLS          QR25         QR50         QR75    \n",
       "--------------------------------------------------------------\n",
       "suppins   585.9839      453.4444***  687.2222***  708.4091**  \n",
       "          (428.8510)    (88.3278)    (147.9529)   (347.4935)  \n",
       "totchr    2528.0795***  782.4722***  1332.8333*** 2855.3182***\n",
       "          (182.7452)    (31.3871)    (55.8953)    (137.3262)  \n",
       "age       6.7110        16.0833**    35.1111***   87.3636***  \n",
       "          (34.6402)     (7.0061)     (11.4509)    (26.5836)   \n",
       "female    -1239.8657*** 16.0556      -260.5556*   -554.5909   \n",
       "          (441.6922)    (87.5926)    (146.8681)   (345.6118)  \n",
       "white     2193.1549***  338.0833     549.7836     801.6818    \n",
       "          (637.5618)    (271.4894)   (450.2567)   (1062.2746) \n",
       "Intercept 461.4923      -1412.8889** -2169.4503** -4512.0455**\n",
       "          (2549.9239)   (573.5134)   (941.8380)   (2194.9754) \n",
       "==============================================================\n",
       "Standard errors in parentheses.\n",
       "* p<.1, ** p<.05, ***p<.01\n",
       "\"\"\""
      ]
     },
     "execution_count": 9,
     "metadata": {},
     "output_type": "execute_result"
    }
   ],
   "source": [
    "ols = smf.ols('totexp ~ suppins+totchr+age+female+white', data).fit(cov_type='HC1')\n",
    "mod = smf.quantreg('totexp ~ suppins+totchr+age+female+white', data)\n",
    "qr = [mod.fit(q, max_iter=1e4) for q in [0.25,0.5,0.75]]\n",
    "\n",
    "from statsmodels.iolib.summary2 import summary_col\n",
    "summary_col(results=[ols,*qr], stars = True, model_names=['OLS', 'QR25', 'QR50', 'QR75'], regressor_order=['suppins','totchr','age','female','white','Intercept'], drop_omitted=True)"
   ]
  },
  {
   "cell_type": "markdown",
   "metadata": {},
   "source": [
    "### Exercise 2"
   ]
  },
  {
   "cell_type": "code",
   "execution_count": 23,
   "metadata": {},
   "outputs": [
    {
     "data": {
      "text/plain": [
       "True"
      ]
     },
     "execution_count": 23,
     "metadata": {},
     "output_type": "execute_result"
    }
   ],
   "source": [
    "data=pd.read_stata('data/mus03data.dta')\n",
    "data=data.dropna(subset=['ltotexp'])\n",
    "(np.exp(np.median(data.ltotexp))-np.median(data.totexp))/np.median(data.totexp)<1e-6"
   ]
  },
  {
   "cell_type": "code",
   "execution_count": 26,
   "metadata": {},
   "outputs": [
    {
     "data": {
      "text/plain": [
       "True"
      ]
     },
     "execution_count": 26,
     "metadata": {},
     "output_type": "execute_result"
    }
   ],
   "source": [
    "lmod = smf.quantreg('ltotexp ~ female', data).fit(q=0.5)\n",
    "mod = smf.quantreg('totexp ~ female', data).fit(q=0.5)\n",
    "all((np.exp(lmod.predict())-mod.predict())/mod.predict()<1e-6)"
   ]
  },
  {
   "cell_type": "code",
   "execution_count": 30,
   "metadata": {},
   "outputs": [
    {
     "data": {
      "text/plain": [
       "False"
      ]
     },
     "execution_count": 30,
     "metadata": {},
     "output_type": "execute_result"
    }
   ],
   "source": [
    "lmod = smf.quantreg('ltotexp ~ female+totchr', data).fit(q=0.5)\n",
    "mod = smf.quantreg('totexp ~ female+totchr', data).fit(q=0.5)\n",
    "all((np.exp(lmod.predict())-mod.predict())/mod.predict()<1e-6)"
   ]
  },
  {
   "cell_type": "markdown",
   "metadata": {},
   "source": [
    "### Exercise 3"
   ]
  },
  {
   "cell_type": "code",
   "execution_count": 43,
   "metadata": {},
   "outputs": [
    {
     "data": {
      "text/plain": [
       "[('Lagrange multiplier statistic', 346.481932179696), ('p-value', nan)]"
      ]
     },
     "execution_count": 43,
     "metadata": {},
     "output_type": "execute_result"
    }
   ],
   "source": [
    "from statsmodels.compat import lzip\n",
    "import statsmodels.stats.api as sms\n",
    "\n",
    "res = smf.quantreg('ltotexp ~ suppins+totchr+age+female+white', data).fit(q=.5)\n",
    "name = ['Lagrange multiplier statistic', 'p-value']\n",
    "test = sms.het_breuschpagan(res.resid, data.totchr.to_frame())\n",
    "lzip(name, test)"
   ]
  },
  {
   "cell_type": "markdown",
   "metadata": {},
   "source": [
    "### Exercise 4"
   ]
  },
  {
   "cell_type": "code",
   "execution_count": 4,
   "metadata": {},
   "outputs": [
    {
     "data": {
      "text/html": [
       "<table class=\"simpletable\">\n",
       "<tr>\n",
       "      <td></td>         <th>QR25</th>      <th>QR50</th>      <th>QR75</th>   \n",
       "</tr>\n",
       "<tr>\n",
       "  <th>Intercept</th> <td>-3.5332***</td> <td>1.0288***</td> <td>5.5690***</td>\n",
       "</tr>\n",
       "<tr>\n",
       "  <th></th>           <td>(0.1759)</td>  <td>(0.0673)</td>  <td>(0.1758)</td> \n",
       "</tr>\n",
       "<tr>\n",
       "  <th>x2</th>         <td>0.9218***</td> <td>0.9657***</td> <td>0.9749***</td>\n",
       "</tr>\n",
       "<tr>\n",
       "  <th></th>           <td>(0.1033)</td>  <td>(0.0389)</td>  <td>(0.1026)</td> \n",
       "</tr>\n",
       "<tr>\n",
       "  <th>x3</th>         <td>0.9677***</td> <td>1.0802***</td> <td>1.1634***</td>\n",
       "</tr>\n",
       "<tr>\n",
       "  <th></th>           <td>(0.0333)</td>  <td>(0.0110)</td>  <td>(0.0333)</td> \n",
       "</tr>\n",
       "</table>"
      ],
      "text/plain": [
       "<class 'statsmodels.iolib.summary2.Summary'>\n",
       "\"\"\"\n",
       "\n",
       "========================================\n",
       "             QR25       QR50      QR75  \n",
       "----------------------------------------\n",
       "Intercept -3.5332*** 1.0288*** 5.5690***\n",
       "          (0.1759)   (0.0673)  (0.1758) \n",
       "x2        0.9218***  0.9657*** 0.9749***\n",
       "          (0.1033)   (0.0389)  (0.1026) \n",
       "x3        0.9677***  1.0802*** 1.1634***\n",
       "          (0.0333)   (0.0110)  (0.0333) \n",
       "========================================\n",
       "Standard errors in parentheses.\n",
       "* p<.1, ** p<.05, ***p<.01\n",
       "\"\"\""
      ]
     },
     "execution_count": 4,
     "metadata": {},
     "output_type": "execute_result"
    }
   ],
   "source": [
    "from scipy import stats\n",
    "\n",
    "np.random.seed(10101)\n",
    "n=10000\n",
    "x2=stats.chi2(1).rvs(n)\n",
    "x3=stats.norm(0,5).rvs(n)\n",
    "e=stats.norm(0,5).rvs(n)\n",
    "u=(0.1+0.5*x3)*e\n",
    "y=1+x2+x3+u\n",
    "data=pd.DataFrame({'e':e,'x2':x2,'x3':x3,'u':u,'y':y})\n",
    "\n",
    "mod = smf.quantreg('y ~ x2+x3', data)\n",
    "qr = [mod.fit(q) for q in [0.25,0.5,0.75]]\n",
    "\n",
    "from statsmodels.iolib.summary2 import summary_col\n",
    "summary_col(results=qr, stars = True, model_names=['QR25', 'QR50', 'QR75'])"
   ]
  },
  {
   "cell_type": "code",
   "execution_count": 5,
   "metadata": {},
   "outputs": [
    {
     "data": {
      "text/html": [
       "<table class=\"simpletable\">\n",
       "<tr>\n",
       "      <td></td>         <th>QR25</th>      <th>QR50</th>       <th>QR75</th>   \n",
       "</tr>\n",
       "<tr>\n",
       "  <th>Intercept</th> <td>-8.0932***</td> <td>1.0311***</td> <td>10.1795***</td>\n",
       "</tr>\n",
       "<tr>\n",
       "  <th></th>           <td>(0.3535)</td>  <td>(0.1349)</td>   <td>(0.3537)</td> \n",
       "</tr>\n",
       "<tr>\n",
       "  <th>x2</th>         <td>0.8750***</td> <td>0.9359***</td>  <td>0.9305***</td>\n",
       "</tr>\n",
       "<tr>\n",
       "  <th></th>           <td>(0.2074)</td>  <td>(0.0781)</td>   <td>(0.2062)</td> \n",
       "</tr>\n",
       "<tr>\n",
       "  <th>x3</th>         <td>0.9886***</td> <td>1.1612***</td>  <td>1.2922***</td>\n",
       "</tr>\n",
       "<tr>\n",
       "  <th></th>           <td>(0.0670)</td>  <td>(0.0220)</td>   <td>(0.0671)</td> \n",
       "</tr>\n",
       "</table>"
      ],
      "text/plain": [
       "<class 'statsmodels.iolib.summary2.Summary'>\n",
       "\"\"\"\n",
       "\n",
       "=========================================\n",
       "             QR25       QR50      QR75   \n",
       "-----------------------------------------\n",
       "Intercept -8.0932*** 1.0311*** 10.1795***\n",
       "          (0.3535)   (0.1349)  (0.3537)  \n",
       "x2        0.8750***  0.9359*** 0.9305*** \n",
       "          (0.2074)   (0.0781)  (0.2062)  \n",
       "x3        0.9886***  1.1612*** 1.2922*** \n",
       "          (0.0670)   (0.0220)  (0.0671)  \n",
       "=========================================\n",
       "Standard errors in parentheses.\n",
       "* p<.1, ** p<.05, ***p<.01\n",
       "\"\"\""
      ]
     },
     "execution_count": 5,
     "metadata": {},
     "output_type": "execute_result"
    }
   ],
   "source": [
    "u=(0.1+1*x3)*e\n",
    "y=1+x2+x3+u\n",
    "data=pd.DataFrame({'e':e,'x2':x2,'x3':x3,'u':u,'y':y})\n",
    "\n",
    "mod = smf.quantreg('y ~ x2+x3', data)\n",
    "qr = [mod.fit(q) for q in [0.25,0.5,0.75]]\n",
    "\n",
    "from statsmodels.iolib.summary2 import summary_col\n",
    "summary_col(results=qr, stars = True, model_names=['QR25', 'QR50', 'QR75'])"
   ]
  },
  {
   "cell_type": "markdown",
   "metadata": {},
   "source": [
    "### Exercise 5"
   ]
  },
  {
   "cell_type": "code",
   "execution_count": 10,
   "metadata": {
    "scrolled": false
   },
   "outputs": [
    {
     "data": {
      "text/html": [
       "<table class=\"simpletable\">\n",
       "<tr>\n",
       "      <td></td>         <th>OLS</th>      <th>QR25</th>      <th>QR50</th>      <th>QR75</th>   \n",
       "</tr>\n",
       "<tr>\n",
       "  <th>x2</th>        <td>1.0014***</td> <td>1.0022***</td> <td>1.0012***</td> <td>1.0040***</td>\n",
       "</tr>\n",
       "<tr>\n",
       "  <th></th>          <td>(0.0035)</td>  <td>(0.0021)</td>  <td>(0.0036)</td>  <td>(0.0064)</td> \n",
       "</tr>\n",
       "<tr>\n",
       "  <th>x3</th>        <td>1.0010***</td> <td>1.0009***</td> <td>1.0001***</td> <td>1.0013***</td>\n",
       "</tr>\n",
       "<tr>\n",
       "  <th></th>          <td>(0.0010)</td>  <td>(0.0006)</td>  <td>(0.0010)</td>  <td>(0.0018)</td> \n",
       "</tr>\n",
       "<tr>\n",
       "  <th>Intercept</th> <td>1.5039***</td> <td>1.1463***</td> <td>1.3563***</td> <td>1.7015***</td>\n",
       "</tr>\n",
       "<tr>\n",
       "  <th></th>          <td>(0.0061)</td>  <td>(0.0036)</td>  <td>(0.0062)</td>  <td>(0.0111)</td> \n",
       "</tr>\n",
       "</table>"
      ],
      "text/plain": [
       "<class 'statsmodels.iolib.summary2.Summary'>\n",
       "\"\"\"\n",
       "\n",
       "=================================================\n",
       "             OLS       QR25      QR50      QR75  \n",
       "-------------------------------------------------\n",
       "x2        1.0014*** 1.0022*** 1.0012*** 1.0040***\n",
       "          (0.0035)  (0.0021)  (0.0036)  (0.0064) \n",
       "x3        1.0010*** 1.0009*** 1.0001*** 1.0013***\n",
       "          (0.0010)  (0.0006)  (0.0010)  (0.0018) \n",
       "Intercept 1.5039*** 1.1463*** 1.3563*** 1.7015***\n",
       "          (0.0061)  (0.0036)  (0.0062)  (0.0111) \n",
       "=================================================\n",
       "Standard errors in parentheses.\n",
       "* p<.1, ** p<.05, ***p<.01\n",
       "\"\"\""
      ]
     },
     "execution_count": 10,
     "metadata": {},
     "output_type": "execute_result"
    }
   ],
   "source": [
    "from scipy import stats\n",
    "\n",
    "np.random.seed(10101)\n",
    "n=10000\n",
    "x2=stats.chi2(1).rvs(n)\n",
    "x3=stats.norm(0,5).rvs(n)\n",
    "u=stats.expon(scale=1).rvs(n)\n",
    "y=1+x2+x3+u\n",
    "data=pd.DataFrame({'x2':x2,'x3':x3,'u':u,'y':y})\n",
    "\n",
    "ols = smf.ols('y ~ x2+x3', data).fit()\n",
    "mod = smf.quantreg('y ~ x2+x3', data)\n",
    "qr = [mod.fit(q) for q in [0.25,0.5,0.75]]\n",
    "\n",
    "summary_col(results=[ols, *qr], stars = True, model_names=['OLS','QR25', 'QR50', 'QR75'], regressor_order=['x2','x3','Intercept'], drop_omitted=True)"
   ]
  }
 ],
 "metadata": {
  "filename": "pandas.rst",
  "kernelspec": {
   "display_name": "Python 3",
   "language": "python",
   "name": "python3"
  },
  "language_info": {
   "codemirror_mode": {
    "name": "ipython",
    "version": 3
   },
   "file_extension": ".py",
   "mimetype": "text/x-python",
   "name": "python",
   "nbconvert_exporter": "python",
   "pygments_lexer": "ipython3",
   "version": "3.8.5"
  },
  "title": "Pandas"
 },
 "nbformat": 4,
 "nbformat_minor": 2
}
