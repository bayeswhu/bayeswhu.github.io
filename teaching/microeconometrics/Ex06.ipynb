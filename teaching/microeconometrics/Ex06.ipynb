{
 "cells": [
  {
   "cell_type": "markdown",
   "metadata": {
    "slideshow": {
     "slide_type": "slide"
    }
   },
   "source": [
    "## Exercises"
   ]
  },
  {
   "cell_type": "markdown",
   "metadata": {
    "slideshow": {
     "slide_type": "subslide"
    }
   },
   "source": [
    "### Exercise 1\n",
    "\n",
    "Using the normal generator, generate a random draw from a 50-50 scale mixture of $N(1, 1)$ and $N(1, 3^2)$ distributions. \n",
    "\n",
    "Repeat the exercise with the $N(1, 3^2)$ component replaced by $N(3, 1)$. \n",
    "\n",
    "For both cases, display the features of the generated data by using a kernel density plot."
   ]
  },
  {
   "cell_type": "markdown",
   "metadata": {},
   "source": [
    "### Exercise 2\n",
    "\n",
    "Generate 1,000 observations from the F(5, 10) distribution. \n",
    "\n",
    "Obtain draws from the $\\chi^2(5)$ and the $\\chi^2(10)$ distributions. \n",
    "\n",
    "Compare the sample moments with their theoretical counterparts."
   ]
  },
  {
   "cell_type": "markdown",
   "metadata": {},
   "source": [
    "### Exercise 3\n",
    "\n",
    "Generate a large sample from the $N(\\mu = l, \\sigma^2 = 1)$ distribution and estimate $\\sigma/\\mu$, the coefficient of variation. \n",
    "\n",
    "Verify that the sample estimate is a consistent estimate."
   ]
  },
  {
   "cell_type": "markdown",
   "metadata": {},
   "source": [
    "### Exercise 4\n",
    "\n",
    "Let s denote the sample estimate of $\\sigma$ and $\\bar{x}$ denote the sample estimate of $\\mu$. \n",
    "\n",
    "The coefficient of variation (cv) $\\sigma/\\mu$, which is the ratio of the standard deviation to the mean, is a dimensionless measure of dispersion. \n",
    "\n",
    "The asymptotic distribution of the sample cv $s/\\bar{x}$ is $N[\\sigma/\\mu, (N-2)^{-1/2}(\\sigma/\\mu)^2\\{0.5 + (\\sigma/\\mu)^2\\}]$; see Miller (1991). \n",
    "\n",
    "For N = 25, compare the Monte Carlo and asymptotic variance of the sample cv with the following specification of the DGP: $x\\sim N(\\mu, \\sigma^2)$ with three different values of cv = 0.1, 0.33, and 0.67."
   ]
  }
 ],
 "metadata": {
  "kernelspec": {
   "display_name": "Python 3",
   "language": "python",
   "name": "python3"
  },
  "language_info": {
   "codemirror_mode": {
    "name": "ipython",
    "version": 3
   },
   "file_extension": ".py",
   "mimetype": "text/x-python",
   "name": "python",
   "nbconvert_exporter": "python",
   "pygments_lexer": "ipython3",
   "version": "3.7.3"
  },
  "livereveal": {
   "scroll": true
  }
 },
 "nbformat": 4,
 "nbformat_minor": 2
}
