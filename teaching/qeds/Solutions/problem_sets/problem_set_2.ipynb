{
 "cells": [
  {
   "cell_type": "markdown",
   "metadata": {},
   "source": [
    "# Problem Set 2\n",
    "\n",
    "See “Check Your Understanding” from [collections](../python_fundamentals/collections.ipynb) and [control flow](../python_fundamentals/control_flow.ipynb)\n",
    "\n",
    "Note:  unless stated otherwise, the timing of streams of payoffs is at the end of the first period where appropriate.  For example, dividends $ \\{d_1, \\ldots d_{\\infty}\\} $\n",
    "should be valued as $ \\beta d_1 + \\beta^2 d_2 \\ldots = \\sum_{j=1}^{\\infty} \\beta^j d_j $.\n",
    "\n",
    "This timing is consistent with the lectures and most economics, but is different from the timing assumptions\n",
    "of some finance models."
   ]
  },
  {
   "cell_type": "markdown",
   "metadata": {},
   "source": [
    "## Question 1-4\n",
    "\n",
    "Consider a bond that pays a \\$500 dividend once a quarter.\n",
    "\n",
    "It pays in the months of March, June, September, and December.\n",
    "\n",
    "It promises to do so for 10 years after you purchase it (start in January 2019).\n",
    "\n",
    "You discount the future at rate $ r = 0.005 $ per _month_."
   ]
  },
  {
   "cell_type": "markdown",
   "metadata": {},
   "source": [
    "### Question 1\n",
    "\n",
    "How much do you value the asset in January 2019?"
   ]
  },
  {
   "cell_type": "code",
   "execution_count": 1,
   "metadata": {
    "hide-output": false
   },
   "outputs": [
    {
     "name": "stdout",
     "output_type": "stream",
     "text": [
      "14937.430589658326\n"
     ]
    }
   ],
   "source": [
    "dividend=500\n",
    "r=0.005\n",
    "time_periods=120\n",
    "\n",
    "discounts=[1/(1+r)**i for i in range(1, time_periods+1)]\n",
    "payoffs=[0,0,dividend]*(time_periods//3)\n",
    "npv=sum([p*d for p,d in zip(payoffs,discounts)])\n",
    "print(npv)"
   ]
  },
  {
   "cell_type": "markdown",
   "metadata": {},
   "source": [
    "### Question 2\n",
    "\n",
    "Consider a different asset that pays a lump sum at its expiration date rather than a quarterly dividend of \\$500 dollars, how much would this asset need to pay in December 2028 (the final payment date of the quarterly asset) for the two assets to be equally valued?"
   ]
  },
  {
   "cell_type": "code",
   "execution_count": 2,
   "metadata": {
    "hide-output": false
   },
   "outputs": [
    {
     "name": "stdout",
     "output_type": "stream",
     "text": [
      "27177.112429658384\n"
     ]
    }
   ],
   "source": [
    "print(npv*(1+r)**(time_periods))"
   ]
  },
  {
   "cell_type": "markdown",
   "metadata": {},
   "source": [
    "### Question 3\n",
    "\n",
    "How much should you be willing to pay if your friend bought the quarterly asset (from the main text) in January\n",
    "2019 but wanted to sell it to you in October 2019?"
   ]
  },
  {
   "cell_type": "code",
   "execution_count": 3,
   "metadata": {
    "hide-output": false
   },
   "outputs": [
    {
     "name": "stdout",
     "output_type": "stream",
     "text": [
      "14170.992813580713\n"
     ]
    }
   ],
   "source": [
    "n=10\n",
    "npv10=sum([p*d for p,d in zip(payoffs[n:],discounts[n:])])\n",
    "print(npv10*(1+r)**n)"
   ]
  },
  {
   "cell_type": "markdown",
   "metadata": {},
   "source": [
    "### Question 4\n",
    "\n",
    "If you already knew that your discount rate would change annually according to the\n",
    "table below, at what price would you value the quarterly asset (from the main text) in January 2019?\n",
    "\n",
    "*Hint*: There are various ways to do this… One way might include a zipped loop for years and a\n",
    "second loop for months.\n",
    "\n",
    "*More Challenging*: Can you create the list of interest rates without calculating each year individually?\n",
    "\n",
    "|Year|Discount Rate|\n",
    "|:----:|:-------------:|\n",
    "|2019|0.005|\n",
    "|2020|0.00475|\n",
    "|2021|0.0045|\n",
    "|2022|0.00425|\n",
    "|2023|0.004|\n",
    "|2024|0.00375|\n",
    "|2025|0.0035|\n",
    "|2026|0.00325|\n",
    "|2027|0.003|\n",
    "|2028|0.00275|\n",
    "\n",
    "Hint: create appropriate collections typing from the data directly in the code.  You cannot parse the\n",
    "text table directly."
   ]
  },
  {
   "cell_type": "code",
   "execution_count": 26,
   "metadata": {
    "hide-output": false,
    "scrolled": true
   },
   "outputs": [
    {
     "data": {
      "text/plain": [
       "15521.115341118279"
      ]
     },
     "execution_count": 26,
     "metadata": {},
     "output_type": "execute_result"
    }
   ],
   "source": [
    "rs=[0.005-0.00025*i for i in range(10)] # without calculating each year individually \n",
    "rs=[0.005,0.00475,0.0045,0.00425,0.004,0.00375,0.0035,0.00325,0.003,0.00275]\n",
    "npv=0\n",
    "for r in rs[::-1]:\n",
    "    npv=(npv+500)/(1+r)**12+500/(1+r)**9+500/(1+r)**6+500/(1+r)**3\n",
    "npv"
   ]
  },
  {
   "cell_type": "markdown",
   "metadata": {},
   "source": [
    "## Questions 5-6\n",
    "\n",
    "Companies often invest in training their employees to raise their\n",
    "productivity. Economists sometimes wonder why companies\n",
    "spend money on training employees when this incentivizes other companies to poach\n",
    "their employees with higher salaries since the employees gain human capital from training.\n",
    "\n",
    "Imagine it costs a company 25,000 dollars to teach their employees Python, but\n",
    "it also raises their output by 2,500 dollars per month. The company discounts the future\n",
    "at rate of $ r = 0.01 $ per month."
   ]
  },
  {
   "cell_type": "markdown",
   "metadata": {},
   "source": [
    "### Question 5\n",
    "\n",
    "For how many full months does an employee need to stay at a company for that company to make a profit for\n",
    "paying for their employees’ Python training?"
   ]
  },
  {
   "cell_type": "code",
   "execution_count": 5,
   "metadata": {
    "hide-output": false
   },
   "outputs": [
    {
     "name": "stdout",
     "output_type": "stream",
     "text": [
      "The employee need to stay 11 months\n"
     ]
    }
   ],
   "source": [
    "cost = 25000\n",
    "r = 0.01\n",
    "output = 2500\n",
    "\n",
    "n_months = 0\n",
    "total_npv = 0.0\n",
    "\n",
    "# Put condition below here\n",
    "while total_npv < cost: \n",
    "    n_months = n_months + 1  # Increment how many months they've worked\n",
    "    # Increase total_npv\n",
    "    total_npv = total_npv + output / (1+r)**n_months\n",
    "\n",
    "print(f\"The employee need to stay {n_months} months\")"
   ]
  },
  {
   "cell_type": "markdown",
   "metadata": {},
   "source": [
    "### Question 6\n",
    "\n",
    "Imagine that 3/4 of the employees stay for 8 months and 1/4 of the employees stay\n",
    "for 24 months. Is it worth it for the company to invest in employee Python training?"
   ]
  },
  {
   "cell_type": "code",
   "execution_count": 6,
   "metadata": {
    "hide-output": false
   },
   "outputs": [
    {
     "name": "stdout",
     "output_type": "stream",
     "text": [
      "27624.012820583856\n"
     ]
    }
   ],
   "source": [
    "discount=[1/(1+r)**i for i in range(1,25)]\n",
    "output=[2500]*24\n",
    "total_npv=0.75*sum([o*d for o,d in zip(output[:8],discount[:8])])+0.25*sum([o*d for o,d in zip(output,discount)])\n",
    "print(total_npv)"
   ]
  },
  {
   "cell_type": "markdown",
   "metadata": {},
   "source": [
    "## Question 7 and 8\n",
    "\n",
    "Take the following stock market data, including a stock ticker, price, and company name:\n",
    "\n",
    "|Ticker|Price|Name|\n",
    "|:------:|:-------:|:----------------:|\n",
    "|AAPL|175.96|Apple Inc.|\n",
    "|GOOGL|0.00475|Alphabet Inc.|\n",
    "|TVIX|0.0045|Credit Suisse AG|\n",
    "\n",
    "Hint: create appropriate collections typing from the data directly in the code.  You cannot parse the table directly."
   ]
  },
  {
   "cell_type": "markdown",
   "metadata": {},
   "source": [
    "### Question 7\n",
    "\n",
    "- Create a new dict which associates ticker with its price.  i.e. the dict key should be a string, the dict value should be a number, and you can ignore the name.  \n",
    "- Display a list of the underlying stock tickers using the dictionary.  Hint:\n",
    "  use `.<TAB>` on your dictionary to look for methods to get the list  "
   ]
  },
  {
   "cell_type": "code",
   "execution_count": 7,
   "metadata": {
    "hide-output": false
   },
   "outputs": [
    {
     "name": "stdout",
     "output_type": "stream",
     "text": [
      "dict_keys(['AAPL', 'GOOGL', 'TVIX'])\n"
     ]
    }
   ],
   "source": [
    "d={'AAPL':175.96,'GOOGL':0.00475,'TVIX':0.0045}\n",
    "print(d.keys())"
   ]
  },
  {
   "cell_type": "markdown",
   "metadata": {},
   "source": [
    "### Question 8 (More Challenging)\n",
    "\n",
    "Using the same data,\n",
    "\n",
    "- Create a new dict, whose values are dictionaries that have a price and name key. These keys should associate the stock tickers with both its stock price and the company name.  \n",
    "- Display a list of the underlying stock names (i.e. not the ticker symbol) using the dictionary. Hint: use a comprehension.  "
   ]
  },
  {
   "cell_type": "code",
   "execution_count": 8,
   "metadata": {
    "hide-output": false
   },
   "outputs": [
    {
     "name": "stdout",
     "output_type": "stream",
     "text": [
      "['Apple Inc.', 'Alphabet Inc.', 'Credit Suisse AG']\n"
     ]
    }
   ],
   "source": [
    "d={'AAPL':{'Price':175.96,'Name':'Apple Inc.'},\n",
    "   'GOOGL':{'Price':0.00475,'Name':'Alphabet Inc.'},\n",
    "   'TVIX':{'Price':0.0045,'Name':'Credit Suisse AG'}}\n",
    "print([d[i]['Name'] for i in d.keys()])"
   ]
  },
  {
   "cell_type": "markdown",
   "metadata": {},
   "source": [
    "## Question 9 (More Challenging)\n",
    "\n",
    "Imagine that we’d like to invest in a small startup company. We have secret\n",
    "information (given to us from a legal source, like statistics, so that we\n",
    "aren’t insider trading or anything like that…) that the startup will have\n",
    "4,000 dollars of profits for its first 5 years,\n",
    "then 20,000 dollars of profits for the next 10 years, and\n",
    "then 50,000 dollars of profits for the 10 years after that.\n",
    "\n",
    "After year 25, the company will go under and pay 0 profits.\n",
    "\n",
    "The company would like you to buy 50% of its shares, which means that you\n",
    "will receive 50% of all of the future profits.\n",
    "\n",
    "If you discount the future at $ r = 0.05 $, how much would you be willing to pay?\n",
    "\n",
    "Hint: Think of this in terms of NPV; you should use some conditional\n",
    "statements.\n",
    "\n",
    "*More Challenging*: Can you think of a way to use the summation equations from the lectures\n",
    "to check your work!?"
   ]
  },
  {
   "cell_type": "code",
   "execution_count": 9,
   "metadata": {
    "hide-output": false
   },
   "outputs": [
    {
     "name": "stdout",
     "output_type": "stream",
     "text": [
      "I will pay 162017.93 for this startup company.\n"
     ]
    }
   ],
   "source": [
    "profits_0_5 = 4000\n",
    "profits_5_15 = 20_000\n",
    "profits_15_25 = 50_000\n",
    "r=0.05\n",
    "\n",
    "willingness_to_pay = 0.0\n",
    "for year in range(1, 26):\n",
    "    if year<=5:\n",
    "        willingness_to_pay=willingness_to_pay+profits_0_5/(1+r)**year\n",
    "    elif year<=15:\n",
    "        willingness_to_pay=willingness_to_pay+profits_5_15/(1+r)**year\n",
    "    else:\n",
    "        willingness_to_pay=willingness_to_pay+profits_15_25/(1+r)**year\n",
    "print(f\"I will pay {willingness_to_pay/2:.2f} for this startup company.\")"
   ]
  },
  {
   "cell_type": "markdown",
   "metadata": {},
   "source": [
    "The summation equation in the lecture is \n",
    "$$\n",
    "P_0 = \\sum_{t=0}^T \\left(\\frac{1}{1 + r}\\right)^t y_t.\n",
    "$$\n",
    "\n",
    "If $y_t=y$, then we could simplify the formula to following: \n",
    "\n",
    "$$\n",
    "P_0 = y\\sum_{t=0}^T \\left(\\frac{1}{1 + r}\\right)^t = y\\left(\\frac{1 + r}{r} - \\frac{1}{r}\\left(\\frac{1}{1+r} \\right)^T\\right)\n",
    "$$\n",
    "\n",
    "One thing we should notice is that we start to get payoff from period 1 instead of 0, so the formula is changed to:\n",
    "$$\n",
    "\\begin{align}\n",
    "P_1 &= y\\sum_{t=1}^T \\left(\\frac{1}{1 + r}\\right)^t = y\\left(\\frac{1 + r}{r} - \\frac{1}{r}\\left(\\frac{1}{1+r} \\right)^T\\right)-y \\\\\n",
    "&=y\\left(\\frac{1}{r} - \\frac{1}{r(1+r)^T}\\right)\n",
    "\\end{align}\n",
    "$$\n"
   ]
  },
  {
   "cell_type": "code",
   "execution_count": 10,
   "metadata": {},
   "outputs": [
    {
     "name": "stdout",
     "output_type": "stream",
     "text": [
      "I will pay 162017.93 for this startup company.\n"
     ]
    }
   ],
   "source": [
    "# follow the summation equations\n",
    "profits5=1/r-1/r/(1+r)**5\n",
    "profits15=1/r-1/r/(1+r)**10\n",
    "profits25=1/r-1/r/(1+r)**10\n",
    "willingness_to_pay=profits_0_5*profits5+profits_5_15*profits15*(1/(1+r))**5+profits_15_25*profits25*(1/(1+r))**15\n",
    "print(f\"I will pay {willingness_to_pay/2:.2f} for this startup company.\")"
   ]
  },
  {
   "cell_type": "markdown",
   "metadata": {},
   "source": [
    "## Question 10 (More Challenging)\n",
    "\n",
    "For the tuple `foo` below, use a combination of `zip`, `range`, and `len` to mimic `enumerate(foo)`. Verify that your proposed solution is correct by converting each to a list and checking equality with == HINT: You can see what the answer should look like by starting with `list(enumerate(foo))`."
   ]
  },
  {
   "cell_type": "code",
   "execution_count": 11,
   "metadata": {
    "hide-output": false
   },
   "outputs": [
    {
     "data": {
      "text/plain": [
       "True"
      ]
     },
     "execution_count": 11,
     "metadata": {},
     "output_type": "execute_result"
    }
   ],
   "source": [
    "foo = (\"good\", \"luck!\")\n",
    "list(enumerate(foo))==list(zip(range(len(foo)),foo))"
   ]
  },
  {
   "cell_type": "markdown",
   "metadata": {},
   "source": [
    "## Question 11\n",
    "\n",
    "In economics, when an individual has knowledge, skills, or education that provides them with a\n",
    "source of future income, we call it [human capital](https://en.wikipedia.org/wiki/Human_capital).\n",
    "When a student graduating from high school is considering whether to continue with post-secondary\n",
    "education, they may consider that it gives them higher-paying jobs in the future, but requires that\n",
    "they commence work only after graduation.\n",
    "\n",
    "Consider the simplified example where a student has perfectly forecastable employment and is given two choices:\n",
    "\n",
    "1. Begin working immediately and make 40,000 dollars a year until they retire 40 years later.  \n",
    "1. Pay 5,000 dollars a year for the next 4 years to attend university and then get a job paying\n",
    "  50,000 dollars a year until they retire 40 years after making the college attendance decision.  \n",
    "\n",
    "\n",
    "Should the student enroll in school if the discount rate is $ r = 0.05 $?"
   ]
  },
  {
   "cell_type": "code",
   "execution_count": 12,
   "metadata": {
    "hide-output": false
   },
   "outputs": [
    {
     "name": "stdout",
     "output_type": "stream",
     "text": [
      "You should not enroll!\n"
     ]
    }
   ],
   "source": [
    "# Discount rate\n",
    "r = 1.05\n",
    "\n",
    "# High school wage\n",
    "w_hs = 40_000\n",
    "\n",
    "# College wage and cost of college\n",
    "c_college = 5_000\n",
    "w_college = 50_000\n",
    "\n",
    "# Compute npv of being a hs worker\n",
    "npv_hsworker=0\n",
    "for i in range(1,41):\n",
    "    npv_hsworker=npv_hsworker+w_hs/(r**i)\n",
    "\n",
    "# Compute npv of attending college\n",
    "npv_collegecost=0\n",
    "for i in range(4):\n",
    "    npv_collegecost=npv_collegecost+c_college/(r**i)\n",
    "\n",
    "# Compute npv of being a college worker\n",
    "npv_collegeworker=0\n",
    "for i in range(5,41):\n",
    "    npv_collegeworker=npv_collegeworker+w_college/(r**i)\n",
    "\n",
    "# Is npv_collegeworker - npv_collegecost > npv_hsworker\n",
    "if npv_collegeworker - npv_collegecost > npv_hsworker:\n",
    "    print(\"You should enroll!\")\n",
    "else:\n",
    "    print(\"You should not enroll!\")"
   ]
  }
 ],
 "metadata": {
  "date": 1580956169.0181866,
  "download_nb": false,
  "filename": "problem_set_2.rst",
  "filename_with_path": "problem_sets/problem_set_2",
  "kernelspec": {
   "display_name": "Python 3",
   "language": "python",
   "name": "python3"
  },
  "language_info": {
   "codemirror_mode": {
    "name": "ipython",
    "version": 3
   },
   "file_extension": ".py",
   "mimetype": "text/x-python",
   "name": "python",
   "nbconvert_exporter": "python",
   "pygments_lexer": "ipython3",
   "version": "3.7.6"
  },
  "title": "Problem Set 2"
 },
 "nbformat": 4,
 "nbformat_minor": 2
}
