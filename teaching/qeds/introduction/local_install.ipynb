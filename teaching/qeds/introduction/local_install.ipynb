{
 "cells": [
  {
   "cell_type": "markdown",
   "metadata": {
    "slideshow": {
     "slide_type": "slide"
    }
   },
   "source": [
    "## Installation\n",
    "\n",
    "Visit [continuum.io](https://www.anaconda.com/download) and download the\n",
    "Anaconda Python distribution for your operating system (Windows/Mac OS/Linux).\n",
    "\n",
    "Be sure to download the Python 3.X (where X is some number greater than or equal to 7) version, not\n",
    "the 2.7 version."
   ]
  },
  {
   "cell_type": "markdown",
   "metadata": {
    "slideshow": {
     "slide_type": "subslide"
    }
   },
   "source": [
    "![https://storage.googleapis.com/qeds/_static/introduction_files/install_python.png](https://storage.googleapis.com/qeds/_static/introduction_files/install_python.png)  \n",
    "<br>"
   ]
  },
  {
   "cell_type": "markdown",
   "metadata": {
    "slideshow": {
     "slide_type": "subslide"
    }
   },
   "source": [
    "Make sure that during the installation [Anaconda](https://www.anaconda.com/distribution/)\n",
    "is added to your environment/path.\n",
    "\n",
    "On Mac OS and Linux, this should happen by default.\n",
    "\n",
    "For Windows users, we recommend installing for “just me” instead of “all users”. "
   ]
  },
  {
   "cell_type": "markdown",
   "metadata": {
    "slideshow": {
     "slide_type": "slide"
    }
   },
   "source": [
    "## Package Management\n",
    "\n",
    "In addition to Jupyter, the Anaconda Python distribution comes with two package management tools `conda` and `pip`.\n",
    "\n",
    "These will help you ensure that you have the right packages (think of these as “add-ons” to Python\n",
    "that give you additional functionality… We will discuss these more in depth later!) and help you\n",
    "keep them all up to date."
   ]
  },
  {
   "cell_type": "markdown",
   "metadata": {
    "slideshow": {
     "slide_type": "subslide"
    }
   },
   "source": [
    "We will work through an example below to install some new package functionality needed for some\n",
    "later lectures. Generally, packages can be installed by using `conda install <package name>` or\n",
    "`pip install <package name>`.\n",
    "\n",
    "Please install the packages you will need later by following the instructions below for your\n",
    "computer’s operating system."
   ]
  },
  {
   "cell_type": "markdown",
   "metadata": {
    "slideshow": {
     "slide_type": "subslide"
    }
   },
   "source": [
    "**Linux/Mac**\n",
    "\n",
    "- Open a terminal.  \n",
    "- Run the following commands:  "
   ]
  },
  {
   "cell_type": "markdown",
   "metadata": {
    "hide-output": false,
    "slideshow": {
     "slide_type": "subslide"
    }
   },
   "source": [
    "```bash\n",
    "# Install Python packages\n",
    "conda install python-graphviz\n",
    "conda install -c conda-forge nodejs xgboost\n",
    "pip install qeds fiona geopandas pyLDAvis gensim folium descartes pyarrow --upgrade\n",
    "\n",
    "# Activate jlab extensions\n",
    "jupyter labextension install @jupyterlab/toc  --no-build\n",
    "jupyter labextension install @jupyter-widgets/jupyterlab-manager --no-build\n",
    "jupyter labextension install plotlywidget@1.1.1 --no-build\n",
    "jupyter labextension install jupyterlab-plotly@1.1.2 --no-build\n",
    "jupyter lab build\n",
    "```\n"
   ]
  },
  {
   "cell_type": "markdown",
   "metadata": {
    "slideshow": {
     "slide_type": "subslide"
    }
   },
   "source": [
    "Press `y` and enter whenever you see `Proceed [y]/n` from your terminal.  \n",
    "- Close the terminal when the installation finishes.  "
   ]
  },
  {
   "cell_type": "markdown",
   "metadata": {
    "slideshow": {
     "slide_type": "subslide"
    }
   },
   "source": [
    "**Windows**\n",
    "\n",
    "- Open a Anaconda command prompt by click Anaconda prompt in the Anaconda folder of start menu.\n",
    "- Run the following commands in order:  "
   ]
  },
  {
   "cell_type": "markdown",
   "metadata": {
    "hide-output": false,
    "slideshow": {
     "slide_type": "subslide"
    }
   },
   "source": [
    "```bash\n",
    "# Install Python packages\n",
    "conda install geopandas python-graphviz\n",
    "conda install -c conda-forge nodejs\n",
    "pip install qeds pyLDAvis gensim folium xgboost descartes pyarrow graphviz --upgrade\n",
    "\n",
    "# Activate jlab extensions\n",
    "jupyter labextension install @jupyterlab/toc  --no-build\n",
    "jupyter labextension install @jupyter-widgets/jupyterlab-manager --no-build\n",
    "jupyter labextension install plotlywidget@1.1.1 --no-build\n",
    "jupyter labextension install jupyterlab-plotly@1.1.2 --no-build\n",
    "jupyter lab build\n",
    "```\n"
   ]
  },
  {
   "cell_type": "markdown",
   "metadata": {
    "slideshow": {
     "slide_type": "subslide"
    }
   },
   "source": [
    "Press `y` and enter whenever you see `Proceed [y]/n` from your terminal.  \n",
    "- Close the command window after the installation finishes, log out of Windows, and then log in.  \n",
    "\n",
    "\n",
    "If you are told that you are missing a package at any point in time, we recommend trying to install\n",
    "the package with `conda` first and, if that doesn’t work, installing with `pip`."
   ]
  },
  {
   "cell_type": "markdown",
   "metadata": {
    "slideshow": {
     "slide_type": "subslide"
    }
   },
   "source": [
    "You can update a package by running:\n",
    "\n",
    "- `conda update <package name>` for conda  \n",
    "- `pip install <package name> --upgrade` for pip  \n",
    "\n",
    "\n",
    "**Note:** If you have errors using `graphviz` on Windows, then open a `powershell` terminal and execute the following two lines:"
   ]
  },
  {
   "cell_type": "markdown",
   "metadata": {
    "hide-output": false,
    "slideshow": {
     "slide_type": "subslide"
    }
   },
   "source": [
    "```powershell\n",
    "$pp = (python -c \"import sys; print(sys.exec_prefix)\")\n",
    "\n",
    "Set-ItemProperty -path HKCU:\\Environment\\ -Name Path -Value \"$((Get-ItemProperty -path HKCU:\\Environment\\ -Name Path).Path);$($pp)\\Library\\bin\\graphviz\"\n",
    "```\n"
   ]
  },
  {
   "cell_type": "markdown",
   "metadata": {
    "slideshow": {
     "slide_type": "slide"
    }
   },
   "source": [
    "## Starting Jupyter\n",
    "\n",
    "Start JupyterLab by following these steps:\n",
    "\n",
    "1. Open a new terminal (for Windows, you should use the Anaconda command prompt).  \n",
    "1. Type `jupyter lab` and press Enter.  \n",
    "\n",
    "\n",
    "If a web browser doesn’t open by default, look at the terminal text and find something that looks\n",
    "like:"
   ]
  },
  {
   "cell_type": "markdown",
   "metadata": {
    "hide-output": false,
    "slideshow": {
     "slide_type": "subslide"
    }
   },
   "source": [
    "```md\n",
    "Copy/paste this URL into your browser when you connect for the first time,\n",
    "to login with a token:\n",
    "    http://localhost:8888/?token=9a39d3741a4f0b200c6e4b07d8e5c04a089899cddc72e7f8\n",
    "```\n"
   ]
  },
  {
   "cell_type": "markdown",
   "metadata": {
    "slideshow": {
     "slide_type": "subslide"
    }
   },
   "source": [
    "and copy/paste the line starting with `http://` into your web browser.\n",
    "\n",
    ">**Note**\n",
    ">\n",
    ">The terminal you opened must stay open while you are editing the notebooks."
   ]
  },
  {
   "cell_type": "markdown",
   "metadata": {
    "slideshow": {
     "slide_type": "subslide"
    }
   },
   "source": [
    "### Opening a Jupyter Notebook\n",
    "\n",
    "Once the web browser is open, you should see the JupyterLab dashboard. You can open a new Jupyter\n",
    "notebook by clicking Python 3 when you see something like the following image in your browser:"
   ]
  },
  {
   "cell_type": "markdown",
   "metadata": {
    "slideshow": {
     "slide_type": "subslide"
    }
   },
   "source": [
    "![https://storage.googleapis.com/qeds/_static/introduction_files/jupyter_lab.png](https://storage.googleapis.com/qeds/_static/introduction_files/jupyter_lab.png)  \n",
    "<br>"
   ]
  },
  {
   "cell_type": "markdown",
   "metadata": {
    "slideshow": {
     "slide_type": "subslide"
    }
   },
   "source": [
    "Once the notebook is open, you should something similar to the following image:\n",
    "\n",
    "![https://storage.googleapis.com/qeds/_static/introduction_files/jupyter_lab_notebook.png](https://storage.googleapis.com/qeds/_static/introduction_files/jupyter_lab_notebook.png)  \n",
    "<br>"
   ]
  },
  {
   "cell_type": "markdown",
   "metadata": {
    "slideshow": {
     "slide_type": "subslide"
    }
   },
   "source": [
    "Note that:\n",
    "\n",
    "- The filenames on the left will be different.  \n",
    "- It *should* list the contents of your personal home directory (folder).  \n",
    "\n",
    "\n",
    "\n",
    "<a id='exercise-0'></a>\n",
    "> See exercise 1 in the [*exercise list*](#exerciselist-0)"
   ]
  },
  {
   "cell_type": "markdown",
   "metadata": {
    "slideshow": {
     "slide_type": "subslide"
    }
   },
   "source": [
    "## Exercises\n",
    "\n",
    "\n",
    "<a id='exerciselist-0'></a>\n",
    "**Exercise 1**\n",
    "\n",
    "Open this file in Jupyter by downloadeding the `getting_started.ipynb` file from my website [here](https://bayeswhu.github.io/teaching/qeds/introduction/getting_started.ipynb)\n",
    "\n",
    "([*back to text*](#exercise-0))"
   ]
  }
 ],
 "metadata": {
  "celltoolbar": "幻灯片",
  "date": 1573843779.0285122,
  "download_nb": 1,
  "download_nb_path": "https://datascience.quantecon.org/",
  "filename": "local_install.rst",
  "filename_with_path": "introduction/local_install",
  "kernelspec": {
   "display_name": "Python 3",
   "language": "python",
   "name": "python3"
  },
  "language_info": {
   "codemirror_mode": {
    "name": "ipython",
    "version": 3
   },
   "file_extension": ".py",
   "mimetype": "text/x-python",
   "name": "python",
   "nbconvert_exporter": "python",
   "pygments_lexer": "ipython3",
   "version": "3.7.5"
  },
  "livereveal": {
   "scroll": true
  },
  "title": "Local Installation"
 },
 "nbformat": 4,
 "nbformat_minor": 2
}
