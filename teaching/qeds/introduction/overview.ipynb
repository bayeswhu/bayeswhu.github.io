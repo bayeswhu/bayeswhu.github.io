{
 "cells": [
  {
   "cell_type": "markdown",
   "metadata": {
    "slideshow": {
     "slide_type": "slide"
    }
   },
   "source": [
    "## Introduction\n",
    "\n",
    "In this section, we set the stage for the rest of the course.\n",
    "\n",
    "We will describe our goals and objectives.\n",
    "\n",
    "We will then talk about what a programming language is, how computers use them to do operations, and\n",
    "why we have chosen the Python language."
   ]
  },
  {
   "cell_type": "markdown",
   "metadata": {
    "slideshow": {
     "slide_type": "subslide"
    }
   },
   "source": [
    "We then present a potential environments for working through this course material: A local environment in which you install the appropriate software and all interactions are with your own computer.  \n",
    "\n",
    "At the end of this section, we hope you understand what you’d like to accomplish with these lectures\n",
    "and that you are able to start and use a Jupyter notebook."
   ]
  },
  {
   "cell_type": "markdown",
   "metadata": {
    "slideshow": {
     "slide_type": "slide"
    }
   },
   "source": [
    "## Course Objectives and Scope"
   ]
  },
  {
   "cell_type": "markdown",
   "metadata": {
    "slideshow": {
     "slide_type": "subslide"
    }
   },
   "source": [
    "### Scope of Lecture Notes\n",
    "\n",
    "This course is a lecture series on data science, economics, programming, and how\n",
    "they can be used to understand the world around us.\n",
    "\n",
    "We envision this as a complement to econometrics. We focus on learning practical programming\n",
    "skills for the workplace and future studies in economics and finance."
   ]
  },
  {
   "cell_type": "markdown",
   "metadata": {
    "slideshow": {
     "slide_type": "subslide"
    }
   },
   "source": [
    "Unlike courses in computer science, data science, or statistics, the emphasis of this course\n",
    "includes both the programming and the statistics necessary to analyze data *and* subsequently\n",
    "interpret results through the lens of economics.\n",
    "\n",
    "While anyone with the appropriate prerequisites will benefit from this course, undergraduate\n",
    "programs will find the lecture series suitable for 2nd to 3rd year students who have taken two\n",
    "calculus classes and their school’s equivalent of Econ 101. No prior programming experience is\n",
    "required."
   ]
  },
  {
   "cell_type": "markdown",
   "metadata": {
    "slideshow": {
     "slide_type": "subslide"
    }
   },
   "source": [
    "Students who complete this course will be prepared to:\n",
    "\n",
    "- Work in a data analyst or a data science role with the ability to frame problems in a broader\n",
    "  economic context and provide unique insights associated with that context, and/or,  "
   ]
  },
  {
   "cell_type": "markdown",
   "metadata": {
    "slideshow": {
     "slide_type": "subslide"
    }
   },
   "source": [
    "### Course Outline\n",
    "\n",
    "The essential outcome of the course is: Students will be able to recognize and understand the\n",
    "connections between economic theory and the practice of data science, expanding beyond atheoretical\n",
    "statistical approaches.\n",
    "\n",
    "The course is divided into three segments."
   ]
  },
  {
   "cell_type": "markdown",
   "metadata": {
    "slideshow": {
     "slide_type": "subslide"
    }
   },
   "source": [
    "The first segment of this course covers programming and basic scientific computing in Python by\n",
    "re-examining basic Econ 101 concepts and models.\n",
    "\n",
    "This provides a natural introduction to thinking of economics as a quantitative discipline, with\n",
    "principles and applications grounded in real world problems."
   ]
  },
  {
   "cell_type": "markdown",
   "metadata": {
    "slideshow": {
     "slide_type": "subslide"
    }
   },
   "source": [
    "The second segment dives into data analysis and data science, with the associated data wrangling\n",
    "skills, as a way to leverage economic data, tools, and concepts.\n",
    "\n",
    "The final segment is a sequence of case studies designed to help students answer specific questions\n",
    "and recommend solutions.\n",
    "\n",
    "Students will learn and apply more advanced techniques and models, as well as examine new data sources."
   ]
  },
  {
   "cell_type": "markdown",
   "metadata": {
    "slideshow": {
     "slide_type": "slide"
    }
   },
   "source": [
    "## Prerequisites\n",
    "\n",
    "While we have kept the prerequisites to a minimum, some degree of mathematical fluency is required.\n",
    "\n",
    "Most importantly, while familiarity with computers is expected, **no** programming knowledge is\n",
    "required for this course."
   ]
  },
  {
   "cell_type": "markdown",
   "metadata": {
    "slideshow": {
     "slide_type": "subslide"
    }
   },
   "source": [
    "To summarize the background we expect that you should have at least: \n",
    "\n",
    "1. an introductory “ECON 101”class; \n",
    "2. one to two terms of calculus; and \n",
    "3. either an elementary course in matrix algebra, or a willingness to learn the basics on your own."
   ]
  },
  {
   "cell_type": "markdown",
   "metadata": {
    "slideshow": {
     "slide_type": "subslide"
    }
   },
   "source": [
    "### Calculus\n",
    "\n",
    "You should have one course (and possibly two, depending on your university) in Calculus.\n",
    "\n",
    "The core concepts used throughout the lectures are"
   ]
  },
  {
   "cell_type": "markdown",
   "metadata": {
    "slideshow": {
     "slide_type": "subslide"
    }
   },
   "source": [
    "- Basic rules of differentiation of univariate functions (e.g. chain rule, product rule)  \n",
    "- Exponentials, natural logarithms, and their derivatives  \n",
    "- Inverse functions and implicit functions  \n",
    "- Maximization/minimization of univariate functions  "
   ]
  },
  {
   "cell_type": "markdown",
   "metadata": {
    "slideshow": {
     "slide_type": "subslide"
    }
   },
   "source": [
    "- Sequences, series, and infinite series  \n",
    "- Partial derivatives and multivariate functions  \n",
    "- Unconstrained Minimization and maximization of multivariate functions  \n",
    "- Simple constrained optimization (including Lagrange multipliers)  "
   ]
  },
  {
   "cell_type": "markdown",
   "metadata": {
    "slideshow": {
     "slide_type": "subslide"
    }
   },
   "source": [
    "### Linear Algebra\n",
    "\n",
    "If you have not taken a first course in applied linear algebra or matrix algebra, you will need to\n",
    "learn concepts of\n",
    "\n",
    "- Vectors and matrices  \n",
    "- Matrices and systems of linear equations  "
   ]
  },
  {
   "cell_type": "markdown",
   "metadata": {
    "slideshow": {
     "slide_type": "subslide"
    }
   },
   "source": [
    "- Dimension and rank  \n",
    "- Matrix operations (e.g. addition, multiplication, inverse)  \n",
    "- Inner products  \n",
    "- Least squares  "
   ]
  },
  {
   "cell_type": "markdown",
   "metadata": {
    "slideshow": {
     "slide_type": "subslide"
    }
   },
   "source": [
    "### Probability\n",
    "\n",
    "Basic probability is sometimes covered in a second calculus course, but if you have never\n",
    "encountered the topics, then review\n",
    "\n",
    "- Basic probability of discrete and continuous distributions  \n",
    "- Conditional and marginal distributions  \n",
    "- Expected value, variance, and standard deviation  "
   ]
  },
  {
   "cell_type": "markdown",
   "metadata": {
    "slideshow": {
     "slide_type": "subslide"
    }
   },
   "source": [
    "### Economics\n",
    "\n",
    "While more economics is always better, we will try to assume an “Econ 101” background.\n",
    "\n",
    "Otherwise, we will try to provide additional background material on the economics topics."
   ]
  }
 ],
 "metadata": {
  "celltoolbar": "幻灯片",
  "date": 1573843779.1013353,
  "download_nb": 1,
  "download_nb_path": "https://datascience.quantecon.org/",
  "filename": "overview.rst",
  "filename_with_path": "introduction/overview",
  "kernelspec": {
   "display_name": "Python 3",
   "language": "python",
   "name": "python3"
  },
  "language_info": {
   "codemirror_mode": {
    "name": "ipython",
    "version": 3
   },
   "file_extension": ".py",
   "mimetype": "text/x-python",
   "name": "python",
   "nbconvert_exporter": "python",
   "pygments_lexer": "ipython3",
   "version": "3.7.5"
  },
  "livereveal": {
   "scroll": true
  },
  "title": "Course Description"
 },
 "nbformat": 4,
 "nbformat_minor": 2
}
